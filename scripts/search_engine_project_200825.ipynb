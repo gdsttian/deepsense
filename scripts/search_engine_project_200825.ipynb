{
 "cells": [
  {
   "cell_type": "markdown",
   "metadata": {},
   "source": [
    "# DeepSenSe: A Deep Learning Powered Search Engine"
   ]
  },
  {
   "cell_type": "markdown",
   "metadata": {},
   "source": [
    "## Communication with Chun-Chao"
   ]
  },
  {
   "cell_type": "markdown",
   "metadata": {},
   "source": [
    "### Chun-Chao's First Email\n",
    "\n",
    "- The processed train/valid data are on Lambda1:/disk1/cl17d/Project/src_new/input\n",
    "- The test data are on \n",
    "  - SQL full sentence: Lambda1:/disk1/cl17d/Project/src_new/ case_SQL_testing_final_complete\n",
    "  - SQL keywords: Lambda1:/disk1/cl17d/Project/src_new/case_SQL_testing_final_complete_keywordOnly\n",
    "  - PubMed full sentence: Lambda1:/disk1/cl17d/Project/src_new/case_PubMed_testing_final_complete\n",
    "  - PubMed keywords: Lambda1:/disk1/cl17d/Project/src_new/case_PubMed_testing_final_keywordOnly\n",
    "\n",
    "**Procedure:**\n",
    "1. Get data:\n",
    "\n",
    "   1.1 Extract sentences, abstracts, and rank by SQL, including train/valid/test data:\n",
    "        from Yuchuan's code\n",
    " \n",
    "   1.2 Extract sentences, abstracts, and rank by PubMed (only for test):\n",
    "        create_test_search_PubMed.py # Need api_key in PM_function.py\n",
    "        \n",
    "2. Add features to train/valid/test data from Yuchuan:\n",
    "        create_SQL_final_train_valid.py\n",
    "        create_SQL_final_test.py\n",
    "        create_SQL_final_test_keywordOnly.py\n",
    "        create_PM_final_test.py\n",
    "        \n",
    "3. Train model and output prediction (1 and 2 basically re the same code. Only difference is for full_sentences or for keywords dataset):\n",
    "   \n",
    "        1. src_model/train_model20_complete.py\n",
    "                 train_final_dataset_complete_shuffled.tsv\n",
    "                 valid_final_dataset_complete.tsv\n",
    "   \n",
    "        2. src_model_only_keywords/train_keywordsmodel21_complete.py\n",
    "                 train_final_dataset_sentence_all_keyword_in_abstarct.tsv\n",
    "                 valid_final_dataset_complete.tsv\n",
    "        \n",
    "4. evaluate results (top1/20/100):\n",
    "        src_model/analyze_test_result20_with_score_true_in_top10000.py\n"
   ]
  },
  {
   "cell_type": "markdown",
   "metadata": {},
   "source": [
    "### Datasets Development\n",
    "\n",
    "**Word Embeddings**\n",
    "\n",
    "- Trained by FastText\n",
    "- Code in \"jupiter:/home/cl17d/src_train/fastText-0.1.0\"\n",
    "- Corpus of \"jupiter:/home/cl17d/src_train/input/title_abstracts_raw_lower_for_fasttext.txt\"\n",
    "- Commad: \"./fasttext skipgram -dim 300 -input INPUT_FILE_NAME -output OUTPUT_MODEL_NAME\"\n",
    "- Output: the fastText model \"src_new/model/f_model.bin\" and \"src_new/model/f_model.vec\"\n",
    "- Embedding matrix:\n",
    "  - Code: \"src_new/model/tokenizer_utils.py\"\n",
    "  - Matrix file: \"src_new/model/embedding_matrix.npy\"\n",
    "\n",
    "\n",
    "**Tokenizer**\n",
    "\n",
    "- Code: \"src_new/model/tokenizer_utils.py\"\n",
    "- Corpus: \"jupiter:/home/cl17d/src_train/input/title_abstracts_raw_lower_for_sqldb.csv\"\n",
    "- Output: \"src_new/model/tokenizer_all_lower.pickle\"\n",
    "\n",
    "\n",
    "**Training, Validation and Test Datasets**\n",
    "\n",
    "1. Develop sentences with citations for query\n",
    "\n",
    "\n",
    "- Input data: PMC articles\n",
    "- Code: also yuchuan's code\n",
    "- Output:\n",
    "\n",
    "\n",
    "2. Develop datasets of sentences with query results and additional features\n",
    "\n",
    "\n",
    "- Query search\n",
    "  - SQL_BM the query from the MySQL database developed by Yuchuan, ranked by BM25\n",
    "    - Code: yuchuan's code\n",
    "    - Input:\n",
    "    - Output: This outputs are the inputs of \"Training and Validation and Test” you mentioned below\n",
    "  - PubMed_TF the query from the PubMed database using BioPython’s Entrez, ranked by TF-IDF\n",
    "    - Code: \"create_test_search_PubMed.py\"\n",
    "    - Input:\n",
    "      - TEST_PM_INPUT = '../case_testing_final_PubMed_only_keyword/'\n",
    "      - TEST_sentence_INPUT = '../case_DL_testing_final_with_score_coverage/'\n",
    "      - TEST_sentence_INPUT = '../case_DL_testing_final_only_keyword_with_all_score_coverage/'\n",
    "    - Output: This outputs are the inputs of \"Test” you mentioned below\n",
    "  - PubMed_BM the query from the  PubMed database using the Selenium package, ranked by PubMed's best match\n",
    "  - Google Scholar the query from the Google Scholar database using the Selenium package\n",
    "  - Used “OR” operator and limit the date that the date is before the sentence written date\n",
    "\n",
    "- Training and Validation\n",
    "  - Code: create_SQL_final_train_valid.py\n",
    "  - Input:\n",
    "    - Full sentence: '../case_with_all_label_score_true_in_top10000_add_true_case_with_keyword_only2'\n",
    "    - Keyword: SQL_INPUT = '../case_sentence_contain_all_keyword_only/'\n",
    "  - Output:\n",
    "    - Full sentence\n",
    "      - Training: train_final_dataset_complete_shuffled.tsv\n",
    "      - Validation: valid_final_dataset_complete.tsv\n",
    "    - Keyword\n",
    "      - Training: train_final_dataset_sentence_all_keyword_in_abstarct.tsv\n",
    "      - Validation: valid_final_dataset_sentence_all_keyword_in_abstract.tsv\n",
    "\n",
    "- Test\n",
    "  - SQL_BM\n",
    "    - Full sentence\n",
    "      - Code: create_SQL_final_test.py\n",
    "      - Input: TEST_SQL_INPUT = '../case_DL_testing_final_sentence_with_all_keywords_score_coverage/'\n",
    "      - Output: 'case_SQL_testing_final_complete/'\n",
    "    - Keyword\n",
    "      - Code: create_SQL_final_test_keywordOnly.py\n",
    "      - Input: TEST_SQL_INPUT = '../DL_testing_final_keyword_only/'\n",
    "      - Output: 'case_SQL_testing_final_complete_keywordOnly'\n",
    "  - PubMed\n",
    "    - Code: create_PM_final_test.py\n",
    "    - Input:\n",
    "      - Full sentence: TEST_INPUT = '../case_PubMed_pmids/'\n",
    "      - Keyword: TEST_PM_INPUT = '../case_testing_final_PubMed_only_keyword/'\n",
    "    - Output:\n",
    "      - Full sentence: 'case_PubMed_testing_final_complete/'\n",
    "      - Keyword: 'case_PubMed_testing_final_keywordOnly/'\n",
    "\n",
    "\n",
    "\n",
    "### DeepSenSe Model Training and Testing\n",
    "\n",
    "**Training/Validation**\n",
    "\n",
    "1. Model20\n",
    "\n",
    "\n",
    "- Trained and validated on full sentence datasets\n",
    "- Code: train_model20_complete.py\n",
    "- Input: \n",
    "  - Training: 'train_final_dataset_complete_shuffled.tsv'\n",
    "  - Validation: 'valid_final_dataset_complete.tsv'\n",
    "- Output model: de1000_01_f_model20_complete_true_in_top1000.h5\n",
    "\n",
    "\n",
    "2. Model21\n",
    "\n",
    "\n",
    "- Trained and Validated on Keyword datasets\n",
    "- Code: train_keywordsmodel21_complete.py\n",
    "- Input:\n",
    "  - Training: 'train_final_dataset_sentence_all_keyword_in_abstarct.tsv'\n",
    "  - Validation: 'valid_final_dataset_sentence_all_keyword_in_abstract.tsv'\n",
    "- Output model: de1000_01_f_model21_complete_only_keywords_in_top1000_last.h5\n",
    "\n",
    "\n",
    "**Test Results**\n",
    "\n",
    "1. Model20 on full sentence test datasets (for table 2, 3, and 4 in the paper)\n",
    "\n",
    "\n",
    "- test_rank20_SQL_complete_true_in_top10000\n",
    "  - This is the result of \"SQL_BM+Decomposable model\" + \"All\" features, results of pure SQL_BM search engine are also included.\n",
    "  - Test dataset: 'case_SQL_testing_final_complete/'\n",
    "  - Output results: 'case_SQL_testing_final_complete/' (same as 'test_rank20_SQL_complete_true_in_top10000')\n",
    "  - Results analysis code: \"analyze_test_result20_with_score_true_in_top10000.py\"\n",
    "\n",
    "- test_rank20_PM_complete_true_in_top10000\n",
    "  - This is the result of \"PubMed_TF+Decomposable model\" + \"All\" features.\n",
    "  - Test dataset: 'case_PubMed_testing_final_complete/'\n",
    "  - Output results: 'case_PubMed_testing_final_complete/' (same as 'test_rank20_PM_complete_true_in_top10000')\n",
    "  - Results analysis code: \"analyze_test_result20_with_score_true_in_top10000.py\"\n",
    "\n",
    "- test_rank20_BM_complete_true_in_top10000\n",
    "  - This is the result of \"PubMed_BM+Decomposable model\" + \"All\" features.\n",
    "  - Test dataset: 'case_PubMed_BM_testing_final_complete/'\n",
    "  - Output results: 'case_PubMed_BM_testing_final_complete/' (same as 'test_rank20_BM_complete_true_in_top10000')\n",
    "  - Results analysis code: \"analyze_test_result20_with_score_true_in_top10000.py\"\n",
    "\n",
    "\n",
    "2. Model21 on keyword datasets (for table 5 in the paper)\n",
    "\n",
    "\n",
    "- case_SQL_testing_final_complete_keywordOnly\n",
    "  - Result of \"SQL_BM+Decomposable model\" + \"All\" features.\n",
    "  - Test dataset: 'case_SQL_testing_final_complete_keywordOnly/'\n",
    "  - Output results: 'case_SQL_testing_final_complete_keywordOnly/'\n",
    "  - Results analysis code: \"analyze_test_result21_with_score_true_in_top10000.py\"\n",
    "\n",
    "- case_PubMed_testing_final_keywordOnly\n",
    "  - Result of \"PubMed_TF+Decomposable model\" + \"All\" features.\n",
    "  - Test dataset: 'case_PubMed_testing_final_keywordOnly/'\n",
    "  - Output results: 'case_PubMed_testing_final_keywordOnly/'\n",
    "  - Results analysis code: \"analyze_test_result21_with_score_true_in_top10000.py\"\n",
    "\n",
    "\n",
    "3. Model20 on keyword datasets (not included in the paper)\n",
    "\n",
    "\n",
    "- de1000_01_f_model21_complete_only_keywords_in_top1000: model20 on SQL_BM keyword dataset\n",
    "- de1000_01_f_model21_PubMed_only_keywords_in_top1000: model20 on PubMed_TF keyword dataset"
   ]
  },
  {
   "cell_type": "markdown",
   "metadata": {},
   "source": [
    "### Data Pathes and Configuration"
   ]
  },
  {
   "cell_type": "code",
   "execution_count": 1,
   "metadata": {},
   "outputs": [],
   "source": [
    "# Input data for development of training datasets\n",
    "ST_FOR_TRAINDATA_PATH = '../case_with_all_label_score_true_in_top10000_add_true_case_with_keyword_only2/'\n",
    "KW_FOR_TRAINDATA_PATH = '../case_sentence_contain_all_keyword_only/'\n",
    "\n",
    "# Input data for development of test datasets\n",
    "ST_FOR_TESTDATA_PATH_SQL = '../case_DL_testing_final_sentence_with_all_keywords_score_coverage/'\n",
    "KW_FOR_TESTDATA_PATH_SQL = '../DL_testing_final_keyword_only/'\n",
    "ST_FOR_TESTDATA_PATH_PMD = '../case_PubMed_pmids/'\n",
    "KW_FOR_TESTDATA_PATH_PMD = '../case_testing_final_PubMed_only_keyword/'\n",
    "\n",
    "# Training datasets\n",
    "TRAINDATA_PATH = \"input\"\n",
    "TRAINDATA_ST = 'train_final_dataset_complete_shuffled.tsv'\n",
    "VALIDDATA_ST = 'valid_final_dataset_complete.tsv'\n",
    "TRAINDATA_KW = 'train_final_dataset_sentence_all_keyword_in_abstarct.tsv'\n",
    "VALIDDATA_KW = 'valid_final_dataset_sentence_all_keyword_in_abstract.tsv'\n",
    "\n",
    "# Test datasets\n",
    "TESTDATA_PATH_SQL_ST = \"case_SQL_testing_final_complete\"\n",
    "TESTDATA_PATH_SQL_KW = \"case_SQL_testing_final_complete_keywordOnly\"\n",
    "TESTDATA_PATH_PTF_ST = \"case_PubMed_testing_final_complete\"\n",
    "TESTDATA_PATH_PTF_KW = \"case_PubMed_testing_final_keywordOnly\"\n",
    "TESTDATA_PATH_PBM_ST = \"case_PubMed_BM_testing_final_complete\"\n",
    "TESTDATA_PATH_GGS_ST = \"case_Google_scholar_testing_final_complete\"\n",
    "\n",
    "EMBEDDING_FILE = \"embedding_matrix.npy\"\n",
    "TOKENIZER_FILE = \"tokenizer_all_lower.pickle\"\n",
    "MODEL_PATH = \"model\"\n",
    "OUTPUT_PATH = \"output\"\n",
    "RESULTS_PATH = \"results\"\n",
    "\n",
    "MAX_NB_WORDS = 1500000"
   ]
  },
  {
   "cell_type": "code",
   "execution_count": 70,
   "metadata": {},
   "outputs": [],
   "source": [
    "import time\n",
    "import csv\n",
    "import json\n",
    "import pandas as pd\n",
    "import numpy as np\n",
    "from collections import Counter\n",
    "#from src_model.tokenizer_utils import load_tokenizer"
   ]
  },
  {
   "cell_type": "code",
   "execution_count": 3,
   "metadata": {},
   "outputs": [],
   "source": [
    "from text_to_wordlist import text_to_wordlist"
   ]
  },
  {
   "cell_type": "markdown",
   "metadata": {},
   "source": [
    "### Input Data for Development of Training and Test Datasets\n",
    "\n",
    "**Input data for development of training datasets**\n",
    "\n",
    "- Sentence: ST_FOR_TRAINDATA_PATH = '../case_with_all_label_score_true_in_top10000_add_true_case_with_keyword_only2/'\n",
    "  - search_result_cases_search_result_sentence_citation1.csv (1-560)"
   ]
  },
  {
   "cell_type": "code",
   "execution_count": 31,
   "metadata": {},
   "outputs": [
    {
     "name": "stdout",
     "output_type": "stream",
     "text": [
      "['sentence', 'sentence_pmid', 'citation_pmid', 'title', 'abstract', 'label', 'title_score', 'title_abstract_score', 'title_coverage', 'abstract_coverage']\n",
      "['In fact, other studies performed on the different tissues of lemon with the HR-MAS technique are present in literature [ XREF_B33_END ] that agree with our results', '26495154', '23871074', 'Citron and lemon under the lens of HR-MAS NMR spectroscopy.', 'High Resolution Magic Angle Spinning (HR-MAS) is an NMR technique that can be applied to semi-solid samples. Flavedo, albedo, pulp, seeds, and oil gland content of lemon and citron were studied through HR-MAS NMR spectroscopy, which was used directly on intact tissue specimens without any physicochemical manipulation. HR-MAS NMR proved to be a very suitable technique for detecting terpenes, sugars, organic acids, aminoacids and osmolites. It is valuable in observing changes in sugars, principal organic acids (mainly citric and malic) and ethanol contents of pulp specimens and this strongly point to its use to follow fruit ripening, or commercial assessment of fruit maturity. HR-MAS NMR was also used to derive the molar percentage of fatty acid components of lipids in seeds, which can change depending on the Citrus species and varieties. Finally, this technique was employed to elucidate the metabolic profile of mold flavedo.', '1', '8.701791763305664', '36.580613136291504', '0.09090909090909091', '0.18181818181818182']\n"
     ]
    }
   ],
   "source": [
    "with open(f\"{ST_FOR_TRAINDATA_PATH}/search_result_cases_search_result_sentence_citation1.csv\", newline='') as csvfile:\n",
    "    csvreader = csv.reader(csvfile, delimiter='\\t')\n",
    "    #header = next(csvreader)\n",
    "    n = 0\n",
    "    for row in csvreader:\n",
    "        n += 1\n",
    "        print(row)\n",
    "        if n >= 2: break"
   ]
  },
  {
   "cell_type": "code",
   "execution_count": 56,
   "metadata": {},
   "outputs": [
    {
     "name": "stdout",
     "output_type": "stream",
     "text": [
      "['sentence', 'sentence_pmid', 'citation_pmid', 'title', 'abstract', 'label', 'title_score', 'title_abstract_score', 'title_coverage', 'abstract_coverage']\n",
      "['In this study, we investigated the function of CTGF in psoriasis using the established imiquimod (IMQ)-induced psoriasis murine model XREF_B9_END and samples from psoriasis patients', '29386832', '19380832', 'Imiquimod-induced psoriasis-like skin inflammation in mice is mediated via the IL-23/IL-17 axis.', 'Topical application of imiquimod (IMQ), a TLR7/8 ligand and potent immune activator, can induce and exacerbate psoriasis, a chronic inflammatory skin disorder. Recently, a crucial role was proposed for the IL-23/IL-17 axis in psoriasis. We hypothesized that IMQ-induced dermatitis in mice can serve as a model for the analysis of pathogenic mechanisms in psoriasis-like dermatitis and assessed its IL-23/IL-17 axis dependency. Daily application of IMQ on mouse back skin induced inflamed scaly skin lesions resembling plaque type psoriasis. These lesions showed increased epidermal proliferation, abnormal differentiation, epidermal accumulation of neutrophils in microabcesses, neoangiogenesis, and infiltrates consisting of CD4(+) T cells, CD11c(+) dendritic cells, and plasmacytoid dendritic cells. IMQ induced epidermal expression of IL-23, IL-17A, and IL-17F, as well as an increase in splenic Th17 cells. IMQ-induced dermatitis was partially dependent on the presence of T cells, whereas disease development was almost completely blocked in mice deficient for IL-23 or the IL-17 receptor, demonstrating a pivotal role of the IL-23/IL-17 axis. In conclusion, the sole application of the innate TLR7/8 ligand IMQ rapidly induces a dermatitis closely resembling human psoriasis, critically dependent on the IL-23/IL-17 axis. This rapid and convenient model allows further elucidation of pathogenic mechanisms and evaluation of new therapies in psoriasis.', '1', '14.233319282531738', '47.962345123291016', '0.0', '0.21428571428571427']\n"
     ]
    }
   ],
   "source": [
    "with open(f\"{ST_FOR_TRAINDATA_PATH}/search_result_cases_search_result_sentence_citation461.csv\", newline='') as csvfile:\n",
    "    csvreader = csv.reader(csvfile, delimiter='\\t')\n",
    "    #header = next(csvreader)\n",
    "    n = 0\n",
    "    for row in csvreader:\n",
    "        n += 1\n",
    "        print(row)\n",
    "        if n >= 2: break"
   ]
  },
  {
   "cell_type": "code",
   "execution_count": 147,
   "metadata": {},
   "outputs": [
    {
     "name": "stdout",
     "output_type": "stream",
     "text": [
      "4265797\n"
     ]
    }
   ],
   "source": [
    "sentences_all = {}\n",
    "n = 0\n",
    "for f in range(1, 561):\n",
    "    with open(f\"{ST_FOR_TRAINDATA_PATH}/search_result_cases_search_result_sentence_citation{f}.csv\",\n",
    "              'r', encoding='utf-8', newline='') as csvfile:\n",
    "        csvreader = csv.reader((line.replace('\\0','') for line in csvfile), delimiter='\\t', quoting=csv.QUOTE_NONE)\n",
    "        header = next(csvreader)\n",
    "        for row in csvreader:\n",
    "            n += 1\n",
    "            if row[0] not in sentences_all:\n",
    "                sentences_all[row[0]] = {'pmids':[], 'citations':[], 'labels':[]}\n",
    "            sentences_all[row[0]]['pmids'].append(row[1])\n",
    "            sentences_all[row[0]]['citations'].append(row[2])\n",
    "            sentences_all[row[0]]['labels'].append(row[5])\n",
    "print(n)"
   ]
  },
  {
   "cell_type": "code",
   "execution_count": 4,
   "metadata": {},
   "outputs": [
    {
     "data": {
      "text/plain": [
       "1220310"
      ]
     },
     "execution_count": 4,
     "metadata": {},
     "output_type": "execute_result"
    }
   ],
   "source": [
    "len(sentences_all)"
   ]
  },
  {
   "cell_type": "code",
   "execution_count": 154,
   "metadata": {},
   "outputs": [],
   "source": [
    "json.dump(sentences_all, open('sentences_all.json', 'w', encoding='utf-8'), indent=4)"
   ]
  },
  {
   "cell_type": "code",
   "execution_count": 3,
   "metadata": {},
   "outputs": [],
   "source": [
    "sentences_all = json.load(open('sentences_all.json'))"
   ]
  },
  {
   "cell_type": "code",
   "execution_count": 8,
   "metadata": {},
   "outputs": [],
   "source": [
    "p, c, l = 0, 0, 0\n",
    "sentences_p = []\n",
    "sentences_c = []\n",
    "sentences_l = []\n",
    "for k, v in sentences_all.items():\n",
    "    if len(set(v['pmids'])) > 1:\n",
    "        p += 1\n",
    "        sentences_p.append(k)\n",
    "    if len(set(v['citations'])) > 1:\n",
    "        c += 1\n",
    "        sentences_c.append(k)\n",
    "    if len(set(v['labels'])) > 1:\n",
    "        l += 1\n",
    "        sentences_l.append(k)"
   ]
  },
  {
   "cell_type": "code",
   "execution_count": 9,
   "metadata": {},
   "outputs": [
    {
     "data": {
      "text/plain": [
       "(5562, 1220295, 1220295)"
      ]
     },
     "execution_count": 9,
     "metadata": {},
     "output_type": "execute_result"
    }
   ],
   "source": [
    "p, c, l"
   ]
  },
  {
   "cell_type": "code",
   "execution_count": 25,
   "metadata": {},
   "outputs": [
    {
     "data": {
      "text/plain": [
       "'For example, several researchers reported that FOF reduces social contacts with friends and family [ XREF_B3-ijerph-14-00469_END , XREF_B13-ijerph-14-00469_END ], which supported the notion that FOF may have the constraining effects on social contact [ XREF_B3-ijerph-14-00469_END ]'"
      ]
     },
     "execution_count": 25,
     "metadata": {},
     "output_type": "execute_result"
    }
   ],
   "source": [
    "sentences_c[10000]"
   ]
  },
  {
   "cell_type": "code",
   "execution_count": 26,
   "metadata": {},
   "outputs": [
    {
     "data": {
      "text/plain": [
       "'example several researchers reported fof reduces social contacts friends family supported notion fof may constraining effects social contact'"
      ]
     },
     "execution_count": 26,
     "metadata": {},
     "output_type": "execute_result"
    }
   ],
   "source": [
    "text_to_wordlist(sentences_c[10000])"
   ]
  },
  {
   "cell_type": "code",
   "execution_count": 20,
   "metadata": {},
   "outputs": [
    {
     "data": {
      "text/plain": [
       "{'pmids': ['28774737',\n",
       "  '28774737',\n",
       "  '28774737',\n",
       "  '26865910',\n",
       "  '26865910',\n",
       "  '26865910'],\n",
       " 'citations': ['19455179',\n",
       "  '12821098',\n",
       "  '20668706',\n",
       "  '20107110',\n",
       "  '3901279',\n",
       "  '17612497'],\n",
       " 'labels': ['1', '0', '0', '1', '0', '0']}"
      ]
     },
     "execution_count": 20,
     "metadata": {},
     "output_type": "execute_result"
    }
   ],
   "source": [
    "sentences_all[sentences_p[0]]"
   ]
  },
  {
   "cell_type": "markdown",
   "metadata": {},
   "source": [
    "- Keyword: KW_FOR_TRAINDATA_PATH = '../case_sentence_contain_all_keyword_only/'\n",
    "  - search_result_cases_search_result_sentence_citation1.csv (1-560)"
   ]
  },
  {
   "cell_type": "code",
   "execution_count": 60,
   "metadata": {},
   "outputs": [
    {
     "name": "stdout",
     "output_type": "stream",
     "text": [
      "['sentence', 'sentence_pmid', 'citation_pmid', 'title', 'abstract', 'label', 'title_score', 'title_abstract_score', 'title_coverage', 'abstract_coverage']\n",
      "['lemon technique', '26495154', '23871074', 'Citron and lemon under the lens of HR-MAS NMR spectroscopy.', 'High Resolution Magic Angle Spinning (HR-MAS) is an NMR technique that can be applied to semi-solid samples. Flavedo, albedo, pulp, seeds, and oil gland content of lemon and citron were studied through HR-MAS NMR spectroscopy, which was used directly on intact tissue specimens without any physicochemical manipulation. HR-MAS NMR proved to be a very suitable technique for detecting terpenes, sugars, organic acids, aminoacids and osmolites. It is valuable in observing changes in sugars, principal organic acids (mainly citric and malic) and ethanol contents of pulp specimens and this strongly point to its use to follow fruit ripening, or commercial assessment of fruit maturity. HR-MAS NMR was also used to derive the molar percentage of fatty acid components of lipids in seeds, which can change depending on the Citrus species and varieties. Finally, this technique was employed to elucidate the metabolic profile of mold flavedo.', '1', '0', '36.580613136291504', '0.5', '1.0']\n"
     ]
    }
   ],
   "source": [
    "with open(f\"{KW_FOR_TRAINDATA_PATH}/search_result_cases_search_result_sentence_citation1.csv\", newline='') as csvfile:\n",
    "    csvreader = csv.reader(csvfile, delimiter='\\t')\n",
    "    #header = next(csvreader)\n",
    "    n = 0\n",
    "    for row in csvreader:\n",
    "        n += 1\n",
    "        print(row)\n",
    "        if n >= 2: break"
   ]
  },
  {
   "cell_type": "code",
   "execution_count": 57,
   "metadata": {},
   "outputs": [
    {
     "name": "stdout",
     "output_type": "stream",
     "text": [
      "['sentence', 'sentence_pmid', 'citation_pmid', 'title', 'abstract', 'label', 'title_score', 'title_abstract_score', 'title_coverage', 'abstract_coverage']\n",
      "['In imiquimod model', '29386832', '19380832', 'Imiquimod-induced psoriasis-like skin inflammation in mice is mediated via the IL-23/IL-17 axis.', 'Topical application of imiquimod (IMQ), a TLR7/8 ligand and potent immune activator, can induce and exacerbate psoriasis, a chronic inflammatory skin disorder. Recently, a crucial role was proposed for the IL-23/IL-17 axis in psoriasis. We hypothesized that IMQ-induced dermatitis in mice can serve as a model for the analysis of pathogenic mechanisms in psoriasis-like dermatitis and assessed its IL-23/IL-17 axis dependency. Daily application of IMQ on mouse back skin induced inflamed scaly skin lesions resembling plaque type psoriasis. These lesions showed increased epidermal proliferation, abnormal differentiation, epidermal accumulation of neutrophils in microabcesses, neoangiogenesis, and infiltrates consisting of CD4(+) T cells, CD11c(+) dendritic cells, and plasmacytoid dendritic cells. IMQ induced epidermal expression of IL-23, IL-17A, and IL-17F, as well as an increase in splenic Th17 cells. IMQ-induced dermatitis was partially dependent on the presence of T cells, whereas disease development was almost completely blocked in mice deficient for IL-23 or the IL-17 receptor, demonstrating a pivotal role of the IL-23/IL-17 axis. In conclusion, the sole application of the innate TLR7/8 ligand IMQ rapidly induces a dermatitis closely resembling human psoriasis, critically dependent on the IL-23/IL-17 axis. This rapid and convenient model allows further elucidation of pathogenic mechanisms and evaluation of new therapies in psoriasis.', '1', '3.408306837081909', '47.962345123291016', '0.0', '1.0']\n"
     ]
    }
   ],
   "source": [
    "with open(f\"{KW_FOR_TRAINDATA_PATH}/search_result_cases_search_result_sentence_citation461.csv\", newline='') as csvfile:\n",
    "    csvreader = csv.reader(csvfile, delimiter='\\t')\n",
    "    #header = next(csvreader)\n",
    "    n = 0\n",
    "    for row in csvreader:\n",
    "        n += 1\n",
    "        print(row)\n",
    "        if n >= 2: break"
   ]
  },
  {
   "cell_type": "code",
   "execution_count": 155,
   "metadata": {},
   "outputs": [
    {
     "name": "stdout",
     "output_type": "stream",
     "text": [
      "2038088\n"
     ]
    }
   ],
   "source": [
    "keywords_all = {}\n",
    "n = 0\n",
    "for f in range(1, 561):\n",
    "    with open(f\"{KW_FOR_TRAINDATA_PATH}/search_result_cases_search_result_sentence_citation{f}.csv\",\n",
    "              'r', encoding='utf-8', newline='') as csvfile:\n",
    "        csvreader = csv.reader((line.replace('\\0','') for line in csvfile), delimiter='\\t', quoting=csv.QUOTE_NONE)\n",
    "        header = next(csvreader)\n",
    "        for row in csvreader:\n",
    "            n += 1\n",
    "            if row[0] not in keywords_all:\n",
    "                keywords_all[row[0]] = {'pmids':[], 'citations':[], 'labels':[]}\n",
    "            keywords_all[row[0]]['pmids'].append(row[1])\n",
    "            keywords_all[row[0]]['citations'].append(row[2])\n",
    "            keywords_all[row[0]]['labels'].append(row[5])\n",
    "print(n)"
   ]
  },
  {
   "cell_type": "code",
   "execution_count": 156,
   "metadata": {},
   "outputs": [
    {
     "data": {
      "text/plain": [
       "662303"
      ]
     },
     "execution_count": 156,
     "metadata": {},
     "output_type": "execute_result"
    }
   ],
   "source": [
    "len(keywords_all)"
   ]
  },
  {
   "cell_type": "code",
   "execution_count": 157,
   "metadata": {},
   "outputs": [],
   "source": [
    "json.dump(keywords_all, open('keywords_all.json', 'w', encoding='utf-8'), indent=4)"
   ]
  },
  {
   "cell_type": "code",
   "execution_count": 187,
   "metadata": {},
   "outputs": [],
   "source": [
    "keywords_all = json.load(open('keywords_all.json'))"
   ]
  },
  {
   "cell_type": "code",
   "execution_count": 188,
   "metadata": {},
   "outputs": [],
   "source": [
    "p, c, l = 0, 0, 0\n",
    "keywords_p = []\n",
    "keywords_c = []\n",
    "keywords_l = []\n",
    "for k, v in keywords_all.items():\n",
    "    if len(set(v['pmids'])) > 1:\n",
    "        p += 1\n",
    "        keywords_p.append(k)\n",
    "    if len(set(v['citations'])) > 1:\n",
    "        c += 1\n",
    "        keywords_c.append(k)\n",
    "    if len(set(v['labels'])) > 1:\n",
    "        l += 1\n",
    "        keywords_l.append(k)"
   ]
  },
  {
   "cell_type": "code",
   "execution_count": 189,
   "metadata": {},
   "outputs": [
    {
     "data": {
      "text/plain": [
       "(5562, 662190, 662190)"
      ]
     },
     "execution_count": 189,
     "metadata": {},
     "output_type": "execute_result"
    }
   ],
   "source": [
    "p, c, l"
   ]
  },
  {
   "cell_type": "markdown",
   "metadata": {},
   "source": [
    "**Input Data for Development of Test Datasets**\n",
    "\n",
    "- Sentence by SQL: ST_FOR_TESTDATA_PATH_SQL = '../case_DL_testing_final_sentence_with_all_keywords_score_coverage/'\n",
    "(No  such folder)"
   ]
  },
  {
   "cell_type": "markdown",
   "metadata": {},
   "source": [
    "- Keyword by SQL: KW_FOR_TESTDATA_PATH_SQL = '../DL_testing_final_keyword_only/'\n",
    "  - DL_data_search_result_sentence_citation461.csv (461-560)"
   ]
  },
  {
   "cell_type": "code",
   "execution_count": 62,
   "metadata": {},
   "outputs": [
    {
     "name": "stdout",
     "output_type": "stream",
     "text": [
      "['sentence', 'sentence_pmid', 'result_pmid', 'citation_pmid', 'title_abstract_score', 'title', 'abstract', 'sql_rank', 'title_coverage', 'abstract_coverage', 'sentence_orig']\n",
      "['psoriasis imiquimod imq induced psoriasis model psoriasis', '29386832', '29305258', '19380832', '53.260294914245605', 'IRF-2 haploinsufficiency causes enhanced imiquimod-induced psoriasis-like skin inflammation.', 'IFN regulatory factor (IRF)-2 is one of the potential susceptibility genes for psoriasis, but how this gene influences psoriasis pathogenesis is unclear. Topical application of imiquimod (IMQ), a TLR7 ligand, induces psoriasis-like skin lesions in mice.The aim of this study was to investigate whether IRF-2 gene status would influence severity of skin disease in IMQ-treated mice.Imiquimod-induced psoriasis-like skin inflammation was assessed by clinical findings, histology, and cytokine expression. The effects of imiquimod or IFN on peritoneal macrophages were analyzed in vitro.IMQ-induced skin inflammation assessed by clinical findings and histology was more severe in IRF-2+/- mice than in wild-type mice. In inflamed skin, mRNA expression levels of tumor necrosis factor (TNF)-α, IL-12/23p40, IL-17A, and IL-22 were significantly elevated in IRF-2+/- mice compared to wild-type mice. Stimulation of peritoneal macrophages by IMQ significantly increased mRNA levels of TNF-α, IL-12/23p40, IL-23p19, IL-12p35, and IL-36. Interestingly, macrophages from IRF-2+/- mice expressed higher levels of TNF-α, IL-12/23p40, and IL-36 compared to those from wild-type mice 24 h after stimulation, while they expressed similar levels of IL-12p35 and IL-23p19. Moreover, elevated mRNA expression of inducible nitric oxide synthase was observed only in IMQ-stimulated macrophages derived from IRF-2+/- mice, which correlated with angiogenesis in IMQ-treated ears of IRF-2+/- mice.These results suggest that IRF-2 haploinsufficiency creates heightened biologic responses to IFN-α that phenotypically lead to enhanced angiogenesis and psoriasis-like inflammation within skin.', '1', '0.2', '0.03314917127071823', 'In this study, we investigated the function of CTGF in psoriasis using the established imiquimod (IMQ)-induced psoriasis murine model XREF_B9_END and samples from psoriasis patients']\n"
     ]
    }
   ],
   "source": [
    "with open(f\"{KW_FOR_TESTDATA_PATH_SQL}/DL_data_search_result_sentence_citation461.csv\", newline='') as csvfile:\n",
    "    csvreader = csv.reader(csvfile, delimiter='\\t')\n",
    "    #header = next(csvreader)\n",
    "    n = 0\n",
    "    for row in csvreader:\n",
    "        n += 1\n",
    "        print(row)\n",
    "        if n >= 2: break"
   ]
  },
  {
   "cell_type": "markdown",
   "metadata": {},
   "source": [
    "- Sentence by PubMed: ST_FOR_TESTDATA_PATH_PMD = '../case_PubMed_pmids/'\n",
    "  - DL_data_search_result_sentence_citation461.csv (461-560)"
   ]
  },
  {
   "cell_type": "code",
   "execution_count": 34,
   "metadata": {},
   "outputs": [
    {
     "name": "stdout",
     "output_type": "stream",
     "text": [
      "['\\ufeffcontrast reported gastric luminal challenge specific antigen decreased phasic antral activity sensitized rats', '28144845', '26767575', '8194696']\n",
      "['contrast reported gastric luminal challenge specific antigen decreased phasic antral activity sensitized rats', '28144845', '27197667', '8194696']\n"
     ]
    }
   ],
   "source": [
    "with open(f\"{ST_FOR_TESTDATA_PATH_PMD}/DL_data_search_result_sentence_citation461.csv\", newline='') as csvfile:\n",
    "    csvreader = csv.reader(csvfile, delimiter='\\t')\n",
    "    #header = next(csvreader)\n",
    "    n = 0\n",
    "    for row in csvreader:\n",
    "        n += 1\n",
    "        print(row)\n",
    "        if n >= 2: break"
   ]
  },
  {
   "cell_type": "markdown",
   "metadata": {},
   "source": [
    "- Keyword by PubMed: KW_FOR_TESTDATA_PATH_PMD = '../case_testing_final_PubMed_only_keyword/'\n",
    "  - DL_data_search_result_sentence_citation461.csv (461-560)"
   ]
  },
  {
   "cell_type": "code",
   "execution_count": 35,
   "metadata": {},
   "outputs": [
    {
     "name": "stdout",
     "output_type": "stream",
     "text": [
      "['\\ufefflow vitamin status urban rural population andhra pradesh state south india', '26644714', '23860755', '18497434', 'Harinarayan et al in 2008 reported low Vitamin D status in urban and rural population of Andhra Pradesh state in South India[ XREF_ref32_END ]']\n",
      "['low vitamin status urban rural population andhra pradesh state south india', '26644714', '26667891', '18497434', 'Harinarayan et al in 2008 reported low Vitamin D status in urban and rural population of Andhra Pradesh state in South India[ XREF_ref32_END ]']\n"
     ]
    }
   ],
   "source": [
    "with open(f\"{KW_FOR_TESTDATA_PATH_PMD}/DL_data_search_result_sentence_citation461.csv\", newline='') as csvfile:\n",
    "    csvreader = csv.reader(csvfile, delimiter='\\t')\n",
    "    #header = next(csvreader)\n",
    "    n = 0\n",
    "    for row in csvreader:\n",
    "        n += 1\n",
    "        print(row)\n",
    "        if n >= 2: break"
   ]
  },
  {
   "cell_type": "markdown",
   "metadata": {},
   "source": [
    "- Other input data\n",
    "  - '../case_Google_scholar_pmids/'\n",
    "    - DL_data_search_result_sentence_citation461.csv\n",
    "  - '../case_PubMed_BM_pmids/'\n",
    "    - DL_data_search_result_sentence_citation461.csv\n",
    "  - '../case_SQL_olddata_pmids/'\n",
    "    - test_sql_temp_review_1000_analysis.csv"
   ]
  },
  {
   "cell_type": "code",
   "execution_count": 36,
   "metadata": {},
   "outputs": [
    {
     "name": "stdout",
     "output_type": "stream",
     "text": [
      "['global test proposed', '21245948', '12098431', '14693814']\n",
      "['global test proposed', '21245948', '12320315', '14693814']\n"
     ]
    }
   ],
   "source": [
    "with open(f\"../case_Google_scholar_pmids/DL_data_search_result_sentence_citation461.csv\", newline='') as csvfile:\n",
    "    csvreader = csv.reader(csvfile, delimiter='\\t')\n",
    "    #header = next(csvreader)\n",
    "    n = 0\n",
    "    for row in csvreader:\n",
    "        n += 1\n",
    "        print(row)\n",
    "        if n >= 2: break"
   ]
  },
  {
   "cell_type": "code",
   "execution_count": 38,
   "metadata": {},
   "outputs": [
    {
     "name": "stdout",
     "output_type": "stream",
     "text": [
      "['\\ufeffstudy used multilocus sequence typing mlst method', '17543117', '27646134', '15944444']\n",
      "['study used multilocus sequence typing mlst method', '17543117', '23979428', '15944444']\n"
     ]
    }
   ],
   "source": [
    "with open(f\"../case_PubMed_BM_pmids/DL_data_search_result_sentence_citation461.csv\", newline='') as csvfile:\n",
    "    csvreader = csv.reader(csvfile, delimiter='\\t')\n",
    "    #header = next(csvreader)\n",
    "    n = 0\n",
    "    for row in csvreader:\n",
    "        n += 1\n",
    "        print(row)\n",
    "        if n >= 2: break"
   ]
  },
  {
   "cell_type": "code",
   "execution_count": 39,
   "metadata": {},
   "outputs": [
    {
     "name": "stdout",
     "output_type": "stream",
     "text": [
      "[',sentence,sentence_pmid,filename,pmid,label,PM_rank,article_type,journal_title,sentence_year']\n",
      "['48277,\"Use of K-SRS assessment research (n=13) was done to study system effectiveness, feasibility, accuracy, or reliability [ XREF_ref22_END , XREF_ref23_END , XREF_ref30_END , XREF_ref41_END , XREF_ref42_END , XREF_ref44_END , XREF_ref45_END , XREF_ref50_END , XREF_ref54_END - XREF_ref56_END , XREF_ref61_END , XREF_ref71_END ]\",29739739,../PMC_input/JMIR_Rehabil_Assist_Technol/PMC5964303.nxml,27604989,0,1,review-article,JMIR Rehabilitation and Assistive Technologies,2018']\n"
     ]
    }
   ],
   "source": [
    "with open(f\"../case_SQL_olddata_pmids/test_sql_temp_review_1000_analysis.csv\", newline='') as csvfile:\n",
    "    csvreader = csv.reader(csvfile, delimiter='\\t')\n",
    "    #header = next(csvreader)\n",
    "    n = 0\n",
    "    for row in csvreader:\n",
    "        n += 1\n",
    "        print(row)\n",
    "        if n >= 2: break"
   ]
  },
  {
   "cell_type": "markdown",
   "metadata": {},
   "source": [
    "### Training Datasets\n",
    "\n",
    "- Sentence\n",
    "  - Training: TRAINDATA_ST = 'train_final_dataset_complete_shuffled.tsv'\n",
    "  - Validation: VALIDDATA_ST = 'valid_final_dataset_complete.tsv'"
   ]
  },
  {
   "cell_type": "markdown",
   "metadata": {},
   "source": [
    "- Training Sentences Dataset"
   ]
  },
  {
   "cell_type": "code",
   "execution_count": 199,
   "metadata": {},
   "outputs": [
    {
     "name": "stdout",
     "output_type": "stream",
     "text": [
      "['lemon technique', '26495154', '23871074', 'citron lemon lens hr mas nmr spectroscopy', 'high resolution magic angle spinning hr mas nmr technique applied semi solid samples flavedo albedo pulp seeds oil gland content lemon citron studied hr mas nmr spectroscopy used directly intact tissue specimens without physicochemical manipulation hr mas nmr proved suitable technique detecting terpenes sugars organic acids aminoacids osmolites valuable observing changes sugars principal organic acids mainly citric malic ethanol contents pulp specimens strongly point use follow fruit ripening commercial assessment fruit maturity hr mas nmr also used derive molar percentage fatty acid components lipids seeds change depending citrus species varieties finally technique employed elucidate metabolic profile mold flavedo', '2015', '2013', 'evaluation studies|journal article', '1', '-0.123', '3.259', '0.0', '36.580613136291504', '0.5', '1.0', '1']\n",
      "['fact studies performed different tissues lemon hr mas technique present literature agree results', '26495154', '23871074', 'citron lemon lens hr mas nmr spectroscopy', 'high resolution magic angle spinning hr mas nmr technique applied semi solid samples flavedo albedo pulp seeds oil gland content lemon citron studied hr mas nmr spectroscopy used directly intact tissue specimens without physicochemical manipulation hr mas nmr proved suitable technique detecting terpenes sugars organic acids aminoacids osmolites valuable observing changes sugars principal organic acids mainly citric malic ethanol contents pulp specimens strongly point use follow fruit ripening commercial assessment fruit maturity hr mas nmr also used derive molar percentage fatty acid components lipids seeds change depending citrus species varieties finally technique employed elucidate metabolic profile mold flavedo', '2015', '2013', 'evaluation studies|journal article', '1', '-0.123', '3.259', '8.701791763305664', '36.580613136291504', '0.09090909090909091', '0.18181818181818182', '1']\n"
     ]
    }
   ],
   "source": [
    "with open(f\"{TRAINDATA_PATH}/{TRAINDATA_ST}\", newline='') as csvfile:\n",
    "    csvreader = csv.reader(csvfile, delimiter='\\t')\n",
    "    #header = next(csvreader)\n",
    "    n = 0\n",
    "    for row in csvreader:\n",
    "        n += 1\n",
    "        if row[1] == '26495154' and row[2] == '23871074':\n",
    "            print(row)\n",
    "#             break\n",
    "#         if n >= 2: break"
   ]
  },
  {
   "cell_type": "code",
   "execution_count": 159,
   "metadata": {},
   "outputs": [
    {
     "name": "stdout",
     "output_type": "stream",
     "text": [
      "4035476\n"
     ]
    }
   ],
   "source": [
    "sentences_train = {}\n",
    "with open(f\"{TRAINDATA_PATH}/{TRAINDATA_ST}\", newline='') as csvfile:\n",
    "    csvreader = csv.reader(csvfile, delimiter='\\t')\n",
    "    header = next(csvreader)\n",
    "    n = 0\n",
    "    for row in csvreader:\n",
    "        n += 1\n",
    "        if row[0] not in sentences_train:\n",
    "            sentences_train[row[0]] = {'pmids':[], 'citations':[], 'labels':[], 'true':0, 'false':0}\n",
    "        sentences_train[row[0]]['pmids'].append(row[1])\n",
    "        sentences_train[row[0]]['citations'].append(row[2])\n",
    "        sentences_train[row[0]]['labels'].append(row[-1])\n",
    "        if row[-1] == '1':\n",
    "            sentences_train[row[0]]['true'] += 1\n",
    "        if row[-1] == '0':\n",
    "            sentences_train[row[0]]['false'] += 1\n",
    "print(n)"
   ]
  },
  {
   "cell_type": "code",
   "execution_count": 160,
   "metadata": {},
   "outputs": [
    {
     "data": {
      "text/plain": [
       "1889927"
      ]
     },
     "execution_count": 160,
     "metadata": {},
     "output_type": "execute_result"
    }
   ],
   "source": [
    "len(sentences_train)"
   ]
  },
  {
   "cell_type": "code",
   "execution_count": 161,
   "metadata": {},
   "outputs": [],
   "source": [
    "json.dump(sentences_train, open('sentences_train.json', 'w', encoding='utf-8'), indent=4)"
   ]
  },
  {
   "cell_type": "code",
   "execution_count": 82,
   "metadata": {},
   "outputs": [
    {
     "name": "stdout",
     "output_type": "stream",
     "text": [
      "2012828 2022648\n"
     ]
    }
   ],
   "source": [
    "t = 0\n",
    "f = 0\n",
    "for v in sentences_train.values():\n",
    "    #if v['true'] < 1:\n",
    "    t += v['true']\n",
    "    f += v['false']\n",
    "print(t, f)"
   ]
  },
  {
   "cell_type": "code",
   "execution_count": 27,
   "metadata": {},
   "outputs": [],
   "source": [
    "sentences_train = json.load(open('sentences_train.json'))"
   ]
  },
  {
   "cell_type": "code",
   "execution_count": 28,
   "metadata": {},
   "outputs": [
    {
     "data": {
      "text/plain": [
       "1889927"
      ]
     },
     "execution_count": 28,
     "metadata": {},
     "output_type": "execute_result"
    }
   ],
   "source": [
    "len(sentences_train)"
   ]
  },
  {
   "cell_type": "code",
   "execution_count": 35,
   "metadata": {},
   "outputs": [],
   "source": [
    "p, c, l = 0, 0, 0\n",
    "sentences_trp = []\n",
    "sentences_trc = []\n",
    "sentences_trl = []\n",
    "for k, v in sentences_train.items():\n",
    "    if len(set(v['pmids'])) > 1:\n",
    "        p += 1\n",
    "        sentences_trp.append(k)\n",
    "    if len(set(v['citations'])) > 1:\n",
    "        c += 1\n",
    "        sentences_trc.append(k)\n",
    "    if len(set(v['labels'])) > 1:\n",
    "        l += 1\n",
    "        sentences_trl.append(k)"
   ]
  },
  {
   "cell_type": "code",
   "execution_count": 36,
   "metadata": {},
   "outputs": [
    {
     "data": {
      "text/plain": [
       "(5835, 896970, 895773)"
      ]
     },
     "execution_count": 36,
     "metadata": {},
     "output_type": "execute_result"
    }
   ],
   "source": [
    "p, c, l"
   ]
  },
  {
   "cell_type": "code",
   "execution_count": 33,
   "metadata": {},
   "outputs": [
    {
     "data": {
      "text/plain": [
       "'aniridia male pseudohermaphroditism gonadoblastoma mental retardation del 11p13'"
      ]
     },
     "execution_count": 33,
     "metadata": {},
     "output_type": "execute_result"
    }
   ],
   "source": [
    "sentences_trp[0]"
   ]
  },
  {
   "cell_type": "code",
   "execution_count": 34,
   "metadata": {},
   "outputs": [
    {
     "data": {
      "text/plain": [
       "{'pmids': ['6114032', '28035502'],\n",
       " 'citations': ['6114032', '28035502'],\n",
       " 'labels': ['1', '1'],\n",
       " 'true': 2,\n",
       " 'false': 0}"
      ]
     },
     "execution_count": 34,
     "metadata": {},
     "output_type": "execute_result"
    }
   ],
   "source": [
    "sentences_train[sentences_trp[0]]"
   ]
  },
  {
   "cell_type": "markdown",
   "metadata": {},
   "source": [
    "- Validation Sentences Dataset"
   ]
  },
  {
   "cell_type": "code",
   "execution_count": 193,
   "metadata": {},
   "outputs": [],
   "source": [
    "with open(f\"{TRAINDATA_PATH}/{VALIDDATA_ST}\", newline='') as csvfile:\n",
    "    csvreader = csv.reader(csvfile, delimiter='\\t')\n",
    "    #header = next(csvreader)\n",
    "    n = 0\n",
    "    for row in csvreader:\n",
    "        n += 1\n",
    "        if row[1] == '26415954' and row[2] == '15852461':\n",
    "            print(row)\n",
    "#         if n >= 2: break"
   ]
  },
  {
   "cell_type": "code",
   "execution_count": 162,
   "metadata": {},
   "outputs": [
    {
     "name": "stdout",
     "output_type": "stream",
     "text": [
      "462978\n"
     ]
    }
   ],
   "source": [
    "sentences_valid = {}\n",
    "with open(f\"{TRAINDATA_PATH}/{VALIDDATA_ST}\", newline='') as csvfile:\n",
    "    csvreader = csv.reader(csvfile, delimiter='\\t')\n",
    "    header = next(csvreader)\n",
    "    n = 0\n",
    "    for row in csvreader:\n",
    "        n += 1\n",
    "        if row[0] not in sentences_valid:\n",
    "            sentences_valid[row[0]] = {'pmids':[], 'citations':[], 'labels':[], 'true':0, 'false':0}\n",
    "        sentences_valid[row[0]]['pmids'].append(row[1])\n",
    "        sentences_valid[row[0]]['citations'].append(row[2])\n",
    "        sentences_valid[row[0]]['labels'].append(row[-1])\n",
    "        if row[-1] == '1':\n",
    "            sentences_valid[row[0]]['true'] += 1\n",
    "        if row[-1] == '0':\n",
    "            sentences_valid[row[0]]['false'] += 1\n",
    "print(n)"
   ]
  },
  {
   "cell_type": "code",
   "execution_count": 163,
   "metadata": {},
   "outputs": [
    {
     "data": {
      "text/plain": [
       "150725"
      ]
     },
     "execution_count": 163,
     "metadata": {},
     "output_type": "execute_result"
    }
   ],
   "source": [
    "len(sentences_valid)"
   ]
  },
  {
   "cell_type": "code",
   "execution_count": 164,
   "metadata": {},
   "outputs": [],
   "source": [
    "json.dump(sentences_valid, open('sentences_valid.json', 'w', encoding='utf-8'), indent=4)"
   ]
  },
  {
   "cell_type": "code",
   "execution_count": 84,
   "metadata": {},
   "outputs": [
    {
     "name": "stdout",
     "output_type": "stream",
     "text": [
      "154468 308510\n"
     ]
    }
   ],
   "source": [
    "t = 0\n",
    "f = 0\n",
    "for v in sentences_valid.values():\n",
    "    #if v['false'] < 1:\n",
    "    t += v['true']\n",
    "    f += v['false']\n",
    "print(t, f)"
   ]
  },
  {
   "cell_type": "code",
   "execution_count": 115,
   "metadata": {},
   "outputs": [
    {
     "name": "stdout",
     "output_type": "stream",
     "text": [
      "28337\n"
     ]
    }
   ],
   "source": [
    "n = 0\n",
    "for k in sentences_valid.keys():\n",
    "    if k in sentences_train:\n",
    "        n += 1\n",
    "print(n)"
   ]
  },
  {
   "cell_type": "code",
   "execution_count": 29,
   "metadata": {},
   "outputs": [],
   "source": [
    "sentences_valid = json.load(open('sentences_valid.json'))"
   ]
  },
  {
   "cell_type": "code",
   "execution_count": 37,
   "metadata": {},
   "outputs": [],
   "source": [
    "p, c, l = 0, 0, 0\n",
    "sentences_vap = []\n",
    "sentences_vac = []\n",
    "sentences_val = []\n",
    "for k, v in sentences_valid.items():\n",
    "    if len(set(v['pmids'])) > 1:\n",
    "        p += 1\n",
    "        sentences_vap.append(k)\n",
    "    if len(set(v['citations'])) > 1:\n",
    "        c += 1\n",
    "        sentences_vac.append(k)\n",
    "    if len(set(v['labels'])) > 1:\n",
    "        l += 1\n",
    "        sentences_val.append(k)"
   ]
  },
  {
   "cell_type": "code",
   "execution_count": 38,
   "metadata": {},
   "outputs": [
    {
     "data": {
      "text/plain": [
       "(305, 150720, 150720)"
      ]
     },
     "execution_count": 38,
     "metadata": {},
     "output_type": "execute_result"
    }
   ],
   "source": [
    "p, c, l"
   ]
  },
  {
   "cell_type": "code",
   "execution_count": 39,
   "metadata": {},
   "outputs": [],
   "source": [
    "n = 0\n",
    "for k, v in sentences_valid.items():\n",
    "    if k in sentences_train:\n",
    "        if any(pmid in sentences_train[k]['pmids'] for pmid in v['pmids']):\n",
    "            n += 1"
   ]
  },
  {
   "cell_type": "code",
   "execution_count": 40,
   "metadata": {},
   "outputs": [
    {
     "data": {
      "text/plain": [
       "26820"
      ]
     },
     "execution_count": 40,
     "metadata": {},
     "output_type": "execute_result"
    }
   ],
   "source": [
    "n"
   ]
  },
  {
   "cell_type": "markdown",
   "metadata": {},
   "source": [
    "- Keyword\n",
    "  - Training: TRAINDATA_KW = 'train_final_dataset_sentence_all_keyword_in_abstarct.tsv'\n",
    "  - Validation: VALIDDATA_KW = 'valid_final_dataset_sentence_all_keyword_in_abstract.tsv'"
   ]
  },
  {
   "cell_type": "code",
   "execution_count": 200,
   "metadata": {},
   "outputs": [
    {
     "name": "stdout",
     "output_type": "stream",
     "text": [
      "['lemon technique', '26495154', '23871074', 'citron lemon lens hr mas nmr spectroscopy', 'high resolution magic angle spinning hr mas nmr technique applied semi solid samples flavedo albedo pulp seeds oil gland content lemon citron studied hr mas nmr spectroscopy used directly intact tissue specimens without physicochemical manipulation hr mas nmr proved suitable technique detecting terpenes sugars organic acids aminoacids osmolites valuable observing changes sugars principal organic acids mainly citric malic ethanol contents pulp specimens strongly point use follow fruit ripening commercial assessment fruit maturity hr mas nmr also used derive molar percentage fatty acid components lipids seeds change depending citrus species varieties finally technique employed elucidate metabolic profile mold flavedo', '2015', '2013', 'evaluation studies|journal article', '1', '-0.123', '3.259', '0.0', '36.580613136291504', '0.5', '1.0', '1']\n"
     ]
    }
   ],
   "source": [
    "with open(f\"{TRAINDATA_PATH}/{TRAINDATA_KW}\", newline='') as csvfile:\n",
    "    csvreader = csv.reader(csvfile, delimiter='\\t')\n",
    "    #header = next(csvreader)\n",
    "    n = 0\n",
    "    for row in csvreader:\n",
    "        n += 1\n",
    "        if row[1] == '26495154' and row[2] == '23871074':\n",
    "            print(row)\n",
    "#         print(row)\n",
    "#         if n >= 2: break"
   ]
  },
  {
   "cell_type": "code",
   "execution_count": 165,
   "metadata": {},
   "outputs": [
    {
     "name": "stdout",
     "output_type": "stream",
     "text": [
      "1450389\n"
     ]
    }
   ],
   "source": [
    "keywords_train = {}\n",
    "with open(f\"{TRAINDATA_PATH}/{TRAINDATA_KW}\", newline='') as csvfile:\n",
    "    csvreader = csv.reader(csvfile, delimiter='\\t')\n",
    "    header = next(csvreader)\n",
    "    n = 0\n",
    "    for row in csvreader:\n",
    "        n += 1\n",
    "        if row[0] not in keywords_train:\n",
    "            keywords_train[row[0]] = {'pmids':[], 'citations':[], 'labels':[], 'true':0, 'false':0}\n",
    "        keywords_train[row[0]]['pmids'].append(row[1])\n",
    "        keywords_train[row[0]]['citations'].append(row[2])\n",
    "        keywords_train[row[0]]['labels'].append(row[-1])\n",
    "        if row[-1] == '1':\n",
    "            keywords_train[row[0]]['true'] += 1\n",
    "        if row[-1] == '0':\n",
    "            keywords_train[row[0]]['false'] += 1\n",
    "print(n)"
   ]
  },
  {
   "cell_type": "code",
   "execution_count": 166,
   "metadata": {},
   "outputs": [
    {
     "data": {
      "text/plain": [
       "470968"
      ]
     },
     "execution_count": 166,
     "metadata": {},
     "output_type": "execute_result"
    }
   ],
   "source": [
    "len(keywords_train)"
   ]
  },
  {
   "cell_type": "code",
   "execution_count": 167,
   "metadata": {},
   "outputs": [],
   "source": [
    "json.dump(keywords_train, open('keywords_train.json', 'w', encoding='utf-8'), indent=4)"
   ]
  },
  {
   "cell_type": "code",
   "execution_count": 88,
   "metadata": {},
   "outputs": [
    {
     "name": "stdout",
     "output_type": "stream",
     "text": [
      "81 0\n"
     ]
    }
   ],
   "source": [
    "t = 0\n",
    "f = 0\n",
    "for v in keywords_train.values():\n",
    "    if v['true'] < 1:\n",
    "        t += 1\n",
    "    if v['false'] < 1:\n",
    "        f += 1\n",
    "#     t += v['true']\n",
    "#     f += v['false']\n",
    "print(t, f)"
   ]
  },
  {
   "cell_type": "code",
   "execution_count": 41,
   "metadata": {},
   "outputs": [],
   "source": [
    "keywords_train = json.load(open('keywords_train.json'))"
   ]
  },
  {
   "cell_type": "code",
   "execution_count": 42,
   "metadata": {},
   "outputs": [],
   "source": [
    "p, c, l = 0, 0, 0\n",
    "keywords_trp = []\n",
    "keywords_trc = []\n",
    "keywords_trl = []\n",
    "for k, v in keywords_train.items():\n",
    "    if len(set(v['pmids'])) > 1:\n",
    "        p += 1\n",
    "        keywords_trp.append(k)\n",
    "    if len(set(v['citations'])) > 1:\n",
    "        c += 1\n",
    "        keywords_trc.append(k)\n",
    "    if len(set(v['labels'])) > 1:\n",
    "        l += 1\n",
    "        keywords_trl.append(k)"
   ]
  },
  {
   "cell_type": "code",
   "execution_count": 43,
   "metadata": {},
   "outputs": [
    {
     "data": {
      "text/plain": [
       "(4418, 470887, 470887)"
      ]
     },
     "execution_count": 43,
     "metadata": {},
     "output_type": "execute_result"
    }
   ],
   "source": [
    "p, c, l"
   ]
  },
  {
   "cell_type": "code",
   "execution_count": 44,
   "metadata": {},
   "outputs": [
    {
     "data": {
      "text/plain": [
       "'reads using velvet'"
      ]
     },
     "execution_count": 44,
     "metadata": {},
     "output_type": "execute_result"
    }
   ],
   "source": [
    "keywords_trp[0]"
   ]
  },
  {
   "cell_type": "code",
   "execution_count": 45,
   "metadata": {},
   "outputs": [
    {
     "data": {
      "text/plain": [
       "{'pmids': ['29145801',\n",
       "  '29145801',\n",
       "  '29145801',\n",
       "  '24812227',\n",
       "  '24812227',\n",
       "  '24812227'],\n",
       " 'citations': ['18349386',\n",
       "  '8562887',\n",
       "  '9476594',\n",
       "  '18349386',\n",
       "  '16271386',\n",
       "  '21078174'],\n",
       " 'labels': ['1', '0', '0', '1', '0', '0'],\n",
       " 'true': 2,\n",
       " 'false': 4}"
      ]
     },
     "execution_count": 45,
     "metadata": {},
     "output_type": "execute_result"
    }
   ],
   "source": [
    "keywords_train[keywords_trp[0]]"
   ]
  },
  {
   "cell_type": "code",
   "execution_count": 46,
   "metadata": {},
   "outputs": [
    {
     "name": "stdout",
     "output_type": "stream",
     "text": [
      "['sentence', 'sentence_pmid', 'pmid', 'articleTitle', 'abstract', 'sentence_year', 'year', 'publicationType', 'sum_citation', 'normalized_citation', 'journal_IF', 'title_score', 'title_abstract_score', 'title_coverage', 'abstract_coverage', 'label']\n",
      "['models language interactions working memory capacity episodic semantic memory et rönnberg et', '28690579', '23874273', 'ease language understanding elu model theoretical empirical clinical advances', 'working memory important online language processing conversation use maintain relevant information inhibit ignore irrelevant information attend conversation selectively working memory helps us keep track actively participate conversation including taking turns following gist paper examines ease language understanding model i e elu model rönnberg 2003 rönnberg 2008 light new behavioral neural findings concerning role working memory capacity wmc uni modal bimodal language processing new elu model meaning prediction system depends phonological semantic interactions rapid implicit slower explicit processing mechanisms depend wmc albeit different ways based findings address relationship wmc a early attention processes listening speech b signal processing hearing aids effects short term memory c inhibition speech maskers effect episodic long term memory d effects hearing impairment episodic semantic long term memory finally e listening effort new predictions clinical implications outlined comparisons wmc speech perception models made', '2017', '2013', 'journal article', '47', '44.432', '0.0', '7.100110054016113', '50.95980453491211', '0.0', '1.0', '1']\n"
     ]
    }
   ],
   "source": [
    "with open(f\"{TRAINDATA_PATH}/{VALIDDATA_KW}\", newline='') as csvfile:\n",
    "    csvreader = csv.reader(csvfile, delimiter='\\t')\n",
    "    #header = next(csvreader)\n",
    "    n = 0\n",
    "    for row in csvreader:\n",
    "        n += 1\n",
    "        print(row)\n",
    "        if n >= 2: break"
   ]
  },
  {
   "cell_type": "code",
   "execution_count": 168,
   "metadata": {},
   "outputs": [
    {
     "name": "stdout",
     "output_type": "stream",
     "text": [
      "221200\n"
     ]
    }
   ],
   "source": [
    "keywords_valid = {}\n",
    "with open(f\"{TRAINDATA_PATH}/{VALIDDATA_KW}\", newline='') as csvfile:\n",
    "    csvreader = csv.reader(csvfile, delimiter='\\t')\n",
    "    header = next(csvreader)\n",
    "    n = 0\n",
    "    for row in csvreader:\n",
    "        n += 1\n",
    "        if row[0] not in keywords_valid:\n",
    "            keywords_valid[row[0]] = {'pmids':[], 'citations':[], 'labels':[], 'true':0, 'false':0}\n",
    "        keywords_valid[row[0]]['pmids'].append(row[1])\n",
    "        keywords_valid[row[0]]['citations'].append(row[2])\n",
    "        keywords_valid[row[0]]['labels'].append(row[-1])\n",
    "        if row[-1] == '1':\n",
    "            keywords_valid[row[0]]['true'] += 1\n",
    "        if row[-1] == '0':\n",
    "            keywords_valid[row[0]]['false'] += 1\n",
    "print(n)"
   ]
  },
  {
   "cell_type": "code",
   "execution_count": 48,
   "metadata": {},
   "outputs": [
    {
     "data": {
      "text/plain": [
       "73297"
      ]
     },
     "execution_count": 48,
     "metadata": {},
     "output_type": "execute_result"
    }
   ],
   "source": [
    "len(keywords_valid)"
   ]
  },
  {
   "cell_type": "code",
   "execution_count": 170,
   "metadata": {},
   "outputs": [],
   "source": [
    "json.dump(keywords_valid, open('keywords_valid.json', 'w', encoding='utf-8'), indent=4)"
   ]
  },
  {
   "cell_type": "code",
   "execution_count": 92,
   "metadata": {},
   "outputs": [
    {
     "name": "stdout",
     "output_type": "stream",
     "text": [
      "73798 147402\n"
     ]
    }
   ],
   "source": [
    "t = 0\n",
    "f = 0\n",
    "for v in keywords_valid.values():\n",
    "#     if v['true'] < 1:\n",
    "#         t += 1\n",
    "#     if v['false'] < 1:\n",
    "#         f += 1\n",
    "    t += v['true']\n",
    "    f += v['false']\n",
    "print(t, f)"
   ]
  },
  {
   "cell_type": "code",
   "execution_count": 114,
   "metadata": {},
   "outputs": [
    {
     "name": "stdout",
     "output_type": "stream",
     "text": [
      "2847\n"
     ]
    }
   ],
   "source": [
    "n = 0\n",
    "for k in keywords_valid.keys():\n",
    "    if k in keywords_train:\n",
    "        n += 1\n",
    "print(n)"
   ]
  },
  {
   "cell_type": "code",
   "execution_count": 46,
   "metadata": {},
   "outputs": [],
   "source": [
    "keywords_valid = json.load(open('keywords_valid.json'))"
   ]
  },
  {
   "cell_type": "code",
   "execution_count": 47,
   "metadata": {},
   "outputs": [],
   "source": [
    "p, c, l = 0, 0, 0\n",
    "keywords_vap = []\n",
    "keywords_vac = []\n",
    "keywords_val = []\n",
    "for k, v in keywords_valid.items():\n",
    "    if len(set(v['pmids'])) > 1:\n",
    "        p += 1\n",
    "        keywords_vap.append(k)\n",
    "    if len(set(v['citations'])) > 1:\n",
    "        c += 1\n",
    "        keywords_vac.append(k)\n",
    "    if len(set(v['labels'])) > 1:\n",
    "        l += 1\n",
    "        keywords_val.append(k)"
   ]
  },
  {
   "cell_type": "code",
   "execution_count": 49,
   "metadata": {},
   "outputs": [
    {
     "data": {
      "text/plain": [
       "(305, 73289, 73289)"
      ]
     },
     "execution_count": 49,
     "metadata": {},
     "output_type": "execute_result"
    }
   ],
   "source": [
    "p, c, l"
   ]
  },
  {
   "cell_type": "code",
   "execution_count": 50,
   "metadata": {},
   "outputs": [],
   "source": [
    "n = 0\n",
    "for k, v in keywords_valid.items():\n",
    "    if k in keywords_train:\n",
    "        if any(pmid in keywords_train[k]['pmids'] for pmid in v['pmids']):\n",
    "            n += 1"
   ]
  },
  {
   "cell_type": "code",
   "execution_count": 51,
   "metadata": {},
   "outputs": [
    {
     "data": {
      "text/plain": [
       "1361"
      ]
     },
     "execution_count": 51,
     "metadata": {},
     "output_type": "execute_result"
    }
   ],
   "source": [
    "n"
   ]
  },
  {
   "cell_type": "markdown",
   "metadata": {},
   "source": [
    "### Test Datasets\n",
    "\n",
    "- Sentence for SQL: TESTDATA_PATH_SQL_ST = \"case_SQL_testing_final_complete\"\n",
    "  - DL_data_search_result_sentence_citation461.csv (461-560)\n"
   ]
  },
  {
   "cell_type": "code",
   "execution_count": 90,
   "metadata": {},
   "outputs": [
    {
     "name": "stdout",
     "output_type": "stream",
     "text": [
      "['sentence', 'sentence_pmid', 'pmid', 'citation_pmid', 'articleTitle', 'abstract', 'sentence_year', 'year', 'publicationType', 'sum_citation', 'normalized_citation', 'journal_IF', 'title_score', 'title_abstract_score', 'title_coverage', 'abstract_coverage', 'rank']\n",
      "['study investigated function ctgf psoriasis using established imiquimod imq induced psoriasis murine model samples psoriasis patients', '29386832', '28507585', '19380832', 'ctgf upregulation correlates mmp 9 level airway remodeling murine model asthma', 'connective tissue growth factor ctgf mediates hypertrophy proliferation extracellular matrix synthesis matrix metalloproteinase mmp plays role airway extracellular matrix remodeling correlation ctgf mmp airway remodeling asthma unknown study investigated lung ctgf expression correlation mmp airway structural changes murine model asthma female balb c mice sensitized challenged intraperitoneal injections intranasal phosphate buffered saline pbs ovalbumin ova airway responsiveness serum ova specific ige measured airway structural changes quantified morphometric analysis differential cell counts mmp 2 mmp 9 tissue inhibitor metalloproteinase timp 1 evaluated bronchoalveolar lavage fluid balf lung ctgf determined western blot serum ova specific ige level airway responsiveness enhanced pause penh significantly higher sensitized mice challenged ova compared pbs challenged mice mmp 2 mmp 9 timp 1 balf significantly higher ova mice airway structural changes animals lungs ova challenge showed increased thickness smooth muscle layer numbers goblet cells inflammatory cells eosinophils near airways perivascular areas lung ctgf expression significantly increased ova challenged mice ctgf expressions positively correlated mmp 9 r 0 677 p 0 05 timp 1 r 0 574 p 0 05 thickness smooth muscle layer r 0 499 p 0 05 this study indicates ctgf upregulation correlates mmp 9 probably involved pathogenesis airway remodeling asthma', '2016', '2017', 'journal article', '0', '-0.126', '2.344', '18.743029594421387', '27.21586799621582', '0.21428571428571427', '0.2857142857142857', '8']\n",
      "['study investigated function ctgf psoriasis using established imiquimod imq induced psoriasis murine model samples psoriasis patients', '29386832', '17082612', '19380832', 'antibodies complement receptor 3 treat established inflammation murine models colitis novel model psoriasiform dermatitis', 'prior studies indicated ability abs complement receptor 3 cr3 cd11b cd18 suppress production il 12 immune cells therefore tested ability anti cr3 ab clone m1 70 treat established il 12 dependent th1 mediated inflammation murine models systemic administration anti cr3 significantly ameliorated established intestinal inflammation following intrarectal administration trinitrobenzene sulfonic acid tnbs colitis well colitis skin inflammation c57bl 10 rag 2 mice reconstituted cd4 cd45rbhigh cells hyperproliferative skin inflammation novel murine model demonstrated many characteristics human psoriasis prevented adoptive transfer cd45rblow cells vitro vivo studies suggest anti cr3 treatment may act least part directly inhibiting il 12 production apcs administration anti cr3 may useful therapeutic approach consider treatment inflammatory bowel disease psoriasis humans', '2016', '2006', 'journal article', '2', '-1.491', '6.292999999999999', '21.90419864654541', '28.249014854431152', '0.21428571428571427', '0.5', '8']\n"
     ]
    }
   ],
   "source": [
    "with open(f\"{TESTDATA_PATH_SQL_ST}/DL_data_search_result_sentence_citation461.csv\", newline='') as csvfile:\n",
    "    csvreader = csv.reader(csvfile, delimiter='\\t')\n",
    "    #header = next(csvreader)\n",
    "    n = 0\n",
    "    for row in csvreader:\n",
    "        n += 1\n",
    "        print(row)\n",
    "        if n >= 3: break"
   ]
  },
  {
   "cell_type": "code",
   "execution_count": 171,
   "metadata": {},
   "outputs": [
    {
     "name": "stdout",
     "output_type": "stream",
     "text": [
      "102552085\n"
     ]
    }
   ],
   "source": [
    "sentences_test_sql = {}\n",
    "n = 0\n",
    "for f in range(461, 561):\n",
    "    with open(f\"{TESTDATA_PATH_SQL_ST}/DL_data_search_result_sentence_citation{str(f)}.csv\", newline='') as csvfile:\n",
    "        csvreader = csv.reader(csvfile, delimiter='\\t')\n",
    "        header = next(csvreader)\n",
    "        for row in csvreader:\n",
    "            n += 1\n",
    "            if row[0] not in sentences_test_sql:\n",
    "                sentences_test_sql[row[0]] = {'pmids':[], 'retpmids':[], 'citations':[], 'ranks':[],\n",
    "                                              'retnum':0, 'intrain':0}\n",
    "            sentences_test_sql[row[0]]['pmids'].append(row[1])\n",
    "            sentences_test_sql[row[0]]['retpmids'].append(row[2])\n",
    "            sentences_test_sql[row[0]]['citations'].append(row[3])\n",
    "            sentences_test_sql[row[0]]['ranks'].append(row[-1])\n",
    "            sentences_test_sql[row[0]]['retnum'] += 1\n",
    "            if row[0] in sentences_train or row[0] in sentences_valid:\n",
    "                sentences_test_sql[row[0]]['intrain'] += 1\n",
    "print(n)"
   ]
  },
  {
   "cell_type": "code",
   "execution_count": 56,
   "metadata": {},
   "outputs": [
    {
     "data": {
      "text/plain": [
       "97212"
      ]
     },
     "execution_count": 56,
     "metadata": {},
     "output_type": "execute_result"
    }
   ],
   "source": [
    "len(sentences_test_sql)"
   ]
  },
  {
   "cell_type": "code",
   "execution_count": 173,
   "metadata": {},
   "outputs": [],
   "source": [
    "json.dump(sentences_test_sql, open('sentences_test_sql.json', 'w', encoding='utf-8'), indent=4)"
   ]
  },
  {
   "cell_type": "code",
   "execution_count": 65,
   "metadata": {},
   "outputs": [
    {
     "name": "stdout",
     "output_type": "stream",
     "text": [
      "46585 41 28927 7\n"
     ]
    }
   ],
   "source": [
    "g = 0\n",
    "l = 0\n",
    "f = 0\n",
    "r = 0\n",
    "sentences_ret = []\n",
    "for k, v in sentences_test_sql.items():\n",
    "    if v['retnum'] > 1000:\n",
    "        g += 1\n",
    "    if v['retnum'] < 1000:\n",
    "        l += 1\n",
    "    if v['intrain'] > 0:\n",
    "        f += 1\n",
    "    if len(set(v['retpmids'])) > 1000:\n",
    "        r += 1\n",
    "    if v['retnum'] > len(set(v['retpmids'])):\n",
    "        sentences_ret.append(k)\n",
    "print(g, l, f, r)"
   ]
  },
  {
   "cell_type": "code",
   "execution_count": 82,
   "metadata": {},
   "outputs": [
    {
     "data": {
      "text/plain": [
       "46588"
      ]
     },
     "execution_count": 82,
     "metadata": {},
     "output_type": "execute_result"
    }
   ],
   "source": [
    "len(sentences_ret)"
   ]
  },
  {
   "cell_type": "code",
   "execution_count": 91,
   "metadata": {},
   "outputs": [
    {
     "data": {
      "text/plain": [
       "'ceatg mouse cea expression mtec resulted tolerization major fraction cell repertoire'"
      ]
     },
     "execution_count": 91,
     "metadata": {},
     "output_type": "execute_result"
    }
   ],
   "source": [
    "sent = sentences_ret[1000]\n",
    "sent"
   ]
  },
  {
   "cell_type": "code",
   "execution_count": 92,
   "metadata": {},
   "outputs": [
    {
     "data": {
      "text/plain": [
       "(1002, 1)"
      ]
     },
     "execution_count": 92,
     "metadata": {},
     "output_type": "execute_result"
    }
   ],
   "source": [
    "len(sentences_test_sql[sent]['pmids']), len(set(sentences_test_sql[sent]['pmids']))"
   ]
  },
  {
   "cell_type": "code",
   "execution_count": 93,
   "metadata": {},
   "outputs": [
    {
     "data": {
      "text/plain": [
       "(1002, 1)"
      ]
     },
     "execution_count": 93,
     "metadata": {},
     "output_type": "execute_result"
    }
   ],
   "source": [
    "len(sentences_test_sql[sent]['citations']), len(set(sentences_test_sql[sent]['citations']))"
   ]
  },
  {
   "cell_type": "code",
   "execution_count": 94,
   "metadata": {},
   "outputs": [
    {
     "data": {
      "text/plain": [
       "(1002, 1000)"
      ]
     },
     "execution_count": 94,
     "metadata": {},
     "output_type": "execute_result"
    }
   ],
   "source": [
    "len(sentences_test_sql[sent]['retpmids']), len(set(sentences_test_sql[sent]['retpmids']))"
   ]
  },
  {
   "cell_type": "code",
   "execution_count": 95,
   "metadata": {},
   "outputs": [
    {
     "data": {
      "text/plain": [
       "(1002, 1)"
      ]
     },
     "execution_count": 95,
     "metadata": {},
     "output_type": "execute_result"
    }
   ],
   "source": [
    "len(sentences_test_sql[sent]['ranks']), len(set(sentences_test_sql[sent]['ranks']))"
   ]
  },
  {
   "cell_type": "code",
   "execution_count": 96,
   "metadata": {},
   "outputs": [
    {
     "data": {
      "text/plain": [
       "{'1'}"
      ]
     },
     "execution_count": 96,
     "metadata": {},
     "output_type": "execute_result"
    }
   ],
   "source": [
    "set(sentences_test_sql[sent]['ranks'])"
   ]
  },
  {
   "cell_type": "code",
   "execution_count": 70,
   "metadata": {},
   "outputs": [],
   "source": [
    "sentences_test_sql = json.load(open('sentences_test_sql.json'))"
   ]
  },
  {
   "cell_type": "code",
   "execution_count": 54,
   "metadata": {},
   "outputs": [],
   "source": [
    "p, c, l = 0, 0, 0\n",
    "sentences_tsqp = []\n",
    "sentences_tsqc = []\n",
    "sentences_tsql = []\n",
    "for k, v in sentences_test_sql.items():\n",
    "    if len(set(v['pmids'])) > 1:\n",
    "        p += 1\n",
    "        sentences_tsqp.append(k)\n",
    "    if len(set(v['citations'])) > 1:\n",
    "        c += 1\n",
    "        sentences_tsqc.append(k)\n",
    "    if len(set(v['retpmids'])) > 1000:\n",
    "        l += 1\n",
    "        sentences_tsql.append(k)"
   ]
  },
  {
   "cell_type": "code",
   "execution_count": 55,
   "metadata": {},
   "outputs": [
    {
     "data": {
      "text/plain": [
       "(2, 4710, 7)"
      ]
     },
     "execution_count": 55,
     "metadata": {},
     "output_type": "execute_result"
    }
   ],
   "source": [
    "p, c, l"
   ]
  },
  {
   "cell_type": "code",
   "execution_count": 60,
   "metadata": {},
   "outputs": [],
   "source": [
    "n = 0\n",
    "for k, v in sentences_test_sql.items():\n",
    "    if k in sentences_train:\n",
    "        if any(pmid in sentences_train[k]['pmids'] for pmid in v['pmids']):\n",
    "            n += 1\n",
    "    elif k in sentences_valid:\n",
    "        if any(pmid in sentences_valid[k]['pmids'] for pmid in v['pmids']):\n",
    "            n += 1"
   ]
  },
  {
   "cell_type": "code",
   "execution_count": 61,
   "metadata": {},
   "outputs": [
    {
     "data": {
      "text/plain": [
       "28910"
      ]
     },
     "execution_count": 61,
     "metadata": {},
     "output_type": "execute_result"
    }
   ],
   "source": [
    "n"
   ]
  },
  {
   "cell_type": "markdown",
   "metadata": {},
   "source": [
    "- Keyword for SQL: TESTDATA_PATH_SQL_KW = \"case_SQL_testing_final_complete_keywordOnly\"\n",
    "  - DL_data_search_result_sentence_citation461.csv (461-560)"
   ]
  },
  {
   "cell_type": "code",
   "execution_count": 48,
   "metadata": {},
   "outputs": [
    {
     "name": "stdout",
     "output_type": "stream",
     "text": [
      "['sentence', 'sentence_pmid', 'pmid', 'citation_pmid', 'articleTitle', 'abstract', 'sentence_year', 'year', 'publicationType', 'sum_citation', 'normalized_citation', 'journal_IF', 'title_abstract_score', 'title_coverage', 'abstract_coverage', 'rank']\n",
      "['psoriasis imiquimod imq induced psoriasis model psoriasis', '29386832', '29305258', '19380832', 'irf 2 haploinsufficiency causes enhanced imiquimod induced psoriasis like skin inflammation', 'ifn regulatory factor irf 2 one potential susceptibility genes psoriasis gene influences psoriasis pathogenesis unclear topical application imiquimod imq tlr7 ligand induces psoriasis like skin lesions mice the aim study investigate whether irf 2 gene status would influence severity skin disease imq treated mice imiquimod induced psoriasis like skin inflammation assessed clinical findings histology cytokine expression effects imiquimod ifn peritoneal macrophages analyzed vitro imq induced skin inflammation assessed clinical findings histology severe irf 2 mice wild type mice inflamed skin mrna expression levels tumor necrosis factor tnf alpha il 12 23p40 il 17a il 22 significantly elevated irf 2 mice compared wild type mice stimulation peritoneal macrophages imq significantly increased mrna levels tnf alpha il 12 23p40 il 23p19 il 12p35 il 36 interestingly macrophages irf 2 mice expressed higher levels tnf alpha il 12 23p40 il 36 compared wild type mice 24 h stimulation expressed similar levels il 12p35 il 23p19 moreover elevated mrna expression inducible nitric oxide synthase observed imq stimulated macrophages derived irf 2 mice correlated angiogenesis imq treated ears irf 2 mice these results suggest irf 2 haploinsufficiency creates heightened biologic responses ifn alpha phenotypically lead enhanced angiogenesis psoriasis like inflammation within skin', '2016', '2017', 'journal article', '0', '-0.126', '3.675', '53.260294914245605', '0.2', '0.03314917127071823', '1']\n"
     ]
    }
   ],
   "source": [
    "with open(f\"{TESTDATA_PATH_SQL_KW}/DL_data_search_result_sentence_citation461.csv\", newline='') as csvfile:\n",
    "    csvreader = csv.reader(csvfile, delimiter='\\t')\n",
    "    #header = next(csvreader)\n",
    "    n = 0\n",
    "    for row in csvreader:\n",
    "        n += 1\n",
    "        print(row)\n",
    "        #test_data.append(row)\n",
    "        if n >= 2: break"
   ]
  },
  {
   "cell_type": "code",
   "execution_count": 174,
   "metadata": {},
   "outputs": [
    {
     "name": "stdout",
     "output_type": "stream",
     "text": [
      "89940902\n"
     ]
    }
   ],
   "source": [
    "keywords_test_sql = {}\n",
    "n = 0\n",
    "for f in range(461, 561):\n",
    "    with open(f\"{TESTDATA_PATH_SQL_KW}/DL_data_search_result_sentence_citation{str(f)}.csv\", newline='') as csvfile:\n",
    "        csvreader = csv.reader(csvfile, delimiter='\\t')\n",
    "        header = next(csvreader)\n",
    "        for row in csvreader:\n",
    "            n += 1\n",
    "            if row[0] not in keywords_test_sql:\n",
    "                keywords_test_sql[row[0]] = {'pmids':[], 'retpmids':[], 'citations':[], 'ranks':[],\n",
    "                                             'retnum':0, 'intrain':0}\n",
    "            keywords_test_sql[row[0]]['pmids'].append(row[1])\n",
    "            keywords_test_sql[row[0]]['retpmids'].append(row[2])\n",
    "            keywords_test_sql[row[0]]['citations'].append(row[3])\n",
    "            keywords_test_sql[row[0]]['ranks'].append(row[-1])\n",
    "            keywords_test_sql[row[0]]['retnum'] += 1\n",
    "            if row[0] in keywords_train or row[0] in keywords_valid:\n",
    "                keywords_test_sql[row[0]]['intrain'] += 1\n",
    "print(n)"
   ]
  },
  {
   "cell_type": "code",
   "execution_count": 175,
   "metadata": {},
   "outputs": [
    {
     "data": {
      "text/plain": [
       "89970"
      ]
     },
     "execution_count": 175,
     "metadata": {},
     "output_type": "execute_result"
    }
   ],
   "source": [
    "len(keywords_test_sql)"
   ]
  },
  {
   "cell_type": "code",
   "execution_count": 176,
   "metadata": {},
   "outputs": [],
   "source": [
    "json.dump(keywords_test_sql, open('keywords_test_sql.json', 'w', encoding='utf-8'), indent=4)"
   ]
  },
  {
   "cell_type": "code",
   "execution_count": 101,
   "metadata": {},
   "outputs": [
    {
     "name": "stdout",
     "output_type": "stream",
     "text": [
      "65797 763 621\n"
     ]
    }
   ],
   "source": [
    "g = 0\n",
    "l = 0\n",
    "f = 0\n",
    "for v in keywords_test_sql.values():\n",
    "    if v['retnum'] > 1000:\n",
    "        g += 1\n",
    "    if v['retnum'] < 1000:\n",
    "        l += 1\n",
    "    if v['intrain'] > 0:\n",
    "        f += 1\n",
    "print(g, l, f)"
   ]
  },
  {
   "cell_type": "markdown",
   "metadata": {},
   "source": [
    "- Sentence for PubMed TF-IDF: TESTDATA_PATH_PTF_ST = \"case_PubMed_testing_final_complete\"\n",
    "  - DL_data_search_result_sentence_citation461.csv (461-560)"
   ]
  },
  {
   "cell_type": "code",
   "execution_count": 49,
   "metadata": {},
   "outputs": [
    {
     "name": "stdout",
     "output_type": "stream",
     "text": [
      "['sentence', 'sentence_pmid', 'pmid', 'citation_pmid', 'articleTitle', 'abstract', 'sentence_year', 'year', 'publicationType', 'sum_citation', 'normalized_citation', 'journal_IF', 'title_score', 'title_abstract_score', 'title_coverage', 'abstract_coverage', 'rank']\n",
      "['contrast reported gastric luminal challenge specific antigen decreased phasic antral activity sensitized rats', '28144845', '27197667', '8194696', 'curcumin blocks naproxen induced gastric antral ulcerations inhibition lipid peroxidation activation enzymatic scavengers rats', 'curcumin polyphenol derived plant curcuma longa used treatment diseases associated oxidative stress inflammation present study undertaken determine protective effect curcumin naproxen induced gastric antral ulcerations rats different doses 10 50 100 mg kg curcumin vehicle curcumin 0 mg kg pretreated 3 days oral gavage gastric mucosal lesions caused 80 mg kg naproxen applied 3 days curcumin significantly inhibited naproxen induced gastric antral ulcer area lipid peroxidation dose dependent manner addition curcumin markedly increased activities radical scavenging enzymes superoxide dismutase sod catalase glutathione peroxidase dose dependent manner specifically 100 mg kg curcumin completely protected gastric mucosa loss enzyme resulting drastic increase activities radical scavenging enzymes level untreated normal rats histological examination obviously showed curcumin prevents naproxen induced gastric antral ulceration result direct protection gastric mucosa results suggest curcumin blocks naproxen induced gastric antral ulcerations prevention lipid peroxidation activation radical scavenging enzymes may offer potential remedy gastric antral ulcerations', '2016', '2016', 'journal article', '1', '0.897', '1.75', '0', '0', '0.23076923076923078', '0.23076923076923078', '1']\n"
     ]
    }
   ],
   "source": [
    "with open(f\"{TESTDATA_PATH_PTF_ST}/DL_data_search_result_sentence_citation461.csv\", newline='') as csvfile:\n",
    "    csvreader = csv.reader(csvfile, delimiter='\\t')\n",
    "    #header = next(csvreader)\n",
    "    n = 0\n",
    "    for row in csvreader:\n",
    "        n += 1\n",
    "        print(row)\n",
    "        #test_data.append(row)\n",
    "        if n >= 2: break"
   ]
  },
  {
   "cell_type": "code",
   "execution_count": 177,
   "metadata": {},
   "outputs": [
    {
     "name": "stdout",
     "output_type": "stream",
     "text": [
      "100128069\n"
     ]
    }
   ],
   "source": [
    "sentences_test_ptf = {}\n",
    "n = 0\n",
    "for f in range(461, 561):\n",
    "    with open(f\"{TESTDATA_PATH_PTF_ST}/DL_data_search_result_sentence_citation{str(f)}.csv\", newline='') as csvfile:\n",
    "        csvreader = csv.reader(csvfile, delimiter='\\t')\n",
    "        header = next(csvreader)\n",
    "        for row in csvreader:\n",
    "            n += 1\n",
    "            if row[0] not in sentences_test_ptf:\n",
    "                sentences_test_ptf[row[0]] = {'pmids':[], 'retpmids':[], 'citations':[], 'ranks':[],\n",
    "                                              'retnum':0, 'intrain':0}\n",
    "            sentences_test_ptf[row[0]]['pmids'].append(row[1])\n",
    "            sentences_test_ptf[row[0]]['retpmids'].append(row[2])\n",
    "            sentences_test_ptf[row[0]]['citations'].append(row[3])\n",
    "            sentences_test_ptf[row[0]]['ranks'].append(row[-1])\n",
    "            sentences_test_ptf[row[0]]['retnum'] += 1\n",
    "            if row[0] in sentences_train or row[0] in sentences_valid:\n",
    "                sentences_test_ptf[row[0]]['intrain'] += 1\n",
    "print(n)"
   ]
  },
  {
   "cell_type": "code",
   "execution_count": 178,
   "metadata": {},
   "outputs": [
    {
     "data": {
      "text/plain": [
       "96948"
      ]
     },
     "execution_count": 178,
     "metadata": {},
     "output_type": "execute_result"
    }
   ],
   "source": [
    "len(sentences_test_ptf)"
   ]
  },
  {
   "cell_type": "code",
   "execution_count": 179,
   "metadata": {},
   "outputs": [],
   "source": [
    "json.dump(sentences_test_ptf, open('sentences_test_ptf.json', 'w', encoding='utf-8'), indent=4)"
   ]
  },
  {
   "cell_type": "code",
   "execution_count": 104,
   "metadata": {},
   "outputs": [
    {
     "name": "stdout",
     "output_type": "stream",
     "text": [
      "4675 86772 28837\n"
     ]
    }
   ],
   "source": [
    "g = 0\n",
    "l = 0\n",
    "f = 0\n",
    "for v in sentences_test_ptf.values():\n",
    "    if v['retnum'] > 1000:\n",
    "        g += 1\n",
    "    if v['retnum'] < 1000:\n",
    "        l += 1\n",
    "    if v['intrain'] > 0:\n",
    "        f += 1\n",
    "print(g, l, f)"
   ]
  },
  {
   "cell_type": "markdown",
   "metadata": {},
   "source": [
    "- Keyword for PubMed TF-IDF: TESTDATA_PATH_PTF_KW = \"case_PubMed_testing_final_keywordOnly\"\n",
    "  - DL_data_search_result_sentence_citation461.csv (461-560)"
   ]
  },
  {
   "cell_type": "code",
   "execution_count": 50,
   "metadata": {},
   "outputs": [
    {
     "name": "stdout",
     "output_type": "stream",
     "text": [
      "['sentence', 'sentence_pmid', 'pmid', 'citation_pmid', 'articleTitle', 'abstract', 'sentence_year', 'year', 'publicationType', 'sum_citation', 'normalized_citation', 'journal_IF', 'title_score', 'title_abstract_score', 'title_coverage', 'abstract_coverage', 'rank', 'sentence_orig']\n",
      "['low vitamin status urban rural population andhra pradesh state south india', '26644714', '26667891', '18497434', 'status vitamin b12 folate among urban adult population south india', 'deficiency vitamin b12 b12 folate fa leads wide spectrum disorders affect age groups however reports b12 fa status healthy adults india limited hence determined plasma levels dietary intake b12 fa adult population we conducted community based cross sectional study urban setup among 630 apparently healthy adults distributed 3 age groups 21 40 41 60 60 years plasma concentrations b12 fa analyzed radio immunoassay dietary intake 24 hour recall method the overall prevalence fa deficiency 12 significant difference plasma fa concentrations among groups overall prevalence b12 deficiency 35 significantly higher 21 40 44 41 60 age groups 40 compared 60 group 30 b12 deficiency higher vegetarians 54 compared consuming mixed diet 31 reverse case fa however dietary intakes fa b12 significantly different among groups these results indicate higher prevalence b12 deficiency apparently healthy adults urban setup', '2015', '2015', 'journal article|research support, non-u.s. govt', '0', '-0.1', '2.461', '0', '0', '0.5454545454545454', '0.45454545454545453', '1', 'Harinarayan et al in 2008 reported low Vitamin D status in urban and rural population of Andhra Pradesh state in South India[ XREF_ref32_END ]']\n"
     ]
    }
   ],
   "source": [
    "with open(f\"{TESTDATA_PATH_PTF_KW}/DL_data_search_result_sentence_citation461.csv\", newline='') as csvfile:\n",
    "    csvreader = csv.reader(csvfile, delimiter='\\t')\n",
    "    #header = next(csvreader)\n",
    "    n = 0\n",
    "    for row in csvreader:\n",
    "        n += 1\n",
    "        print(row)\n",
    "        #test_data.append(row)\n",
    "        if n >= 2: break"
   ]
  },
  {
   "cell_type": "code",
   "execution_count": 180,
   "metadata": {},
   "outputs": [
    {
     "name": "stdout",
     "output_type": "stream",
     "text": [
      "99554677\n"
     ]
    }
   ],
   "source": [
    "keywords_test_ptf = {}\n",
    "n = 0\n",
    "for f in range(461, 561):\n",
    "    with open(f\"{TESTDATA_PATH_PTF_KW}/DL_data_search_result_sentence_citation{str(f)}.csv\", newline='') as csvfile:\n",
    "        csvreader = csv.reader(csvfile, delimiter='\\t')\n",
    "        header = next(csvreader)\n",
    "        for row in csvreader:\n",
    "            n += 1\n",
    "            if row[0] not in keywords_test_ptf:\n",
    "                keywords_test_ptf[row[0]] = {'pmids':[], 'retpmids':[], 'citations':[], 'ranks':[],\n",
    "                                             'retnum':0, 'intrain':0}\n",
    "            keywords_test_ptf[row[0]]['pmids'].append(row[1])\n",
    "            keywords_test_ptf[row[0]]['retpmids'].append(row[2])\n",
    "            keywords_test_ptf[row[0]]['citations'].append(row[3])\n",
    "            keywords_test_ptf[row[0]]['ranks'].append(row[-1])\n",
    "            keywords_test_ptf[row[0]]['retnum'] += 1\n",
    "            if row[0] in keywords_train or row[0] in keywords_valid:\n",
    "                keywords_test_ptf[row[0]]['intrain'] += 1\n",
    "print(n)"
   ]
  },
  {
   "cell_type": "code",
   "execution_count": 181,
   "metadata": {},
   "outputs": [
    {
     "data": {
      "text/plain": [
       "102070"
      ]
     },
     "execution_count": 181,
     "metadata": {},
     "output_type": "execute_result"
    }
   ],
   "source": [
    "len(keywords_test_ptf)"
   ]
  },
  {
   "cell_type": "code",
   "execution_count": 182,
   "metadata": {},
   "outputs": [],
   "source": [
    "json.dump(keywords_test_ptf, open('keywords_test_ptf.json', 'w', encoding='utf-8'), indent=4)"
   ]
  },
  {
   "cell_type": "code",
   "execution_count": 107,
   "metadata": {},
   "outputs": [
    {
     "name": "stdout",
     "output_type": "stream",
     "text": [
      "188 96873 808\n"
     ]
    }
   ],
   "source": [
    "g = 0\n",
    "l = 0\n",
    "f = 0\n",
    "for v in keywords_test_ptf.values():\n",
    "    if v['retnum'] > 1000:\n",
    "        g += 1\n",
    "    if v['retnum'] < 1000:\n",
    "        l += 1\n",
    "    if v['intrain'] > 0:\n",
    "        f += 1\n",
    "print(g, l, f)"
   ]
  },
  {
   "cell_type": "markdown",
   "metadata": {},
   "source": [
    "- Sentence for PubMed BM: TESTDATA_PATH_PBM_ST = \"case_PubMed_BM_testing_final_complete\"\n",
    "  - DL_data_search_result_sentence_citation461.csv"
   ]
  },
  {
   "cell_type": "code",
   "execution_count": 51,
   "metadata": {},
   "outputs": [
    {
     "name": "stdout",
     "output_type": "stream",
     "text": [
      "['sentence', 'sentence_pmid', 'pmid', 'citation_pmid', 'articleTitle', 'abstract', 'sentence_year', 'year', 'publicationType', 'sum_citation', 'normalized_citation', 'journal_IF', 'title_score', 'title_abstract_score', 'title_coverage', 'abstract_coverage', 'rank']\n",
      "['study used multilocus sequence typing mlst method', '17543117', '23979428', '15944444', 'mlst revisited gene by gene approach bacterial genomics', 'multilocus sequence typing mlst proposed 1998 portable sequence based method identifying clonal relationships among bacteria today whole genome era microbiology need systematic standardized descriptions bacterial genotypic variation remains priority here meet need draw successes mlst 16s rrna gene sequencing propose hierarchical gene by gene approach reflects functional evolutionary relationships catalogues bacteria domain strain gene based typing approach using online platforms bacterial isolate genome sequence database bigsdb allows scalable organization analysis whole genome sequence data', '2007', '2013', 'research support, non-u.s. govt|review', '0', '-0.087', '23.316999999999997', '0', '0', '0.14285714285714285', '0.7142857142857143', '1']\n"
     ]
    }
   ],
   "source": [
    "with open(f\"{TESTDATA_PATH_PBM_ST}/DL_data_search_result_sentence_citation461.csv\", newline='') as csvfile:\n",
    "    csvreader = csv.reader(csvfile, delimiter='\\t')\n",
    "    #header = next(csvreader)\n",
    "    n = 0\n",
    "    for row in csvreader:\n",
    "        n += 1\n",
    "        print(row)\n",
    "        #test_data.append(row)\n",
    "        if n >= 2: break"
   ]
  },
  {
   "cell_type": "code",
   "execution_count": 183,
   "metadata": {},
   "outputs": [
    {
     "name": "stdout",
     "output_type": "stream",
     "text": [
      "759318\n"
     ]
    }
   ],
   "source": [
    "sentences_test_pbm = {}\n",
    "n = 0\n",
    "with open(f\"{TESTDATA_PATH_PBM_ST}/DL_data_search_result_sentence_citation461.csv\", newline='') as csvfile:\n",
    "    csvreader = csv.reader(csvfile, delimiter='\\t')\n",
    "    header = next(csvreader)\n",
    "    for row in csvreader:\n",
    "        n += 1\n",
    "        if row[0] not in sentences_test_pbm:\n",
    "            sentences_test_pbm[row[0]] = {'pmids':[], 'retpmids':[], 'citations':[], 'ranks':[],\n",
    "                                          'retnum':0, 'intrain':0}\n",
    "        sentences_test_pbm[row[0]]['pmids'].append(row[1])\n",
    "        sentences_test_pbm[row[0]]['retpmids'].append(row[2])\n",
    "        sentences_test_pbm[row[0]]['citations'].append(row[3])\n",
    "        sentences_test_pbm[row[0]]['ranks'].append(row[-1])\n",
    "        sentences_test_pbm[row[0]]['retnum'] += 1\n",
    "        if row[0] in sentences_train or row[0] in sentences_valid:\n",
    "            sentences_test_pbm[row[0]]['intrain'] += 1\n",
    "print(n)"
   ]
  },
  {
   "cell_type": "code",
   "execution_count": 184,
   "metadata": {},
   "outputs": [
    {
     "data": {
      "text/plain": [
       "1007"
      ]
     },
     "execution_count": 184,
     "metadata": {},
     "output_type": "execute_result"
    }
   ],
   "source": [
    "len(sentences_test_pbm)"
   ]
  },
  {
   "cell_type": "code",
   "execution_count": 185,
   "metadata": {},
   "outputs": [],
   "source": [
    "json.dump(sentences_test_pbm, open('sentences_test_pbm.json', 'w', encoding='utf-8'), indent=4)"
   ]
  },
  {
   "cell_type": "code",
   "execution_count": 110,
   "metadata": {},
   "outputs": [
    {
     "name": "stdout",
     "output_type": "stream",
     "text": [
      "2 1005 305\n"
     ]
    }
   ],
   "source": [
    "g = 0\n",
    "l = 0\n",
    "f = 0\n",
    "for v in sentences_test_pbm.values():\n",
    "    if v['retnum'] > 1000:\n",
    "        g += 1\n",
    "    if v['retnum'] < 1000:\n",
    "        l += 1\n",
    "    if v['intrain'] > 0:\n",
    "        f += 1\n",
    "print(g, l, f)"
   ]
  },
  {
   "cell_type": "markdown",
   "metadata": {},
   "source": [
    "- Sentence for Google Scholar: TESTDATA_PATH_GGS_ST = \"case_Google_scholar_testing_final_complete\"\n",
    "  - DL_data_search_result_sentence_citation461.csv"
   ]
  },
  {
   "cell_type": "code",
   "execution_count": 98,
   "metadata": {},
   "outputs": [
    {
     "name": "stdout",
     "output_type": "stream",
     "text": [
      "['sentence', 'sentence_pmid', 'pmid', 'citation_pmid', 'articleTitle', 'abstract', 'sentence_year', 'year', 'publicationType', 'sum_citation', 'normalized_citation', 'journal_IF', 'title_score', 'title_abstract_score', 'title_coverage', 'abstract_coverage', 'rank']\n",
      "['global test proposed', '21245948', '12320315', '14693814', 'international migration global challenge', 'trends international migration presented multiregional analysis seven worlds wealthiest countries 33 worlds migrant population 16 total world population population growth countries substantially affected migrant population migration challenge external internal external challenge balance need foreign labor commitment human rights migrants seeking economic opportunity political freedom internal challenge assure social adjustment immigrants children integrate society citizens future leaders people cross national borders migration flows likely evolve next decades explained report also presents ways countries manage migration reduce pressures force people migrate recommended receiving nations control immigration accelerating global economic growth reducing wars human rights violations report examines impact immigration international trade aid direct intervention policies although migration one important international economic issues coordinated international group european experience indicates easy secure international cooperation issues affect national sovereignty suggested countries desiring control borders remember people never cross national borders live work another country 50 worlds migrants move among developing countries countries shift emigration immigration countries author suggests sustained reductions migration pressure better alternative quick fixes may invite much feared mass unpredictable movements', '2010', '1996', 'journal article', '0', '-0.429', '2.8569999999999998', '0', '0', '0.3333333333333333', '0.3333333333333333', '1']\n"
     ]
    }
   ],
   "source": [
    "with open(f\"{TESTDATA_PATH_GGS_ST}/DL_data_search_result_sentence_citation461.csv\", newline='') as csvfile:\n",
    "    csvreader = csv.reader(csvfile, delimiter='\\t')\n",
    "    #header = next(csvreader)\n",
    "    n = 0\n",
    "    for row in csvreader:\n",
    "        n += 1\n",
    "        print(row)\n",
    "        #test_data.append(row)\n",
    "        if n >= 2: break"
   ]
  },
  {
   "cell_type": "code",
   "execution_count": 186,
   "metadata": {},
   "outputs": [
    {
     "name": "stdout",
     "output_type": "stream",
     "text": [
      "6335\n"
     ]
    }
   ],
   "source": [
    "sentences_test_ggs = {}\n",
    "n = 0\n",
    "with open(f\"{TESTDATA_PATH_GGS_ST}/DL_data_search_result_sentence_citation461.csv\", newline='') as csvfile:\n",
    "    csvreader = csv.reader(csvfile, delimiter='\\t')\n",
    "    header = next(csvreader)\n",
    "    for row in csvreader:\n",
    "        n += 1\n",
    "        if row[0] not in sentences_test_ggs:\n",
    "            sentences_test_ggs[row[0]] = {'pmids':[], 'retpmids':[], 'citations':[], 'ranks':[],\n",
    "                                          'retnum':0, 'intrain':0}\n",
    "        sentences_test_ggs[row[0]]['pmids'].append(row[1])\n",
    "        sentences_test_ggs[row[0]]['retpmids'].append(row[2])\n",
    "        sentences_test_ggs[row[0]]['citations'].append(row[3])\n",
    "        sentences_test_ggs[row[0]]['ranks'].append(row[-1])\n",
    "        sentences_test_ggs[row[0]]['retnum'] += 1\n",
    "        if row[0] in sentences_train or row[0] in sentences_valid:\n",
    "            sentences_test_ggs[row[0]]['intrain'] += 1\n",
    "print(n)"
   ]
  },
  {
   "cell_type": "code",
   "execution_count": 187,
   "metadata": {},
   "outputs": [
    {
     "data": {
      "text/plain": [
       "481"
      ]
     },
     "execution_count": 187,
     "metadata": {},
     "output_type": "execute_result"
    }
   ],
   "source": [
    "len(sentences_test_ggs)"
   ]
  },
  {
   "cell_type": "code",
   "execution_count": 188,
   "metadata": {},
   "outputs": [],
   "source": [
    "json.dump(sentences_test_ggs, open('sentences_test_ggs.json', 'w', encoding='utf-8'), indent=4)"
   ]
  },
  {
   "cell_type": "code",
   "execution_count": 113,
   "metadata": {},
   "outputs": [
    {
     "name": "stdout",
     "output_type": "stream",
     "text": [
      "0 481 138\n"
     ]
    }
   ],
   "source": [
    "g = 0\n",
    "l = 0\n",
    "f = 0\n",
    "for v in sentences_test_ggs.values():\n",
    "    if v['retnum'] > 1000:\n",
    "        g += 1\n",
    "    if v['retnum'] < 1000:\n",
    "        l += 1\n",
    "    if v['intrain'] > 0:\n",
    "        f += 1\n",
    "print(g, l, f)"
   ]
  },
  {
   "cell_type": "markdown",
   "metadata": {},
   "source": [
    "### Combine into an Overall Dataset\n",
    "\n",
    "**Full Sentences**"
   ]
  },
  {
   "cell_type": "markdown",
   "metadata": {},
   "source": [
    "- From Training Set"
   ]
  },
  {
   "cell_type": "code",
   "execution_count": 97,
   "metadata": {},
   "outputs": [
    {
     "name": "stdout",
     "output_type": "stream",
     "text": [
      "4035476\n"
     ]
    }
   ],
   "source": [
    "all_sentences_dataset = {}\n",
    "with open(f\"{TRAINDATA_PATH}/{TRAINDATA_ST}\", newline='') as csvfile:\n",
    "    csvreader = csv.reader(csvfile, delimiter='\\t')\n",
    "    header = next(csvreader)\n",
    "    n = 0\n",
    "    for row in csvreader:\n",
    "        n += 1\n",
    "        sent = f\"{row[0]}|{row[1]}\"\n",
    "        if sent not in all_sentences_dataset:\n",
    "            all_sentences_dataset[sent] = {'train':{'citations':[], 'labels':[]}}\n",
    "        all_sentences_dataset[sent]['train']['citations'].append(row[2])\n",
    "        all_sentences_dataset[sent]['train']['labels'].append(row[-1])\n",
    "print(n)"
   ]
  },
  {
   "cell_type": "code",
   "execution_count": 98,
   "metadata": {},
   "outputs": [
    {
     "data": {
      "text/plain": [
       "1904033"
      ]
     },
     "execution_count": 98,
     "metadata": {},
     "output_type": "execute_result"
    }
   ],
   "source": [
    "len(all_sentences_dataset)"
   ]
  },
  {
   "cell_type": "code",
   "execution_count": 101,
   "metadata": {},
   "outputs": [
    {
     "data": {
      "text/plain": [
       "('another study center cryptogenic cirrhosis autoimmune hepatitis related cirrhosis reported main indications liver transplantation children|24829669',\n",
       " {'train': {'citations': ['17430479', '10685237', '1319888'],\n",
       "   'labels': ['1', '0', '0']}})"
      ]
     },
     "execution_count": 101,
     "metadata": {},
     "output_type": "execute_result"
    }
   ],
   "source": [
    "list(all_sentences_dataset.keys())[0], all_sentences_dataset[list(all_sentences_dataset.keys())[0]]"
   ]
  },
  {
   "cell_type": "markdown",
   "metadata": {},
   "source": [
    "- From Validation Set"
   ]
  },
  {
   "cell_type": "code",
   "execution_count": 102,
   "metadata": {},
   "outputs": [
    {
     "name": "stdout",
     "output_type": "stream",
     "text": [
      "462978\n"
     ]
    }
   ],
   "source": [
    "with open(f\"{TRAINDATA_PATH}/{VALIDDATA_ST}\", newline='') as csvfile:\n",
    "    csvreader = csv.reader(csvfile, delimiter='\\t')\n",
    "    header = next(csvreader)\n",
    "    n = 0\n",
    "    for row in csvreader:\n",
    "        n += 1\n",
    "        sent = f\"{row[0]}|{row[1]}\"\n",
    "        if sent not in all_sentences_dataset:\n",
    "            all_sentences_dataset[sent] = {'valid':{'citations':[], 'labels':[]}}\n",
    "        all_sentences_dataset[sent]['valid'] = all_sentences_dataset[sent].get('valid', {'citations':[], 'labels':[]})\n",
    "        all_sentences_dataset[sent]['valid']['citations'].append(row[2])\n",
    "        all_sentences_dataset[sent]['valid']['labels'].append(row[-1])\n",
    "print(n)"
   ]
  },
  {
   "cell_type": "code",
   "execution_count": 103,
   "metadata": {},
   "outputs": [
    {
     "data": {
      "text/plain": [
       "2028333"
      ]
     },
     "execution_count": 103,
     "metadata": {},
     "output_type": "execute_result"
    }
   ],
   "source": [
    "len(all_sentences_dataset)"
   ]
  },
  {
   "cell_type": "markdown",
   "metadata": {},
   "source": [
    "- From Test SQL Dataset"
   ]
  },
  {
   "cell_type": "code",
   "execution_count": 104,
   "metadata": {},
   "outputs": [
    {
     "name": "stdout",
     "output_type": "stream",
     "text": [
      "102552085\n"
     ]
    }
   ],
   "source": [
    "n = 0\n",
    "for f in range(461, 561):\n",
    "    with open(f\"{TESTDATA_PATH_SQL_ST}/DL_data_search_result_sentence_citation{str(f)}.csv\", newline='') as csvfile:\n",
    "        csvreader = csv.reader(csvfile, delimiter='\\t')\n",
    "        header = next(csvreader)\n",
    "        for row in csvreader:\n",
    "            n += 1\n",
    "            sent = f\"{row[0]}|{row[1]}\"\n",
    "            if sent not in all_sentences_dataset:\n",
    "                all_sentences_dataset[sent] = {'test_sql':{'retpmids':[], 'citations':[], 'ranks':[]}}\n",
    "            all_sentences_dataset[sent]['test_sql'] = all_sentences_dataset[sent].get('test_sql',\n",
    "                                                                                      {'retpmids':[],\n",
    "                                                                                       'citations':[],\n",
    "                                                                                       'ranks':[]})\n",
    "            all_sentences_dataset[sent]['test_sql']['retpmids'].append(row[2])\n",
    "            all_sentences_dataset[sent]['test_sql']['citations'].append(row[3])\n",
    "            all_sentences_dataset[sent]['test_sql']['ranks'].append(row[-1])\n",
    "print(n)"
   ]
  },
  {
   "cell_type": "code",
   "execution_count": 105,
   "metadata": {},
   "outputs": [
    {
     "data": {
      "text/plain": [
       "2096637"
      ]
     },
     "execution_count": 105,
     "metadata": {},
     "output_type": "execute_result"
    }
   ],
   "source": [
    "len(all_sentences_dataset)"
   ]
  },
  {
   "cell_type": "markdown",
   "metadata": {},
   "source": [
    "- From Test PTF Dataset"
   ]
  },
  {
   "cell_type": "code",
   "execution_count": 106,
   "metadata": {},
   "outputs": [
    {
     "name": "stdout",
     "output_type": "stream",
     "text": [
      "100128069\n"
     ]
    }
   ],
   "source": [
    "n = 0\n",
    "for f in range(461, 561):\n",
    "    with open(f\"{TESTDATA_PATH_PTF_ST}/DL_data_search_result_sentence_citation{str(f)}.csv\", newline='') as csvfile:\n",
    "        csvreader = csv.reader(csvfile, delimiter='\\t')\n",
    "        header = next(csvreader)\n",
    "        for row in csvreader:\n",
    "            n += 1\n",
    "            sent = f\"{row[0]}|{row[1]}\"\n",
    "            if sent not in all_sentences_dataset:\n",
    "                all_sentences_dataset[sent] = {'test_ptf':{'retpmids':[], 'citations':[], 'ranks':[]}}\n",
    "            all_sentences_dataset[sent]['test_ptf'] = all_sentences_dataset[sent].get('test_ptf',\n",
    "                                                                                      {'retpmids':[],\n",
    "                                                                                       'citations':[],\n",
    "                                                                                       'ranks':[]})\n",
    "            all_sentences_dataset[sent]['test_ptf']['retpmids'].append(row[2])\n",
    "            all_sentences_dataset[sent]['test_ptf']['citations'].append(row[3])\n",
    "            all_sentences_dataset[sent]['test_ptf']['ranks'].append(row[-1])\n",
    "print(n)"
   ]
  },
  {
   "cell_type": "code",
   "execution_count": 107,
   "metadata": {},
   "outputs": [
    {
     "data": {
      "text/plain": [
       "2096637"
      ]
     },
     "execution_count": 107,
     "metadata": {},
     "output_type": "execute_result"
    }
   ],
   "source": [
    "len(all_sentences_dataset)"
   ]
  },
  {
   "cell_type": "markdown",
   "metadata": {},
   "source": [
    "- From Test PBM Dataset"
   ]
  },
  {
   "cell_type": "code",
   "execution_count": 108,
   "metadata": {},
   "outputs": [
    {
     "name": "stdout",
     "output_type": "stream",
     "text": [
      "759318\n"
     ]
    }
   ],
   "source": [
    "n = 0\n",
    "with open(f\"{TESTDATA_PATH_PBM_ST}/DL_data_search_result_sentence_citation461.csv\", newline='') as csvfile:\n",
    "    csvreader = csv.reader(csvfile, delimiter='\\t')\n",
    "    header = next(csvreader)\n",
    "    for row in csvreader:\n",
    "        n += 1\n",
    "        sent = f\"{row[0]}|{row[1]}\"\n",
    "        if sent not in all_sentences_dataset:\n",
    "            all_sentences_dataset[sent] = {'test_pbm':{'retpmids':[], 'citations':[], 'ranks':[]}}\n",
    "        all_sentences_dataset[sent]['test_pbm'] = all_sentences_dataset[sent].get('test_pbm',\n",
    "                                                                                  {'retpmids':[],\n",
    "                                                                                   'citations':[],\n",
    "                                                                                   'ranks':[]})\n",
    "        all_sentences_dataset[sent]['test_pbm']['retpmids'].append(row[2])\n",
    "        all_sentences_dataset[sent]['test_pbm']['citations'].append(row[3])\n",
    "        all_sentences_dataset[sent]['test_pbm']['ranks'].append(row[-1])\n",
    "print(n)"
   ]
  },
  {
   "cell_type": "code",
   "execution_count": 109,
   "metadata": {},
   "outputs": [
    {
     "data": {
      "text/plain": [
       "2096637"
      ]
     },
     "execution_count": 109,
     "metadata": {},
     "output_type": "execute_result"
    }
   ],
   "source": [
    "len(all_sentences_dataset)"
   ]
  },
  {
   "cell_type": "markdown",
   "metadata": {},
   "source": [
    "- From Test GGS Dataset"
   ]
  },
  {
   "cell_type": "code",
   "execution_count": 110,
   "metadata": {},
   "outputs": [
    {
     "name": "stdout",
     "output_type": "stream",
     "text": [
      "6335\n"
     ]
    }
   ],
   "source": [
    "n = 0\n",
    "with open(f\"{TESTDATA_PATH_GGS_ST}/DL_data_search_result_sentence_citation461.csv\", newline='') as csvfile:\n",
    "    csvreader = csv.reader(csvfile, delimiter='\\t')\n",
    "    header = next(csvreader)\n",
    "    for row in csvreader:\n",
    "        n += 1\n",
    "        sent = f\"{row[0]}|{row[1]}\"\n",
    "        if sent not in all_sentences_dataset:\n",
    "            all_sentences_dataset[sent] = {'test_ggs':{'retpmids':[], 'citations':[], 'ranks':[]}}\n",
    "        all_sentences_dataset[sent]['test_ggs'] = all_sentences_dataset[sent].get('test_ggs',\n",
    "                                                                                  {'retpmids':[],\n",
    "                                                                                   'citations':[],\n",
    "                                                                                   'ranks':[]})\n",
    "        all_sentences_dataset[sent]['test_ggs']['retpmids'].append(row[2])\n",
    "        all_sentences_dataset[sent]['test_ggs']['citations'].append(row[3])\n",
    "        all_sentences_dataset[sent]['test_ggs']['ranks'].append(row[-1])\n",
    "print(n)"
   ]
  },
  {
   "cell_type": "code",
   "execution_count": 111,
   "metadata": {},
   "outputs": [
    {
     "data": {
      "text/plain": [
       "2096640"
      ]
     },
     "execution_count": 111,
     "metadata": {},
     "output_type": "execute_result"
    }
   ],
   "source": [
    "len(all_sentences_dataset)"
   ]
  },
  {
   "cell_type": "code",
   "execution_count": 112,
   "metadata": {},
   "outputs": [],
   "source": [
    "json.dump(all_sentences_dataset, open('all_sentences_dataset.json', 'w', encoding='utf-8'), indent=4)"
   ]
  },
  {
   "cell_type": "code",
   "execution_count": 182,
   "metadata": {},
   "outputs": [],
   "source": [
    "train_sentences = {}\n",
    "n, m, q, r = 0, 0, 0, 0\n",
    "dataset = 'train'\n",
    "for k, v in all_sentences_dataset.items():\n",
    "    if dataset in v:\n",
    "        truecite = [v[dataset]['citations'][i] for i, l in enumerate(v[dataset]['labels']) if l == '1']\n",
    "        falsecite = [v[dataset]['citations'][i] for i, l in enumerate(v[dataset]['labels']) if l == '0']\n",
    "        if len(set(truecite)&set(falsecite)) == 0:\n",
    "            if len(set(truecite)) == 1:\n",
    "                n += 1\n",
    "                if len(set(truecite))*2 < len(falsecite):\n",
    "                    q += 1\n",
    "        if len(falsecite) > len(set(falsecite)):\n",
    "#         if len(truecite) > len(set(truecite)):\n",
    "#         if len(set(truecite)&set(falsecite)) > 0:\n",
    "            r += 1\n",
    "#             print (k, v[dataset])"
   ]
  },
  {
   "cell_type": "code",
   "execution_count": 183,
   "metadata": {},
   "outputs": [
    {
     "data": {
      "text/plain": [
       "(1824076, 0, 954, 3958)"
      ]
     },
     "execution_count": 183,
     "metadata": {},
     "output_type": "execute_result"
    }
   ],
   "source": [
    "n, m, q, r"
   ]
  },
  {
   "cell_type": "code",
   "execution_count": 201,
   "metadata": {},
   "outputs": [
    {
     "data": {
      "text/plain": [
       "{'train': {'citations': ['28338784'], 'labels': ['1']}}"
      ]
     },
     "execution_count": 201,
     "metadata": {},
     "output_type": "execute_result"
    }
   ],
   "source": [
    "all_sentences_dataset[list(all_sentences_dataset.keys())[1800000]]"
   ]
  },
  {
   "cell_type": "code",
   "execution_count": 186,
   "metadata": {},
   "outputs": [
    {
     "data": {
      "text/plain": [
       "(267556, 34378, 222, 300977)"
      ]
     },
     "execution_count": 186,
     "metadata": {},
     "output_type": "execute_result"
    }
   ],
   "source": [
    "n, m, q, r = 0, 0, 0, 0\n",
    "for k, v in all_sentences_dataset.items():\n",
    "    if len(k.split()) < 5:\n",
    "        r += 1\n",
    "        if 'train' in v:\n",
    "            n += 1\n",
    "        if 'valid' in v:\n",
    "            m += 1\n",
    "        if 'test_sql' in v:\n",
    "            q += 1\n",
    "n, m, q, r"
   ]
  },
  {
   "cell_type": "markdown",
   "metadata": {},
   "source": [
    "## New Datasets\n",
    "\n",
    "We will work on the sentence datasets only. After new datasets are created, use them on the original decomposed attention model and other deep learning models.\n",
    "\n",
    "### Split the Datasets\n",
    "\n",
    "- Split the overall dataset into training, validation and test datasets\n",
    "  - Keep all sentences in the original test set as test dataset\n",
    "  - Keep all sentences in the original validation set but not in the test dataset as validation dataset\n",
    "  - Keep all sentences in the original training set but not in the validation and test sets as training dataset\n",
    "\n",
    "- Training/validation datasets\n",
    "  - Retain one sample for each positive case\n",
    "  - Retain all negative samples\n",
    "\n",
    "- Test dataset\n",
    "  - Retain all samples"
   ]
  },
  {
   "cell_type": "code",
   "execution_count": 212,
   "metadata": {},
   "outputs": [],
   "source": [
    "train_sentences = {}\n",
    "valid_sentences = {}\n",
    "test_sentences_sql = {}\n",
    "test_sentences_ptf = {}\n",
    "n, m, q, r = 0, 0, 0, 0\n",
    "for k, v in all_sentences_dataset.items():\n",
    "    if 'test_ptf' in v:\n",
    "        n += 1\n",
    "        test_sentences_ptf[k] = v['test_ptf']\n",
    "        test_sentences_sql[k] = v['test_sql']\n",
    "    elif 'valid' in v:\n",
    "        m += 1\n",
    "        valid_sentences[k] = v['valid']\n",
    "    elif 'train' in v:\n",
    "        q += 1\n",
    "        train_sentences[k] = v['train']"
   ]
  },
  {
   "cell_type": "code",
   "execution_count": 213,
   "metadata": {},
   "outputs": [
    {
     "data": {
      "text/plain": [
       "(96950, 145451, 1854062, 0)"
      ]
     },
     "execution_count": 213,
     "metadata": {},
     "output_type": "execute_result"
    }
   ],
   "source": [
    "n, m, q, r"
   ]
  },
  {
   "cell_type": "markdown",
   "metadata": {},
   "source": [
    "- Training dataset"
   ]
  },
  {
   "cell_type": "code",
   "execution_count": 224,
   "metadata": {},
   "outputs": [],
   "source": [
    "json.dump(train_sentences, open('train_sentences.json', 'w', encoding='utf-8'), indent=4)"
   ]
  },
  {
   "cell_type": "code",
   "execution_count": 214,
   "metadata": {},
   "outputs": [
    {
     "data": {
      "text/plain": [
       "{'citations': ['25173015', '22673783', '17949137'], 'labels': ['1', '0', '0']}"
      ]
     },
     "execution_count": 214,
     "metadata": {},
     "output_type": "execute_result"
    }
   ],
   "source": [
    "train_sentences[list(train_sentences.keys())[1000]]"
   ]
  },
  {
   "cell_type": "code",
   "execution_count": 230,
   "metadata": {},
   "outputs": [],
   "source": [
    "n, m, p, q, r = 0, 0, 0, 0, 0\n",
    "for k, v in train_sentences.items():\n",
    "    truecite = [v['citations'][i] for i, l in enumerate(v['labels']) if l == '1']\n",
    "    falsecite = [v['citations'][i] for i, l in enumerate(v['labels']) if l == '0']\n",
    "    if len(truecite) == 0:\n",
    "        n += 1\n",
    "    if len(truecite) > 1:\n",
    "        m += 1\n",
    "        if len(truecite) > len(set(truecite)):\n",
    "            p += 1\n",
    "    if len(falsecite) > len(set(falsecite)):\n",
    "        q += 1\n",
    "    if len(set(truecite)&set(falsecite)) != 0:\n",
    "        r += 1"
   ]
  },
  {
   "cell_type": "code",
   "execution_count": 231,
   "metadata": {},
   "outputs": [
    {
     "data": {
      "text/plain": [
       "(11, 65339, 1017, 3095, 994)"
      ]
     },
     "execution_count": 231,
     "metadata": {},
     "output_type": "execute_result"
    }
   ],
   "source": [
    "n, m, p, q, r"
   ]
  },
  {
   "cell_type": "markdown",
   "metadata": {},
   "source": [
    "- Validation dataset"
   ]
  },
  {
   "cell_type": "code",
   "execution_count": 225,
   "metadata": {},
   "outputs": [],
   "source": [
    "json.dump(valid_sentences, open('valid_sentences.json', 'w', encoding='utf-8'), indent=4)"
   ]
  },
  {
   "cell_type": "code",
   "execution_count": 215,
   "metadata": {},
   "outputs": [
    {
     "data": {
      "text/plain": [
       "{'citations': ['15019480', '11142531', '18728730'], 'labels': ['1', '0', '0']}"
      ]
     },
     "execution_count": 215,
     "metadata": {},
     "output_type": "execute_result"
    }
   ],
   "source": [
    "valid_sentences[list(valid_sentences.keys())[1000]]"
   ]
  },
  {
   "cell_type": "code",
   "execution_count": 232,
   "metadata": {},
   "outputs": [],
   "source": [
    "n, m, p, q, r = 0, 0, 0, 0, 0\n",
    "for k, v in valid_sentences.items():\n",
    "    truecite = [v['citations'][i] for i, l in enumerate(v['labels']) if l == '1']\n",
    "    falsecite = [v['citations'][i] for i, l in enumerate(v['labels']) if l == '0']\n",
    "    if len(truecite) == 0:\n",
    "        n += 1\n",
    "    if len(truecite) > 1:\n",
    "        m += 1\n",
    "        if len(truecite) > len(set(truecite)):\n",
    "            p += 1\n",
    "    if len(falsecite) > len(set(falsecite)):\n",
    "        q += 1\n",
    "    if len(set(truecite)&set(falsecite)) != 0:\n",
    "        r += 1"
   ]
  },
  {
   "cell_type": "code",
   "execution_count": 233,
   "metadata": {},
   "outputs": [
    {
     "data": {
      "text/plain": [
       "(4, 2654, 48, 221, 38)"
      ]
     },
     "execution_count": 233,
     "metadata": {},
     "output_type": "execute_result"
    }
   ],
   "source": [
    "n, m, p, q, r"
   ]
  },
  {
   "cell_type": "markdown",
   "metadata": {},
   "source": [
    "- Test datasets"
   ]
  },
  {
   "cell_type": "code",
   "execution_count": 19,
   "metadata": {},
   "outputs": [],
   "source": [
    "test_sentences = set()\n",
    "for k in test_sentences_sql:\n",
    "    if k in test_sentences_ptf:\n",
    "        test_sentences.add(k)\n",
    "\n",
    "json.dump(list(test_sentences), open('test_sentences.json', 'w', encoding='utf-8'))"
   ]
  },
  {
   "cell_type": "code",
   "execution_count": 241,
   "metadata": {},
   "outputs": [
    {
     "data": {
      "text/plain": [
       "1000"
      ]
     },
     "execution_count": 241,
     "metadata": {},
     "output_type": "execute_result"
    }
   ],
   "source": [
    "len(test_sentences_sql[list(test_sentences_sql.keys())[1000]]['retpmids'])"
   ]
  },
  {
   "cell_type": "code",
   "execution_count": 238,
   "metadata": {},
   "outputs": [],
   "source": [
    "n, m, p, q, r = 0, 0, 0, 0, 0\n",
    "for k, v in test_sentences_ptf.items():\n",
    "    citations = set(v['citations'])\n",
    "    ranks = set(v['ranks'])\n",
    "    retpmids = v['retpmids']\n",
    "    if len(citations) > 1:\n",
    "        n += 1\n",
    "    if len(citations) != len(ranks):\n",
    "        m += 1\n",
    "    if len(retpmids) > len(set(retpmids)):\n",
    "        p += 1\n",
    "        if len(citations) > 1:\n",
    "            r += 1\n",
    "    for pmid in citations:\n",
    "        if not pmid in retpmids:\n",
    "            q += 1"
   ]
  },
  {
   "cell_type": "code",
   "execution_count": 239,
   "metadata": {},
   "outputs": [
    {
     "data": {
      "text/plain": [
       "(4670, 96948, 4672, 38105, 4669)"
      ]
     },
     "execution_count": 239,
     "metadata": {},
     "output_type": "execute_result"
    }
   ],
   "source": [
    "n, m, p, q, r"
   ]
  },
  {
   "cell_type": "markdown",
   "metadata": {},
   "source": [
    "\n",
    "## Develop Datasets\n",
    "\n",
    "**Original Dataset**\n",
    "\n",
    "- Training: TRAINDATA_ST = 'train_final_dataset_complete_shuffled.tsv'\n",
    "- Validation: VALIDDATA_ST = 'valid_final_dataset_complete.tsv'\n",
    "- Test: TESTDATA_PATH_SQL_ST = \"case_SQL_testing_final_complete\" / TESTDATA_PATH_PTF_ST = \"case_PubMed_testing_final_complete\"\n",
    "\n",
    "**New Datasets**\n",
    "\n",
    "- Dataset Dictionaries\n",
    "  - Training: 'train_sentences.json'\n",
    "  - Validation: 'valid_sentences.json'\n",
    "  - Test: 'test_sentences_sql.json' / 'test_sentences_ptf.json'\n",
    "- New datasets\n",
    "  - Training: 'train_sentences.tsv'\n",
    "  - Validation: 'valid_sentences.tsv'\n",
    "  - Test: 'test_sentences_sql.json' / 'test_sentences_ptf.json' / 'test_sentences_pbm.json' / TEST_ST_PATH = \"test_st\""
   ]
  },
  {
   "cell_type": "markdown",
   "metadata": {},
   "source": [
    "### New Training Dataset"
   ]
  },
  {
   "cell_type": "code",
   "execution_count": 4,
   "metadata": {},
   "outputs": [],
   "source": [
    "train_sentences = json.load(open('train_sentences.json'))"
   ]
  },
  {
   "cell_type": "code",
   "execution_count": 5,
   "metadata": {},
   "outputs": [
    {
     "data": {
      "text/plain": [
       "1854062"
      ]
     },
     "execution_count": 5,
     "metadata": {},
     "output_type": "execute_result"
    }
   ],
   "source": [
    "len(train_sentences)"
   ]
  },
  {
   "cell_type": "code",
   "execution_count": 12,
   "metadata": {},
   "outputs": [
    {
     "name": "stdout",
     "output_type": "stream",
     "text": [
      "asian population gender difference nonalcoholic fatty liver disease post menopausal ultrasonography|29093809 {'citations': ['29093809', '29093809'], 'labels': ['1', '1']}\n",
      "preliminary investigation deoxyoligonucleotide binding ribonuclease using mass spectrometry attempt develop lab experience undergraduates|29721314 {'citations': ['29721314', '29721314'], 'labels': ['1', '1']}\n",
      "scale up alcohol use disorder city harmful use alcohol heavy drinking implementation primary health care training support|29188013 {'citations': ['29188013', '29188013'], 'labels': ['1', '1']}\n",
      "phytophthora cinnamomi phytophthora genome plant pathogen|29188023 {'citations': ['29188023', '29188023'], 'labels': ['1', '1']}\n",
      "multi photon microscopy optical imaging photoacoustic imaging tomography optical coherence ultrasonography|25754364 {'citations': ['25754364', '25754364'], 'labels': ['1', '1']}\n",
      "borrelia burgdorferi lyme borreliosi chronic lyme disease sexual transmission spirochete|28690828 {'citations': ['28690828', '28690828'], 'labels': ['1', '1']}\n",
      "ebolavirus guideline hemorrhagic fever personal protective equipment preference value world health organization|29527297 {'citations': ['29527297', '29527297'], 'labels': ['1', '1']}\n",
      "app alzheimer s disease amyloid precursor protein j20 transgenic zbtb20 mouse model|29062914 {'citations': ['29062914', '29062914'], 'labels': ['1', '1']}\n",
      "bmal1 clock dna binding assay chromatin circadian clock phosphorylation|28928952 {'citations': ['28928952', '28928952'], 'labels': ['1', '1']}\n",
      "biochemical circuit hill equation aggregation robustness synthetic biology systems biology|29938108 {'citations': ['29938108', '29938108'], 'labels': ['1', '1']}\n",
      "bioinformatic cancer encode epigenomic genomic roadmap tcga non coding|28232861 {'citations': ['28232861', '28232861'], 'labels': ['1', '1']}\n",
      "co publication network collaborative network data visualization social network analysis|26949516 {'citations': ['26949516', '26949516'], 'labels': ['1', '1']}\n",
      "chmi volunteer infection study ethic developing country informed consent malarium risk|29806038 {'citations': ['29806038', '29806038'], 'labels': ['1', '1']}\n",
      "avm arteriovenous malformation grading management|27853504 {'citations': ['27853504', '27853504'], 'labels': ['1', '1']}\n",
      "h3n2 electronic biology influenza vaccine efficacy|29636902 {'citations': ['29636902', '29636902'], 'labels': ['1', '1']}\n",
      "bombus terrestri crithidia bombi foraging nicotine pathogen pollinator plant interaction pollinator secondary metabolite|25949807 {'citations': ['25949807', '25949807'], 'labels': ['1', '1']}\n",
      "computational genomic juglans nigra rna seq black walnut dehydrin extensin heartwood sapwood transition zone open reading frame proline rich protein senescence associated protein transcriptome|26870317 {'citations': ['26870317', '26870317'], 'labels': ['1', '1']}\n",
      "functional magnetic resonance imaging mixed effect model physiological response regression analysis statistical model|27610219 {'citations': ['27610219', '27610219'], 'labels': ['1', '1']}\n",
      "mmp 2 sdf 1 cxcr4 axis acute myocardial infarction preconditioning stem cell mobilization|28299177 {'citations': ['28299177', '28299177'], 'labels': ['1', '1']}\n",
      "cochlear implantation kidney transplantation|25013637 {'citations': ['25013637', '25013637'], 'labels': ['1', '1']}\n",
      "3806978 1936591 1870387 999980 20 0\n"
     ]
    }
   ],
   "source": [
    "n, t, f, m, r, p = 0, 0, 0, 0, 0, 0\n",
    "for k, v in train_sentences.items():\n",
    "    n += len(v['labels'])\n",
    "    pos = [i for i in v['labels'] if i == '1']\n",
    "    neg = [i for i in v['labels'] if i == '0']\n",
    "    t += len(pos)\n",
    "    f += len(neg)\n",
    "    if len(neg) == 0:\n",
    "        m += 1\n",
    "        if len(pos) > 1:\n",
    "            r += 1\n",
    "            print(k, v)\n",
    "        elif k.split('|')[1] != v['citations'][0]:\n",
    "            p += 1\n",
    "print(n, t, f, m, r, p)"
   ]
  },
  {
   "cell_type": "code",
   "execution_count": 13,
   "metadata": {},
   "outputs": [
    {
     "name": "stdout",
     "output_type": "stream",
     "text": [
      "['asian population gender difference nonalcoholic fatty liver disease post menopausal ultrasonography', '29093809', '29093809', 'gender differences prevalence nonalcoholic fatty liver disease northeast thailand population based cross sectional study', 'background nonalcoholic fatty liver disease nafld leading cause chronic liver disease large number studies strongly described larger proportions men afflicted nafld women however recent studies investigating role gender nafld exposed contrary methods cross sectional study utilized data baseline survey ongoing cohort study called cholangiocarcinoma screening care program cascap conducted northeastern region thailand march 2013 september 2015 information regarding socio demographic including gender collected using standardized self administered questionnaire nafld diagnosed ultrasonography board certified radiologists binomial regression used estimating prevalence differences odds ratios or 95 confidence intervals ci nafld men women results total 34 709 participants 27 073 females 7 636 males recruited prevalence nafld women 22 9 95 ci 22 5 23 5 whereas 18 3 95 ci 17 4 19 2 men adjusting age presence diabetes mellitus underlying diseases prevalence significantly higher women adjusted prevalence difference 4 2 95 ci 3 2 5 2 adjusted 1 3 95 ci 1 2 1 4 women higher prevalence nafld men age groups largest difference found aged 56 60 years prevalence 27 4 versus 21 2 adjusted prevalence difference 9 4 95 ci 7 9 10 9 adjusted 1 8 95 ci 1 8 2 0 conclusion nafld likely affect women men particular among population 56 60 years age post menopausal transitional period therefore post menopausal women target interventions investigation nafld', '2019', '2017', 'journal article', '2', '0.5660000000000001', '0.0', '0.0', '0.0', '0.6363636363636364', '0.9090909090909091', '1']\n",
      "['asian population gender difference nonalcoholic fatty liver disease post menopausal ultrasonography', '29093809', '29093809', 'gender differences prevalence nonalcoholic fatty liver disease northeast thailand population based cross sectional study', 'background nonalcoholic fatty liver disease nafld leading cause chronic liver disease large number studies strongly described larger proportions men afflicted nafld women however recent studies investigating role gender nafld exposed contrary methods cross sectional study utilized data baseline survey ongoing cohort study called cholangiocarcinoma screening care program cascap conducted northeastern region thailand march 2013 september 2015 information regarding socio demographic including gender collected using standardized self administered questionnaire nafld diagnosed ultrasonography board certified radiologists binomial regression used estimating prevalence differences odds ratios or 95 confidence intervals ci nafld men women results total 34 709 participants 27 073 females 7 636 males recruited prevalence nafld women 22 9 95 ci 22 5 23 5 whereas 18 3 95 ci 17 4 19 2 men adjusting age presence diabetes mellitus underlying diseases prevalence significantly higher women adjusted prevalence difference 4 2 95 ci 3 2 5 2 adjusted 1 3 95 ci 1 2 1 4 women higher prevalence nafld men age groups largest difference found aged 56 60 years prevalence 27 4 versus 21 2 adjusted prevalence difference 9 4 95 ci 7 9 10 9 adjusted 1 8 95 ci 1 8 2 0 conclusion nafld likely affect women men particular among population 56 60 years age post menopausal transitional period therefore post menopausal women target interventions investigation nafld', '2019', '2017', 'journal article', '2', '0.5660000000000001', '0.0', '0.0', '0.0', '0.6363636363636364', '0.9090909090909091', '1']\n",
      "['preliminary investigation deoxyoligonucleotide binding ribonuclease using mass spectrometry attempt develop lab experience undergraduates', '29721314', '29721314', 'preliminary investigation deoxyoligonucleotide binding ribonuclease using mass spectrometry attempt develop lab experience undergraduates', 'deoxyoligonucleotide binding bovine pancreatic ribonuclease rnase a investigated using electrospray ionization ion trap mass spectrometry esi it ms deoxyoligonucleotides included ccccc dc 5 ccacc dc 2ac 2 work attempt develop biochemistry lab experience would introduce undergraduates use mass spectrometry analysis protein ligand interactions titration experiments performed using fixed rnase concentration variable deoxyoligonucleotide concentrations samples equilibrium infused directly mass spectrometer native conditions deoxyoligonucleotide mass spectra showed one to one binding stoichiometry marked increases total ion abundance ligand bound rnase complexes function concentration accurate determination dc 5 dc 2ac 2 dissociation constants problematic', '2019', '2018', 'journal article', '0', '-0.646', '0.0', '0.0', '0.0', '1.0', '0.8461538461538461', '1']\n",
      "['scale up alcohol use disorder city harmful use alcohol heavy drinking implementation primary health care training support', '29188013', '29188013', 'scaling up primary health care based prevention management alcohol use disorder municipal level middle income countries latin america background pre protocol three country quasi experimental study', 'background primary health care phc based prevention management alcohol use disorder aud clinically effective cost effective remains poorly implemented routine practice systematic reviews multi country studies demonstrated ability training support programmes increase phc based screening brief advice activity reduce heavy drinking however gains modest short term best studies concluded effective uptake could achieved embedding phc activity within broader community municipal support protocol quasi experimental study compare phc based prevention management aud operationalized heavy drinking three intervention cities colombia mexico peru three comparator cities countries implementation cities primary health care units phcus receive training embedded within ongoing supportive municipal action 18 month implementation period comparator cities practice usual continue municipal phcu levels primary outcome proportion consulting adult patients intervened screened advice given screen positives study powered detect doubling outcome measure estimated 2 5 1 000 patients baseline formal evaluation points baseline mid point end point 18 month implementation period present ratio plus 95 confidence interval proportion patients receiving intervention implementation cities proportions comparator cities full process evaluation undertaken coupled analysis potential contextual financial political economy influencing factors discussion multi country study test extent embedding phc based prevention management alcohol use disorder supportive municipal action leads improved scale up patients heavy drinking receiving appropriate advice treatment', '2019', '2017', 'journal article', '2', '0.5660000000000001', '0.0', '0.0', '0.0', '0.5', '0.9375', '1']\n",
      "['phytophthora cinnamomi phytophthora genome plant pathogen', '29188023', '29188023', 'draft genomes two australian strains plant pathogen phytophthora cinnamomi', 'background oomycete plant pathogen phytophthora cinnamomi responsible destruction thousands species native australian plants well several crops avocado macadamia one widest host plant ranges phytophthora genus current reference genome p cinnamomi based atypical strain large gaps assembly studies pathogenicity species especially australia robust genome assemblies typical strains required report genome sequencing draft assembly preliminary annotation two geographically separated australian strains p cinnamomi findings 308 million raw reads generated two strains du054 wa94 26 independent genome assembly produced final genome sequences 62 8 mb in 14 268 scaffolds 68 1 mb in 10 084 scaffolds comparable size contiguity phytophthora genomes gene prediction yielded 22 000 predicted protein encoding genes within genome busco assessment showed 94 4 91 5 stramenopile single copy orthologs present assembled genomes respectively conclusions assembled genomes two geographically distant isolates phytophthora cinnamomi provide valuable resource comparative analyses evolutionary studies destructive pathogen annotation presented genomes may yield possible targets novel pathogen control methods', '2019', '2017', 'journal article', '1', '-0.43399999999999994', '0.0', '0.0', '0.0', '1.0', '1.0', '1']\n"
     ]
    },
    {
     "name": "stdout",
     "output_type": "stream",
     "text": [
      "['scale up alcohol use disorder city harmful use alcohol heavy drinking implementation primary health care training support', '29188013', '29188013', 'scaling up primary health care based prevention management heavy drinking municipal level middle income countries latin america background protocol three country quasi experimental study', 'background primary health care phc based prevention management heavy drinking clinically effective cost effective remains poorly implemented routine practice systematic reviews multi country studies demonstrated ability training support programmes increase phc based screening brief advice activity reduce heavy drinking however gains modest short term best studies concluded effective uptake could achieved embedding phc activity within broader community municipal support protocol quasi experimental study compare phc based prevention management heavy drinking three intervention cities colombia mexico peru three comparator cities countries implementation cities primary health care units phcus receive training embedded within ongoing supportive municipal action 18 month implementation period comparator cities practice usual continue municipal phcu levels primary outcome proportion consulting adult patients intervened screened advice given screen positives study powered detect doubling outcome measure estimated 2 5 1 000 patients baseline formal evaluation points baseline mid point end point 18 month implementation period present ratio plus 95 confidence interval proportion patients receiving intervention implementation cities proportions comparator cities full process evaluation undertaken coupled analysis potential contextual financial political economy influencing factors discussion multi country study test extent embedding phc based prevention management alcohol use disorder supportive municipal action leads improved scale up patients heavy drinking receiving appropriate advice treatment study status four year study start 1 st december 2017', '2019', '2017', 'journal article', '2', '0.5660000000000001', '0.0', '0.0', '0.0', '0.3125', '0.9375', '1']\n",
      "['multi photon microscopy optical imaging photoacoustic imaging tomography optical coherence ultrasonography', '25754364', '25754364', 'photoacoustic imaging platforms multimodal imaging', 'photoacoustic pa imaging hybrid biomedical imaging method exploits acoustical optical properties provide functional structural information therefore pa imaging complement imaging methods ultrasound imaging fluorescence imaging optical coherence tomography multi photon microscopy article reviews techniques integrate pa imaging methods describes applications', '2019', '2014', 'journal article|review', '8', '4.244', '0.0', '0.0', '0.0', '0.2727272727272727', '0.9090909090909091', '1']\n",
      "['borrelia burgdorferi lyme borreliosi chronic lyme disease sexual transmission spirochete', '28690828', '28690828', 'culture identification borrelia spirochetes human vaginal seminal secretions', 'background recent reports indicate 300 000 cases lyme disease diagnosed yearly usa preliminary clinical epidemiological immunological studies suggest infection lyme disease spirochete borrelia burgdorferi bb could transferred person person via intimate human contact without tick vector detecting viable borrelia spirochetes vaginal seminal secretions would provide evidence support hypothesis methods patients without history lyme disease selected study informed consent obtained serological testing bb performed subjects semen vaginal secretions inoculated bsk h medium cultured four weeks examination genital cultures culture concentrates presence spirochetes performed using light darkfield microscopy spirochete concentrates subjected dieterle silver staining anti bb immunohistochemical staining molecular hybridization pcr analysis characterization immunohistochemical molecular testing performed three independent laboratories blinded fashion positive negative controls included experiments results control subjects asymptomatic seronegative bb detectable spirochetes genital secretions pcr analysis contrast spirochetes observed cultures genital secretions 11 13 subjects diagnosed lyme disease motile spirochetes detected genital culture concentrates 12 13 lyme disease patients using light darkfield microscopy morphological features spirochetes confirmed dieterle silver staining immunohistochemical staining culture concentrates molecular hybridization pcr testing confirmed spirochetes isolated semen vaginal secretions strains borrelia cultures negative treponemal spirochetes pcr sequencing cultured spirochetes three couples unprotected sex indicated two couples identical strains bb sensu stricto semen vaginal secretions third couple identical strains b hermsii detected genital secretions conclusions culture viable borrelia spirochetes genital secretions suggests lyme disease could transmitted intimate contact person person', '2019', '2014', 'journal article', '1', '-2.756', '0.0', '0.0', '0.0', '0.2', '0.6', '1']\n",
      "['ebolavirus guideline hemorrhagic fever personal protective equipment preference value world health organization', '29527297', '29527297', 'incorporating health workers perspectives guideline personal protective equipment developed ebola virus disease outbreak', 'background ebola virus disease evd health facility transmission result infection death health workers world health organization who supports countries preparing responding public health emergencies often require developing new guidance short timelines scarce evidence objective study understand frontline physicians nurses perspectives personal protective equipment ppe use 2014 2016 evd outbreak west africa incorporate findings development process rapid advice guideline methods surveyed frontline physicians nurses deployed west africa march september 2014 results developed protocol obtained ethics approval delivered survey analysed data presented findings part evidence to decision tables expert panel meeting recommendations formulated within eight weeks forty four physicians nurses responded survey generally felt low extremely low risk virus transmission types ppe used eye protection reduced ability provide care mainly due impaired visibility fogging heat dehydration major issue 76 participants using goggles 64 using hood gowns coveralls associated significant heat stress dehydration participants 59 confident using ppe correctly conclusion study demonstrated possible incorporate primary data end users preferences rapid advice guideline public health emergency difficult field conditions health workers perceived balance transmission protection ability care patients effectively wearing ppe findings used guideline development expert panel formulate recommendations ppe frontline providers caring evd patients outbreak conditions', '2019', '2018', 'journal article', '2', '1.354', '0.0', '0.0', '0.0', '0.4166666666666667', '0.6666666666666666', '1']\n",
      "['app alzheimer s disease amyloid precursor protein j20 transgenic zbtb20 mouse model', '29062914', '29062914', 'integration site app transgene j20 mouse model alzheimers disease', 'background transgenic animal models widely used powerful tool investigate human disease develop therapeutic interventions making transgenic mouse involves random integration exogenous dna host genome effect disrupting endogenous gene expression j20 mouse model alzheimers disease ad transgenic overexpresser human app familial ad mutations extensively utilised preclinical studies aim determine genomic location j20 transgene insertion methods used combination breeding strategy targeted locus amplification deep sequencing identify insertion site j20 transgene array assess rna protein expression zbtb20 used qrt pcr western blotting results demonstrate j20 transgene construct inserted within genetic locus endogenous mouse gene zbtb20 chromosome 16 array disrupting expression mrna gene adult hippocampal tissue expression zbtb20 protein remains unchanged note endogenous mouse app gene also lies chromosome 16 although 42 mb zbtb20 locus conclusions data useful future studies utilising popular model ad particularly investigating gene interactions j20 app transgene genes present mmu16 mouse', '2019', '2017', 'journal article', '2', '0.5660000000000001', '0.0', '0.0', '0.0', '0.5454545454545454', '0.8181818181818182', '1']\n"
     ]
    },
    {
     "name": "stdout",
     "output_type": "stream",
     "text": [
      "['bmal1 clock dna binding assay chromatin circadian clock phosphorylation', '28928952', '28928952', 'simple method measure clock bmal1 dna binding activity tissue cell extracts', 'proteins clock bmal1 form heterodimeric transcription factor essential circadian rhythms mammals daily rhythms clock bmal1 dna binding activity known oscillate target gene expression vivo present highly sensitive assay recapitulates native clock bmal1 dna binding rhythms crude tissue extracts call clock protein dna binding assay cpdba method detect less 2 fold differences dna binding activity deliver results two hours less using 10 microliters less crude extract requiring neither specialized equipment expensive probes demonstrate sensitivity versatility assay show enzymatic removal phosphate groups proteins tissue extracts pharmacological inhibition casein kinase cell culture increased clock bmal1 dna binding activity 1 5 2 fold measured cpdba addition show cpdba measure clock bmal1 binding reconstituted chromatin cpdba sensitive fast efficient versatile probe clock function', '2019', '2017', 'journal article', '0', '-1.434', '0.0', '0.0', '0.0', '0.5555555555555556', '0.8888888888888888', '1']\n",
      "['biochemical circuit hill equation aggregation robustness synthetic biology systems biology', '29938108', '29938108', 'biochemical logarithmic sensor broad dynamic range', 'sensory perception often scales logarithmically input level similarly output response biochemical systems sometimes scales logarithmically input signal drives system biochemical systems achieve logarithmic sensing remains open puzzle article shows biochemical logarithmic sensor constructed basic principles chemical reactions assuming reactions follow classic michaelis menton kinetics mass action generalized commonly observed hill equation response summed output several simple reactions different sensitivities input often give aggregate output response logarithmically transforms input logarithmic response robust stochastic fluctuations parameter values model emphasizes simplicity robustness aggregate chemical circuits composed sloppy components achieve precise response characteristics natural synthetic designs gain power aggregate approach', '2019', '2018', 'journal article', '0', '-0.646', '0.0', '0.0', '0.0', '0.1', '0.7', '1']\n",
      "['bioinformatic cancer encode epigenomic genomic roadmap tcga non coding', '28232861', '28232861', 'tcga workflow analyze cancer genomics epigenomics data using bioconductor packages', 'biotechnological advances sequencing led explosion publicly available data via large international consortia cancer genome atlas tcga encyclopedia dna elements encode nih roadmap epigenomics mapping consortium roadmap projects provided unprecedented opportunities interrogate epigenome cultured cancer cell lines well normal tumor tissues high genomic resolution bioconductor project offers 1 000 open source software statistical packages analyze high throughput genomic data however packages designed specific data types eg expression epigenetics genomics one comprehensive tool provides complete integrative analysis resources data provided three public projects need create integration different analyses recently proposed workflow provide series biologically focused integrative analyses different molecular data describe download process prepare tcga data harnessing several key bioconductor packages describe extract biologically meaningful genomic epigenomic data using roadmap encode data provide work plan identify biologically relevant functional epigenomic elements associated cancer illustrate workflow analyzed two types brain tumors low grade glioma lgg versus high grade glioma glioblastoma multiform gbm workflow introduces following bioconductor packages annotationhub chipseeker complexheatmap pathview elmer gaia minet rtcgatoolbox tcgabiolinks', '2019', '2016', 'journal article', '10', '7.802', '0.0', '0.0', '0.0', '0.4444444444444444', '0.6666666666666666', '1']\n",
      "['co publication network collaborative network data visualization social network analysis', '26949516', '26949516', 'social network cytoscape app visualizing co authorship networks', 'networks represent connections individuals valuable analytic tools social network cytoscape app capable creating visual summary connected individuals automatically representing relationships networks node denotes individual edge linking two individuals represents connection app focuses creating visual summaries individuals connected co authorship links academia created bibliographic databases like pubmed scopus incites resulting co authorship networks visualized analyzed better understand collaborative research networks communicate extent collaboration publication productivity among group researchers like grant application departmental review report also useful research tool identify important research topics researchers papers subject area', '2019', '2015', 'journal article', '2', '-1.0419999999999998', '0.0', '0.0', '0.0', '0.5', '0.7', '1']\n",
      "['co publication network collaborative network data visualization social network analysis', '26949516', '26949516', 'social network cytoscape app visualizing co publication networks', 'networks represent connections individuals valuable analytic tools social network cytoscape app capable creating visual summary connected individuals automatically representing relationships networks node denotes individual edge linking two individuals represents connection app focuses creating visual summaries individuals connected co publication links academia created bibliographic databases like pubmed scopus incites resulting co publication networks visualized analyzed better understand collaborative research networks communicate extent collaboration publication productivity among group researchers like grant application departmental review report also useful research tool identify important research topics researchers papers subject area', '2019', '2015', 'journal article', '2', '-1.0419999999999998', '0.0', '0.0', '0.0', '0.6', '0.7', '1']\n",
      "['app alzheimer s disease amyloid precursor protein j20 transgenic zbtb20 mouse model', '29062914', '29062914', 'integration site app transgene j20 mouse model alzheimers disease', 'background transgenic animal models widely used powerful tool investigate human disease develop therapeutic interventions making transgenic mouse involves random integration exogenous dna host genome effect disrupting endogenous gene expression j20 mouse model alzheimers disease ad transgenic overexpresser human app familial ad mutations extensively utilised preclinical studies aim determine genomic location j20 transgene insertion methods used combination breeding strategy targeted locus amplification deep sequencing identify insertion site j20 transgene array assess rna protein expression zbtb20 used qrt pcr western blotting results demonstrate j20 transgene construct inserted within genetic locus endogenous mouse gene zbtb20 chromosome 16 array disrupting expression mrna gene adult hippocampal tissue preliminary data suggests zbtb20 protein levels remain unchanged tissue however study necessary note endogenous mouse app gene also lies chromosome 16 although 42 mb zbtb20 locus conclusions data useful future studies utilising popular model ad particularly investigating gene interactions j20 app transgene genes present mmu16 mouse', '2019', '2017', 'journal article', '2', '0.5660000000000001', '0.0', '0.0', '0.0', '0.5454545454545454', '0.8181818181818182', '1']\n",
      "['chmi volunteer infection study ethic developing country informed consent malarium risk', '29806038', '29806038', 'ethical considerations controlled human malaria infection studies low resource settings experiences perceptions study participants malaria challenge study kenya', 'background range amount volunteer infection studies known controlled human infection model chmi studies low middle income countries lmics increasing rapid technological advancement world class laboratory facilities increasing capacity development initiatives however ethical issues studies present lmics empirically studied present findings descriptive social science study nested within malaria volunteer infection study on going time writing kemri wellcome trust research programme kwtrp kenyan coast methods study included non participant observations five group discussions half chmi study participants two in depth interviews study team members exit questionnaire administered participants results participants understood key elements study including would deliberately infected malaria parasites may get malaria result would regular blood draws would spend 24 days residence facility away homes greatest motivation participation monetary compensation 20 usd per overnight stay given lump sum end residency stay also appreciated health screening tests prior enrolment positive relations study team concerns raised included amount regularity blood draws experienced concerns type research may feed on going rumours research generally conclusion increasing range number chmi studies conducted lmics current ethical guidance minimal risk studies inadequate study highlights ethical issues could emerge settings emphasizing heavy responsibility placed research review regulatory systems researchers funders well importance carefully tailored community engagement consent processes', '2019', '2018', 'journal article', '2', '1.354', '0.0', '0.0', '0.0', '0.2727272727272727', '0.7272727272727273', '1']\n"
     ]
    },
    {
     "name": "stdout",
     "output_type": "stream",
     "text": [
      "['preliminary investigation deoxyoligonucleotide binding ribonuclease using mass spectrometry attempt develop lab experience undergraduates', '29721314', '29721314', 'preliminary investigation deoxyoligonucleotide binding ribonuclease using mass spectrometry attempt develop lab experience undergraduates', 'deoxyoligonucleotide binding bovine pancreatic ribonuclease rnase a investigated using electrospray ionization ion trap mass spectrometry esi it ms deoxyoligonucleotides included ccccc dc 5 ccacc dc 2ac 2 work attempt develop biochemistry lab experience would introduce undergraduates use mass spectrometry analysis protein ligand interactions titration experiments performed using fixed rnase concentration variable deoxyoligonucleotide concentrations samples equilibrium infused directly mass spectrometer native conditions deoxyoligonucleotide mass spectra showed one to one binding stoichiometry marked increases total ion abundance ligand bound rnase complexes function concentration accurate determination dc 5 dc 2ac 2 dissociation constants problematic', '2019', '2018', 'journal article', '0', '-0.646', '0.0', '0.0', '0.0', '1.0', '0.8461538461538461', '1']\n",
      "['chmi volunteer infection study ethic developing country informed consent malarium risk', '29806038', '29806038', 'ethical considerations controlled human malaria infection studies low resource settings experiences perceptions study participants malaria challenge study kenya', 'background range amount volunteer infection studies known controlled human infection model chmi studies low middle income countries lmics increasing rapid technological advancement world class laboratory facilities increasing capacity development initiatives however ethical issues studies present lmics empirically studied present findings descriptive social science study nested within malaria volunteer infection study on going time writing kemri wellcome trust research programme kwtrp kenyan coast methods study included non participant observations five group discussions half chmi study participants two in depth interviews study team members exit questionnaire administered participants results participants understood key elements study including would deliberately infected malaria parasites may get malaria result would regular blood draws would spend 24 days residence facility away homes greatest motivation participation monetary compensation 20 usd per overnight stay given lump sum end residency stay also appreciated health screening tests prior enrolment positive relations study team concerns raised included amount regularity blood draws experienced concerns type research may feed on going rumours research generally conclusion increasing range number chmi studies conducted lmics current ethical guidance inadequate study highlights ethical issues could emerge settings emphasizing heavy responsibility placed research review regulatory systems researchers funders well importance carefully tailored community engagement consent processes', '2019', '2018', 'journal article', '2', '1.354', '0.0', '0.0', '0.0', '0.2727272727272727', '0.6363636363636364', '1']\n",
      "['avm arteriovenous malformation grading management', '27853504', '27853504', 'case report microsurgical excision grade 5 cerebral avm', 'case report discuss microsurgical management spetzler martin grade 5 arteriovenous malformation avm young boy presented hemorrhagic episode high calculated risk rebleeding also outline rationale choosing management option', '2019', '2015', 'journal article', '0', '-3.042', '0.0', '0.0', '0.0', '0.2', '0.8', '1']\n",
      "['h3n2 electronic biology influenza vaccine efficacy', '29636902', '29636902', 'using electronic biology based platform predict flu vaccine efficacy 2018 2019', 'flu epidemics potential pandemics pose great challenges public health institutions scientists vaccine producers creating right vaccine composition different parts world trivial historically problematic often resulted decrease vaccinations reduced trust public health officials improve future protection population flu urgently need new methods vaccine efficacy prediction vaccine virus selection', '2019', '2018', 'journal article', '0', '-0.646', '0.0', '0.0', '0.0', '0.6666666666666666', '0.3333333333333333', '1']\n",
      "['bombus terrestri crithidia bombi foraging nicotine pathogen pollinator plant interaction pollinator secondary metabolite', '25949807', '25949807', 'behavioural evidence self medication bumblebees', 'presence antimicrobial secondary metabolites nectar suggests pollinators threatened globally emergent disease may benefit consumption nectars rich metabolites tested whether nicotine nectar secondary metabolite common solanaceae tilia species used parasitized bumblebees source self medication using series toxicological microbiological behavioural experiments caged bees infected crithidia bombi slight preference sucrose solution laced alkaloid behavioural tests showed parasite infection induced increased consumption nicotine foraging activity though nicotine appetite reducing effect overall ingested nicotine delayed progression gut infection bumblebees days dietary nicotine clear infection 10 days parasite load approached control bees moreover pathogens exposed alkaloid prior host ingestion protozoans viability directly affected suggesting anti parasite effects relatively weak nicotine consumption single dose impose cost even starved bees alkaloid detrimental effects healthy bees consistently consumed weeks toxic effects disappeared infected bees suggesting detoxification costs might counterbalanced advantages slowing progression infection nicotine consumption affect bee lifespan reduction parasite load may likely unexplored subtle benefits individual bees colony potential evidence self medication discussed contention secondary metabolites nectar may selection pollinators used plants enhance reproductive success remains confirmed', '2019', '2015', 'journal article', '7', '3.958', '0.0', '0.0', '0.0', '0.0', '0.7692307692307693', '1']\n",
      "['computational genomic juglans nigra rna seq black walnut dehydrin extensin heartwood sapwood transition zone open reading frame proline rich protein senescence associated protein transcriptome', '26870317', '26870317', 'yeats tool suite analyzing rna seq derived transcriptome identifies highly transcribed putative extensin heartwood sapwood transition zone black walnut', 'transcriptome provides functional footprint genome enumerating molecular components cells tissues field transcript discovery revolutionized high throughput mrna sequencing rna seq here present methodology replicates improves existing methodologies implements workflow error estimation correction followed genome annotation transcript abundance estimation rna seq derived transcriptome sequences yeats yet another tool suite analyzing rna seq derived transcriptome unique feature yeats upfront determination errors sequencing transcript assembly process analyzing open reading frames transcripts yeats identifies transcripts merged result broken open reading frames contain long repeats erroneous transcripts present yeats workflow using representative sample transcriptome tissue heartwood sapwood transition zone black walnut novel feature transcriptome emerged analysis identification highly abundant transcript known homologous genes genbank accession kt023102 amino acid composition longest open reading frame gene classifies putative extensin also corroborated transcriptional abundance proline rich proteins dehydrins senescence associated proteins dnaj family chaperone proteins thus yeats presents workflow analyzing rna seq data several innovative features differentiate existing software', '2019', '2015', 'journal article', '1', '-2.042', '0.0', '0.0', '0.0', '0.4166666666666667', '0.8333333333333334', '1']\n",
      "['borrelia burgdorferi lyme borreliosi chronic lyme disease sexual transmission spirochete', '28690828', '28690828', 'culture identification borrelia spirochetes human vaginal seminal secretions', 'background recent reports indicate 300 000 cases lyme disease diagnosed yearly usa preliminary clinical epidemiological immunological studies suggest infection lyme disease spirochete borrelia burgdorferi bb could transferred person person via intimate human contact without tick vector detecting viable borrelia spirochetes vaginal seminal secretions would provide evidence support hypothesis methods patients without history lyme disease selected study informed consent obtained serological testing bb performed subjects semen vaginal secretions inoculated bsk h medium cultured four weeks examination genital cultures culture concentrates presence spirochetes performed using light darkfield microscopy spirochete concentrates subjected dieterle silver staining anti bb immunohistochemical staining molecular hybridization pcr analysis characterization immunohistochemical molecular testing performed three independent laboratories positive negative controls included experiments results control subjects asymptomatic seronegative bb detectable spirochetes genital secretions pcr analysis contrast spirochetes observed cultures genital secretions 11 13 subjects diagnosed lyme disease motile spirochetes detected genital culture concentrates 12 13 lyme disease patients using light darkfield microscopy morphological features spirochetes confirmed dieterle silver staining immunohistochemical staining culture concentrates molecular hybridization pcr testing confirmed spirochetes isolated semen vaginal secretions strains borrelia cultures negative treponemal spirochetes pcr sequencing cultured spirochetes three couples unprotected sex indicated two couples identical strains bb sensu stricto semen vaginal secretions third couple identical strains b hermsii detected genital secretions conclusions culture viable borrelia spirochetes genital secretions suggests lyme disease could transmitted intimate contact person person', '2019', '2014', 'journal article', '1', '-2.756', '0.0', '0.0', '0.0', '0.2', '0.6', '1']\n"
     ]
    },
    {
     "name": "stdout",
     "output_type": "stream",
     "text": [
      "['phytophthora cinnamomi phytophthora genome plant pathogen', '29188023', '29188023', 'draft genomes two australian strains plant pathogen phytophthora cinnamomi', 'background oomycete plant pathogen phytophthora cinnamomi responsible destruction thousands species native australian plants well several crops avocado macadamia one widest host plant ranges phytophthora genus currently available genome p cinnamomi based atypical strain large gaps assembly studies pathogenicity species especially australia robust assemblies genomes typical strains required report genome sequencing draft assembly preliminary annotation two geographically separated australian strains p cinnamomi findings 308 million raw reads generated two strains independent genome assembly produced final genomes 62 8 mb in 14 268 scaffolds 68 1 mb in 10 084 scaffolds comparable size contiguity phytophthora genomes gene prediction yielded 22 000 predicted protein encoding genes within genome busco assessment showed 82 5 81 8 eukaryote universal single copy orthologs present assembled genomes respectively conclusions assembled genomes two geographically distant isolates phytophthora cinnamomi provide valuable resource comparative analysis evolutionary studies destructive pathogen annotation presented genomes may yield possible targets novel pathogen control methods', '2019', '2017', 'journal article', '1', '-0.43399999999999994', '0.0', '0.0', '0.0', '1.0', '1.0', '1']\n",
      "['computational genomic juglans nigra rna seq black walnut dehydrin extensin heartwood sapwood transition zone open reading frame proline rich protein senescence associated protein transcriptome', '26870317', '26870317', 'yeats tool suite analyzing rna seq derived transcriptome identifies highly transcribed putative extensin heartwood sapwood transition zone black walnut', 'transcriptome provides functional footprint genome enumerating molecular components cells tissues field transcript discovery revolutionized high throughput mrna sequencing rna seq here present methodology replicates improves existing methodologies implements workflow error estimation correction followed genome annotation transcript abundance estimation rna seq derived transcriptome sequences yeats yet another tool suite analyzing rna seq derived transcriptome unique feature yeats upfront determination errors sequencing transcript assembly process analyzing open reading frames transcripts yeats identifies transcripts merged result broken open reading frames contain long repeats erroneous transcripts present yeats workflow using representative sample transcriptome tissue heartwood sapwood transition zone black walnut novel feature transcriptome emerged analysis identification highly abundant transcript known homologous genes genbank accession kt023102 amino acid composition longest open reading frame gene classifies putative extensin also corroborated transcriptional abundance proline rich proteins dehydrins senescence associated proteins dnaj family chaperone proteins thus yeats presents workflow analyzing rna seq data several innovative features differentiate existing software', '2019', '2015', 'journal article', '1', '-2.042', '0.0', '0.0', '0.0', '0.4166666666666667', '0.8333333333333334', '1']\n",
      "['functional magnetic resonance imaging mixed effect model physiological response regression analysis statistical model', '27610219', '27610219', 'detecting variable responses time series using repeated measures anova application physiologic challenges', 'present approach analyzing physiologic timetrends recorded stimulus comparing means time point using repeated measures analysis variance rmanova approach allows temporal patterns examined without priori model expected timing pattern response approach originally applied signals recorded functional magnetic resonance imaging fmri volumes of interest voi physiologic challenge used technique analyze continuous recordings physiological signals heart rate breathing rate pulse oximetry fmri method serves complement whole brain voxel based analyses useful detecting complex responses within pre determined brain regions post hoc analysis regions interest identified whole brain assessments illustrate implementation technique statistical software packages r sas voi timetrends extracted conventionally preprocessed fmri images timetrend average signal intensity across voi scanning period calculated subject values scaled relative baseline periods time points binned sas procedure proc mixed implements rmanova single step r present one option implementing rmanova mixed model function lme model diagnostics predicted means differences best performed additional libraries commands r present one example ensuing results allow determination significant overall effects time point specific within between group responses relative baseline illustrate technique using fmri data two groups subjects underwent respiratory challenge rmanova allows insight timing responses response differences groups suited physiologic testing paradigms eliciting complex response patterns', '2019', '2016', 'journal article', '1', '-1.198', '0.0', '0.0', '0.0', '0.07692307692307693', '0.9230769230769231', '1']\n",
      "['functional magnetic resonance imaging mixed effect model physiological response regression analysis statistical model', '27610219', '27610219', 'detecting variable responses within fmri time series volumes of interest using repeated measures anova', 'present approach analyzing fmri timetrends volumes of interest voi within subject groups using repeated measures analysis variance rmanova allows temporal patterns examined without priori model expected timing pattern response method serves complement whole brain voxel based analyses useful detecting complex responses within pre determined brain regions post hoc analysis regions interest identified whole brain assessments illustrate implementation technique statistical software package sas voi timetrends extracted conventionally preprocessed fmri images timetrend average signal intensity across voi scanning period calculated subject values scaled relative baseline periods imported sas procedure proc mixed implements rmanova ensuing results allow determination significant overall effects time point specific within between group responses relative baseline illustrate technique using fmri data two groups subjects underwent respiratory challenge rmanova allows insight timing responses response differences groups suited fmri paradigms eliciting complex response patterns', '2019', '2016', 'journal article', '1', '-1.198', '0.0', '0.0', '0.0', '0.07692307692307693', '0.5384615384615384', '1']\n",
      "['ebolavirus guideline hemorrhagic fever personal protective equipment preference value world health organization', '29527297', '29527297', 'incorporating health workers perspectives guideline personal protective equipment developed ebola virus disease outbreak', 'background ebola virus disease evd health facility transmission result infection death health workers world health organization who supports countries preparing responding public health emergencies often require developing new guidance short timelines scarce evidence objective study understand frontline physicians nurses perspectives personal protective equipment ppe use 2014 2016 evd outbreak west africa incorporate findings development process rapid advice guideline methods surveyed frontline physicians nurses deployed west africa march september 2014 results developed protocol obtained ethics approval delivered survey analysed data presented findings part evidence to decision tables expert panel meeting recommendations formulated within eight weeks forty four physicians nurses responded survey generally felt low extremely low risk virus transmission types ppe used eye protection reduced ability provide care mainly due impaired visibility fogging heat dehydration major issue 76 participants using goggles 64 using hood gowns coveralls associated significant heat stress dehydration participants 59 confident using ppe correctly conclusion study demonstrated possible incorporate primary data end users preferences rapid advice guideline public health emergency difficult field conditions health workers perceived balance transmission protection ability care patients effectively wearing ppe findings used guideline development expert panel formulate recommendations ppe frontline providers caring evd patients outbreak conditions', '2019', '2018', 'journal article', '2', '1.354', '0.0', '0.0', '0.0', '0.4166666666666667', '0.6666666666666666', '1']\n"
     ]
    },
    {
     "name": "stdout",
     "output_type": "stream",
     "text": [
      "['h3n2 electronic biology influenza vaccine efficacy', '29636902', '29636902', 'using electronic biology based platform predict flu vaccine efficacy 2018 2019', 'flu epidemics potential pandemics pose great challenges public health institutions scientists vaccine producers creating right vaccine composition different parts world trivial historically problematic often resulted decrease vaccinations reduced trust public health officials improve future protection population flu urgently need new methods vaccine efficacy prediction vaccine virus selection', '2019', '2018', 'journal article', '0', '-0.646', '0.0', '0.0', '0.0', '0.6666666666666666', '0.3333333333333333', '1']\n",
      "['biochemical circuit hill equation aggregation robustness synthetic biology systems biology', '29938108', '29938108', 'biochemical logarithmic sensor broad dynamic range', 'sensory perception often scales logarithmically input level similarly output response biochemical systems sometimes scales logarithmically input signal drives system biochemical systems achieve logarithmic sensing remains open puzzle article shows biochemical logarithmic sensor constructed basic principles chemical reactions assuming reactions follow classic michaelis menten kinetics mass action generalized commonly observed hill equation response summed output several simple reactions different sensitivities input often give aggregate output response logarithmically transforms input logarithmic response robust stochastic fluctuations parameter values model emphasizes simplicity robustness aggregate chemical circuits composed sloppy components achieve precise response characteristics natural synthetic designs gain power aggregate approach', '2019', '2018', 'journal article', '0', '-0.646', '0.0', '0.0', '0.0', '0.1', '0.7', '1']\n",
      "['bmal1 clock dna binding assay chromatin circadian clock phosphorylation', '28928952', '28928952', 'simple method measure clock bmal1 dna binding activity tissue cell extracts', 'proteins clock bmal1 form heterodimeric transcription factor essential circadian rhythms mammals daily rhythms clock bmal1 dna binding activity known oscillate target gene expression vivo present highly sensitive assay recapitulates native clock bmal1 dna binding rhythms crude tissue extracts call clock protein dna binding assay cpdba method detect less 2 fold differences dna binding activity deliver results two hours less using 10 microliters 10 micrograms less crude extract requiring neither specialized equipment expensive probes demonstrate sensitivity versatility assay show enzymatic removal phosphate groups proteins tissue extracts pharmacological inhibition casein kinase cell culture increased clock bmal1 dna binding activity 1 5 2 fold measured cpdba addition show cpdba measure clock bmal1 binding reconstituted chromatin cpdba sensitive fast efficient versatile probe clock function', '2019', '2017', 'journal article', '0', '-1.434', '0.0', '0.0', '0.0', '0.5555555555555556', '0.8888888888888888', '1']\n",
      "['mmp 2 sdf 1 cxcr4 axis acute myocardial infarction preconditioning stem cell mobilization', '28299177', '28299177', 'inhibition cd34 cell migration matrix metalloproteinase 2 acute myocardial ischemia counteracted ischemic preconditioning', 'background mobilization bone marrow origin cd34 cells investigated 3 days 3d acute myocardial infarction ami with without ischemic preconditioning ip relation stromal derived factor 1 sdf 1alpha chemokine receptor type 4 cxcr4 axis search possible mechanisms behind insufficient cardiac repair first days post ami methods closed chest reperfused ami performed percutaneous balloon occlusion mid left anterior descending lad coronary artery 90min followed reperfusion pigs animals randomized receive either ip initiated 3x5min cycles re occlusion re flow prior ami n 6 control ami n 12 blood samples collected baseline 3d post ami 1 month follow up analyse chemokines mobilized cd34 cells investigate effect acute hypoxia sdf 1alpha matrix metalloproteinase mmp 2 vitro assessed migration assay cd34 cells toward cardiomyocytes performed results reperfused ami induced significant mobilisation cd34 cells baseline 260 75 vs 3d 668 180 p 0 001 secretion mmp 2 baseline 291 83 53 40 vs 3d 369 64 72 89 p 0 011 plasma without affecting sdf 1alpha concentration ip led inhibition mmp 2 ip 165 67 47 99 vs ami 369 64 72 89 p 0 004 3d post ami accompanied increased release sdf 1alpha baseline 23 80 12 36 vs 3d 45 29 11 31 p 0 05 cxcr4 baseline 0 59 0 16 vs 3d 2 06 1 42 p 0 034 parallel higher level mobilisation cd34 cells ip 881 126 vs ami 668 180 p 0 026 compared non conditioned ami vitro cd34 cell migration toward cardiomyocytes enhanced sdf 1alpha completely abolished 90min hypoxia co incubation mmp 2 conclusions non conditioned ami induces mmp 2 release hampering ischemia induced increase sdf 1alpha cxcr4 cleaving sdf 1alpha cxcr4 axis diminished mobilization angiogenic cd34 cells ip enforces cd34 cell mobilization via inhibition mmp 2', '2019', '2017', 'journal article', '1', '-0.43399999999999994', '0.0', '0.0', '0.0', '0.36363636363636365', '0.9090909090909091', '1']\n",
      "['bombus terrestri crithidia bombi foraging nicotine pathogen pollinator plant interaction pollinator secondary metabolite', '25949807', '25949807', 'behavioural evidence self medication bumblebees', 'presence antimicrobial secondary metabolites nectar suggests pollinators threatened globally emergent disease may benefit consumption nectars rich metabolites tested whether nicotine nectar secondary metabolite common solanaceae tilia species used parasitized bumblebees source self medication using series toxicological microbiological behavioural experiments caged bees infected crithidia bombi slight preference sucrose solution laced alkaloid behavioural tests showed parasite infection induced increased consumption nicotine foraging activity though nicotine appetite reducing effect overall ingested nicotine delayed progression gut infection bumblebees days dietary nicotine clear infection 10 days parasite load approached control bees moreover pathogens exposed alkaloid prior host ingestion protozoans viability directly affected suggesting anti parasite effects relatively weak nicotine consumption single dose impose cost even starved bees alkaloid detrimental effects healthy bees consistently consumed weeks toxic effects disappeared infected bees suggesting detoxification costs might counterbalanced advantages slowing progression infection nicotine consumption affect bee lifespan reduction parasite load may likely unexplored subtle benefits individual bees colony potential evidence self medication discussed contention secondary metabolites nectar may selection pollinators used plants enhance reproductive success remains confirmed', '2019', '2015', 'journal article', '7', '3.958', '0.0', '0.0', '0.0', '0.0', '0.7692307692307693', '1']\n",
      "['multi photon microscopy optical imaging photoacoustic imaging tomography optical coherence ultrasonography', '25754364', '25754364', 'photoacoustic imaging platforms multimodal imaging', 'photoacoustic pa imaging hybrid biomedical imaging method exploits acoustical epub ahead print optical properties provide functional structural information therefore pa imaging complement imaging methods ultrasound imaging fluorescence imaging optical coherence tomography multi photon microscopy article reviews techniques integrate pa imaging methods describes applications', '2019', '2014', 'journal article|review', '8', '4.244', '0.0', '0.0', '0.0', '0.2727272727272727', '0.9090909090909091', '1']\n",
      "['cochlear implantation kidney transplantation', '25013637', '25013637', 'cochlear implantation kidney transplantation', 'patients chronic renal failure may develop sensorineural hearing loss cochlear implantation rarely done organ transplantation herein report 33 year old kidney transplantation recipient underwent cochlear implantation progressive sensorineural hearing loss khalili hospital cochlear implant center affiliated shiraz university medical sciences implantation done successfully complications cochlear implantation may appropriate therapeutic option sensorineural hearing loss caused chronic renal failure', '2019', '2014', 'journal article', '0', '-3.756', '0.0', '0.0', '0.0', '1.0', '1.0', '1']\n"
     ]
    },
    {
     "name": "stdout",
     "output_type": "stream",
     "text": [
      "['bioinformatic cancer encode epigenomic genomic roadmap tcga non coding', '28232861', '28232861', 'tcga workflow analyze cancer genomics epigenomics data using bioconductor packages', 'biotechnological advances sequencing led explosion publicly available data via large international consortia cancer genome atlas tcga encyclopedia dna elements encode nih roadmap epigenomics mapping consortium roadmap projects provided unprecedented opportunities interrogate epigenome cultured cancer cell lines well normal tumor tissues high genomic resolution bioconductor project offers 1 000 open source software statistical packages analyze high throughput genomic data however packages designed specific data types eg expression epigenetics genomics comprehensive tool provides complete integrative analysis harnessing resources data provided three public projects need create integration different analyses recently proposed workflow provide series biologically focused integrative downstream analyses different molecular data describe download process prepare tcga data harnessing several key bioconductor packages describe extract biologically meaningful genomic epigenomic data using roadmap encode data provide workplan identify candidate biologically relevant functional epigenomic elements associated cancer illustrate workflow analyzed two types brain tumors low grade glioma lgg versus high grade glioma glioblastoma multiform gbm workflow introduces following bioconductor packages annotationhub chipseeker complexheatmap pathview elmer gaia minet rtcgatoolbox tcgabiolinks', '2019', '2016', 'journal article', '10', '7.802', '0.0', '0.0', '0.0', '0.4444444444444444', '0.6666666666666666', '1']\n",
      "['mmp 2 sdf 1 cxcr4 axis acute myocardial infarction preconditioning stem cell mobilization', '28299177', '28299177', 'inhibition cd34 cell migration matrix metalloproteinase 2 acute myocardial ischemia counteracted ischemic preconditioning', 'background mobilization bone marrow origin cd34 cells investigated 3 days 3d acute myocardial infarction ami with without ischemic preconditioning ip relation stromal derived factor 1 sdf 1alpha chemokine receptor type 4 cxcr4 axis search possible mechanisms behind insufficient cardiac repair first days post ami methods closed chest reperfused ami performed percutaneous balloon occlusion mid left anterior descending lad coronary artery 90min followed reperfusion pigs animals randomized receive either ip initiated 3x5min cycles re occlusion re flow prior ami n 6 control ami n 12 blood samples collected baseline 3d post ami 1 month follow up analyse chemokines mobilized cd34 cells investigate effect acute hypoxia sdf 1alpha matrix metalloproteinase mmp 2 vitro assessed migration assay cd34 cells toward cardiomyocytes performed results reperfused ami induced significant mobilisation cd34 cells baseline 260 75 vs 3d 668 180 p 0 001 secretion mmp 2 baseline 291 83 53 40 vs 3d 369 64 72 89 p 0 011 plasma without affecting sdf 1alpha concentration ip led inhibition mmp 2 ip 165 67 47 99 vs ami 369 64 72 89 p 0 004 3d post ami accompanied increased release sdf 1alpha baseline 23 80 12 36 vs 3d 45 29 11 31 p 0 05 cxcr4 baseline 0 59 0 16 vs 3d 2 06 1 42 p 0 034 parallel higher level mobilisation cd34 cells ip 881 126 vs ami 668 180 p 0 026 compared non conditioned ami vitro cd34 cell migration toward cardiomyocytes enhanced sdf 1alpha completely abolished 90min hypoxia co incubation mmp 2 conclusions non conditioned ami induces mmp 2 release hampering ischemia induced increase sdf 1alpha cxcr4 cleaving sdf 1alpha cxcr4 axis diminished mobilization angiogenic cd34 cells ip might influence cd34 cell mobilization via inhibition mmp 2', '2019', '2017', 'journal article', '1', '-0.43399999999999994', '0.0', '0.0', '0.0', '0.36363636363636365', '0.9090909090909091', '1']\n",
      "['avm arteriovenous malformation grading management', '27853504', '27853504', 'case report microsurgical excision grade 5 cerebral avm', 'case report discuss microsurgical management spetzler martin grade 5 arteriovenous malformation avm young boy presented hemorrhagic episode high calculated risk rebleeding also outline rationale choosing management option', '2019', '2015', 'journal article', '0', '-3.042', '0.0', '0.0', '0.0', '0.2', '0.8', '1']\n",
      "['cochlear implantation kidney transplantation', '25013637', '25013637', 'cochlear implantation kidney transplantation', 'patients chronic renal failure may develop sensorineural hearing loss cochlear implantation rarely done organ transplantation herein report 33 year old kidney transplantation recipient underwent cochlear implantation progressive sensorineural hearing loss khalili hospital cochlear implant center affiliated shiraz university medical sciences implantation done successfully complications cochlear implantation may appropriate therapeutic option sensorineural hearing loss caused chronic renal failure', '2019', '2014', 'journal article', '0', '-3.756', '0.0', '0.0', '0.0', '1.0', '1.0', '1']\n"
     ]
    }
   ],
   "source": [
    "with open(f\"{TRAINDATA_PATH}/{TRAINDATA_ST}\", newline='') as csvfile:\n",
    "    csvreader = csv.reader(csvfile, delimiter='\\t')\n",
    "    header = next(csvreader)\n",
    "    for row in csvreader:\n",
    "        sent = f\"{row[0]}|{row[1]}\"\n",
    "        if sent in train_sentences:\n",
    "            pos = [i for i in train_sentences[sent]['labels'] if i == '1']\n",
    "            neg = [i for i in train_sentences[sent]['labels'] if i == '0']\n",
    "            if len(neg) == 0:\n",
    "                if len(pos) > 1:\n",
    "                    print(row)"
   ]
  },
  {
   "cell_type": "code",
   "execution_count": 23,
   "metadata": {},
   "outputs": [
    {
     "name": "stdout",
     "output_type": "stream",
     "text": [
      "2806978\n"
     ]
    }
   ],
   "source": [
    "with open(f\"{TRAINDATA_PATH}/train_sentences.tsv\", 'w', encoding='utf-8', newline='') as wfile:\n",
    "    csvwriter = csv.writer(wfile, delimiter='\\t')\n",
    "    with open(f\"{TRAINDATA_PATH}/{TRAINDATA_ST}\", newline='') as csvfile:\n",
    "        csvreader = csv.reader(csvfile, delimiter='\\t')\n",
    "        header = next(csvreader)\n",
    "        csvwriter.writerow(header)\n",
    "        n = 0\n",
    "        for row in csvreader:\n",
    "            sent = f\"{row[0]}|{row[1]}\"\n",
    "            if sent in train_sentences:\n",
    "#                 csvwriter.writerow(row)\n",
    "#                 n += 1\n",
    "                pos = [i for i in train_sentences[sent]['labels'] if i == '1']\n",
    "                neg = [i for i in train_sentences[sent]['labels'] if i == '0']\n",
    "                if len(neg) != 0:\n",
    "                    csvwriter.writerow(row)\n",
    "                    n += 1\n",
    "print(n)"
   ]
  },
  {
   "cell_type": "markdown",
   "metadata": {},
   "source": [
    "### New Validation Dataset"
   ]
  },
  {
   "cell_type": "code",
   "execution_count": 14,
   "metadata": {},
   "outputs": [],
   "source": [
    "valid_sentences = json.load(open('valid_sentences.json'))"
   ]
  },
  {
   "cell_type": "code",
   "execution_count": 15,
   "metadata": {},
   "outputs": [
    {
     "data": {
      "text/plain": [
       "145451"
      ]
     },
     "execution_count": 15,
     "metadata": {},
     "output_type": "execute_result"
    }
   ],
   "source": [
    "len(valid_sentences)"
   ]
  },
  {
   "cell_type": "code",
   "execution_count": 16,
   "metadata": {},
   "outputs": [
    {
     "name": "stdout",
     "output_type": "stream",
     "text": [
      "444397 148269 296128 0 0 0\n"
     ]
    }
   ],
   "source": [
    "n, t, f, m, r, p = 0, 0, 0, 0, 0, 0\n",
    "for k, v in valid_sentences.items():\n",
    "    n += len(v['labels'])\n",
    "    pos = [i for i in v['labels'] if i == '1']\n",
    "    neg = [i for i in v['labels'] if i == '0']\n",
    "    t += len(pos)\n",
    "    f += len(neg)\n",
    "    if len(neg) == 0:\n",
    "        m += 1\n",
    "        if len(pos) > 1:\n",
    "            r += 1\n",
    "            print(k, v)\n",
    "        elif k.split('|')[1] != v['citations'][0]:\n",
    "            p += 1\n",
    "print(n, t, f, m, r, p)"
   ]
  },
  {
   "cell_type": "code",
   "execution_count": 17,
   "metadata": {},
   "outputs": [
    {
     "name": "stdout",
     "output_type": "stream",
     "text": [
      "444397\n"
     ]
    }
   ],
   "source": [
    "with open(f\"{TRAINDATA_PATH}/valid_sentences.tsv\", 'w', encoding='utf-8', newline='') as wfile:\n",
    "    csvwriter = csv.writer(wfile, delimiter='\\t')\n",
    "    with open(f\"{TRAINDATA_PATH}/{VALIDDATA_ST}\", newline='') as csvfile:\n",
    "        csvreader = csv.reader(csvfile, delimiter='\\t')\n",
    "        header = next(csvreader)\n",
    "        csvwriter.writerow(header)\n",
    "        n = 0\n",
    "        for row in csvreader:\n",
    "            sent = f\"{row[0]}|{row[1]}\"\n",
    "            if sent in valid_sentences:\n",
    "                csvwriter.writerow(row)\n",
    "                n += 1\n",
    "print(n)"
   ]
  },
  {
   "cell_type": "markdown",
   "metadata": {},
   "source": [
    "### New Test Datasets"
   ]
  },
  {
   "cell_type": "code",
   "execution_count": 43,
   "metadata": {},
   "outputs": [],
   "source": [
    "test_sentences = set(json.load(open('test_sentences.json')))"
   ]
  },
  {
   "cell_type": "code",
   "execution_count": 44,
   "metadata": {},
   "outputs": [
    {
     "data": {
      "text/plain": [
       "96950"
      ]
     },
     "execution_count": 44,
     "metadata": {},
     "output_type": "execute_result"
    }
   ],
   "source": [
    "len(test_sentences)"
   ]
  },
  {
   "cell_type": "markdown",
   "metadata": {},
   "source": [
    "**SQL**"
   ]
  },
  {
   "cell_type": "code",
   "execution_count": 100,
   "metadata": {},
   "outputs": [],
   "source": [
    "search_returns = set()"
   ]
  },
  {
   "cell_type": "code",
   "execution_count": 101,
   "metadata": {},
   "outputs": [
    {
     "name": "stdout",
     "output_type": "stream",
     "text": [
      "102271588 96950\n",
      "CPU times: user 1h 19min 55s, sys: 31min 56s, total: 1h 51min 52s\n",
      "Wall time: 2h 56min 8s\n"
     ]
    }
   ],
   "source": [
    "%%time\n",
    "test_sentences_sql = {}\n",
    "n = 0\n",
    "for f in range(461, 561):\n",
    "    with open(f\"{TESTDATA_PATH_SQL_ST}/DL_data_search_result_sentence_citation{str(f)}.csv\", newline='') as csvfile:\n",
    "        csvreader = csv.reader(csvfile, delimiter='\\t')\n",
    "        header = next(csvreader)\n",
    "        for row in csvreader:\n",
    "            sent = f\"{row[0]}|{row[1]}\"\n",
    "            citation = row[3]\n",
    "            retpmid = row[2]\n",
    "            tiscore = row[12]\n",
    "            tiabscore = row[13]\n",
    "            rank = row[-1]\n",
    "            retarticle = [row[4], row[5], row[7], row[8], row[11]]\n",
    "            if sent in test_sentences:\n",
    "                n += 1\n",
    "                if sent not in test_sentences_sql:\n",
    "                    test_sentences_sql[sent] = {citation:{'retpmids':[], 'tiscores':[], 'tiabscores':[]}}\n",
    "                if citation not in test_sentences_sql[sent]:\n",
    "                    test_sentences_sql[sent][citation] = {'retpmids':[], 'tiscores':[], 'tiabscores':[]}\n",
    "                if not retpmid in test_sentences_sql[sent][citation]['retpmids']:\n",
    "                    test_sentences_sql[sent][citation]['retpmids'].append(retpmid)\n",
    "                    test_sentences_sql[sent][citation]['tiscores'].append(tiscore)\n",
    "                    test_sentences_sql[sent][citation]['tiabscores'].append(tiabscore)\n",
    "                    if not retpmid in search_returns:\n",
    "                        search_returns.add(retpmid)\n",
    "                        json.dump(retarticle, open(f\"searchreturns/{retpmid}.json\", 'w', encoding='utf-8'))\n",
    "#                         with open(f\"searchreturns/{retpmid}.tsv\", 'w', encoding='utf-8', newline='') as wfile:\n",
    "#                             csvwriter = csv.writer(wfile, delimiter='\\t')\n",
    "#                             csvwriter.writerow(retarticle)\n",
    "                if retpmid == citation:\n",
    "                    test_sentences_sql[sent][citation]['rank'] = rank\n",
    "print(n, len(test_sentences_sql))"
   ]
  },
  {
   "cell_type": "code",
   "execution_count": 102,
   "metadata": {},
   "outputs": [],
   "source": [
    "json.dump(test_sentences_sql, open('test_sentences_sql.json', 'w', encoding='utf-8'), indent=4)"
   ]
  },
  {
   "cell_type": "code",
   "execution_count": 11,
   "metadata": {},
   "outputs": [],
   "source": [
    "import os\n",
    "import json"
   ]
  },
  {
   "cell_type": "code",
   "execution_count": 4,
   "metadata": {},
   "outputs": [],
   "source": [
    "base_path = '/jupiter/cl17d/Project/src_new'"
   ]
  },
  {
   "cell_type": "code",
   "execution_count": 5,
   "metadata": {},
   "outputs": [],
   "source": [
    "test_sentences_sql=json.load(open(f'{base_path}/test_sentences_sql.json', 'r', encoding='utf-8'))"
   ]
  },
  {
   "cell_type": "code",
   "execution_count": 110,
   "metadata": {},
   "outputs": [
    {
     "data": {
      "text/plain": [
       "(16952614, 38117, 96950)"
      ]
     },
     "execution_count": 110,
     "metadata": {},
     "output_type": "execute_result"
    }
   ],
   "source": [
    "len(search_returns), n, len(test_sentences_sql)"
   ]
  },
  {
   "cell_type": "code",
   "execution_count": 104,
   "metadata": {},
   "outputs": [
    {
     "name": "stdout",
     "output_type": "stream",
     "text": [
      "4703 2 6 9857 0 102104 1 1000 102077191\n"
     ]
    }
   ],
   "source": [
    "m, n, r = [], 0, []\n",
    "for k, v in test_sentences_sql.items():\n",
    "    if len(v) > 1:\n",
    "        m.append(len(v))\n",
    "    for ck, cv in v.items():\n",
    "        r.append(len(cv['retpmids']))\n",
    "#         if len(cv['retpmids']) < 1000:\n",
    "#             print(k, ck, len(cv['retpmids']), cv['rank'], '\\n')\n",
    "        if not 'rank' in cv:\n",
    "            n += 1\n",
    "print(len(m), min(m), max(m), sum(m), n, len(r), min(r), max(r), sum(r))"
   ]
  },
  {
   "cell_type": "code",
   "execution_count": 116,
   "metadata": {},
   "outputs": [
    {
     "name": "stdout",
     "output_type": "stream",
     "text": [
      "3 1001\n",
      "2 1001\n",
      "2 1261\n",
      "2 1001\n",
      "2 1001\n",
      "5\n"
     ]
    }
   ],
   "source": [
    "n = 0\n",
    "for k, v in test_sentences_sql.items():\n",
    "    if len(v) > 1:\n",
    "        retpmids = set()\n",
    "        for ret in v.values():\n",
    "            retpmids = retpmids | set(ret['retpmids'])\n",
    "        if len(retpmids) > 1000:\n",
    "            n += 1\n",
    "            print(len(v), len(retpmids))\n",
    "print(n)"
   ]
  },
  {
   "cell_type": "code",
   "execution_count": 9,
   "metadata": {},
   "outputs": [
    {
     "name": "stdout",
     "output_type": "stream",
     "text": [
      "first observed stripe like order 214 cuprates checkerboard order vortex cores subsequently surface bi cl based compounds universality cdw order cuprate phase diagram established nmr x ray scattering probes|27071712\tCitations: 6\tSet PMIDs: 1000\tList PMIDs: 6000\n"
     ]
    }
   ],
   "source": [
    "n = 0\n",
    "for k, v in test_sentences_sql.items():\n",
    "    if len(v) > 5:\n",
    "        set_pmids = set()\n",
    "        list_pmids = []\n",
    "        for ret in v.values():\n",
    "            set_pmids = set_pmids | set(ret['retpmids'])\n",
    "            list_pmids.extend(ret['retpmids'])\n",
    "        print(f\"{k}\\tCitations: {len(v)}\\tSet PMIDs: {len(set_pmids)}\\tList PMIDs: {len(list_pmids)}\")"
   ]
  },
  {
   "cell_type": "code",
   "execution_count": null,
   "metadata": {},
   "outputs": [],
   "source": [
    "test_sentences_sql[list(test_sentences)[0]]"
   ]
  },
  {
   "cell_type": "code",
   "execution_count": null,
   "metadata": {},
   "outputs": [],
   "source": [
    "len(set(test_sentences_sql[list(test_sentences)[0]]['retpmids']))"
   ]
  },
  {
   "cell_type": "code",
   "execution_count": 47,
   "metadata": {},
   "outputs": [
    {
     "data": {
      "text/plain": [
       "2"
      ]
     },
     "execution_count": 47,
     "metadata": {},
     "output_type": "execute_result"
    }
   ],
   "source": [
    "len(set(test_sentences_sql[list(test_sentences)[0]]['ranks']))"
   ]
  },
  {
   "cell_type": "code",
   "execution_count": 13,
   "metadata": {},
   "outputs": [],
   "source": [
    "sent = \"first observed stripe like order 214 cuprates checkerboard order vortex cores subsequently surface bi cl based compounds universality cdw order cuprate phase diagram established nmr x ray scattering probes|27071712\""
   ]
  },
  {
   "cell_type": "code",
   "execution_count": 14,
   "metadata": {},
   "outputs": [],
   "source": [
    "test_path = f\"{base_path}/case_SQL_testing_final_complete\"\n",
    "files = set()\n",
    "for file in os.listdir(f\"{test_path}\"):\n",
    "    with open(f\"{test_path}/{file}\") as ifile:\n",
    "        next(ifile)\n",
    "        for row in ifile:\n",
    "            row = row.strip().split(\"\\t\")\n",
    "            sentence = f\"{row[0]}|{row[1]}\"\n",
    "            if sentence == sent:\n",
    "                files.add(file)"
   ]
  },
  {
   "cell_type": "code",
   "execution_count": 15,
   "metadata": {},
   "outputs": [
    {
     "data": {
      "text/plain": [
       "{'DL_data_search_result_sentence_citation475.csv',\n",
       " 'DL_data_search_result_sentence_citation488.csv',\n",
       " 'DL_data_search_result_sentence_citation513.csv',\n",
       " 'DL_data_search_result_sentence_citation517.csv',\n",
       " 'DL_data_search_result_sentence_citation526.csv',\n",
       " 'DL_data_search_result_sentence_citation536.csv'}"
      ]
     },
     "execution_count": 15,
     "metadata": {},
     "output_type": "execute_result"
    }
   ],
   "source": [
    "files"
   ]
  },
  {
   "cell_type": "markdown",
   "metadata": {},
   "source": [
    "**PubMed TF-IDF (PTF)**"
   ]
  },
  {
   "cell_type": "code",
   "execution_count": 105,
   "metadata": {},
   "outputs": [
    {
     "name": "stdout",
     "output_type": "stream",
     "text": [
      "100128069 96950\n",
      "CPU times: user 1h 18min 15s, sys: 18min 36s, total: 1h 36min 51s\n",
      "Wall time: 5h 12min 9s\n"
     ]
    }
   ],
   "source": [
    "%%time\n",
    "test_sentences_ptf = {}\n",
    "n = 0\n",
    "for f in range(461, 561):\n",
    "    with open(f\"{TESTDATA_PATH_PTF_ST}/DL_data_search_result_sentence_citation{str(f)}.csv\", newline='') as csvfile:\n",
    "        csvreader = csv.reader(csvfile, delimiter='\\t')\n",
    "        header = next(csvreader)\n",
    "        for row in csvreader:\n",
    "            sent = f\"{row[0]}|{row[1]}\"\n",
    "            citation = row[3]\n",
    "            retpmid = row[2]\n",
    "            tiscore = row[12]\n",
    "            tiabscore = row[13]\n",
    "            rank = row[-1]\n",
    "            retarticle = [row[4], row[5], row[7], row[8], row[11]]\n",
    "            if sent in test_sentences:\n",
    "                n += 1\n",
    "                if sent not in test_sentences_ptf:\n",
    "                    test_sentences_ptf[sent] = {citation:{'retpmids':[], 'tiscores':[], 'tiabscores':[]}}\n",
    "                if citation not in test_sentences_ptf[sent]:\n",
    "                    test_sentences_ptf[sent][citation] = {'retpmids':[], 'tiscores':[], 'tiabscores':[]}\n",
    "                if not retpmid in test_sentences_ptf[sent][citation]['retpmids']:\n",
    "                    test_sentences_ptf[sent][citation]['retpmids'].append(retpmid)\n",
    "                    test_sentences_ptf[sent][citation]['tiscores'].append(tiscore)\n",
    "                    test_sentences_ptf[sent][citation]['tiabscores'].append(tiabscore)\n",
    "                    if not retpmid in search_returns:\n",
    "                        search_returns.add(retpmid)\n",
    "                        json.dump(retarticle, open(f\"searchreturns/{retpmid}.json\", 'w', encoding='utf-8'))\n",
    "                if retpmid == citation:\n",
    "                    test_sentences_ptf[sent][citation]['rank'] = rank\n",
    "print(n, len(test_sentences_ptf))"
   ]
  },
  {
   "cell_type": "code",
   "execution_count": 106,
   "metadata": {},
   "outputs": [],
   "source": [
    "json.dump(test_sentences_ptf, open('test_sentences_ptf.json', 'w', encoding='utf-8'), indent=4)"
   ]
  },
  {
   "cell_type": "code",
   "execution_count": 107,
   "metadata": {},
   "outputs": [],
   "source": [
    "json.dump(list(search_returns), open('search_returns.json', 'w', encoding='utf-8'), indent=4)"
   ]
  },
  {
   "cell_type": "code",
   "execution_count": 108,
   "metadata": {},
   "outputs": [
    {
     "data": {
      "text/plain": [
       "(16952614, 100128069, 96950)"
      ]
     },
     "execution_count": 108,
     "metadata": {},
     "output_type": "execute_result"
    }
   ],
   "source": [
    "len(search_returns), n, len(test_sentences_ptf)"
   ]
  },
  {
   "cell_type": "code",
   "execution_count": 109,
   "metadata": {},
   "outputs": [
    {
     "name": "stdout",
     "output_type": "stream",
     "text": [
      "4670 2 6 9788 38117 102068 1 1000 100123134\n"
     ]
    }
   ],
   "source": [
    "m, n, r = [], 0, []\n",
    "for k, v in test_sentences_ptf.items():\n",
    "    if len(v) > 1:\n",
    "        m.append(len(v))\n",
    "    for cv in v.values():\n",
    "        r.append(len(cv['retpmids']))\n",
    "#         if len(cv['retpmids']) < 1000:\n",
    "#             print(k, len(cv['retpmids']), cv['rank'], '\\n')\n",
    "        if not 'rank' in cv:\n",
    "            n += 1\n",
    "print(len(m), min(m), max(m), sum(m), n, len(r), min(r), max(r), sum(r))"
   ]
  },
  {
   "cell_type": "code",
   "execution_count": null,
   "metadata": {},
   "outputs": [],
   "source": [
    "n = 0\n",
    "for k, v in test_sentences_ptf.items():\n",
    "    if len(v) > 1:\n",
    "        retpmids = set()\n",
    "        for ret in v.values():\n",
    "            retpmids = retpmids | set(ret['retpmids'])\n",
    "        if len(retpmids) > 1000:\n",
    "            n += 1\n",
    "            print(len(v), len(retpmids))\n",
    "print(n)"
   ]
  },
  {
   "cell_type": "code",
   "execution_count": 48,
   "metadata": {},
   "outputs": [
    {
     "data": {
      "text/plain": [
       "2"
      ]
     },
     "execution_count": 48,
     "metadata": {},
     "output_type": "execute_result"
    }
   ],
   "source": [
    "len(set(test_sentences_ptf[list(test_sentences)[0]]['citations']))"
   ]
  },
  {
   "cell_type": "code",
   "execution_count": 49,
   "metadata": {},
   "outputs": [
    {
     "data": {
      "text/plain": [
       "1000"
      ]
     },
     "execution_count": 49,
     "metadata": {},
     "output_type": "execute_result"
    }
   ],
   "source": [
    "len(set(test_sentences_ptf[list(test_sentences)[0]]['retpmids']))"
   ]
  },
  {
   "cell_type": "code",
   "execution_count": 50,
   "metadata": {},
   "outputs": [
    {
     "data": {
      "text/plain": [
       "1000"
      ]
     },
     "execution_count": 50,
     "metadata": {},
     "output_type": "execute_result"
    }
   ],
   "source": [
    "len(set(test_sentences_ptf[list(test_sentences)[0]]['ranks']))"
   ]
  },
  {
   "cell_type": "code",
   "execution_count": 118,
   "metadata": {},
   "outputs": [
    {
     "data": {
      "text/plain": [
       "'reported pro inflammatory cytokines stimulate production matrix metalloproteinase administration vip reported counteract action pro inflammatory stimuli reduces constitutive expression mmp 9 mmp 13 thereby alleviating pain oa|27553659'"
      ]
     },
     "execution_count": 118,
     "metadata": {},
     "output_type": "execute_result"
    }
   ],
   "source": [
    "list(test_sentences)[0]"
   ]
  },
  {
   "cell_type": "code",
   "execution_count": 178,
   "metadata": {},
   "outputs": [
    {
     "name": "stdout",
     "output_type": "stream",
     "text": [
      "0\n"
     ]
    }
   ],
   "source": [
    "n = 0\n",
    "for k, v in test_sentences_ptf.items():\n",
    "    for ck in v:\n",
    "        if not ck in test_sentences_sql[k]:\n",
    "            n += 1\n",
    "print(n)"
   ]
  },
  {
   "cell_type": "code",
   "execution_count": null,
   "metadata": {},
   "outputs": [],
   "source": []
  },
  {
   "cell_type": "markdown",
   "metadata": {},
   "source": [
    "**PubMed Best Match (PBM)**"
   ]
  },
  {
   "cell_type": "code",
   "execution_count": 119,
   "metadata": {},
   "outputs": [],
   "source": [
    "test_sentences_records = {}"
   ]
  },
  {
   "cell_type": "code",
   "execution_count": 120,
   "metadata": {},
   "outputs": [],
   "source": [
    "for f in range(461, 561):\n",
    "    with open(f\"{TESTDATA_PATH_SQL_ST}/DL_data_search_result_sentence_citation{str(f)}.csv\", newline='') as csvfile:\n",
    "        csvreader = csv.reader(csvfile, delimiter='\\t')\n",
    "        header = next(csvreader)\n",
    "        for row in csvreader:\n",
    "            sent = f\"{row[0]}|{row[1]}\"\n",
    "            citation = row[3]\n",
    "            sentyear = row[6]\n",
    "            if sent in test_sentences:\n",
    "                test_sentences_records[sent] = test_sentences_records.get(sent, {'year':[], 'citations':[]})\n",
    "                if not sentyear in test_sentences_records[sent]['year']:\n",
    "                    test_sentences_records[sent]['year'].append(sentyear)\n",
    "                if not citation in test_sentences_records[sent]['citations']:\n",
    "                    test_sentences_records[sent]['citations'].append(citation)"
   ]
  },
  {
   "cell_type": "code",
   "execution_count": 121,
   "metadata": {},
   "outputs": [],
   "source": [
    "for f in range(461, 561):\n",
    "    with open(f\"{TESTDATA_PATH_PTF_ST}/DL_data_search_result_sentence_citation{str(f)}.csv\", newline='') as csvfile:\n",
    "        csvreader = csv.reader(csvfile, delimiter='\\t')\n",
    "        header = next(csvreader)\n",
    "        for row in csvreader:\n",
    "            sent = f\"{row[0]}|{row[1]}\"\n",
    "            citation = row[3]\n",
    "            sentyear = row[6]\n",
    "            if sent in test_sentences:\n",
    "                test_sentences_records[sent] = test_sentences_records.get(sent, {'year':[], 'citations':[]})\n",
    "                if not sentyear in test_sentences_records[sent]['year']:\n",
    "                    test_sentences_records[sent]['year'].append(sentyear)\n",
    "                if not citation in test_sentences_records[sent]['citations']:\n",
    "                    test_sentences_records[sent]['citations'].append(citation)"
   ]
  },
  {
   "cell_type": "code",
   "execution_count": 124,
   "metadata": {},
   "outputs": [
    {
     "name": "stdout",
     "output_type": "stream",
     "text": [
      "96950 4703 2 6 9857\n"
     ]
    }
   ],
   "source": [
    "n, m = 0, []\n",
    "for k, v in test_sentences_records.items():\n",
    "    if len(v['year']) == 1:\n",
    "        n += 1\n",
    "    if len(v['citations']) > 1:\n",
    "        m.append(len(v['citations']))\n",
    "print(n, len(m), min(m), max(m), sum(m))"
   ]
  },
  {
   "cell_type": "code",
   "execution_count": 176,
   "metadata": {},
   "outputs": [],
   "source": [
    "json.dump(test_sentences_records, open('test_sentences_records.json', 'w', encoding='utf-8'))"
   ]
  },
  {
   "cell_type": "code",
   "execution_count": 125,
   "metadata": {},
   "outputs": [
    {
     "data": {
      "text/plain": [
       "Counter({2: 4308, 3: 346, 5: 5, 4: 43, 6: 1})"
      ]
     },
     "execution_count": 125,
     "metadata": {},
     "output_type": "execute_result"
    }
   ],
   "source": [
    "Counter(m)"
   ]
  },
  {
   "cell_type": "code",
   "execution_count": 127,
   "metadata": {},
   "outputs": [
    {
     "data": {
      "text/plain": [
       "('reported pro inflammatory cytokines stimulate production matrix metalloproteinase administration vip reported counteract action pro inflammatory stimuli reduces constitutive expression mmp 9 mmp 13 thereby alleviating pain oa|27553659',\n",
       " {'year': ['2016'], 'citations': ['24318839', '17911037']})"
      ]
     },
     "execution_count": 127,
     "metadata": {},
     "output_type": "execute_result"
    }
   ],
   "source": [
    "list(test_sentences)[0], test_sentences_records[list(test_sentences)[0]]"
   ]
  },
  {
   "cell_type": "code",
   "execution_count": 1,
   "metadata": {},
   "outputs": [],
   "source": [
    "import json\n",
    "import time\n",
    "import requests\n",
    "from bs4 import BeautifulSoup"
   ]
  },
  {
   "cell_type": "code",
   "execution_count": 2,
   "metadata": {},
   "outputs": [],
   "source": [
    "def get_page(url):\n",
    "    session = requests.Session()\n",
    "    headers = {'User-Agent': 'Mozilla/5.0 (Macintosh; Intel Mac OS X 10_9_5) Chrome/39.0.2171.95 Safari/537.36',\n",
    "               'Accept': 'text/html,application/xhtml+xml,application/xml;q=0.9,image/webp,*/*;q=0.8'}        \n",
    "    try:\n",
    "        req = session.get(url, headers=headers)\n",
    "    except requests.exceptions.RequestException:\n",
    "        return None\n",
    "    req.encoding = 'utf-8'\n",
    "    if req.text == '':\n",
    "        return None\n",
    "    return req.text"
   ]
  },
  {
   "cell_type": "code",
   "execution_count": 31,
   "metadata": {},
   "outputs": [],
   "source": [
    "def pubmedweb_search(query, year):\n",
    "    pubmed_url = 'https://pubmed.ncbi.nlm.nih.gov/'\n",
    "    pubmed_url += f'?term={query}&size=200&filter=years.1977-{year}&format=pmid'\n",
    "    #sort=date,pubdate &sort_order=asc&show_snippets=off\n",
    "    soup = None\n",
    "    while soup == None or soup.find('meta', attrs={'name':'log_displayeduids'}) == None:\n",
    "        soup = BeautifulSoup(get_page(pubmed_url), 'xml')\n",
    "    counts = int(soup.find('meta', attrs={'name':'log_resultcount'})['content'])\n",
    "    returns = counts if counts <= 1000 else 1000\n",
    "    idlist = soup.find('meta', attrs={'name':'log_displayeduids'})['content'].split(',') \n",
    "    if returns > 200:\n",
    "        for page in range(2, int((returns-1)/200)+2):\n",
    "            page_url = f\"{pubmed_url}&page={page}\"\n",
    "            soup = None\n",
    "            while soup == None or soup.find('meta', attrs={'name':'log_displayeduids'}) == None:\n",
    "                soup = BeautifulSoup(get_page(page_url), 'xml')\n",
    "            idlist.extend(soup.find('meta', attrs={'name':'log_displayeduids'})['content'].split(','))\n",
    "#             time.sleep(5)\n",
    "    return counts, idlist"
   ]
  },
  {
   "cell_type": "code",
   "execution_count": 8,
   "metadata": {},
   "outputs": [],
   "source": [
    "test_sentences = json.load(open('test_sentences.json'))"
   ]
  },
  {
   "cell_type": "code",
   "execution_count": 4,
   "metadata": {},
   "outputs": [],
   "source": [
    "test_sentences_records = json.load(open('test_sentences_records.json'))"
   ]
  },
  {
   "cell_type": "code",
   "execution_count": 9,
   "metadata": {},
   "outputs": [
    {
     "data": {
      "text/plain": [
       "'reported OR pro OR inflammatory OR cytokines OR stimulate OR production OR matrix OR metalloproteinase OR administration OR vip OR reported OR counteract OR action OR pro OR inflammatory OR stimuli OR reduces OR constitutive OR expression OR mmp OR 9 OR mmp OR 13 OR thereby OR alleviating OR pain OR oa'"
      ]
     },
     "execution_count": 9,
     "metadata": {},
     "output_type": "execute_result"
    }
   ],
   "source": [
    "query = list(test_sentences)[0].split('|')[0].split()\n",
    "query = \" OR \".join(query)\n",
    "query"
   ]
  },
  {
   "cell_type": "code",
   "execution_count": 10,
   "metadata": {},
   "outputs": [
    {
     "data": {
      "text/plain": [
       "'2016'"
      ]
     },
     "execution_count": 10,
     "metadata": {},
     "output_type": "execute_result"
    }
   ],
   "source": [
    "year = test_sentences_records[list(test_sentences)[0]]['year'][0]\n",
    "year"
   ]
  },
  {
   "cell_type": "code",
   "execution_count": 16,
   "metadata": {},
   "outputs": [],
   "source": [
    "citation = test_sentences_records[list(test_sentences)[0]]['citations'][1]"
   ]
  },
  {
   "cell_type": "code",
   "execution_count": 11,
   "metadata": {},
   "outputs": [],
   "source": [
    "se_counts, se_pmids = pubmedweb_search(query, year)"
   ]
  },
  {
   "cell_type": "code",
   "execution_count": 12,
   "metadata": {},
   "outputs": [
    {
     "data": {
      "text/plain": [
       "(12249583, 1000)"
      ]
     },
     "execution_count": 12,
     "metadata": {},
     "output_type": "execute_result"
    }
   ],
   "source": [
    "se_counts, len(se_pmids)"
   ]
  },
  {
   "cell_type": "code",
   "execution_count": 37,
   "metadata": {},
   "outputs": [],
   "source": [
    "test_sentences_pbm = {}"
   ]
  },
  {
   "cell_type": "code",
   "execution_count": 5,
   "metadata": {},
   "outputs": [],
   "source": [
    "test_sentences_pbm = json.load(open('test_sentences_pbm.json'))"
   ]
  },
  {
   "cell_type": "code",
   "execution_count": null,
   "metadata": {},
   "outputs": [],
   "source": [
    "for k, v in test_sentences_records.items():\n",
    "    if k in test_sentences_pbm: continue\n",
    "    query = k.split('|')[0].split()\n",
    "    if len(query) > 20: continue\n",
    "    query = \" OR \".join(query)\n",
    "    year = v['year'][0]\n",
    "    _, se_pmids = pubmedweb_search(query, year)\n",
    "    test_sentences_pbm[k] = {'retpmids':se_pmids, 'citations':{}}\n",
    "    for citation in v['citations']:\n",
    "        if citation in se_pmids:\n",
    "            rank = str(int(se_pmids.index(citation)) + 1)\n",
    "        else:\n",
    "            rank = '9999'\n",
    "        test_sentences_pbm[k]['citations'][citation] = rank"
   ]
  },
  {
   "cell_type": "code",
   "execution_count": 84,
   "metadata": {},
   "outputs": [],
   "source": [
    "json.dump(test_sentences_pbm, open('test_sentences_pbm.json', 'w', encoding='utf-8'))"
   ]
  },
  {
   "cell_type": "code",
   "execution_count": 45,
   "metadata": {},
   "outputs": [
    {
     "data": {
      "text/plain": [
       "('hand OR low OR incidence OR concentration OR ota OR found OR samples OR analyzed OR turkey OR tunisia',\n",
       " '2017')"
      ]
     },
     "execution_count": 45,
     "metadata": {},
     "output_type": "execute_result"
    }
   ],
   "source": [
    "query, year"
   ]
  },
  {
   "cell_type": "code",
   "execution_count": 21,
   "metadata": {},
   "outputs": [
    {
     "data": {
      "text/plain": [
       "63"
      ]
     },
     "execution_count": 21,
     "metadata": {},
     "output_type": "execute_result"
    }
   ],
   "source": [
    "len(query.split(\" OR \"))"
   ]
  },
  {
   "cell_type": "code",
   "execution_count": 28,
   "metadata": {},
   "outputs": [],
   "source": [
    "pubmed_url = 'https://pubmed.ncbi.nlm.nih.gov/'\n",
    "pubmed_url += f'?term={query}&size=200&filter=years.1977-{year}&show_snippets=off&format=pmid' # sort=date,pubdate &sort_order=asc\n",
    "soup = None\n",
    "while soup == None or soup.find('meta', attrs={'name':'log_displayeduids'}) == None:\n",
    "    soup = BeautifulSoup(get_page(pubmed_url), 'xml')\n",
    "counts = int(soup.find('meta', attrs={'name':'log_resultcount'})['content'])\n",
    "returns = counts if counts <= 1000 else 1000\n",
    "idlist = soup.find('meta', attrs={'name':'log_displayeduids'})['content'].split(',') \n",
    "if returns > 200:\n",
    "    for page in range(2, int((returns-1)/200)+2):\n",
    "        page_url = f\"{pubmed_url}&page={page}\"\n",
    "        soup = None\n",
    "        while soup == None or soup.find('meta', attrs={'name':'log_displayeduids'}) == None:\n",
    "            soup = BeautifulSoup(get_page(page_url), 'xml')\n",
    "        idlist.extend(soup.find('meta', attrs={'name':'log_displayeduids'})['content'].split(','))\n",
    "#         time.sleep(5)"
   ]
  },
  {
   "cell_type": "code",
   "execution_count": 29,
   "metadata": {},
   "outputs": [
    {
     "data": {
      "text/plain": [
       "(5, 1000)"
      ]
     },
     "execution_count": 29,
     "metadata": {},
     "output_type": "execute_result"
    }
   ],
   "source": [
    "page, len(idlist)"
   ]
  },
  {
   "cell_type": "code",
   "execution_count": 44,
   "metadata": {},
   "outputs": [
    {
     "data": {
      "text/plain": [
       "'https://pubmed.ncbi.nlm.nih.gov/?term=adverse OR effects OR ivig OR therapy OR include OR rash OR chills OR flushing OR fever OR nausea OR severe OR headache OR joint OR pains OR dyspnea OR diarrhea OR tachycardia OR anaphylactic OR reactions&size=200&filter=years.1977-2009&show_snippets=off&format=pmid&page=5'"
      ]
     },
     "execution_count": 44,
     "metadata": {},
     "output_type": "execute_result"
    }
   ],
   "source": [
    "page_url"
   ]
  },
  {
   "cell_type": "code",
   "execution_count": 43,
   "metadata": {},
   "outputs": [
    {
     "data": {
      "text/plain": [
       "9294239"
      ]
     },
     "execution_count": 43,
     "metadata": {},
     "output_type": "execute_result"
    }
   ],
   "source": [
    "counts"
   ]
  },
  {
   "cell_type": "code",
   "execution_count": 92,
   "metadata": {},
   "outputs": [
    {
     "data": {
      "text/plain": [
       "(96950, 13188)"
      ]
     },
     "execution_count": 92,
     "metadata": {},
     "output_type": "execute_result"
    }
   ],
   "source": [
    "len(test_sentences_records), len(test_sentences_pbm)"
   ]
  },
  {
   "cell_type": "markdown",
   "metadata": {},
   "source": [
    "### Other Data\n",
    "\n",
    "\n",
    "- abstract_citations.json\n",
    "- abstract_citations_by_year.json\n",
    "- journal_IF.json\n",
    "- normalized_citation_by_year.tsv\n",
    "- publicationType_dict.txt\n",
    "- title_abstracts_complete.tsv\n",
    "- title_abstracts_complete_only_features.tsv\n",
    "- train_final_dataset_complete_no_onlykeywords.tsv\n",
    "- train_final_dataset_complete_noshuffled.tsv\n",
    "- train_final_dataset_for_old_model.jsonl\n",
    "- valid_final_dataset_for_old_model.jsonl"
   ]
  },
  {
   "cell_type": "markdown",
   "metadata": {},
   "source": [
    "- title_abstracts_complete.tsv"
   ]
  },
  {
   "cell_type": "code",
   "execution_count": 12,
   "metadata": {},
   "outputs": [
    {
     "name": "stdout",
     "output_type": "stream",
     "text": [
      "['\\ufeff', 'pmid', 'articleTitle', 'journal', 'volume', 'issue', 'ISSN', 'year', 'month', 'day', 'abstract', 'authors', 'doi', 'keywords', 'publicationType', 'filename', 'citation', 'journal_IF']\n",
      "['0', '21', '[Biochemical studies on camomile components/III. In vitro studies about the antipeptic activity of (--)-alpha-bisabolol (authors transl)].', 'Arzneimittel-Forschung', '25', '9', '0004-4172', '1975', '9', '1', '(--)-alpha-Bisabolol has a primary antipeptic action depending on dosage, which is not caused by an alteration of the pH-value. The proteolytic activity of pepsin is reduced by 50 percent through addition of bisabolol in the ratio of 1/0.5. The antipeptic action of bisabolol only occurs in case of direct contact. In case of a previous contact with the substrate, the inhibiting effect is lost.', 'O Isaac | K Thiemer', '', '', 'english abstract|journal article', 'pubmed19n0001PubMed_list.csv', '0', '0.0']\n"
     ]
    }
   ],
   "source": [
    "with open(f\"{TRAINDATA_PATH}/title_abstracts_complete.tsv\", newline='') as csvfile:\n",
    "    csvreader = csv.reader(csvfile, delimiter='\\t')\n",
    "    #header = next(csvreader)\n",
    "    n = 0\n",
    "    for row in csvreader:\n",
    "        n += 1\n",
    "        print(row)\n",
    "        #query_data.add(row[0])\n",
    "        #train_data.append(row)\n",
    "        if n >= 2: break"
   ]
  },
  {
   "cell_type": "markdown",
   "metadata": {},
   "source": [
    "- title_abstracts_complete_only_features.tsv"
   ]
  },
  {
   "cell_type": "code",
   "execution_count": 13,
   "metadata": {},
   "outputs": [
    {
     "name": "stdout",
     "output_type": "stream",
     "text": [
      "['\\ufeff', 'pmid', 'year', 'citation', 'journal_IF', 'publicationType']\n",
      "['0', '21', '1975', '0', '0.0', 'english abstract|journal article']\n"
     ]
    }
   ],
   "source": [
    "with open(f\"{TRAIN_PATH}/title_abstracts_complete_only_features.tsv\", newline='') as csvfile:\n",
    "    csvreader = csv.reader(csvfile, delimiter='\\t')\n",
    "    #header = next(csvreader)\n",
    "    n = 0\n",
    "    for row in csvreader:\n",
    "        n += 1\n",
    "        print(row)\n",
    "        #query_data.add(row[0])\n",
    "        #train_data.append(row)\n",
    "        if n >= 2: break"
   ]
  },
  {
   "cell_type": "markdown",
   "metadata": {},
   "source": [
    "- train_final_dataset_complete_no_onlykeywords.tsv"
   ]
  },
  {
   "cell_type": "code",
   "execution_count": 14,
   "metadata": {},
   "outputs": [
    {
     "name": "stdout",
     "output_type": "stream",
     "text": [
      "['sentence', 'sentence_pmid', 'pmid', 'articleTitle', 'abstract', 'sentence_year', 'year', 'publicationType', 'sum_citation', 'normalized_citation', 'journal_IF', 'title_score', 'title_abstract_score', 'title_coverage', 'abstract_coverage', 'label']\n",
      "['donepezil cholinesterase inhibitor shown improve attentional performance humans sahakian singh rockwood foldi bentley rodents muir balducci romberg particularly subjects low baseline cognitive performance tasks require elevated cognitive attentional load', '26415954', '15852461', 'detecting effects donepezil visual selective attention using signal detection parameters alzheimer s disease', 'attentional function impaired alzheimer s disease ad moreover attention mediated acetylcholine but despite widespread use acetylcholinesterase inhibitors ache i augment available acetylcholine ad measures attentional function used assess drug response we hypothesized cholinergic augmentation impacts directly attentional system higher order measures visual selective attention would sensitive effects treatment using ache i donepezil hydrochloride also sought determine whether attentional measures sensitive treatment measures cognitive function seventeen patients ad 8 untreated 9 treated donepezil contrasted performance selective cancellation task two signal detection parameters used outcome measures decision strategy beta beta discriminability d prime d standard screening cognitive domain measures vigilance language memory executive function also contrasted treated patients judged stimuli conservatively p 0 29 correctly endorsing targets rejecting false alarms also discriminated targets distractors easily p 0 58 screening neuropsychological measures failed differentiate groups higher order attentional measures captured effects donepezil treatment small groups patients ad results suggest cholinergic availability may directly affect attentional system selective attention measures sensitive markers detect treatment response', '2015', '2005', 'clinical trial|journal article|research support, non-u.s. govt', '7', '4.0649999999999995', '2.16', '12.131993293762207', '21.92166519165039', '0.0', '0.08888888888888889', '1']\n"
     ]
    }
   ],
   "source": [
    "with open(f\"{TRAIN_PATH}/train_final_dataset_complete_no_onlykeywords.tsv\", newline='') as csvfile:\n",
    "    csvreader = csv.reader(csvfile, delimiter='\\t')\n",
    "    #header = next(csvreader)\n",
    "    n = 0\n",
    "    for row in csvreader:\n",
    "        n += 1\n",
    "        print(row)\n",
    "        #query_data.add(row[0])\n",
    "        #train_data.append(row)\n",
    "        if n >= 2: break"
   ]
  },
  {
   "cell_type": "code",
   "execution_count": 60,
   "metadata": {},
   "outputs": [
    {
     "data": {
      "text/plain": [
       "1000"
      ]
     },
     "execution_count": 60,
     "metadata": {},
     "output_type": "execute_result"
    }
   ],
   "source": [
    "len(train_data)"
   ]
  },
  {
   "cell_type": "code",
   "execution_count": null,
   "metadata": {},
   "outputs": [],
   "source": [
    "tokenizer, nb_words = load_tokenizer(f\"{MODEL_PATH}/{TOKENIZER_FILE}\", MAX_NB_WORDS)"
   ]
  },
  {
   "cell_type": "code",
   "execution_count": null,
   "metadata": {},
   "outputs": [],
   "source": [
    "embedding_matrix = np.load(f\"{MODEL_PATH}/{EMBEDDING_FILE}\")"
   ]
  },
  {
   "cell_type": "code",
   "execution_count": 68,
   "metadata": {},
   "outputs": [],
   "source": [
    "query_embeddings_ = model.encode(query_data)"
   ]
  },
  {
   "cell_type": "code",
   "execution_count": 61,
   "metadata": {},
   "outputs": [],
   "source": [
    "train_embeddings = model.encode(train_data)"
   ]
  },
  {
   "cell_type": "code",
   "execution_count": null,
   "metadata": {},
   "outputs": [],
   "source": [
    "for sent, sent_embedding in zip(query_data, query_embeddings_):\n",
    "    distances = distance.cdist([sent_embedding], train_embeddings, \"cosine\")[0]\n",
    "    top_5_ids = distances.argsort()[:5] #[::-1]\n",
    "    print(\"Sentence:\", sent)\n",
    "    for i in top_5_ids:\n",
    "        print(train_data[i])\n",
    "    print()"
   ]
  },
  {
   "cell_type": "code",
   "execution_count": null,
   "metadata": {},
   "outputs": [],
   "source": [
    "header, test_data[:5]"
   ]
  },
  {
   "cell_type": "markdown",
   "metadata": {},
   "source": [
    "# Deep Information Retrieval Models"
   ]
  },
  {
   "cell_type": "markdown",
   "metadata": {},
   "source": [
    "## Load Test Data"
   ]
  },
  {
   "cell_type": "code",
   "execution_count": 2,
   "metadata": {},
   "outputs": [],
   "source": [
    "import csv"
   ]
  },
  {
   "cell_type": "code",
   "execution_count": 3,
   "metadata": {},
   "outputs": [],
   "source": [
    "BASE_PATH = \"/jupiter/cl17d/Project/src_new\"\n",
    "TESTDATA_PATH_SQL_ST = \"case_SQL_testing_final_complete\"\n",
    "TESTDATA_PATH_PTF_ST = \"case_PubMed_testing_final_complete\"\n",
    "TESTDATA_PATH_PBM_ST = \"case_PubMed_BM_testing_final_complete\"\n",
    "TESTDATA_PATH_GGS_ST = \"case_Google_scholar_testing_final_complete\""
   ]
  },
  {
   "cell_type": "code",
   "execution_count": 4,
   "metadata": {},
   "outputs": [],
   "source": [
    "n = 0\n",
    "test_set = {}\n",
    "# for f in range(461, 561):\n",
    "with open(f\"{BASE_PATH}/{TESTDATA_PATH_SQL_ST}/DL_data_search_result_sentence_citation461.csv\", newline='') as csvfile:\n",
    "    csvreader = csv.reader(csvfile, delimiter='\\t')\n",
    "    header = next(csvreader)\n",
    "    for row in csvreader:\n",
    "        n += 1\n",
    "        sent = f\"{row[0]}|{row[1]}|{row[3]}|{row[-1]}\"\n",
    "        if sent not in test_set:\n",
    "            test_set[sent] = {'sent':row[0], 'retpmids':[], 'titles':[], 'abstracts':[]}\n",
    "        test_set[sent]['retpmids'].append(row[2])\n",
    "        test_set[sent]['titles'].append(row[4])\n",
    "        test_set[sent]['abstracts'].append(row[5])"
   ]
  },
  {
   "cell_type": "code",
   "execution_count": 5,
   "metadata": {},
   "outputs": [
    {
     "data": {
      "text/plain": [
       "1026"
      ]
     },
     "execution_count": 5,
     "metadata": {},
     "output_type": "execute_result"
    }
   ],
   "source": [
    "len(test_set)"
   ]
  },
  {
   "cell_type": "code",
   "execution_count": null,
   "metadata": {},
   "outputs": [],
   "source": [
    "for k, v in test_set.items():\n",
    "    print(len(v['retpmids']), len(v['titles']), len(v['abstracts']))"
   ]
  },
  {
   "cell_type": "code",
   "execution_count": null,
   "metadata": {},
   "outputs": [],
   "source": [
    "len(test_set[list(test_set.keys())[0]]['abstracts'])"
   ]
  },
  {
   "cell_type": "code",
   "execution_count": 249,
   "metadata": {},
   "outputs": [
    {
     "data": {
      "text/plain": [
       "'study investigated function ctgf psoriasis using established imiquimod imq induced psoriasis murine model samples psoriasis patients|29386832|19380832|8'"
      ]
     },
     "execution_count": 249,
     "metadata": {},
     "output_type": "execute_result"
    }
   ],
   "source": [
    "list(test_set.keys())[0]"
   ]
  },
  {
   "cell_type": "code",
   "execution_count": 251,
   "metadata": {},
   "outputs": [
    {
     "name": "stdout",
     "output_type": "stream",
     "text": [
      "26 19380832\n"
     ]
    }
   ],
   "source": [
    "for pmid_id, pmid in enumerate(test_set[list(test_set.keys())[0]]['retpmids']):\n",
    "    if pmid == '19380832':\n",
    "        print(pmid_id, pmid)"
   ]
  },
  {
   "cell_type": "markdown",
   "metadata": {},
   "source": [
    "## [SBERT](https://github.com/UKPLab/sentence-transformers)"
   ]
  },
  {
   "cell_type": "markdown",
   "metadata": {},
   "source": [
    "- Load the model"
   ]
  },
  {
   "cell_type": "code",
   "execution_count": 1,
   "metadata": {},
   "outputs": [],
   "source": [
    "from sentence_transformers import SentenceTransformer\n",
    "from scipy.spatial import distance\n",
    "import numpy as np"
   ]
  },
  {
   "cell_type": "code",
   "execution_count": 11,
   "metadata": {},
   "outputs": [
    {
     "name": "stderr",
     "output_type": "stream",
     "text": [
      "100%|██████████| 405M/405M [00:20<00:00, 20.0MB/s] \n"
     ]
    }
   ],
   "source": [
    "model = SentenceTransformer('bert-base-nli-mean-tokens')"
   ]
  },
  {
   "cell_type": "code",
   "execution_count": 12,
   "metadata": {},
   "outputs": [],
   "source": [
    "sentence = list(test_set.keys())[0].split('|')[0]\n",
    "cite_pmid = list(test_set.keys())[0].split('|')[2]\n",
    "se_rank = list(test_set.keys())[0].split('|')[3]"
   ]
  },
  {
   "cell_type": "code",
   "execution_count": 13,
   "metadata": {},
   "outputs": [
    {
     "data": {
      "text/plain": [
       "('study investigated function ctgf psoriasis using established imiquimod imq induced psoriasis murine model samples psoriasis patients',\n",
       " '19380832',\n",
       " '8')"
      ]
     },
     "execution_count": 13,
     "metadata": {},
     "output_type": "execute_result"
    }
   ],
   "source": [
    "sentence, cite_pmid, se_rank"
   ]
  },
  {
   "cell_type": "code",
   "execution_count": 259,
   "metadata": {},
   "outputs": [],
   "source": [
    "ret_ids = test_set[list(test_set.keys())[0]]['retpmids']\n",
    "ret_tis = test_set[list(test_set.keys())[0]]['titles']\n",
    "ret_abs = test_set[list(test_set.keys())[0]]['abstracts']"
   ]
  },
  {
   "cell_type": "code",
   "execution_count": 287,
   "metadata": {},
   "outputs": [],
   "source": [
    "cite_idx = ret_ids.index(cite_pmid)"
   ]
  },
  {
   "cell_type": "code",
   "execution_count": 290,
   "metadata": {},
   "outputs": [
    {
     "data": {
      "text/plain": [
       "(26,\n",
       " '19380832',\n",
       " 'imiquimod induced psoriasis like skin inflammation mice mediated via il 23 il 17 axis',\n",
       " 'topical application imiquimod imq tlr7 8 ligand potent immune activator induce exacerbate psoriasis chronic inflammatory skin disorder recently crucial role proposed il 23 il 17 axis psoriasis hypothesized imq induced dermatitis mice serve model analysis pathogenic mechanisms psoriasis like dermatitis assessed il 23 il 17 axis dependency daily application imq mouse back skin induced inflamed scaly skin lesions resembling plaque type psoriasis lesions showed increased epidermal proliferation abnormal differentiation epidermal accumulation neutrophils microabcesses neoangiogenesis infiltrates consisting cd4 cells cd11c dendritic cells plasmacytoid dendritic cells imq induced epidermal expression il 23 il 17a il 17f well increase splenic th17 cells imq induced dermatitis partially dependent presence cells whereas disease development almost completely blocked mice deficient il 23 il 17 receptor demonstrating pivotal role il 23 il 17 axis conclusion sole application innate tlr7 8 ligand imq rapidly induces dermatitis closely resembling human psoriasis critically dependent il 23 il 17 axis rapid convenient model allows elucidation pathogenic mechanisms evaluation new therapies psoriasis')"
      ]
     },
     "execution_count": 290,
     "metadata": {},
     "output_type": "execute_result"
    }
   ],
   "source": [
    "cite_idx, cite_pmid, ret_tis[cite_idx], ret_abs[cite_idx]"
   ]
  },
  {
   "cell_type": "code",
   "execution_count": 255,
   "metadata": {},
   "outputs": [],
   "source": [
    "sentence_embedding = model.encode(sentence)"
   ]
  },
  {
   "cell_type": "code",
   "execution_count": 258,
   "metadata": {},
   "outputs": [
    {
     "data": {
      "text/plain": [
       "768"
      ]
     },
     "execution_count": 258,
     "metadata": {},
     "output_type": "execute_result"
    }
   ],
   "source": [
    "len(sentence_embedding[0])"
   ]
  },
  {
   "cell_type": "code",
   "execution_count": 263,
   "metadata": {},
   "outputs": [
    {
     "name": "stdout",
     "output_type": "stream",
     "text": [
      "CPU times: user 5min 36s, sys: 2.01 s, total: 5min 38s\n",
      "Wall time: 22.2 s\n"
     ]
    }
   ],
   "source": [
    "%%time\n",
    "title_embeddings = model.encode(ret_tis)"
   ]
  },
  {
   "cell_type": "code",
   "execution_count": 266,
   "metadata": {},
   "outputs": [
    {
     "data": {
      "text/plain": [
       "1000"
      ]
     },
     "execution_count": 266,
     "metadata": {},
     "output_type": "execute_result"
    }
   ],
   "source": [
    "len(title_embeddings)"
   ]
  },
  {
   "cell_type": "code",
   "execution_count": 268,
   "metadata": {},
   "outputs": [],
   "source": [
    "%%time\n",
    "distances = distance.cdist(sentence_embedding, title_embeddings, \"cosine\")[0]"
   ]
  },
  {
   "cell_type": "code",
   "execution_count": 291,
   "metadata": {},
   "outputs": [
    {
     "data": {
      "text/plain": [
       "412"
      ]
     },
     "execution_count": 291,
     "metadata": {},
     "output_type": "execute_result"
    }
   ],
   "source": [
    "np.where(distances.argsort()==cite_idx)[0][0]"
   ]
  },
  {
   "cell_type": "code",
   "execution_count": 277,
   "metadata": {},
   "outputs": [
    {
     "data": {
      "text/plain": [
       "array([638, 389, 386, 162, 609, 884, 187, 390, 558, 384, 416, 459, 650,\n",
       "       404, 410, 667, 344, 644, 642, 672, 505,   8, 438, 627, 514, 666,\n",
       "       639, 186, 934, 198, 439, 754, 765, 351, 465, 183, 500, 366, 606,\n",
       "       503, 872, 220, 566, 565, 205, 798, 618, 199, 453, 649, 531, 490,\n",
       "       516, 587, 665, 519, 345, 352, 377, 259, 757, 367, 334, 223, 629,\n",
       "       628, 229, 414, 207, 528, 179, 621, 641, 480, 428, 282, 456, 535,\n",
       "       546, 357, 398, 574, 608, 495, 285, 307, 852, 189, 522, 635, 671,\n",
       "       496, 630, 194, 196, 626, 237, 548, 387, 202, 611, 405, 759, 513,\n",
       "       273, 469, 903, 810, 158, 349, 830, 849, 622, 511, 215, 601, 221,\n",
       "       539, 865, 331, 281, 436, 318, 773,  52, 218, 762, 106, 891, 685,\n",
       "        18, 174, 654, 581, 201, 722, 512, 301, 586, 851, 434, 677, 169,\n",
       "       481, 195, 230, 752, 782, 172, 694,  49, 464, 476, 165, 504, 580,\n",
       "       272, 122, 394, 596, 620, 624, 568, 302, 263, 691, 509, 278, 175,\n",
       "       482, 937, 257, 663, 876, 337, 588, 506, 875, 164,  21, 867, 560,\n",
       "       445, 471, 896, 228, 569, 933, 750, 919, 584, 203, 473, 960, 913,\n",
       "       275, 296, 714, 125, 978, 803, 996, 328, 904, 687, 766, 599, 475,\n",
       "       152, 764, 472, 992, 371, 797, 411,  60, 553, 288, 168, 837, 625,\n",
       "       846, 491,  20, 396,  73, 610, 184,  47, 886, 385, 276, 906, 637,\n",
       "       617, 289, 447, 210, 718, 612,  81, 744, 431, 314, 804, 139,   6,\n",
       "       567, 133, 437, 266, 449, 145, 670,   1, 613, 487, 633, 575, 701,\n",
       "       180, 418, 452, 241, 268,  76, 323, 356, 780, 838, 454, 457, 486,\n",
       "       604, 760, 420, 406,   9, 315, 696,  38, 391,  40, 623, 614, 720,\n",
       "       321, 217,  70, 839, 926, 748, 918,  97, 741, 502, 479, 834, 451,\n",
       "       711, 116, 332, 294,  27, 413, 485, 532, 443,  46, 737,  84, 233,\n",
       "       664, 292, 751, 441, 631, 299,  75, 132, 484, 248, 250, 153, 712,\n",
       "       131, 123, 593, 219, 707, 483, 326, 240, 110, 922, 993, 341, 336,\n",
       "       725, 881, 330, 583, 868, 440, 692, 562, 829, 661, 738,  92, 119,\n",
       "       578, 673, 647, 646, 743, 489, 976, 408, 742, 151, 772, 675, 253,\n",
       "       821, 319, 363, 634, 463, 897, 144, 140, 706, 306, 732, 291, 758,\n",
       "       417, 255, 736, 212, 923, 925, 988, 146,  51,  19, 658, 902, 888,\n",
       "       507, 693, 170, 188, 832, 842, 246, 880, 602, 645, 358, 680, 137,\n",
       "       424, 823, 142,  86, 928,  64, 446, 974, 686,  26, 252, 674, 264,\n",
       "       102, 421, 826, 399, 498, 361,  59, 173, 542, 669, 171, 493, 159,\n",
       "        71, 520,  66,  74, 368, 193, 824,  56, 660, 462, 177, 149, 185,\n",
       "       161,  82, 163, 592, 461, 284, 127, 883, 986, 382, 747, 746, 954,\n",
       "        55, 155, 980,  67, 912, 538, 138,  22,  96,  79, 957, 247, 342,\n",
       "       309, 455, 927, 254, 952, 559, 605, 178, 209, 112,  88, 308, 265,\n",
       "       848, 225, 895, 117, 794,  61, 251, 805, 105, 930, 936, 818, 698,\n",
       "       370, 935, 354, 615, 214,  36, 121, 191, 478, 688, 466,  39, 224,\n",
       "        48, 640, 878, 521, 648, 963, 433, 866, 570, 348, 541, 973, 243,\n",
       "       460, 719, 373,  72, 989, 200, 362, 971, 148, 141,  58, 809, 763,\n",
       "       827, 350, 585, 616, 279,  29, 425,  93, 235, 534,  89, 998, 921,\n",
       "        37, 518,  16, 874, 280, 600, 802,  57,   0, 822, 857, 726,  50,\n",
       "       375, 160,   2, 761, 118, 981, 242, 683, 409, 591, 346,  45, 636,\n",
       "       556, 931, 322, 724,  83, 313, 603, 324, 964, 295,  30, 929,  78,\n",
       "       947, 497, 901, 400,  41, 690, 877, 517, 702,  91, 681, 147,  53,\n",
       "        34,  80, 213, 109, 983, 245, 470, 941, 775, 374, 448, 204, 124,\n",
       "        95, 619,  32, 101, 723, 156, 537, 856,  31, 353,  90, 468, 115,\n",
       "       402, 774, 715, 192, 579, 311, 232, 244, 359, 442, 270, 739, 975,\n",
       "       136, 595, 310, 800, 659,  54, 890, 435, 226, 114, 381, 550, 376,\n",
       "       488, 415, 879, 781, 779, 397, 494, 134, 304, 392, 249, 836, 863,\n",
       "       208, 813, 316, 721, 678, 709, 816, 979, 598, 283, 561, 467, 943,\n",
       "       260, 564, 695, 312, 982, 167, 407, 126, 915, 713, 727, 894, 990,\n",
       "       355, 582, 958, 286,  69, 994, 831, 908, 176,  35, 970, 955, 108,\n",
       "       796, 882, 267, 555, 320, 870, 216,  98, 181, 948, 855, 790, 843,\n",
       "       422, 917, 182,  87, 700, 699,  85,  10, 458, 914, 787,  65, 717,\n",
       "       197, 905, 938,   3,  99, 806,  23, 968, 811, 262, 785, 427, 949,\n",
       "       740, 325, 365, 820, 103, 190, 211, 953, 786,  42,  94, 828, 815,\n",
       "       984, 607, 222, 864,  13, 510, 841, 729, 745, 594, 150, 972, 271,\n",
       "       474, 652, 477, 840,  14, 107, 274, 689, 104, 924, 297, 551, 524,\n",
       "        33, 768, 379, 985, 854, 120, 450, 576, 236, 429,  62, 540, 300,\n",
       "       847, 845, 231, 261, 898, 716,   7, 966, 889, 343, 656, 380, 932,\n",
       "       801, 792, 899, 372, 327,  17, 807, 944, 589, 956, 892, 573, 911,\n",
       "       950,  15, 858, 303, 432, 850, 783, 154, 157, 791, 206, 710,  43,\n",
       "       401, 533, 871, 430, 778, 795, 756, 662, 563, 862, 340, 143, 997,\n",
       "       653, 900, 920, 969,  25,  77, 492, 234, 527, 869, 277, 166, 339,\n",
       "       423, 515, 987, 643, 977, 552,  68, 907, 777, 873, 529, 704, 767,\n",
       "       682, 697, 942, 819, 547, 113, 753, 395, 885, 812, 860, 999, 965,\n",
       "       369, 287, 444, 549, 776, 733,  44, 770, 388, 269, 825,  24, 393,\n",
       "       676, 501, 545, 543, 364, 833, 128, 499, 909, 554, 657, 784, 130,\n",
       "        63, 668, 887, 910, 378, 655, 412, 731, 995, 571, 799, 817, 258,\n",
       "       293, 426, 335, 403, 597, 508, 735, 893, 100, 317, 111, 844, 238,\n",
       "       991, 788, 557, 338, 360, 239, 967, 705, 544, 679,  11, 526, 135,\n",
       "       329, 523, 853, 577, 808, 651, 227, 945, 632,   5, 298, 419, 525,\n",
       "        12, 290, 684, 814, 859, 951, 961, 939, 708, 572, 530, 730, 305,\n",
       "       383,   4, 536, 940, 347, 734,  28, 835, 256, 916, 861, 755, 728,\n",
       "       769, 703, 771, 749, 962, 959, 793, 129, 333, 590, 946, 789])"
      ]
     },
     "execution_count": 277,
     "metadata": {},
     "output_type": "execute_result"
    }
   ],
   "source": [
    "distances.argsort()"
   ]
  },
  {
   "cell_type": "code",
   "execution_count": 292,
   "metadata": {},
   "outputs": [
    {
     "name": "stdout",
     "output_type": "stream",
     "text": [
      "CPU times: user 4d 2h 12min 34s, sys: 52min 21s, total: 4d 3h 4min 55s\n",
      "Wall time: 6h 36min 42s\n"
     ]
    }
   ],
   "source": [
    "%%time\n",
    "ranks = []\n",
    "for k, v in test_set.items():\n",
    "    sentence = k.split('|')[0]\n",
    "    cite_pmid = k.split('|')[2]\n",
    "    se_rank = k.split('|')[3]\n",
    "    ret_ids = v['retpmids']\n",
    "    ret_tis = v['titles']\n",
    "    ret_abs = v['abstracts']\n",
    "    cite_idx = ret_ids.index(cite_pmid)\n",
    "    sentence_embedding = model.encode(sentence)\n",
    "    title_embeddings = model.encode(ret_tis)\n",
    "    distances = distance.cdist(sentence_embedding, title_embeddings, \"cosine\")[0]\n",
    "    re_rank = np.where(distances.argsort()==cite_idx)[0][0]\n",
    "    ranks.append((se_rank, re_rank))\n",
    "#     print(len(v['retpmids']), len(v['titles']), len(v['abstracts']))"
   ]
  },
  {
   "cell_type": "code",
   "execution_count": 293,
   "metadata": {},
   "outputs": [
    {
     "data": {
      "text/plain": [
       "1026"
      ]
     },
     "execution_count": 293,
     "metadata": {},
     "output_type": "execute_result"
    }
   ],
   "source": [
    "len(ranks)"
   ]
  },
  {
   "cell_type": "code",
   "execution_count": 297,
   "metadata": {},
   "outputs": [
    {
     "name": "stdout",
     "output_type": "stream",
     "text": [
      "262\n"
     ]
    }
   ],
   "source": [
    "n = 0\n",
    "for i in ranks:\n",
    "    if int(i[1]) < int(i[0]):\n",
    "        n += 1\n",
    "print(n)"
   ]
  },
  {
   "cell_type": "code",
   "execution_count": null,
   "metadata": {},
   "outputs": [],
   "source": [
    "ranks"
   ]
  },
  {
   "cell_type": "code",
   "execution_count": null,
   "metadata": {},
   "outputs": [],
   "source": []
  },
  {
   "cell_type": "code",
   "execution_count": null,
   "metadata": {},
   "outputs": [],
   "source": []
  },
  {
   "cell_type": "code",
   "execution_count": 3,
   "metadata": {},
   "outputs": [],
   "source": [
    "sentences = ['This framework generates embeddings for each input sentence',\n",
    "             'Sentences are passed as a list of string.',\n",
    "             'The quick brown fox jumps over the lazy dog.']\n",
    "sentence_embeddings = model.encode(sentences)"
   ]
  },
  {
   "cell_type": "code",
   "execution_count": 5,
   "metadata": {},
   "outputs": [
    {
     "name": "stdout",
     "output_type": "stream",
     "text": [
      "Sentence: This framework generates embeddings for each input sentence\n",
      "Embedding: 768\n",
      "\n",
      "Sentence: Sentences are passed as a list of string.\n",
      "Embedding: 768\n",
      "\n",
      "Sentence: The quick brown fox jumps over the lazy dog.\n",
      "Embedding: 768\n",
      "\n"
     ]
    }
   ],
   "source": [
    "for sentence, embedding in zip(sentences, sentence_embeddings):\n",
    "    print(\"Sentence:\", sentence)\n",
    "    print(\"Embedding:\", len(embedding))\n",
    "    print(\"\")"
   ]
  },
  {
   "cell_type": "code",
   "execution_count": 6,
   "metadata": {},
   "outputs": [],
   "source": [
    "corpus = ['A man is eating food.',\n",
    "          'A man is eating a piece of bread.',\n",
    "          'The girl is carrying a baby.',\n",
    "          'A man is riding a horse.',\n",
    "          'A woman is playing violin.',\n",
    "          'Two men pushed carts through the woods.',\n",
    "          'A man is riding a white horse on an enclosed ground.',\n",
    "          'A monkey is playing drums.',\n",
    "          'A cheetah is running behind its prey.']"
   ]
  },
  {
   "cell_type": "code",
   "execution_count": 8,
   "metadata": {},
   "outputs": [],
   "source": [
    "corpus_embeddings = model.encode(corpus)"
   ]
  },
  {
   "cell_type": "code",
   "execution_count": 66,
   "metadata": {},
   "outputs": [
    {
     "data": {
      "text/plain": [
       "768"
      ]
     },
     "execution_count": 66,
     "metadata": {},
     "output_type": "execute_result"
    }
   ],
   "source": [
    "len(corpus_embeddings[0])"
   ]
  },
  {
   "cell_type": "code",
   "execution_count": 10,
   "metadata": {},
   "outputs": [],
   "source": [
    "queries = ['A man is eating pasta.',\n",
    "           'Someone in a gorilla costume is playing a set of drums.',\n",
    "           'A cheetah chases prey on across a field.']\n",
    "query_embeddings = model.encode(queries)"
   ]
  },
  {
   "cell_type": "code",
   "execution_count": 31,
   "metadata": {},
   "outputs": [
    {
     "name": "stdout",
     "output_type": "stream",
     "text": [
      "Query: A man is eating pasta.\n",
      "A man is eating a piece of bread.\n",
      "A man is eating food.\n",
      "Two men pushed carts through the woods.\n",
      "A monkey is playing drums.\n",
      "A man is riding a white horse on an enclosed ground.\n",
      "\n",
      "Query: Someone in a gorilla costume is playing a set of drums.\n",
      "A monkey is playing drums.\n",
      "A cheetah is running behind its prey.\n",
      "The girl is carrying a baby.\n",
      "A man is riding a horse.\n",
      "A man is riding a white horse on an enclosed ground.\n",
      "\n",
      "Query: A cheetah chases prey on across a field.\n",
      "A cheetah is running behind its prey.\n",
      "Two men pushed carts through the woods.\n",
      "A monkey is playing drums.\n",
      "A man is riding a horse.\n",
      "A man is riding a white horse on an enclosed ground.\n",
      "\n"
     ]
    }
   ],
   "source": [
    "for query, query_embedding in zip(queries, query_embeddings):\n",
    "    distances = distance.cdist([query_embedding], corpus_embeddings, \"cosine\")[0]\n",
    "    top_n_ids = distances.argsort()[:5] #[::-1]\n",
    "    print(\"Query:\", query)\n",
    "    for i in top_n_ids:\n",
    "        print(corpus[i])\n",
    "    print()"
   ]
  },
  {
   "cell_type": "code",
   "execution_count": 32,
   "metadata": {},
   "outputs": [
    {
     "data": {
      "text/plain": [
       "array([0.97565166, 0.95483546, 0.87328053, 0.70701569, 0.94015307,\n",
       "       0.6337635 , 0.72819961, 0.69392713, 0.09933369])"
      ]
     },
     "execution_count": 32,
     "metadata": {},
     "output_type": "execute_result"
    }
   ],
   "source": [
    "distances"
   ]
  },
  {
   "cell_type": "code",
   "execution_count": 23,
   "metadata": {},
   "outputs": [
    {
     "data": {
      "text/plain": [
       "array([0, 1, 4, 2, 6])"
      ]
     },
     "execution_count": 23,
     "metadata": {},
     "output_type": "execute_result"
    }
   ],
   "source": [
    "distances.argsort()[::-1][:5]"
   ]
  },
  {
   "cell_type": "code",
   "execution_count": 39,
   "metadata": {},
   "outputs": [
    {
     "data": {
      "text/plain": [
       "768"
      ]
     },
     "execution_count": 39,
     "metadata": {},
     "output_type": "execute_result"
    }
   ],
   "source": [
    "len(np.array(corpus_embeddings).mean(axis=0))"
   ]
  },
  {
   "cell_type": "code",
   "execution_count": 44,
   "metadata": {},
   "outputs": [
    {
     "data": {
      "text/plain": [
       "0.5123771250750835"
      ]
     },
     "execution_count": 44,
     "metadata": {},
     "output_type": "execute_result"
    }
   ],
   "source": [
    "distance.cdist([query_embedding], [np.array(corpus_embeddings).mean(axis=0)], \"cosine\")[0][0]"
   ]
  },
  {
   "cell_type": "markdown",
   "metadata": {},
   "source": [
    "## [OpenMatch](https://github.com/thunlp/OpenMatch)"
   ]
  },
  {
   "cell_type": "code",
   "execution_count": 1,
   "metadata": {},
   "outputs": [],
   "source": [
    "import torch\n",
    "import OpenMatch as om"
   ]
  },
  {
   "cell_type": "code",
   "execution_count": null,
   "metadata": {},
   "outputs": [],
   "source": [
    "from transformers import AutoTokenizer\n",
    "\n",
    "tokenizer = AutoTokenizer.from_pretrained(\"allenai/scibert_scivocab_uncased\")\n",
    "model = om.models.Bert(\"allenai/scibert_scivocab_uncased\")"
   ]
  },
  {
   "cell_type": "code",
   "execution_count": null,
   "metadata": {},
   "outputs": [],
   "source": [
    "tokenizer = AutoTokenizer.from_pretrained(\"openmatch/bert-base_marco-doc_firstp\")\n",
    "model = om.models.Bert(\"openmatch/bert-base_marco-doc_firstp\")"
   ]
  },
  {
   "cell_type": "code",
   "execution_count": 3,
   "metadata": {},
   "outputs": [],
   "source": [
    "query = \"Classification treatment COVID-19\"\n",
    "doc = \"By retrospectively tracking the dynamic changes of LYM% in death cases and cured cases, this study suggests that lymphocyte count is an effective and reliable indicator for disease classification and prognosis in COVID-19 patients.\""
   ]
  },
  {
   "cell_type": "code",
   "execution_count": 4,
   "metadata": {},
   "outputs": [],
   "source": [
    "input_ids = tokenizer.encode(query, doc)\n",
    "ranking_score, ranking_features = model(torch.tensor(input_ids).unsqueeze(0))"
   ]
  },
  {
   "cell_type": "code",
   "execution_count": 11,
   "metadata": {},
   "outputs": [
    {
     "data": {
      "text/plain": [
       "49"
      ]
     },
     "execution_count": 11,
     "metadata": {},
     "output_type": "execute_result"
    }
   ],
   "source": [
    "len(input_ids)"
   ]
  },
  {
   "cell_type": "code",
   "execution_count": 5,
   "metadata": {},
   "outputs": [
    {
     "data": {
      "text/plain": [
       "tensor([0.7896], grad_fn=<SqueezeBackward1>)"
      ]
     },
     "execution_count": 5,
     "metadata": {},
     "output_type": "execute_result"
    }
   ],
   "source": [
    "ranking_score"
   ]
  },
  {
   "cell_type": "code",
   "execution_count": 13,
   "metadata": {},
   "outputs": [
    {
     "data": {
      "text/plain": [
       "768"
      ]
     },
     "execution_count": 13,
     "metadata": {},
     "output_type": "execute_result"
    }
   ],
   "source": [
    "len(ranking_features[0])"
   ]
  },
  {
   "cell_type": "code",
   "execution_count": null,
   "metadata": {},
   "outputs": [],
   "source": []
  },
  {
   "cell_type": "markdown",
   "metadata": {},
   "source": [
    "## [FlexNeuART](https://github.com/oaqa/FlexNeuART)"
   ]
  },
  {
   "cell_type": "code",
   "execution_count": 27,
   "metadata": {},
   "outputs": [],
   "source": [
    "import json\n",
    "import time"
   ]
  },
  {
   "cell_type": "code",
   "execution_count": null,
   "metadata": {},
   "outputs": [],
   "source": [
    "test_sents = json.load(open('test_sents_pubmed_bm.json'))"
   ]
  },
  {
   "cell_type": "code",
   "execution_count": null,
   "metadata": {},
   "outputs": [],
   "source": [
    "n = 0\n",
    "for v in test_sents.values():\n",
    "    for c in v['citations']:\n",
    "        if c in v['pmids']:\n",
    "            n += 1\n",
    "            print(v['pmids'].index(c))\n",
    "        else: print(c)\n",
    "print(n)"
   ]
  },
  {
   "cell_type": "code",
   "execution_count": 2,
   "metadata": {},
   "outputs": [],
   "source": [
    "import requests\n",
    "from bs4 import BeautifulSoup"
   ]
  },
  {
   "cell_type": "code",
   "execution_count": 3,
   "metadata": {},
   "outputs": [],
   "source": [
    "# funtion for getting web pages\n",
    "def get_page(url):\n",
    "    session = requests.Session()\n",
    "    headers = {'User-Agent': 'Mozilla/5.0 (Macintosh; Intel Mac OS X 10_9_5) Chrome/39.0.2171.95 Safari/537.36',\n",
    "               'Accept': 'text/html,application/xhtml+xml,application/xml;q=0.9,image/webp,*/*;q=0.8'}        \n",
    "    try:\n",
    "        req = session.get(url, headers=headers)\n",
    "    except requests.exceptions.RequestException:\n",
    "        return None\n",
    "    req.encoding = 'utf-8'\n",
    "    if req.text == '':\n",
    "        return None\n",
    "    return req.text"
   ]
  },
  {
   "cell_type": "code",
   "execution_count": 37,
   "metadata": {},
   "outputs": [],
   "source": [
    "# function for query google scholar\n",
    "def googlescholar_search(query, year='2020'):\n",
    "    ggs_url = 'https://scholar.google.com/scholar'\n",
    "    ggs_url += f'?q=site:pubmed.ncbi.nlm.nih.gov {query}' # sort=date,pubdate &sort_order=asc\n",
    "    ggs_url += f'&hl=en&as_sdt=0,10&as_ylo=1977&as_yhi={year}'\n",
    "    soup = BeautifulSoup(get_page(ggs_url), 'html')\n",
    "    counts = int(soup.find('div', attrs={'id':'gs_ab_md'}).text.split()[1].replace(',', ''))\n",
    "    idlist = []\n",
    "    for h3 in soup.find('body').find_all('h3'):\n",
    "        idlist.append(h3.a['href'].split('/')[-2])\n",
    "    time.sleep(2)\n",
    "    for page in range(10, 500, 10):\n",
    "        page_url = f\"{ggs_url}&start={page}\"\n",
    "        soup = BeautifulSoup(get_page(page_url), 'html')\n",
    "        for h3 in soup.find('body').find_all('h3'):\n",
    "            idlist.append(h3.a['href'].split('/')[-2])\n",
    "        time.sleep(2)\n",
    "    return counts, idlist"
   ]
  },
  {
   "cell_type": "code",
   "execution_count": 38,
   "metadata": {},
   "outputs": [],
   "source": [
    "base_path = '/jupiter/cl17d/Project/src_new'"
   ]
  },
  {
   "cell_type": "code",
   "execution_count": 39,
   "metadata": {},
   "outputs": [],
   "source": [
    "# Test sentences record\n",
    "test_sentences_records = json.load(open(f\"{base_path}/test_sentences_records.json\"))"
   ]
  },
  {
   "cell_type": "code",
   "execution_count": 40,
   "metadata": {},
   "outputs": [
    {
     "data": {
      "text/plain": [
       "96950"
      ]
     },
     "execution_count": 40,
     "metadata": {},
     "output_type": "execute_result"
    }
   ],
   "source": [
    "len(test_sentences_records)"
   ]
  },
  {
   "cell_type": "code",
   "execution_count": 41,
   "metadata": {},
   "outputs": [],
   "source": [
    "n = 0\n",
    "test_google_scholar = {} #json.load(open('test_sents_google_scholar.json'))\n",
    "remaining_set = set()"
   ]
  },
  {
   "cell_type": "code",
   "execution_count": null,
   "metadata": {},
   "outputs": [
    {
     "name": "stdout",
     "output_type": "stream",
     "text": [
      "1000\n",
      "2000\n"
     ]
    }
   ],
   "source": [
    "for k, v in test_sentences_records.items():\n",
    "    if k in test_google_scholar: continue\n",
    "    n += 1\n",
    "    if n % 1000 == 0:\n",
    "        print(n)\n",
    "        json.dump(test_google_scholar, open('test_sents_google_scholar.json', 'w', encoding='utf-8'))\n",
    "    query = '+OR+'.join(k.split('|')[0].strip().split())\n",
    "    year = v['year'][0]\n",
    "#     print(query, year)\n",
    "    try:\n",
    "        counts, pmids = googlescholar_search(query, year)\n",
    "    except:\n",
    "        remaining_set.add(k)\n",
    "        continue\n",
    "#     print(counts, len(pmids))\n",
    "    test_google_scholar[k] = {'year':year, 'citations':v['citations'], 'counts':counts, 'pmids':pmids}\n",
    "    time.sleep(15)\n",
    "json.dump(test_google_scholar, open('test_sents_google_scholar.json', 'w', encoding='utf-8'))"
   ]
  },
  {
   "cell_type": "code",
   "execution_count": 20,
   "metadata": {},
   "outputs": [
    {
     "data": {
      "text/plain": [
       "100"
      ]
     },
     "execution_count": 20,
     "metadata": {},
     "output_type": "execute_result"
    }
   ],
   "source": [
    "len(list(test_google_scholar.items())[0][1]['pmids'])"
   ]
  },
  {
   "cell_type": "code",
   "execution_count": 21,
   "metadata": {},
   "outputs": [],
   "source": [
    "# testing query\n",
    "query_or = 'breast cancer'\n",
    "query_sen = 'psoriasis imiquimod imq induced psoriasis model psoriasis'\n",
    "query = '+OR+'.join(query_sen.split())\n",
    "year = '2019'"
   ]
  },
  {
   "cell_type": "code",
   "execution_count": 22,
   "metadata": {},
   "outputs": [
    {
     "data": {
      "text/plain": [
       "'psoriasis+OR+imiquimod+OR+imq+OR+induced+OR+psoriasis+OR+model+OR+psoriasis'"
      ]
     },
     "execution_count": 22,
     "metadata": {},
     "output_type": "execute_result"
    }
   ],
   "source": [
    "query"
   ]
  },
  {
   "cell_type": "code",
   "execution_count": 13,
   "metadata": {},
   "outputs": [],
   "source": [
    "counts, pmids = googlescholar_search(query, year)"
   ]
  },
  {
   "cell_type": "code",
   "execution_count": 14,
   "metadata": {},
   "outputs": [
    {
     "data": {
      "text/plain": [
       "(6970, 500)"
      ]
     },
     "execution_count": 14,
     "metadata": {},
     "output_type": "execute_result"
    }
   ],
   "source": [
    "counts, len(pmids)"
   ]
  },
  {
   "cell_type": "code",
   "execution_count": 28,
   "metadata": {},
   "outputs": [],
   "source": [
    "ggs_url = 'https://scholar.google.com/scholar'\n",
    "ggs_url += f'?q=site:pubmed.ncbi.nlm.nih.gov {query}' # sort=date,pubdate &sort_order=asc\n",
    "ggs_url += f'&hl=en&as_sdt=0,10&as_ylo=1977&as_yhi={year}'"
   ]
  },
  {
   "cell_type": "code",
   "execution_count": 32,
   "metadata": {},
   "outputs": [
    {
     "data": {
      "text/plain": [
       "'https://scholar.google.com/scholar?q=site:pubmed.ncbi.nlm.nih.gov psoriasis+OR+imiquimod+OR+imq+OR+induced+OR+psoriasis+OR+model+OR+psoriasis&hl=en&as_sdt=0,10&as_ylo=1977&as_yhi=2019'"
      ]
     },
     "execution_count": 32,
     "metadata": {},
     "output_type": "execute_result"
    }
   ],
   "source": [
    "ggs_url"
   ]
  },
  {
   "cell_type": "code",
   "execution_count": 35,
   "metadata": {},
   "outputs": [],
   "source": [
    "soup = BeautifulSoup(get_page(ggs_url), 'html')"
   ]
  },
  {
   "cell_type": "code",
   "execution_count": 36,
   "metadata": {},
   "outputs": [
    {
     "data": {
      "text/plain": [
       "<!DOCTYPE html>\n",
       "<html><head><title>Google Scholar</title><meta content=\"text/html;charset=utf-8\" http-equiv=\"Content-Type\"/><meta content=\"IE=Edge\" http-equiv=\"X-UA-Compatible\"/><meta content=\"always\" name=\"referrer\"/><meta content=\"width=device-width,initial-scale=1,minimum-scale=1,maximum-scale=2\" name=\"viewport\"/><meta content=\"telephone=no\" name=\"format-detection\"/><link href=\"/favicon.ico\" rel=\"shortcut icon\"/><style>html,body,form,table,div,h1,h2,h3,h4,h5,h6,img,ol,ul,li,button{margin:0;padding:0;border:0;}table{border-collapse:collapse;border-width:0;empty-cells:show;}html,body{height:100%}#gs_top{position:relative;box-sizing:border-box;min-height:100%;min-width:964px;-webkit-tap-highlight-color:rgba(0,0,0,0);}#gs_top>*:not(#x){-webkit-tap-highlight-color:rgba(204,204,204,.5);}.gs_el_ph #gs_top,.gs_el_ta #gs_top{min-width:320px;}#gs_top.gs_nscl{position:fixed;width:100%;}body,td,input,button{font-size:13px;font-family:Arial,sans-serif;line-height:1.24;}body{background:#fff;color:#222;-webkit-text-size-adjust:100%;-moz-text-size-adjust:none;}.gs_gray{color:#777777}.gs_red{color:#dd4b39}.gs_grn{color:#006621}.gs_lil{font-size:11px}.gs_med{font-size:16px}.gs_hlt{font-weight:bold;}a:link{color:#1a0dab;text-decoration:none}a:visited{color:#660099;text-decoration:none}a:hover,a:hover .gs_lbl{text-decoration:underline}a:active,a:active .gs_lbl,a .gs_lbl:active{color:#d14836}.gs_el_tc a:hover,.gs_el_tc a:hover .gs_lbl{text-decoration:none}.gs_pfcs a:focus,.gs_pfcs button:focus,.gs_pfcs input:focus,.gs_pfcs label:focus{outline:none}.gs_a,.gs_a a:link,.gs_a a:visited{color:#006621}.gs_a a:active{color:#d14836}a.gs_fl:link,.gs_fl a:link{color:#1a0dab}a.gs_fl:visited,.gs_fl a:visited{color:#660099}a.gs_fl:active,.gs_fl a:active{color:#d14836}.gs_fl{color:#777777}.gs_ctc,.gs_ctu{vertical-align:middle;font-size:11px;font-weight:bold}.gs_ctc{color:#1a0dab}.gs_ctg,.gs_ctg2{font-size:13px;font-weight:bold}.gs_ctg{color:#1a0dab}a.gs_pda,.gs_pda a{padding:7px 0 5px 0}.gs_alrt{background:#f9edbe;border:1px solid #f0c36d;padding:0 16px;text-align:center;box-shadow:0 2px 4px rgba(0,0,0,.2);border-radius:2px;}.gs_spc{display:inline-block;width:12px}.gs_br{width:0;font-size:0}.gs_ibl{display:inline-block;}.gs_scl:after{content:\"\";display:table;clear:both;}.gs_ind{padding-left:8px;text-indent:-8px}.gs_ico,.gs_icm{display:inline-block;background:no-repeat url(/intl/en/scholar/images/1x/sprite_20161020.png);background-position:-23px -161px;background-size:169px;width:21px;height:21px;}@media(-webkit-min-device-pixel-ratio:1.5),(min-resolution:144dpi){.gs_ico,.gs_icm{background-image:url(/intl/en/scholar/images/2x/sprite_20161020.png);}}.gs_el_ta .gs_nta,.gs_ota,.gs_el_ph .gs_nph,.gs_oph{display:none}.gs_el_ta .gs_ota,.gs_el_ph .gs_oph{display:inline}.gs_el_ta div.gs_ota,.gs_el_ph div.gs_oph{display:block}.gs_sth_g{visibility:hidden;max-height:0;}.gs_sth_vis .gs_sth_g{max-height:1000px;}.gs_sth_vis .gs_sth_b{position:fixed;top:0;}@keyframes gs_anm_spin{0%{transform:rotate(0deg);}100%{transform:rotate(360deg);}}.gs_rimg{display:block;background-color:#e5e5e5;border-radius:50%;overflow:hidden;position:relative;z-index:1;}.gs_rimg>img{position:absolute;margin:auto;left:0;top:0;bottom:0;right:0;}.gs_in_txtw{display:inline-block;vertical-align:middle;}.gs_in_txtb{display:block;}.gs_in_txt{color:#000;background-color:#fff;font-size:16px;box-sizing:border-box;height:29px;line-height:23px;border:1px solid #d9d9d9;border-top-color:#c0c0c0;padding:3px 6px 1px 8px;border-radius:1px;outline:none;-webkit-appearance:none;-moz-appearance:none;}.gs_el_tc .gs_in_txt{font-size:18px;}.gs_in_txtb .gs_in_txt{width:100%;}.gs_in_txt:hover{border-color:#b9b9b9;border-top-color:#a0a0a0;box-shadow:inset 0 1px 2px rgba(0,0,0,.1);}.gs_in_txte .gs_in_txt{border-color:#dd4b39;}.gs_in_txt:focus{border-color:#4d90fe;box-shadow:inset 0 1px 2px rgba(0,0,0,.3);}.gs_in_txt:disabled{color:#b8b8b8;border-color:#f1f1f1;box-shadow:none;}.gs_in_txtm .gs_in_txt{font-size:13px;height:24px;line-height:16px;padding:3px 6px;}.gs_el_tc .gs_in_txtm .gs_in_txt{height:29px;line-height:21px;}.gs_in_txts{font-size:13px;line-height:18px;color:#666;}.gs_in_txte .gs_in_txts{color:#dd4b39;}button{position:relative;z-index:1;box-sizing:border-box;font-size:13px;cursor:pointer;height:29px;line-height:normal;min-width:72px;padding:0 8px;color:#444;border:1px solid rgba(0,0,0,.1);border-radius:3px;text-align:center;background-color:#f5f5f5;user-select:none;}button.gs_btn_rnd{border-radius:14px;padding:0 12px;}button.gs_btn_rnd.gs_btn_rndci{padding-left:4px;}button.gs_btn_lrge{height:41px;min-width:82px;padding:0 9px;}button.gs_btn_lrge.gs_btn_rnd{border-radius:20px;padding:0 16px;}button.gs_btn_lrge.gs_btn_rnd.gs_btn_rndci{padding-left:10px;}button.gs_btn_mini{padding:0;border:0;}.gs_el_ph button.gs_btn_mph,.gs_el_ta button.gs_btn_mta{height:41px;}button .gs_wr{position:relative;display:inline-block;width:100%;height:100%;}button .gs_wr:before{content:\"\";width:0;height:100%;}button .gs_wr:before,button .gs_ico,button .gs_rdt,button .gs_lbl,button .gs_icm{display:inline-block;vertical-align:middle;}button .gs_wr{font-size:13px;text-transform:none;}.gs_btn_lrge .gs_wr{font-size:15px;}.gs_btn_lsb .gs_wr{font-size:11px;font-weight:bold;}.gs_btn_lsu .gs_wr{font-size:11px;text-transform:uppercase;}.gs_btn_lrge.gs_btn_lsb .gs_wr,.gs_btn_lrge.gs_btn_lsu .gs_wr{font-size:13px;}.gs_btn_half,.gs_el_ta .gs_btn_hta,.gs_el_ph .gs_btn_hph{min-width:36px;}.gs_btn_lrge.gs_btn_half,.gs_el_ta .gs_btn_lrge.gs_btn_hta,.gs_el_ph .gs_btn_lrge.gs_btn_hph,.gs_el_ta .gs_btn_mta,.gs_el_ph .gs_btn_mph{min-width:41px;}.gs_btn_slt{border-radius:3px 0 0 3px;}.gs_btn_srt{margin-left:-1px;border-radius:0 3px 3px 0;}.gs_btn_smd{margin-left:-1px;border-radius:0;}button:hover{z-index:2;color:#222;border-color:rgba(0,0,0,.2);background-color:#f8f8f8;}button.gs_sel{background-color:#dcdcdc;}button:active{z-index:2;background-color:#f1f1f1;}button:focus{z-index:2;}button::-moz-focus-inner{padding:0;border:0}button:-moz-focusring{outline:1px dotted ButtonText}.gs_pfcs button:-moz-focusring{outline:none}a.gs_in_ib{position:relative;display:inline-block;line-height:16px;padding:6px 0 7px 0;user-select:none;}a.gs_btn_lrge{height:40px;padding:0;}a.gs_in_ib .gs_lbl{display:inline-block;padding-left:21px;color:#222;}a.gs_in_ib .gs_lbl:not(:empty){padding-left:29px;}button.gs_in_ib .gs_lbl:not(:empty){padding-left:4px;}a.gs_in_ib:active .gs_lbl,a.gs_in_ib .gs_lbl:active,a.gs_in_ib :active~.gs_lbl{color:#d14836;}.gs_el_ta .gs_btn_hta .gs_lbl,.gs_el_ph .gs_btn_hph .gs_lbl,.gs_el_ta .gs_btn_mta .gs_lbl,.gs_el_ph .gs_btn_mph .gs_lbl,.gs_el_ta .gs_btn_cta .gs_lbl,.gs_el_ph .gs_btn_cph .gs_lbl{display:none;}a.gs_in_ib .gs_ico{position:absolute;top:3px;left:0;}.gs_in_ib.gs_md_li .gs_ico{left:14px;}.gs_el_tc .gs_in_ib.gs_md_li .gs_ico{top:11px;}.gs_in_ib.gs_md_li.gs_md_lix .gs_ico{top:10px;left:16px;}a.gs_btn_lrge .gs_ico{top:50%;left:50%;margin:-10.5px 0 0 -10.5px;}.gs_in_ib .gs_ico{opacity:.55;}.gs_in_ib:hover .gs_ico{opacity:.72;}.gs_in_ib:active .gs_ico,.gs_in_ib .gs_ico:active,.gs_in_ib :active~.gs_ico{opacity:1;}.gs_in_ib:disabled .gs_ico,.gs_in_ib.gs_dis .gs_ico{opacity:.28;}.gs_in_ib.gs_btn_act .gs_ico,.gs_in_ib.gs_btn_cre .gs_ico{opacity:1;}.gs_btn_act:disabled .gs_ico,.gs_btn_cre:disabled .gs_ico{opacity:.72;}.gs_rdt{position:relative;width:0;height:21px;}.gs_rdt:before{content:\"\";position:absolute;top:2px;right:1px;width:5px;height:5px;border-radius:50%;background-color:#dd4b39;}button.gs_btn_flat{border-color:transparent;background-color:transparent;}button.gs_btn_flat:hover{background-color:rgba(0,0,0,.05);}button.gs_btn_flat:active{background-color:rgba(0,0,0,.1);}button.gs_btn_flat.gs_btn_flact{color:#1a0dab;}button.gs_btn_act{color:#fff;background-color:#4d90fe;}button.gs_btn_act:hover{color:#fff;background-color:#3983fe;}button.gs_btn_act.gs_sel{background-color:#2f6bcc;}button.gs_btn_act:active{background-color:#357ae8;}button.gs_btn_cre{color:#fff;background-color:#d14836;}button.gs_btn_cre:hover{color:#fff;background-color:#c53727;}button.gs_btn_cre.gs_sel{background-color:#992b1e;}button.gs_btn_cre:active{background-color:#b0281a;}button:disabled,button:disabled:hover,button:disabled:active{cursor:default;color:#b8b8b8;border-color:rgba(0,0,0,.05);background-color:transparent;z-index:0;}button.gs_btn_flat:disabled{color:#b8b8b8;border-color:transparent;}button.gs_btn_act:disabled{color:#fff;background-color:#a6c8ff;}button.gs_btn_cre:disabled{color:#fff;background-color:#e8a49b;}a.gs_in_ib.gs_dis{cursor:default;pointer-events:none}a.gs_in_ib.gs_dis .gs_lbl{color:#b8b8b8;text-decoration:none}.gs_ttp{position:absolute;top:100%;right:50%;z-index:10;pointer-events:none;visibility:hidden;opacity:0;transition:visibility 0s .13s,opacity .13s ease-out;}button:hover .gs_ttp,button:focus .gs_ttp,a:hover .gs_ttp,a:focus .gs_ttp{transition:visibility 0s .3s,opacity .13s ease-in .3s;visibility:visible;opacity:1;}.gs_md_tb.gs_sel .gs_ttp{transition:none;visibility:hidden;}.gs_ttp .gs_aro,.gs_ttp .gs_aru{position:absolute;top:-2px;right:-5px;width:0;height:0;line-height:0;font-size:0;border:5px solid transparent;border-top:none;border-bottom-color:#2a2a2a;z-index:1;}.gs_ttp .gs_aro{top:-3px;right:-6px;border-width:6px;border-top:none;border-bottom-color:white;}.gs_ttp .gs_txt{display:block;position:relative;top:2px;right:-50%;padding:7px 9px;background:#2a2a2a;color:white;font-size:11px;font-weight:bold;line-height:normal;white-space:nowrap;border:1px solid white;box-shadow:inset 0 1px 4px rgba(0,0,0,.2);}.gs_press,.gs_in_se,.gs_tan{touch-action:none;}.gs_in_se .gs_lbl:not(:empty){padding-right:14px;}.gs_in_se .gs_icm{position:absolute;top:50%;margin-top:-5.5px;right:0;width:7px;height:11px;background-position:-21px -88px;opacity:.55;}.gs_in_se:hover .gs_icm{opacity:.72;}.gs_in_se:active .gs_icm{opacity:1;}.gs_in_se:disabled .gs_icm{opacity:.28;}.gs_el_ta .gs_btn_hta .gs_icm,.gs_el_ph .gs_btn_hph .gs_icm,.gs_el_ta .gs_btn_mta .gs_icm,.gs_el_ph .gs_btn_mph .gs_icm,.gs_el_ta .gs_btn_cta .gs_icm,.gs_el_ph .gs_btn_cph .gs_icm{display:none;}.gs_btn_mnu .gs_icm{margin-top:-3.5px;height:7px;background-position:0 -110px;}.gs_in_se.gs_btn_act .gs_icm,.gs_in_se.gs_btn_cre .gs_icm{margin-top:-3.5px;height:7px;background-position:-42px -44px;opacity:1;}.gs_btn_act:disabled .gs_icm,.gs_btn_cre:disabled .gs_icm{opacity:.72;}button.gs_btnG .gs_ico{width:21px;height:21px;background-position:-92px -253px;}.gs_md_d{text-transform:none;white-space:nowrap;position:absolute;top:0;left:0;border:1px solid #ccc;border-color:rgba(0,0,0,.2);background:#fff;box-shadow:0 2px 4px rgba(0,0,0,.2);z-index:1100;text-align:left;visibility:hidden;max-height:0;margin-top:-1000px;opacity:0;transition:opacity .13s,visibility 0s .13s,max-height 0s .13s,margin-top 0s .13s;}.gs_md_d.gs_vis{visibility:visible;max-height:10000px;margin-top:0;opacity:1;transition:all 0s;}.gs_el_tc .gs_md_d{transform-origin:100% 0;transform:scale(1,0);transition:opacity .218s ease-out,transform 0s .218s,visibility 0s .218s,max-height 0s .218s,margin-top 0s .218s;}.gs_el_tc .gs_md_d.gs_ttzi{transform-origin:50% 50%;transform:scale(0,0);}.gs_el_tc .gs_md_d.gs_ttzr{transform:scale(0,0);}.gs_el_tc .gs_md_d.gs_vis{transform:scale(1,1);transition:transform .218s ease-out;}.gs_md_r{position:relative;display:inline-block;}.gs_md_rmb>.gs_md_d{top:29px}.gs_md_rmbl>.gs_md_d{top:41px}.gs_md_ul{list-style-type:none;word-wrap:break-word;display:inline-block;vertical-align:top;}.gs_md_ul.gs_md_ul_tb{display:block;}.gs_md_li,.gs_in_cb.gs_md_li,.gs_md_li:link,.gs_md_li:visited{display:block;padding:6px 44px 6px 16px;font-size:13px;line-height:16px;color:#222;cursor:pointer;text-decoration:none;position:relative;z-index:0;}a.gs_md_li:hover .gs_lbl,a.gs_md_li:active .gs_lbl{text-decoration:none}.gs_el_tc .gs_md_li{padding-top:14px;padding-bottom:10px;}.gs_md_li.gs_md_lix{font-size:16px;line-height:20px;padding:12px 16px 8px 16px;}.gs_md_li:before{content:\"\";background-color:#f1f1f1;position:absolute;left:0;right:0;top:0;bottom:0;opacity:0;transition:opacity .13s;z-index:-1;}.gs_md_li:hover:before,.gs_md_li:focus:before{opacity:1;transition:all 0s;}a.gs_in_ib.gs_md_li .gs_lbl{color:#222}a.gs_in_ib.gs_md_li.gs_in_gray .gs_lbl{color:#444}.gs_md_li:active:before{background-color:#ddd}.gs_md_li.gs_sel,a.gs_in_ib.gs_md_li.gs_sel .gs_lbl{color:#d14836}.gs_md_d:focus,.gs_md_li:focus{outline:none}a.gs_md_lix .gs_lbl,a.gs_md_lix .gs_lbl:not(:empty){padding:0 0 0 40px;}a.gs_in_cb:link,a.gs_in_cb:visited,a.gs_in_cb:active,a.gs_in_cb:hover{cursor:pointer;color:#222;text-decoration:none;}.gs_in_cb,.gs_in_ra{position:relative;line-height:16px;display:inline-block;user-select:none;}.gs_in_cb.gs_md_li{padding:6px 44px 6px 16px;}.gs_in_cb input,.gs_in_ra input{position:absolute;top:1px;left:1px;width:15px;height:15px;margin:0;padding:0;opacity:0;z-index:2;}.gs_in_ra input{top:0;left:0}.gs_el_tc .gs_in_cb input{top:9px}.gs_el_tc .gs_in_ra input{top:8px}.gs_in_cb.gs_in_cbj input{top:15px;left:15px}.gs_in_cb label,.gs_in_cb .gs_lbl,.gs_in_ra label{display:inline-block;padding-left:21px;min-height:16px;}.gs_in_cb label:empty:before,.gs_in_cb .gs_lbl:empty:before,.gs_in_ra label:empty:before{content:\"\\200b\";}.gs_el_tc .gs_in_cb label,.gs_el_tc .gs_in_cb .gs_lbl,.gs_el_tc .gs_in_ra label{padding-top:8px;padding-bottom:5px;}.gs_in_cb.gs_in_cbj label,.gs_in_cb.gs_in_cbj .gs_lbl{padding:13px 0 12px 41px;}.gs_in_cbb,.gs_in_cbb label,.gs_in_cbb .gs_lbl{display:block;}.gs_in_cb .gs_cbx,.gs_in_ra .gs_cbx{position:absolute}.gs_in_cb .gs_cbx{top:2px;left:2px;width:11px;height:11px;border:1px solid #c6c6c6;border-radius:1px;}.gs_md_li .gs_cbx{top:8px;left:18px}.gs_el_tc .gs_in_cb .gs_cbx{top:10px}.gs_el_tc .gs_md_li .gs_cbx{top:16px}.gs_in_cb.gs_in_cbj .gs_cbx{top:15px;left:15px}.gs_el_tc .gs_in_ra .gs_cbx{top:8px}.gs_in_ra .gs_cbx{top:0;left:0;border:1px solid #c6c6c6;width:13px;height:13px;border-radius:7px;}.gs_in_cb:hover .gs_cbx,.gs_in_ra:hover .gs_cbx{border-color:#666;box-shadow:inset 0 1px 1px rgba(0,0,0,.1);}button.gs_in_cb:hover .gs_cbx{border-color:#c6c6c6;}.gs_in_cb :focus~label,.gs_in_ra :focus~label{outline:1px dotted #222;}.gs_pfcs .gs_in_cb :focus~label,.gs_pfcs .gs_in_ra :focus~label{outline:none;}.gs_in_cb:active .gs_cbx,.gs_in_ra:active .gs_cbx,.gs_in_cb .gs_cbx:active,.gs_in_ra .gs_cbx:active,.gs_in_cb :active~.gs_cbx,.gs_in_ra :active~.gs_cbx{border-color:#666;background-color:#ebebeb;}button.gs_in_cb:active .gs_cbx{border-color:#a6a6a6;}.gs_in_cb :disabled~.gs_cbx,.gs_in_ra :disabled~.gs_cbx,button.gs_in_cb:disabled .gs_cbx{border-color:#f1f1f1;box-shadow:none;}.gs_in_cb :disabled~label,.gs_in_ra :disabled~label{color:#b8b8b8;}.gs_in_cb.gs_err .gs_cbx{border-color:#eda29b;}.gs_in_cb .gs_chk,.gs_in_ra .gs_chk{position:absolute;z-index:1;top:-3px;left:-2px;width:21px;height:21px;}.gs_md_li .gs_chk{top:3px;left:14px}.gs_el_tc .gs_in_cb .gs_chk{top:5px}.gs_el_tc .gs_md_li .gs_chk{top:11px}.gs_in_cb.gs_in_cbj .gs_chk{top:10px;left:11px}.gs_in_ra .gs_chk{top:4px;left:4px;width:7px;height:7px;border-radius:4px;}.gs_el_tc .gs_in_ra .gs_chk{top:12px}.gs_in_cb input:checked~.gs_chk,.gs_in_cb.gs_sel .gs_chk{background:no-repeat url(/intl/en/scholar/images/1x/sprite_20161020.png) -69px -67px;opacity:.62;}.gs_in_ra input:checked~.gs_chk{background-color:#666}.gs_in_cb.gs_par .gs_chk{background:no-repeat url(/intl/en/scholar/images/1x/sprite_20161020.png) -21px -44px;opacity:.55;}@media(-webkit-min-device-pixel-ratio:1.5),(min-resolution:144dpi){.gs_in_cb input:checked~.gs_chk,.gs_in_cb.gs_sel .gs_chk,.gs_in_cb.gs_par .gs_chk{background-image:url(/intl/en/scholar/images/2x/sprite_20161020.png);background-size:169px;}}.gs_in_cb input:checked:disabled~.gs_chk{opacity:.22}.gs_in_ra input:checked:disabled~.gs_chk{background-color:#f1f1f1}.gs_md_ac{position:absolute;top:28px;left:0;right:0;z-index:1100;white-space:normal;display:none;pointer-events:none;}.gs_md_ac[dir=\"ltr\"]{text-align:left;}.gs_md_ac[dir=\"rtl\"]{text-align:right;}.gs_md_ac ul{list-style-type:none;word-wrap:break-word;line-height:1.24;border:1px solid #e5e5e5;border-color:rgba(0,0,0,.2);background:#fff;box-shadow:0px 2px 4px rgba(0,0,0,.2);touch-action:manipulation;cursor:pointer;user-select:none;pointer-events:auto;}.gs_md_acp{display:flex;line-height:0;}.gs_md_acp .gs_md_acs,.gs_md_acp ul{max-width:100%;box-sizing:border-box;display:inline-block;vertical-align:top;}.gs_md_acs{visibility:hidden;white-space:pre;height:0;min-width:0%;flex:0 1 auto;font-size:16px;}.gs_el_tc .gs_md_acs{font-size:18px;}.gs_md_acp ul{white-space:nowrap;flex:0 0 auto;}.gs_md_ac li{position:relative;padding:2px 8px;font-size:16px;line-height:20px;color:#222;background-color:#fff;overflow:hidden;text-overflow:ellipsis;}.gs_md_ac li.gs_sel{color:#000;background-color:#c6dafc;}.gs_md_ac li:active{background-color:#e8f0fe;}.gs_el_ios .gs_md_ac li:active{background-color:#fff;}.gs_md_ac li.gs_md_ac_lh,.gs_md_ac li.gs_md_ac_lh b{color:#660099;}.gs_el_tc .gs_md_ac li{padding:11px 8px 9px 8px;font-size:18px;border-top:1px solid #e5e5e5;}.gs_el_tc .gs_md_ac li:first-child{border-top:none;}.gs_md_ac[dir=\"ltr\"] li.gs_md_ac_lh{padding-right:29px;}.gs_md_ac[dir=\"rtl\"] li.gs_md_ac_lh{padding-left:29px;}.gs_el_tc .gs_md_ac[dir=\"ltr\"] li.gs_md_ac_lh{padding-right:49px;}.gs_el_tc .gs_md_ac[dir=\"rtl\"] li.gs_md_ac_lh{padding-left:49px;}.gs_md_ac_lh .gs_ico_X{position:absolute;top:0;}.gs_md_ac[dir=\"ltr\"] .gs_md_ac_lh .gs_ico_X{right:0;}.gs_md_ac[dir=\"rtl\"] .gs_md_ac_lh .gs_ico_X{left:0;}.gs_el_tc #gs_top .gs_md_ac .gs_md_ac_lh .gs_ico_Xt{padding:10px;}.gs_md_ac_lh .gs_ico_X:hover{background-color:#eee;}.gs_ico_x{background-position:-113px -22px;opacity:.55;}.gs_ico_x:hover{opacity:.72;}.gs_ico_x:active{opacity:1;}.gs_ico_X{background-position:-71px 0;opacity:.55;}.gs_ico_X:hover{opacity:.72;}.gs_ico_X:active{opacity:1;}.gs_el_tc .gs_ico_Xt{background-origin:content-box;background-clip:content-box;padding:10px 6px 10px 14px;}.gs_ico_P{background-position:0 0;opacity:.55;}.gs_ico_P:hover{opacity:.72;}.gs_ico_P:active{opacity:1;}.gs_btnP .gs_ico{background-position:-21px 0;}.gs_btnC .gs_ico{background-position:0 -66px;}.gs_btnL .gs_ico{background-position:-92px -44px;}.gs_ico_LB{background-position:-50px -44px;height:16px;}.gs_btnJ .gs_ico{background-position:-92px -22px;}.gs_btnM .gs_ico{background-position:-92px 0;}.gs_btnMW .gs_ico{background-position:-21px -22px;}.gs_btnSB .gs_ico{background-position:0 -44px;}.gs_btnTSB .gs_ico{background-position:-115px -253px;}.gs_btnPL .gs_ico{background-position:-148px -66px;}.gs_btnPR .gs_ico{background-position:-21px -66px;}.gs_btnPLW .gs_ico{background-position:-0 -230px;}.gs_btnPRW .gs_ico{background-position:-23px -230px;}.gs_btnZI .gs_ico{background-position:-148px -22px;}.gs_btnZO .gs_ico{background-position:-127px -44px;}.gs_btnDE .gs_ico{background-position:-134px 0;}.gs_btnFI .gs_ico{background-position:-50px -66px;}.gs_btnAD .gs_ico{background-position:-141px -88px;opacity:.55;}.gs_btnAD:hover .gs_ico{opacity:.72;}.gs_btnAD:active .gs_ico,.gs_btnAD .gs_ico:active,.gs_btnAD :active~.gs_ico{opacity:1;}.gs_btnBA .gs_ico{background-position:-50px -22px;}.gs_btnBL .gs_ico{background-position:0 -22px;}.gs_btnBLD .gs_ico{background-position:-23px -184px;}.gs_btnADD .gs_ico{background-position:-92px -66px;}.gs_btnMRG .gs_ico{background-position:-113px 0;}.gs_btnLBL .gs_ico{background-position:0 -161px;}.gs_btnCNCL .gs_ico{background-position:-71px 0;}.gs_btnDWL .gs_ico{background-position:-28px -88px;}.gs_btnMNU .gs_ico{background-position:0 -88px;}.gs_btnMNT .gs_ico{background-position:-46px -161px;}.gs_btnALT .gs_ico{background-position:-92px -161px;}.gs_btnART .gs_ico{background-position:-115px -161px;}.gs_btnGSL .gs_ico{background-position:-69px -161px;}.gs_btnCLS .gs_ico{background-position:-138px -161px;}.gs_btnXBLU .gs_ico{background-position:-138px -253px;}.gs_btnSSB .gs_ico{background-position:0 -276px;}.gs_btnSSW .gs_ico{background-position:-23px -276px;}.gs_btnFLT .gs_ico{background-position:0 -184px;}.gs_btnXT .gs_ico{background-position:-46px -184px;}.gs_btnPD .gs_ico{background-position:-69px -184px;}.gs_btnPU .gs_ico {background-position:-92px -276px;}.gs_btnCP .gs_ico{background-position:-92px -184px;}.gs_btnTP .gs_ico{background-position:-138px -184px;}.gs_btnML .gs_ico{background-position:-115px -276px;}.gs_btnCHK .gs_ico{background-position:-71px -66px;}.gs_btnDNB .gs_ico{background-position:-115px -230px;}.gs_btnDNW .gs_ico{background-position:0 -207px;}.gs_btnACA .gs_ico{background-position:-23px -207px;}.gs_btnAPT .gs_ico{background-position:-46px -207px;}.gs_btnAPTW .gs_ico{background-position:-92px -230px;}.gs_btnAFL .gs_ico{background-position:-69px -207px;}.gs_btnAN .gs_ico{background-position:-46px -276px;}.gs_btnAI .gs_ico{background-position:-69px -276px;}.gs_btnPBL .gs_ico{background-position:-92px -207px;}.gs_btnUCT .gs_ico{background-position:-115px -207px;}.gs_btnVRF .gs_ico{background-position:-138px -207px;}.gs_btnLSI .gs_ico{background-position:-46px -230px;}.gs_btnLSG .gs_ico{background-position:-69px -230px;}.gs_btnMOR .gs_ico{background-position:-23px -253px;}.gs_btnADV .gs_ico{background-position:-46px -253px;}.gs_btnPRO .gs_ico{background-position:-69px -253px;}.gs_ico_nav_previous{background-position:0 -119px;width:53px;height:40px;}.gs_ico_nav_first{background-position:-25px -119px;width:28px;height:40px;}.gs_ico_nav_current{background-position:-53px -119px;width:20px;height:40px;}.gs_ico_nav_page{background-position:-73px -119px;width:20px;height:40px;}.gs_ico_nav_next{background-position:-93px -119px;width:71px;height:40px;}.gs_ico_nav_last{background-position:-93px -119px;width:45px;height:40px;}.gs_ico_star{background-position:-71px -44px;width:13px;height:13px;}.gs_btnPLSW .gs_ico{background-position:-138px -230px;}.gs_btnPDF .gs_ico{background-position:0 -253px;}#gs_hdr_drs,#gs_hdr_drw{position:fixed;top:0;left:0;width:100%;height:100%;z-index:1200;visibility:hidden;}#gs_hdr_drs{opacity:0;background-color:#fff;transition:opacity .15s,visibility 0s .15s;}.gs_el_ta #gs_hdr_drs,.gs_el_ph #gs_hdr_drs{background-color:#666;}#gs_hdr_drs.gs_vis{visibility:visible;opacity:.5;transition:opacity .15s,visibility 0s;}.gs_el_tc #gs_hdr_drs{transition:opacity .218s,visibility 0s .218s;}.gs_el_tc #gs_hdr_drs.gs_vis{transition:opacity .218s,visibility 0s;}#gs_hdr_drw{overflow:auto;width:228px;background-color:#fff;box-shadow:2px 2px 4px rgba(0,0,0,.15);outline:none;transform:translate(-100%,0);transition:transform .15s ease-in-out,visibility 0s .15s;}#gs_hdr_drw.gs_vis{visibility:visible;transform:translate(0,0);transition:transform .15s ease-in-out,visibility 0s;}.gs_el_tc #gs_hdr_drw{transition:transform .3s cubic-bezier(.4,0,.6,1),visibility 0s .3s;}.gs_el_tc #gs_hdr_drw.gs_vis{transition:transform .225s cubic-bezier(0,0,.2,1),visibility 0s;}#gs_hdr_drw.gs_abt,.gs_el_tc #gs_hdr_drw.gs_abt{transition:none;}#gs_hdr_drw_in{position:relative;box-sizing:border-box;min-height:100%;padding:0 0 8px 0;}.gs_el_ta #gs_hdr_drw_in,.gs_el_ph #gs_hdr_drw_in{padding:0 0 65px 0;}#gs_hdr_drw_top{position:relative;height:63px;border-bottom:1px solid #e5e5e5;margin-bottom:8px;}.gs_el_ta #gs_hdr_drw_top,.gs_el_ph #gs_hdr_drw_top{height:57px;}#gs_hdr_drw_mnu,#gs_hdr_drw_lgo{position:absolute;top:0;height:100%;}#gs_hdr_drw_mnu{left:0;width:55px;}#gs_hdr_drw_lgo{left:56px;}.gs_hdr_drw_sec:before{display:block;content:\" \";height:0;border-bottom:1px solid #e5e5e5;margin:8px 0;}.gs_hdr_drw_sec:first-child:before{display:none;}#gs_hdr_drw_bot{display:none;}.gs_el_ta #gs_hdr_drw_bot,.gs_el_ph #gs_hdr_drw_bot{display:block;position:absolute;left:0;bottom:0;width:100%;height:65px;}#gs_hdr_drw_bot .gs_md_li:before{opacity:0;}#gs_hdr_drw_bot .gs_hdr_pp{display:block;position:absolute;bottom:14px;left:15px;pointer-events:none;}#gs_hdr_drw_bot .gs_lbl{display:block;white-space:nowrap;overflow:hidden;text-overflow:ellipsis;}#gs_hdr{position:relative;height:63px;background-color:#f5f5f5;border-bottom:1px solid #e5e5e5;display:flex;}.gs_el_ta #gs_hdr,.gs_el_ph #gs_hdr{height:57px;}#gs_hdr_mnu,#gs_hdr_bck,#gs_hdr_lgo,#gs_hdr_lgt,#gs_hdr_md,#gs_hdr_sre,#gs_hdr_act{display:inline-block;vertical-align:top;position:relative;height:100%;flex:0 0 auto;}#gs_hdr_md{flex:1 1 auto;}#gs_hdr .gs_hdr_mbo,#gs_hdr .gs_hdr_mbo,.gs_el_ta #gs_hdr .gs_hdr_dso,.gs_el_ph #gs_hdr .gs_hdr_dso{display:none;}.gs_el_ta #gs_hdr .gs_hdr_mbo,.gs_el_ph #gs_hdr .gs_hdr_mbo{display:inline-block;}#gs_hdr_mnu,#gs_hdr_bck,#gs_hdr_sre{width:55px;margin-right:1px;}#gs_hdr_lgo,#gs_hdr_drw_lgo{width:149px;background:no-repeat url('/intl/en/scholar/images/1x/scholar_logo_24dp.png') 0% 50%;background-size:149px;}@media(-webkit-min-device-pixel-ratio:1.5),(min-resolution:144dpi){#gs_hdr_lgo,#gs_hdr_drw_lgo{background-image:url('/intl/en/scholar/images/2x/scholar_logo_24dp.png');}}#gs_hdr_lgo{margin-right:31px;}.gs_el_ph #gs_hdr_lgo{margin-right:0;}#gs_hdr_lgt{min-width:164px;margin-right:16px;}.gs_el_sm #gs_hdr_lgt:empty{min-width:60px;}#gs_hdr_md{margin-right:16px;min-width:1px;}#gs_hdr_lgt,#gs_hdr_md h1{padding:19px 0 0 0;white-space:nowrap;overflow:hidden;text-overflow:ellipsis;font-size:20px;line-height:25px;font-weight:normal;color:#666;max-width:100%;text-align:left;}.gs_el_ta #gs_hdr_md h1,.gs_el_ph #gs_hdr_md h1{padding:16px 0 0 0;}#gs_hdr_srch{padding:14px 0 0 0;max-width:600px;}.gs_el_ta #gs_hdr_srch,.gs_el_ph #gs_hdr_srch{padding:10px 0 0 0;max-width:none;}#gs_hdr_frm{position:relative;padding-right:39px;}#gs_hdr_tsi{height:38px;border-radius:2px 0 0 2px;}#gs_hdr_tsi::-ms-clear{display:none;}#gs_hdr_tsc{display:none;position:absolute;top:3px;right:41px;width:21px;height:21px;padding:6px 10px 7px 10px;}.gs_in_acw[dir=\"rtl\"]~#gs_hdr_tsc{right:auto;left:1px;}#gs_hdr_tsb{position:absolute;top:0;right:0;width:40px;height:38px;border-radius:0 2px 2px 0;}#gs_hdr_frm_ac{top:37px;right:40px;}.gs_el_ph #gs_hdr_frm_ac{right:0;}.gs_el_ph .gs_hdr_ifc #gs_hdr_mnu,.gs_el_ph .gs_hdr_ifc #gs_hdr_bck,.gs_hdr_src #gs_hdr_srch,.gs_hdr_src #gs_hdr_lgt,.gs_hdr_srx #gs_hdr_sre,.gs_hdr_srx #gs_hdr_md h1,.gs_hdr_srx #gs_hdr_md h1.gs_hdr_mbo,.gs_hdr_srx #gs_hdr_md h1.gs_hdr_dso,.gs_el_ta .gs_hdr_srx #gs_hdr_lgo,.gs_el_ph .gs_hdr_srx #gs_hdr_lgo,.gs_el_ph .gs_hdr_srx #gs_hdr_mnu,.gs_el_ph .gs_hdr_srx #gs_hdr_bck{display:none;}.gs_el_ph .gs_hdr_ifc #gs_hdr_md,.gs_el_ph .gs_hdr_srx #gs_hdr_md{margin-left:16px;}.gs_el_tc .gs_hdr_tsc #gs_hdr_tsi[dir=\"ltr\"]{padding-right:41px;}.gs_el_tc .gs_hdr_tsc #gs_hdr_tsi[dir=\"rtl\"]{padding-left:41px;}.gs_el_tc .gs_hdr_tsc .gs_in_acw~#gs_hdr_tsc{display:block;}#gs_hdr_act{min-width:64px;max-width:200px;text-align:right;float:right;}.gs_el_ta #gs_hdr_act,.gs_el_ph #gs_hdr_act{display:none;}#gs_hdr_act_i,#gs_hdr_act_s{display:inline-block;padding:23px 24px 23px 16px;max-width:100%;box-sizing:border-box;font-size:13px;line-height:17px;white-space:nowrap;overflow:hidden;text-overflow:ellipsis;color:#444;}#gs_hdr_act_s{text-transform:uppercase;}.gs_el_sm #gs_hdr_act_i,.gs_el_sm #gs_hdr_act_s{padding:23px 16px;}.gs_el_ta #gs_hdr_act_i,.gs_el_ta #gs_hdr_act_s,.gs_el_ph #gs_hdr_act_i,.gs_el_ph #gs_hdr_act_s{padding:20px 16px;}#gs_hdr_act_i:active,#gs_hdr_act_s:active{color:#d14836;}#gs_hdr_act_i,.gs_el_sm #gs_hdr_act_i{padding-top:15px;padding-bottom:16px;}.gs_el_ta #gs_hdr_act_i,.gs_el_ph #gs_hdr_act_i{padding-top:12px;padding-bottom:13px;}#gs_hdr_act_i .gs_hdr_pp{vertical-align:top;}#gs_hdr_act_d{top:63px;left:auto;right:24px;min-width:288px;max-width:400px;}.gs_el_sm #gs_hdr_act_d{right:16px;}.gs_el_ta #gs_hdr_act_d{top:57px;}.gs_el_ph #gs_hdr_act_d{top:57px;min-width:280px;max-width:280px;max-width:90vw;}/* Account dialog body. */#gs_hdr_act_aw,#gs_hdr_act_ap,.gs_hdr_act_am,#gs_hdr_act_ab{display:block;padding:10px 20px;word-wrap:break-word;white-space:normal;}#gs_hdr_act_aw{background-color:#fef9db;font-size:11px;}#gs_hdr_act_ap,.gs_hdr_act_am{border-bottom:1px solid #ccc;}#gs_hdr_act_ap{padding:20px;}.gs_el_ph #gs_hdr_act_ap{padding:10px;}#gs_hdr_act_apb{margin-top:12px;}#gs_hdr_act_aa:link,#gs_hdr_act_aa:visited{float:right;margin-left:8px;color:#1a0dab;}#gs_hdr_act_aa:active{color:#d14836}.gs_hdr_act_am:link,.gs_hdr_act_am:visited{color:#222;text-decoration:none;background:#fbfbfb;}.gs_hdr_act_am:hover,.gs_hdr_act_am:focus{background:#f1f1f1;}.gs_hdr_act_am:active{background:#eee;}#gs_hdr_act_ab{background:#fbfbfb;padding:10px 0;display:table;width:100%;white-space:nowrap;}#gs_hdr_act_aba,#gs_hdr_act_abs{display:table-cell;padding:0 20px;}#gs_hdr_act_abs{text-align:right;}.gs_el_ph #gs_hdr_act_aba,.gs_el_ph #gs_hdr_act_abs{display:block;padding:10px;text-align:center;}.gs_el_ph #gs_hdr_act_aba button,.gs_el_ph #gs_hdr_act_abs button{width:100%;}#gs_hdr_act_a1,#gs_hdr_act_a2{position:absolute;top:-9px;right:7.5px;width:0;height:0;z-index:1;border:8.5px solid transparent;border-top:none;border-bottom-color:#333;border-bottom-color:rgba(0,0,0,.2);}#gs_hdr_act_a2{top:-8px;border-bottom-color:#fff;}.gs_hdr_act_mw #gs_hdr_act_a2{border-bottom-color:#fef9db;}.gs_hdr_pp{border-radius:50%;overflow:hidden;}#gs_hdr_act_ap .gs_hdr_pp,.gs_hdr_act_am .gs_hdr_pp{float:left;}#gs_hdr_act_ap .gs_hdr_pm{margin-left:116px;}.gs_hdr_act_am .gs_hdr_pm{margin:6px 0 0 58px;}#gs_ab{position:relative;height:41px;border-bottom:1px solid #e5e5e5;display:flex;white-space:nowrap;background-color:#fff;z-index:1000;}.gs_el_ta #gs_ab.gs_nta,.gs_el_ph #gs_ab.gs_nph{display:none;}#gs_ab_g{height:42px;}.gs_sth_vis #gs_ab{position:fixed;}#gs_ab_ico,#gs_ab_ttl,#gs_ab_md,#gs_ab_btns{display:inline-block;vertical-align:top;position:relative;height:100%;flex:0 0 auto;}.gs_el_ph #gs_ab_md{display:block;}#gs_ab_ico{width:55px;margin-right:1px;}.gs_el_sm #gs_ab_ico{width:15px;visibility:hidden;}.gs_el_ta #gs_ab_ico,.gs_el_ph #gs_ab_ico{width:55px;visibility:visible;}#gs_ab_ico .gs_ico{position:absolute;top:50%;left:50%;margin:-10.5px 0 0 -10.5px;}#gs_ab_ttl{min-width:172px;padding-right:8px;}.gs_el_sm #gs_ab_ttl{min-width:120px;}.gs_el_ta #gs_ab_ttl,.gs_el_ph #gs_ab_ttl{min-width:0;}#gs_ab_ttl,#gs_ab_ttll{font-size:18px;color:#666;text-transform:none;}.gs_el_sm #gs_ab_ttl,.gs_el_sm #gs_ab_ttll{font-size:16px;}#gs_ab_ttll{overflow:hidden;text-overflow:ellipsis;max-width:200px;}#gs_ab_md{flex:1 0 auto;}.gs_ab_st #gs_ab_md{flex:1 1 auto;font-size:13px;line-height:17px;padding:0 8px;color:#999;overflow:hidden;text-overflow:ellipsis;}.gs_el_ph .gs_ab_st #gs_ab_md{visibility:hidden;padding:0;}#gs_ab_btns{margin-right:8px;}.gs_el_sm #gs_ab_btns{margin-right:0;}.gs_el_ta #gs_ab_btns,.gs_el_ph #gs_ab_btns{margin-right:4px;}#gs_ab_ttl:before,#gs_ab_md:before,#gs_ab_btns:before{content:\"\";display:inline-block;width:0;height:100%;vertical-align:middle;}#gs_ab_md>button,#gs_ab_btns>button,#gs_ab_md>.gs_in_ib,#gs_ab_btns>.gs_in_ib,#gs_ab_md>.gs_md_r,#gs_ab_btns>.gs_md_r,#gs_ab .gs_ab_mdw,#gs_ab .gs_ab_btw{margin:0 8px;vertical-align:middle;}#gs_ab .gs_ab_mdw,.gs_ab_btw{display:inline-block;margin:0;}#gs_ab_btns>.gs_in_ib{margin:0 16px 0 8px;}#gs_ab_btns>#gs_ab_btns_u{margin:0 12px 0 0;}.gs_el_ph #gs_ab_btns>#gs_ab_btns_u.gs_ab_btns_npu{visibility:hidden;margin-left:-41px;}#gs_ab .gs_ab_btw{margin:0 12px 0 16px;}.gs_el_ta .gs_ab_sel #gs_ab_ico,.gs_el_ph .gs_ab_sel #gs_ab_ico,.gs_el_ta .gs_ab_sel #gs_ab_ttl,.gs_el_ph .gs_ab_sel #gs_ab_ttl,.gs_el_ta .gs_ab_sel #gs_ab_btns,.gs_el_ph .gs_ab_sel #gs_ab_btns{display:none;}#gs_bdy{display:table;table-layout:fixed;width:100%;}#gs_bdy_sb{vertical-align:top;width:228px;word-wrap:break-word;display:table-cell;}.gs_el_sm #gs_bdy_sb{width:136px;}.gs_el_ta #gs_bdy_sb,.gs_el_ph #gs_bdy_sb{display:none;}.gs_bdy_sb_sec{margin:0 40px 0 56px;}.gs_el_sm .gs_bdy_sb_sec{margin:0 0 0 16px;}.gs_bdy_sb_sec:before{display:block;content:\" \";height:0;margin:13px 0;border-top:1px solid #eee;}.gs_bdy_sb_sec:first-child:before{margin:21px 0 0 0;border:none;}.gs_el_sm .gs_bdy_sb_sec:first-child:before{margin-top:15px;}#gs_bdy_sb ul{list-style-type:none;}.gs_bdy_sb_sec a:link,.gs_bdy_sb_sec a:visited{color:#222;}.gs_bdy_sb_sec a:active{color:#d14836;}.gs_bdy_sb_sel a:link,.gs_bdy_sb_sel a:visited{color:#d14836;text-decoration:none;}.gs_el_tc .gs_bdy_sb_sec li.gs_ind,.gs_el_tc .gs_bdy_sb_sec li.gs_ind a{padding-top:8px;padding-bottom:5px;}.gs_el_tc .gs_bdy_sb_sec:first-child li.gs_ind:first-child{margin-top:-8px;}#gs_bdy_sb .gs_ind,#gs_bdy_sb .gs_inw{margin-bottom:4px;}.gs_el_tc #gs_bdy_sb .gs_ind,.gs_el_tc #gs_bdy_sb .gs_inw{margin-bottom:0;}#gs_bdy_ccl{display:table-cell;vertical-align:top;padding:0 24px 0 16px;}.gs_el_sm #gs_bdy_ccl{padding:0 16px;}.gs_el_ta #gs_bdy_ccl,.gs_el_ph #gs_bdy_ccl{padding:0 16px;}.gs_el_ph #gs_bdy_ccl{}#gs_ftr_sp{height:62px;}.gs_el_sm #gs_ftr_sp{height:57px;}#gs_ftr{position:absolute;bottom:0;left:0;width:100%;white-space:nowrap;border-top:1px solid #e4e4e4;background-color:#f2f2f2;display:flex;}#gs_ftr_rt{box-sizing:border-box;max-width:100%;overflow-x:auto;margin-left:auto;padding:0 12px;}.gs_el_sm #gs_ftr_rt{padding:0 8px;}.gs_el_ph #gs_ftr_rt:after{content:\" \";position:absolute;top:0;right:0;width:16px;height:100%;background-image:linear-gradient(to right,rgba(242,242,242,0),rgba(242,242,242,1) 80%);}#gs_ftr_rt a{display:inline-block;line-height:16px;padding:12px;white-space:nowrap;}.gs_el_sm #gs_ftr_rt a{padding:12px 8px;}#gs_ftr_rt a:link,#gs_ftr_rt a:visited{color:#666}#gs_ftr_rt a:active{color:#d14836}.gs_res_sb_yyr{padding:5px 0;text-align:center;white-space:nowrap;}.gs_el_tc .gs_res_sb_yyr{padding:10px 0;}.gs_res_sb_yyr .gs_in_txt{width:48px;}#gs_res_ccl{max-width:950px;padding-top:10px;}.gs_el_sm #gs_res_ccl{padding-top:7px;}.gs_el_tc #gs_res_ccl{padding-top:6px;}.gs_el_sm.gs_el_tc #gs_res_ccl{padding-top:0;}.gs_r{position:relative;padding:11px 0 10px 0;}.gs_el_sm .gs_r{padding:7px 0 6px 0;}.gs_el_tc .gs_r{padding:15px 0;border-bottom:1px solid #eee;}.gs_rt{position:relative;font-weight:normal;font-size:17px;line-height:19px;margin-right:100px;margin-bottom:2px;}.gs_el_tc .gs_rt{margin-bottom:0;}.gs_el_ph .gs_rt{margin-right:0;}.gs_rt2{font-size:13px;font-weight:normal;}.gs_rt a:link,.gs_rt a:link b,.gs_rt2 a:link,.gs_rt2 a:link b{color:#1a0dab}.gs_rt a:visited,.gs_rt a:visited b,.gs_rt2 a:visited,.gs_rt2 a:visited b{color:#660099}.gs_rt a:active,.gs_rt a:active b,.gs_rt2 a:active,.gs_rt2 a:active b{color:#d14836}.gs_or_ggsm:focus{outline:none;}.gs_ggs{position:relative;z-index:1;float:right;margin-left:24px;min-width:200px;max-width:256px;width:200px;width:calc(100% - 620px);font-size:17px;line-height:19px;}.gs_el_sm .gs_ggs{margin-left:16px;}@media(max-width:699px){.gs_el_sm .gs_ggs{min-width:0;width:182px;}}.gs_el_ph .gs_ggs{width:72px;height:43px;}.gs_el_tc .gs_ggs{margin-top:-14px;}.gs_el_ph .gs_ggsd{position:absolute;top:-1px;right:0;width:72px;height:43px;overflow:hidden;transition:width 0s .3s,height 0s .3s;}.gs_el_ph .gs_ggsd.gs_vis{width:208px;height:88px;transition:none;}.gs_or_ggsm a{display:block;white-space:nowrap;overflow:hidden;text-overflow:ellipsis;margin-bottom:4px;}.gs_el_tc .gs_or_ggsm a{padding:13px 8px 9px 8px;touch-action:none;background:#fff;height:19px;margin-bottom:0;}.gs_el_ph .gs_or_ggsm a{text-decoration:none;}.gs_el_ph .gs_or_ggsm a:focus{outline:none;background:#f1f1f1;}.gs_el_ph .gs_or_ggsm a:active{color:#1a0dab;}.gs_el_ph .gs_or_ggsm a:visited{color:#660099;}.gs_el_ph .gs_or_ggsm{position:absolute;top:0;right:-132px;margin-right:4px;padding:1px 0;width:200px;height:41px;transform:translate(0,0);}.gs_el_ph .gs_or_ggsm.gs_vis{right:0;height:auto;}.gs_el_ph .gs_or_ggsm>a:nth-child(2){height:0;transform:scale(1,0);transform-origin:0 0;}.gs_el_ph .gs_or_ggsm.gs_vis>a:nth-child(2){height:19px;transform:scale(1,1);}.gs_el_ph .gs_or_ggsm:before{content:\"\";position:absolute;top:0;left:-1px;right:-1px;bottom:0;box-shadow:0 2px 4px rgba(0,0,0,.2);border:1px solid #ccc;opacity:0;z-index:-1;}.gs_el_ph .gs_or_ggsm.gs_vis:before{opacity:1;transition:opacity 0s .3s ;}.gs_el_ph .gs_or_ggsm:after{content:\"\";pointer-events:none;position:absolute;top:0;left:0;right:0;bottom:0;z-index:1;background-image:linear-gradient(to left,rgba(255,255,255,1),rgba(255,255,255,1) 65%,rgba(255,255,255,0) 70%);}.gs_el_ph .gs_or_ggsm.gs_vis:after{visibility:hidden}.gs_el_ph .gs_or_ggsm.gs_vis.gs_anm{animation:gs_anm_hsli .218s ease-in-out;}.gs_el_ph .gs_or_ggsm.gs_anm{animation:gs_anm_hslo .218s ease-out;}.gs_el_ph .gs_ggs .gs_or_ggsm.gs_vis.gs_anm>a:nth-child(2){animation:gs_anm_vscli .218s ease-in;}@keyframes gs_anm_hsli{0%{transform:translate(66%,0);height:41px;}99%{transform:translate(0,0);height:41px;}100%{transform:translate(0,0);height:auto;}}@keyframes gs_anm_hslo{0%{transform:translate(-66%,0);}100%{transform:translate(0,0);}}@keyframes gs_anm_vscli{0%{transform:scale(1,0);}100%{transform:scale(1,1);}}.gs_ct1{display:inline}.gs_ct2{display:none}.gs_el_ph .gs_ct1{display:none}.gs_el_ph .gs_ct2{display:inline;font-size:13px;font-weight:normal}.gs_ri{max-width:712px}.gs_a a:link,.gs_a a:visited{text-decoration:underline;}.gs_ri .gs_fl a,.gs_a a{white-space:nowrap;}.gs_ri .gs_fl a.gs_wno{white-space:normal;}.gs_ri .gs_fl{font-size:1px;}.gs_ri .gs_fl a{font-size:13px;margin-right:12px;}.gs_ri .gs_fl a:last-child{margin-right:0;}.gs_ri .gs_fl .gs_or_sav,.gs_ri .gs_fl .gs_or_cit,.gs_ri .gs_fl .gs_or_mor{margin:-7px 6px -6px -6px;padding:7px 0 6px 0;border-radius:50%;}.gs_ri .gs_fl .gs_or_sav:hover,.gs_ri .gs_fl .gs_or_cit:hover,.gs_ri .gs_fl .gs_or_mor:hover{background-color:rgba(0,0,0,.05);}.gs_el_ph .gs_ri .gs_fl .gs_or_sav,.gs_el_ph .gs_ri .gs_fl .gs_or_cit{margin-right:4px;}.gs_el_ph .gs_ri .gs_fl .gs_or_mor{margin-right:-8px;}.gs_or_svg{position:relative;width:29px;height:16px;vertical-align:text-bottom;fill:none;stroke:#1a0dab;}.gs_or:not([data-lid=\"\"]) .gs_or_sav .gs_or_svg{fill:#1a0dab;}.gs_or[data-lid] .gs_or_ldg .gs_or_svg{fill:#eee;animation:gs_anm_spin 1.2s .5s linear infinite;}a:active .gs_or_svg,a .gs_or_svg:active,a .gs_or_svg>*:active{stroke:#dd4b39;}.gs_or_nvi,.gs_or_mvi .gs_or_mor{display:none}.gs_or_mvi .gs_or_nvi,.gs_or_mvi .gs_nph,.gs_or_mvi .gs_nta{display:inline}.gs_rs{margin:2px 0;word-wrap:break-word;}.gs_el_tc .gs_rs{margin:0}.gs_el_ta .gs_rs{margin-right:10%}@media(max-width:780px){.gs_el_ta .gs_rs,.gs_el_ta .gs_a{margin-right:100px;}}.gs_el_ph .gs_rs br,.gs_el_ta .gs_rs br{display:none}@media screen and (min-width:771px){.gs_el_ta .gs_rs br{display:block}}.gs_age{color:#777777}.gs_rs b,.gs_rt b,.gs_rt2 b{color:#000}.gs_el_tc .gs_rt a{font-size:17px;line-height:20px;padding:12px 0 9px 0;}.gs_el_tc .gs_rt2 a{font-size:14px;line-height:20px;padding:6px 0 4px 0;}.gs_el_tc .gs_a,.gs_el_tc .gs_a a,.gs_el_tc .gs_ri .gs_fl a{padding-top:7px;padding-bottom:6px;}.gs_el_tc .gs_ri .gs_fl a{line-height:29px;}.gs_el_tc .gs_ri .gs_fl{margin-bottom:-6px;}#gs_n{clear:both;margin:1.5em 0;width:600px;text-align:center;}#gs_n td{font-size:13px}#gs_n a:link,#gs_n a:visited{color:#1a0dab}#gs_n a:active{color:#d14836}#gs_nm{clear:both;position:relative;text-align:center;max-width:500px;margin:24px 50px;font-size:15px;line-height:41px;display:none;}#gs_nm button{position:absolute;top:0}#gs_nm .gs_btnPL{left:-50px}#gs_nm .gs_btnPR{right:-50px}#gs_nml{overflow:hidden;white-space:nowrap;}.gs_nma{display:inline-block;width:40px;margin:0 5px;}.gs_el_tc #gs_n,.gs_el_ta #gs_n,.gs_el_ph #gs_n{display:none}.gs_el_tc #gs_nm,.gs_el_ta #gs_nm,.gs_el_ph #gs_nm{display:block}#gs_bdy_sb_ca{margin-top:-6px;}.gs_el_tc #gs_bdy_sb_ca{margin-top:2px;}@media print{#gs_gb,#gs_hdr,#gs_ab,#gs_top #gs_bdy_sb,.gs_pda,.gs_ggs,.gs_alrt_btm,#gs_top #gs_n,#gs_top #gs_nm,#gs_ftr,#gs_top .gs_ctc,#gs_top .gs_ctu,#gs_rt_hdr,.gs_rt_hdr_ttl{display:none}#gs_top,#gs_top #gs_bdy,#gs_top #gs_res_bdy,#gs_top #gs_bdy_ccl,#gs_top .gs_r,#gs_top .gs_ri,#gs_top .gs_rs{font-size:9pt;color:black;position:static;float:none;margin:0;padding:0;width:auto;min-width:0;max-width:none;}#gs_top #gs_bdy a{color:blue;text-decoration:none}#gs_top .gs_r{margin:1em 0;page-break-inside:avoid;border:0;}#gs_top .gs_med,#gs_top .gs_rt{font-size:12pt}#gs_top .gs_a,#gs_top #gs_bdy .gs_a a{font-size:9pt;color:green}#gs_top .gs_fl,#gs_top .gs_fl a{font-size:9pt}#gs_top .gs_rs br{display:inline}}.gs_el_ph #gs_ab_ttll{max-width:98px;max-width:calc(100vw - 222px);}@media(max-width:320px){.gs_el_ph #gs_ab_ttll{max-width:98px;}}#gs_res_ab_yy-r,#gs_res_ab_ad-r{display:none;}.gs_el_ta #gs_res_ab_yy-r,.gs_el_ph #gs_res_ab_yy-r,.gs_el_ta #gs_res_ab_ad-r,.gs_el_ph #gs_res_ab_ad-r{display:inline-block;margin:0;}#gs_res_ab_yy-r:last-child{margin-right:4px;}#gs_res_ab_ad-r:last-child{margin-right:12px;}#gs_res_ab_tmn-d,#gs_res_ab_yy-d,#gs_res_ab_ad-d{white-space:normal;word-wrap:break-word;width:208px;width:max-content;min-width:100px;max-width:208px;}#gs_res_ab_yy-d,#gs_res_ab_ad-d{left:auto;right:0;}.gs_res_ab_dd_bdy{padding:8px 0;box-sizing:border-box;}.gs_res_ab_dd_sec a.gs_res_ab_sel,.gs_res_ab_dd_sec a[role=menuitemradio]:active{color:#d14836;}.gs_res_ab_dd_sec:before{display:block;content:\" \";height:0;border-bottom:1px solid #e5e5e5;margin:8px 0;}.gs_res_ab_dd_sec:first-child:before{display:none;}.gs_fsvg line{stroke:#222222}a:link .gs_fsvg{fill:#1a0dab;}a:link .gs_fsvg line{stroke:#1a0dab;}a:visited .gs_fsvg{fill:#660099;}a:visited .gs_fsvg line{stroke:#660099;}a:active .gs_fsvg{fill:#d14836;}a:active .gs_fsvg line{stroke:#d14836;}a .gs_fsvg{border-bottom:1px solid transparent;}a:hover .gs_fsvg,a:focus .gs_fsvg{border-bottom-color:inherit;}.gs_fsml{font-size:13px}.gs_fscp{font-variant:small-caps}.gs_qsuggest{max-width:712px;line-height:21px;margin-bottom:2px;}.gs_r .gs_qsuggest{max-width:600px;}.gs_el_ta .gs_r .gs_qsuggest{margin-right:100px;}.gs_qsuggest h2{margin-bottom:8px;font-weight:normal;font-size:17px;}.gs_qsuggest li{display:inline-block;width:100%;font-size:15px;line-height:18px;padding:4px 0 3px;}.gs_qsuggest ul{list-style-type:none;columns:2;column-gap:40px;margin-bottom:-3px;}.gs_el_sm .gs_qsuggest ul{column-gap:16px;margin-bottom:3px;}.gs_qsuggest li:only-child{column-span:all;}.gs_qsuggest li>a{display:inline-block;max-width:100%;word-wrap:break-word;}.gs_el_tc .gs_qsuggest a{padding:8px 0 5px;}.gs_el_tc .gs_qsuggest li{padding:2px 0 1px;}.gs_el_tc .gs_qsuggest ul{margin:0;}.gs_el_tc .gs_qsuggest h2{margin:6px 0;}.gs_qsuggest_bottom h2{padding-top:16px;}.gs_el_tc .gs_qsuggest_wrap .gs_qsuggest_related h2{padding-bottom:0;}.gs_el_ph .gs_r .gs_qsuggest{margin-bottom:-15px;}.gs_el_ph .gs_qsuggest ul{columns:1;margin:0;}.gs_el_ph .gs_qsuggest li{margin:0;padding:0;position:relative;}.gs_el_ph .gs_qsuggest h2{margin:1px 0 16px;}.gs_el_ph .gs_qsuggest a{display:block;padding:11px 29px 9px 0;border-bottom:1px solid #eee;}.gs_el_ph .gs_qsuggest li:first-child a{border-top:1px solid #eee;}.gs_el_ph .gs_qsuggest_wrap.gs_r li:last-child a{border-bottom:0;}.gs_el_ph .gs_qsuggest a:link,.gs_el_ph .gs_qsuggest a:visited{color:#222;}.gs_el_ph .gs_qsuggest a:hover,.gs_el_ph .gs_qsuggest a:focus{background:#f1f1f1;text-decoration:none;outline:none;}.gs_el_ph .gs_qsuggest li>a:after{content:\"\";position:absolute;width:7px;height:7px;top:50%;margin-top:-4px;right:10px;border:2px solid #777;border-left:none;border-bottom:none;transform:rotate(45deg);}</style><script>!function(GSP){/*\n",
       "\n",
       " Copyright The Closure Library Authors.\n",
       " SPDX-License-Identifier: Apache-2.0\n",
       "*/\n",
       "var l,aa=function(a){var b=0;return function(){return b<a.length?{done:!1,value:a[b++]}:{done:!0}}},ba=function(a){var b=\"undefined\"!=typeof Symbol&&Symbol.iterator&&a[Symbol.iterator];return b?b.call(a):{next:aa(a)}},ca=\"function\"==typeof Object.create?Object.create:function(a){var b=function(){};b.prototype=a;return new b},da;\n",
       "if(\"function\"==typeof Object.setPrototypeOf)da=Object.setPrototypeOf;else{var ea;a:{var fa={Ga:!0},ha={};try{ha.__proto__=fa;ea=ha.Ga;break a}catch(a){}ea=!1}da=ea?function(a,b){a.__proto__=b;if(a.__proto__!==b)throw new TypeError(a+\" is not extensible\");return a}:null}\n",
       "var ia=da,ja=function(a,b){a.prototype=ca(b.prototype);a.prototype.constructor=a;if(ia)ia(a,b);else for(var c in b)if(\"prototype\"!=c)if(Object.defineProperties){var d=Object.getOwnPropertyDescriptor(b,c);d&&Object.defineProperty(a,c,d)}else a[c]=b[c];a.sb=b.prototype},ka=function(){},la=function(a){var b=typeof a;return\"object\"==b&&null!=a||\"function\"==b},ma=function(a,b){var c=Array.prototype.slice.call(arguments,1);return function(){var d=c.slice();d.push.apply(d,arguments);return a.apply(this,\n",
       "d)}};var n=function(){this.J=this.J;this.X=this.X};n.prototype.J=!1;n.prototype.isDisposed=function(){return this.J};n.prototype.ua=function(){this.J||(this.J=!0,this.ba())};n.prototype.ba=function(){if(this.X)for(;this.X.length;)this.X.shift()()};function p(a,b){a.classList.add(b)}function r(a,b){a.classList.remove(b)}function u(a,b){return a.classList?a.classList.contains(b):!1}function v(a,b,c){c=void 0!==c?c:!u(a,b);(c?p:r)(a,b)};function w(a){return 0<=(navigator.userAgent||\"\").indexOf(a)}var na=w(\"iPhone\")||w(\"iPad\")||w(\"iPod\"),oa=w(\"iPhone\")||w(\"Android\")&&w(\"Mobile\");function pa(){if(void 0===b){var a=window.screen;a={width:window.innerWidth,height:window.innerHeight,rb:a.width,qb:a.height}}else a=b;var b=a;a=b.width;var c=b.height,d=b.rb;b=b.qb;var e=4;if(600>a||48E4>d*b||oa)e=1;else if(982>a)e=2;else if(1136>a||590>c)e=3;return e}var qa,ra=/[?&]tc=([01])/.exec(location.search||\"\");\n",
       "qa=ra?0<+ra[1]:w(\"Android\")?!0:window.matchMedia&&window.matchMedia(\"(pointer)\").matches?window.matchMedia(\"(pointer:coarse)\").matches:!w(\"Firefox\")||w(\"Mobile\")||w(\"Tablet\")?na||\"ontouchstart\"in window||0<(navigator.msMaxTouchPoints||0):!1;function sa(){if(void 0==ta){ta=!1;try{var a=Object.defineProperty({},\"passive\",{get:function(){ta=!0}});window.addEventListener(\"testPassive\",ka,a);window.removeEventListener(\"testPassive\",ka,a)}catch(b){}}return ta}var ta;var ua=function(a){this.Fa=a},va=new ua(\"INPUT\"),wa=new ua(\"STYLE\");function x(a){return document.getElementById(a)}function z(a){return a.id||(a.id=\"gs_id\"+xa++)}function ya(a){a=(void 0===a?null:a)||document.body;return\"rtl\"==(a?window.getComputedStyle(a,null):null).direction}\n",
       "function za(a,b){var c=[];a=a.elements;for(var d=a.length,e=0;e<d;e++){var f=a[e],h=encodeURIComponent(f.name||\"\"),g=f.type;!h||b&&!b(f)||f.disabled||!(\"checkbox\"!=g&&\"radio\"!=g||f.checked)||c.push(h+\"=\"+encodeURIComponent(f.value||\"\"))}return c.join(\"&\")}function Aa(a){var b=a.elements.scipsc;b||(b=document.createElement(va.Fa),b.type=\"hidden\",b.name=\"scipsc\",a.appendChild(b));return b}function Ba(a){a.match(Ca)&&(window.location.href=a)}\n",
       "var xa=100,Da=/\\S+/g,Ca=/^(?:https?:|[^:/?#]*(?:[/?#]|$))/i,Ea=/^(?:#|\\/[a-z0-9_-]*(?:[?].*)?$)/i;function Fa(a){return a.hasOwnProperty(\"gs_uid\")?a.gs_uid:a.gs_uid=++Ga}var Ga=0;function Ha(a){var b=[];a=ba(a);for(var c=a.next();!c.done;c=a.next())c=c.value.charCodeAt(0),b.push(32>c||126<=c?c:String.fromCharCode(32+(c-32+47)%94));return b.join(\"\")};var A=function(){this.f=[];this.P={};this.ka=this.A=0};A.prototype.add=function(a){var b=Fa(a);this.P[b]||(this.f.push(a),this.P[b]=this.f.length,++this.A)};A.prototype.remove=function(a){a=Fa(a);var b=this.P[a];b&&(this.f[b-1]=null,delete this.P[a],2*--this.A<this.f.length&&!this.ka&&Ia(this))};A.prototype.notify=function(a){var b=this.f;try{++this.ka;for(var c=0;c<b.length;c++){var d=b[c];d&&d.apply(null,arguments)}}finally{!--this.ka&&2*this.A<b.length&&Ia(this)}};\n",
       "var Ia=function(a){var b=a.f,c=b.length;a=a.P;for(var d=0,e=0;e<c;e++){var f=b[e];f&&(b[d]=f,a[Fa(f)]=++d)}b.length=d};function B(a,b,c,d,e){Ja(a,b,c,void 0===d?!1:d,void 0===e?!1:e,Ka)}function D(a,b,c,d){Ja(a,b,c,void 0===d?!1:d,!1,La)}function Ma(a,b,c,d,e){function f(h){D(a,b,f,d);c(h)}d=void 0===d?!1:d;B(a,b,f,d,void 0===e?!1:e);return f}function Na(a,b,c,d,e){var f=Ma(a,b,function(g){clearTimeout(h);c(g)}),h=setTimeout(function(){D(a,b,f);e&&e()},d)}function F(a){Oa?Oa.add(a):a()}var Pa=window.requestAnimationFrame?function(a){window.requestAnimationFrame(a)}:function(a){setTimeout(a,33)};\n",
       "function Qa(a){a.stopPropagation();a.preventDefault()}function Ra(a){return(a.ctrlKey?1:0)|(a.altKey?2:0)|(a.metaKey?4:0)|(a.shiftKey?8:0)}function Sa(a,b){return(b=b&&sa())?{passive:b,capture:a}:a}function Ka(a,b,c,d,e){a.addEventListener(b,c,Sa(d,e))}function La(a,b,c,d){a.removeEventListener(b,c,d)}function Ja(a,b,c,d,e,f){if(\"string\"===typeof b)f(a,b,c,d,e);else for(var h=b.length,g=0;g<h;g++)f(a,b[g],c,d,e)}function Ta(){Oa.notify();Oa=null}\n",
       "function Ua(){\"complete\"==document.readyState&&(D(document,\"readystatechange\",Ua),Ta())}var Oa,Va=!!document.attachEvent,Wa=document.readyState;if(Va?\"complete\"!=Wa:\"loading\"==Wa)Oa=new A,Va?B(document,\"readystatechange\",Ua):Ma(document,\"DOMContentLoaded\",Ta);function Xa(){Ma(document,[\"mousedown\",\"touchstart\"],function(){v(document.documentElement,\"gs_pfcs\",!0);B(document,\"keydown\",Ya,!0)},!0,!0)}\n",
       "function Ya(a){9==a.keyCode&&(v(document.documentElement,\"gs_pfcs\",!1),D(document,\"keydown\",Ya,!0),Xa())}Xa();function Za(a,b,c,d,e){var f=x(a);$a(f,function(){p(f,\"gs_vis\");b&&b()},function(){r(f,\"gs_vis\");c&&c()},d,e)}function $a(a,b,c,d,e){var f=z(a);if(!H[f]){var h=document.activeElement;ab(bb(a),!0);b&&b();I.push(function(g){delete H[f];try{g||(e||h).focus()}catch(k){}c&&c()});H[f]=I.length;h&&a.contains(h)||setTimeout(function(){var g=d,k=g&&\"text\"==g.type;if(!g||k&&qa)g=a;try{g.focus(),k&&(g.value=g.value)}catch(t){}},0)}}function J(a){ab((H[a]||1E6)-1,!1)}\n",
       "function cb(a){a=void 0===a?!1:a;I.pop()(a)}function ab(a,b){for(b=void 0===b?!1:b;I.length>a;)cb(b||I.length>a+1)}function bb(a){for(var b=0;a&&!(b=H[a.id]||0);)a=a.parentNode;return b}var I=[],H={};B(document,\"click\",function(a){var b=I.length;b&&!Ra(a)&&b>bb(a.target)&&cb(!0)});B(document,\"keydown\",function(a){27==a.keyCode&&!Ra(a)&&I.length&&cb()});\n",
       "B(document,\"focus\",function(a){var b=I.length;if(b)for(var c=bb(a.target);c<b;){var d=\"\",e;for(e in H)if(H[e]==b){d=e;break}a:{d=(x(d).getAttribute(\"data-wfc\")||\"\").match(Da)||[];for(var f=0;f<d.length;f++){var h=x(d[f]);if(h&&h.offsetWidth){d=h;break a}}d=void 0}if(d){Qa(a);d.focus();break}else cb(!0),--b}},!0);function db(a,b,c,d){if((void 0===d?0:d)||!(c in eb)){a=a&&a.getItem(c);if(a)try{var e=JSON.parse(a)}catch(f){}b[c]=e}return b[c]}function fb(a,b,c,d){b[c]=d;try{a&&a.setItem(c,JSON.stringify(d))}catch(e){}}function gb(a,b){return db(hb,eb,a,void 0===b?!1:b)}var eb={},hb,ib={},jb;try{hb=window.localStorage,jb=window.sessionStorage}catch(a){};function kb(a){return\"object\"==typeof a?a:null}function lb(a,b){b=mb(b);a=nb(a);a=ob(a)||\"#\";pb=kb(b);qb?window.history.pushState(b,\"\",a):window.location.assign(a)}function rb(a,b){b=mb(b);a=nb(a);a=ob(a)||\"#\";pb=kb(b);qb?window.history.replaceState(b,\"\",a):window.location.replace(a)}function ob(a){var b=[],c;for(c in a)b.push(encodeURIComponent(c)+\"=\"+encodeURIComponent(a[c]));return(a=b.sort().join(\"&\"))?\"#\"+a:\"\"}\n",
       "function sb(a){var b={};a=a.split(\"&\");for(var c=0;c<a.length;c++){var d=a[c],e=d.indexOf(\"=\");if(e+1){var f=d.substr(0,e);d=d.substr(e+1)}else f=d,d=\"\";f&&(b[decodeURIComponent(f)]=decodeURIComponent(d))}return b}function tb(){var a=window.location.hash,b=a.indexOf(\"#\")+1;return sb(b?a.substr(b):\"\")}function ub(a,b){for(var c in b){var d=b[c];void 0!==d?a[c]=d:delete a[c]}}function nb(a){var b=tb();ub(b,a);return b}\n",
       "function mb(a){var b=pb||kb(window.history.state),c={},d;for(d in b)c[d]=b[d];ub(c,a);return c}function vb(){setTimeout(function(){if(!wb){var a=window.history.state;wb=!0;pb=kb(a);xb.notify()}yb=!1},0)}var xb=new A,pb,wb=!1,yb=!0,qb=\"pushState\"in window.history,zb;\n",
       "if(\"undefined\"==typeof GSP)zb=!1;else{var Ab=.001*Date.now(),Bb=GSP.eventId,Cb=!1,K=db(jb,ib,\"nh\",!1);K instanceof Array||(K=[]);for(var Db=K.length,Eb=0,Fb=0;Fb<Db;Fb++){var Gb=K[Fb];if(Gb instanceof Array&&2==Gb.length){var Hb=Gb[1]==Bb;Cb=Cb||Hb;10>=Db-Fb&&+Gb[0]>Ab-86400&&!Hb&&(K[Eb++]=Gb)}}K.length=Eb;K.push([Ab,Bb]);fb(jb,ib,\"nh\",K);zb=Cb}var Ib=zb;\"onpageshow\"in window?B(window,\"pageshow\",vb):F(vb);\n",
       "B(window,qb?\"popstate\":\"hashchange\",function(a){\"loading\"!=document.readyState&&(a=a.state,wb=!0,pb=kb(a),xb.notify())});function Lb(a){var b=void 0===b?\"\":b;var c=void 0===c?\"\":c;var d=void 0===d?[]:d;x(\"gs_alrt_m\").innerHTML=a;Mb().action=c.match(Ca)?c:\"\";x(\"gs_alrt_l\").textContent=b;a=x(\"gs_alrt_h\");a.innerHTML=\"\";for(var e in d)b=document.createElement(\"input\"),b.type=\"hidden\",b.name=e,b.value=d[e],a.appendChild(b);Nb()}function Nb(){var a=Mb();p(a,\"gs_anm\");p(a,\"gs_vis\");B(document,\"click\",Ob);clearTimeout(Pb);Pb=setTimeout(Ob,4E3);++Qb;setTimeout(Rb,0)}\n",
       "function Ob(){Qb||(D(document,\"click\",Ob),clearTimeout(Pb),Pb=void 0,r(Mb(),\"gs_vis\"))}function Mb(){return x(\"gs_alrt\")}function Rb(){Qb=0}var Pb,Qb=0;F(function(){var a=x(\"gs_alrt_m\");a&&(a.innerHTML&&!Ib&&Nb(),B(window,\"pagehide\",function(){Qb=0;Ob();r(Mb(),\"gs_anm\")}))});function L(a,b,c){b=void 0===b?Sb:b;c=void 0===c?!1:c;b.length=0;a.normalize&&(a=a.normalize(\"NFKD\").replace(Tb,\"\"));return a.toLowerCase().replace(Ub,function(d,e){b.length||e&&b.push(0);b.push(d.length);return e&&(!c||e+d.length<a.length)?\" \":\"\"})}function Vb(a,b,c,d,e){var f=c.indexOf(a),h=\"\",g=\"\";0<f&&(f=c.indexOf(\" \"+a));!(a&&f+1)||void 0!==e&&e&&f||(f+=\" \"==c[f],h=Wb(c.substr(0,f),b,d),g=Wb(c.substr(0,f+a.length),b,d).substr(h.length));return[h,g,b.substr(h.length+g.length)]}\n",
       "function Wb(a,b,c){var d=a.length;for(a=a.split(\" \").length;a--;)d+=(c[a]||0)-1;return b.substr(0,d+1)}var Sb=[],Tb=/[\\u0300-\\u036f]+/g,Ub=/[\\s\\x00-/:-@[-`{-\\u00bf\\u2000-\\u206f\\u2e00-\\u2e42\\u3000-\\u303f\\uff00-\\uff0f\\uff1a-\\uff20\\uff3b-\\uff40\\uff5b-\\uff65]+/g,Xb=/^[\\d\\s]*[\\u0590-\\u08ff\\ufb1d-\\ufdff\\ufe70-\\ufefc]/;var Yb=function(a,b,c,d,e,f,h){e=void 0===e?[]:e;this.i=a;this.source=b;this.wa=void 0===c?\"\":c;this.g=void 0===d?\"\":d;this.H=e;this.mb=void 0===f?\"\":f;this.za=void 0===h?\"\":h},Zb=function(a){var b=a.indexOf(\"|\"),c=a.substr(0,b),d=L(c);a=a.substr(b+1);b=[];return new Yb(a,0,\"\",L(a,b),b,c,d)},$b=function(a){var b=[];return new Yb(a,2,\"\",L(a,b),b)};var ac=function(){this.Ha=100;this.A=0;this.G=this.D=null;this.V=Object.create(null)};ac.prototype.get=function(a){if(a=this.V[a])return bc(this,a),a.value};ac.prototype.set=function(a,b){var c=this.V[a];c?(c.value=b,bc(this,c)):(this.A>=this.Ha&&(delete this.V[this.G.key],this.G=this.G.F,this.G.W=null,--this.A),c=this.V[a]={key:a,value:b,W:this.D,F:null},this.D?this.D.F=c:this.G=c,this.D=c,++this.A)};var bc=function(a,b){var c=b.W,d=b.F;d&&((d.W=c)?c.F=d:a.G=d,a.D.F=b,b.W=a.D,b.F=null,a.D=b)};function cc(a,b,c){var d=new XMLHttpRequest;d.onreadystatechange=function(){if(4==d.readyState){var e=d.status,f=d.responseText,h=d.responseURL,g=window.location,k=g.protocol;g=\"//\"+g.host+\"/\";h&&h.indexOf(k+g)&&h.indexOf(\"https:\"+g)&&(e=0,f=\"\");c(e,f)}};d.open(b?\"POST\":\"GET\",a,!0);d.setRequestHeader(\"X-Requested-With\",\"XHR\");b&&d.setRequestHeader(\"Content-Type\",\"application/x-www-form-urlencoded\");b?d.send(b):d.send();return d}function dc(a){a&&(a.onreadystatechange=ka,a.abort())};var ec=function(a,b){this.nb=a;this.Ca=b;this.O=this.N=0;this.ma=this.na=\"\";this.oa=void 0;this.ta=new ac},hc=function(a,b,c){var d=b?a.ta.get(fc(a,b,c)):[];d?a.Ca(b,c,d):(a.na=b,a.ma=c,10<=a.N||3<=a.O||(a.N?void 0!==a.oa||(a.oa=setTimeout(function(){gc(a)},100<<Math.max(a.N-4,0))):gc(a)))},gc=function(a){a.oa=void 0;var b=a.na,c=a.ma;a.na=a.ma=\"\";if(b){++a.N;var d=new XMLHttpRequest;d.onreadystatechange=function(){if(d&&4==d.readyState){var e=d.status;200==e&&a.ia(b,c,d.responseText);d=null;ic(a,\n",
       "e)}};d.ontimeout=function(){d&&(d=null,ic(a))};d.open(\"GET\",fc(a,b,c),!0);d.timeout=3E4;d.send()}},ic=function(a,b){b=void 0===b?0:b;--a.N;var c=3*(403==b)+(499<b&&600>b);a.O+=c;c&&setTimeout(function(){a.O-=c},3E4)};ec.prototype.ia=function(a,b,c){try{var d=JSON.parse(c)}catch(h){}if(d&&\"object\"==typeof d&&(c=d.l,c instanceof Array)){d=[];for(var e=c.length,f=0;f<e;f++)d.push(Zb(\"\"+c[f]));this.ta.set(fc(this,a,b),d);this.Ca(a,b,d)}};\n",
       "var fc=function(a,b,c){return\"/scholar_complete?\"+encodeURIComponent(a.nb)+\"=\"+encodeURIComponent(b)+\"&\"+c};var kc=function(a){this.Da=\"H:\"+a;this.o=[];this.lb=.001*Date.now();a=gb(this.Da);a instanceof Array||(a=[]);for(var b=this.o,c={\"\":1},d=0;d<a.length&&50>b.length;d++){var e=new jc(a[d]);c.hasOwnProperty(e.g)||(c[e.g]=1,b.push(e))}};\n",
       "kc.prototype.add=function(a,b,c){c=(void 0===c?0:c)||.001*Date.now();b=(void 0===b?0:b)||c;a=new jc([0,0,a]);if(a.g){for(var d=this.o,e=d.length,f=0;f<e&&d[f].g!=a.g;)++f;f<e||d.push(a);e=d[f];if(!(2>b-e.m)){e.m=b;e.i=a.i;e.H=a.H;for(e.v=Math.min(e.v+lc(b),10*lc(c));f&&mc(d[f],d[f-1]);)a=d[f],d[f]=d[f-1],d[--f]=a;d.splice(50,1);nc(this)}}};kc.prototype.remove=function(a){for(var b=this.o,c=b.length,d=0;d<c;d++)if(b[d].i==a){b.splice(d,1);nc(this);break}};\n",
       "var nc=function(a){for(var b=[],c=a.o,d=c.length,e=0;e<d;e++)b.push(c[e].encode());fb(hb,eb,a.Da,b)};function lc(a){return Math.exp(.0231*(Math.max(a-1422777600,0)/86400|0))}var jc=function(a){a instanceof Array||(a=oc);this.m=+a[0]||0;this.v=+a[1]||0;this.i=\"\"+a[2];this.H=[];this.g=L(this.i,this.H,!0)};jc.prototype.encode=function(){return[this.m,this.v,this.i]};\n",
       "var mc=function(a,b){var c=a.v-b.v;return 0<c||!c&&a.m>b.m},oc=[0,0,\"\"],pc=function(a,b,c){this.m=a;this.v=b;this.i=c},qc=function(a,b){var c=a.v-b.v;return 0<c||!c&&a.m>b.m};var rc=function(a){this.j=a};function sc(a){var b=document.createElement(\"b\");b.textContent=a;return b};var tc=function(a,b,c){this.type=a;this.currentTarget=this.target=b;this.b=void 0===c?null:c;this.pa=!1};tc.prototype.stopPropagation=function(){this.b&&this.b.stopPropagation();this.pa=!0};var N=function(a){a.b&&Qa(a.b);a.pa=!0};var O=function(a,b){this.ra=a;this.kb=b},uc=function(a,b,c){this.ra=a;this.types=b;this.listener=c};function vc(a,b){P(a,\"click\",b)}function Q(a,b){var c=b.length;if(c){var d=Fa(a),e=wc[d];if(!e){e=wc[d]=[];d=xc(b[0].ra);for(var f in d){var h=yc[f];h||(h=yc[f]=Object.create(null));for(var g in d[f]){var k=h[g];k||(k=h[g]=[]);k.push(a)}}zc(a,e,b[0],Ac);for(f=1;f<c;f++)zc(a,e,b[f],Bc)}}}function R(a,b,c){Cc(new tc(a,b,void 0===c?null:c))}\n",
       "function P(a,b,c){var d=Dc;\"string\"===typeof b&&(Ec[0]=b,b=Ec);var e=b.length;a=xc(a);for(var f in a)for(var h in a[f])for(var g=0;g<e;g++)d(f,h,b[g],c)}function xc(a){\"string\"===typeof a&&(Fc[0]=a,a=Fc);for(var b=a.length,c=Object.create(null),d=0;d<b;d++){var e=a[d],f=e.charAt(0),h=e.substr(1);if(\"#\"!=f&&\".\"!=f||!h)throw Error(\"bad selector: \"+e);(e=c[f])||(e=c[f]=Object.create(null));e[h]=!0}return c}\n",
       "function Dc(a,b,c,d){var e=Gc[c];e||(\"touchstart\"!=c&&\"mouseover\"!=c&&\"mouseout\"!=c&&B(document,c,Hc,\"focus\"==c||\"blur\"==c),e=Gc[c]=Object.create(null));(c=e[a])||(c=e[a]=Object.create(null));(a=c[b])||(a=c[b]=new A);a.add(d)}function Hc(a){var b=a.target;b&&3==b.nodeType&&(b=b.parentNode);Cc(new tc(a.type,b,a))}\n",
       "function Cc(a){for(var b=a.target;b&&b!=document&&!b.disabled&&!u(b,\"gs_dis\");){a.currentTarget=b;var c=b.id;if(c&&!Ic(\"#\",c,a))break;c=b.classList||[];for(var d=c.length,e=0;e<d;e++)if(!Ic(\".\",c[e],a))return;b=b.parentNode}}function Ic(a,b,c){var d=Gc[c.type];(b=(a=d&&d[a])&&a[b])&&b.notify(c);return!c.pa}function zc(a,b,c,d){var e=c.ra;c=c.kb;for(var f in c){var h=ma(d,a,c[f]);P(e,f,h);b.push(new uc(e,f,h))}}function Ac(a,b,c){var d=c.currentTarget;a=Jc(a,d)||a;a=Kc(a,d);b.call(a,c)}\n",
       "function Bc(a,b,c){a:{for(var d=c.currentTarget;d&&d!=document;){var e=Jc(a,d);if(e){a=Kc(e,d);break a}d=d.parentNode}a=void 0}a&&b.call(a,c)}function Kc(a,b){var c=Lc(b),d=Mc[c];d||(d=Mc[c]=[]);for(var e=d.length,f=0;f<e;f++){var h=d[f];if(h instanceof a)return h}b=new a(b);d.push(b);a=Fa(a);(d=Nc[a])||(d=Nc[a]=[]);d.push(c);return b}function Jc(a,b){var c,d=b.id;d&&(c=Oc(a,c,\"#\",d));b=b.classList||[];d=b.length;for(var e=0;e<d;e++)c=Oc(a,c,\".\",b[e]);return c}\n",
       "function Oc(a,b,c,d){c=(d=(c=yc[c])&&c[d])?d.length:0;for(var e=0;e<c;e++){var f=d[e];!(f===a||f.prototype instanceof a)||b&&!(f===b||f.prototype instanceof b)||(b=f)}return b}function Lc(a){var b=a.getAttribute(\"data-duid\");b||a.setAttribute(\"data-duid\",b=\"\"+Pc++);return b}var Gc=Object.create(null),Fc=[\"\"],Ec=[\"\"],yc=Object.create(null),wc=Object.create(null),Nc=Object.create(null),Mc=Object.create(null),Pc=100;window.gs_evt_dsp=Hc;function Qc(a){if(\"string\"===typeof a){var b=a.charAt(0),c=a.slice(1);if(\"#\"==b)a=function(d){return d.id==c&&0<d.offsetWidth};else if(\".\"==b)a=function(d){return u(d,c)&&0<d.offsetWidth};else throw Error(\"bad selector: \"+a);}return a}function Rc(a,b){return a&&((void 0===b?0:b)?a.lastElementChild:a.firstElementChild)}function Sc(a,b){return a&&((void 0===b?0:b)?a.previousElementSibling:a.nextElementSibling)}function Tc(a,b,c,d){d=void 0===d?!1:d;return Uc(a,b,Qc(c),d,!1)}\n",
       "function Uc(a,b,c,d,e){for(var f;b&&a;){if(c(b)){if(e)return b}else for(f=Rc(b,d);f;f=Sc(f,d))if(e=Uc(f,f,c,d,!0))return e;for(e=!0;;){if(b==a)return null;f=b.parentNode;if(b=Sc(b,d))break;b=f}}return null};var S=function(a){var b=this;this.a=a.querySelector(\".gs_in_ac\");this.j=a.querySelector(\".gs_md_ac\");this.K=this.C=!1;this.o=new kc(this.a.name);this.Ka=new ec(this.a.name,function(c,d,e){d==b.Y&&Vc(b,c)&&(c.length>=b.Z.length||!Vc(b,b.Z))&&(b.Z=c,b.qa=e,Wc(b))});this.Aa=0;this.ob=new rc(this.j);this.xa=[];this.ya=[];this.Z=\"\";this.qa=[];this.Y=\"\";this.B=this.a.value;Xc(this);B(this.a.form,[\"change\",\"gs-change\"],function(){Xc(b)})},Yc=function(a){return\"block\"==a.j.style.display},$c=function(a){if(Yc(a)){var b=\n",
       "Zc(a);b&&r(b,\"gs_sel\");a.C=a.K=!1;a.j.style.display=\"none\"}},ad=function(a,b,c){c=void 0===c?[]:c;a.xa=c;c=a.o;var d=L(b);var e=\" \"+d,f=d.length,h=d.split(\" \").length,g=.1/lc(c.lb),k=c.o,t=k.length;c=[];for(var m=0;m<t;m++){var y=k[m],q=y.g,E=q.indexOf(d);if(!(0>E)){var G=10;E&&(E=q.lastIndexOf(e),G=+(0<=E));q=G*(2*(h-1)+(1+(\" \"==(q[E+f]||\" \"))))/h;E=y.v*g;if(q=d?q*E:1){y=new pc(y.m,q,y.i);for(q=0;q<c.length&&!qc(y,c[q]);)++q;3>q&&c.splice(q,0,y);c.splice(3,1)}}}d=[];for(e=0;e<c.length;e++)d.push($b(c[e].i));\n",
       "a.ya=d;hc(a.Ka,b,a.Y);Wc(a)},Vc=function(a,b){return 0==L(a.a.value).indexOf(L(b))},bd=function(a){var b=a.a.value;a.B=b;Xc(a);var c=[],d=a.a.getAttribute(\"data-iq\")||\"\",e=a.a.getAttribute(\"data-is\");if(d==b&&e){d=document.querySelectorAll(e);e=d.length;for(var f=0;f<e&&10>f;f++){var h=d[f];c.push(new Yb(h.textContent,1,h.innerHTML))}}ad(a,b,c)},Wc=function(a){a.Aa++||Pa(function(){a.Aa=0;var b=a.xa;var c=a.qa;if(b.length)b=b.slice(0,10);else{b=a.ya.slice(0,3);var d=c.length&&c[0].za,e=d?3:10,f=b.length;\n",
       "if(!f||!d){for(d=Object.create(null);f--;)d[b[f].g]=!0;for(f=0;f<c.length&&b.length<e;f++){var h=c[f];d[h.g]||b.push(h)}}}c=b;var g=a.a.value,k=a.ob.j.firstElementChild;h=k.querySelector(\".gs_md_acs\");b=k.querySelector(\"ul\");e=(e=b.querySelector(\".gs_sel\"))?e.getAttribute(\"data-q\"):\"\";f=c.length;var t=[];d=L(g,t);b.innerHTML=\"\";if(f){var m=c[0].za,y=m&&\"gs_md_acp\";\"string\"===typeof y||(y=y.join(\" \"));k.className!=y&&(k.className=y);g=Vb(m,g,d,t,!0);h.textContent=g[0]+g[1];g=g[2];d=L(g,t);for(h=0;h<\n",
       "f;h++){m=c[h];k=document.createElement(\"li\");t=(m.mb||\"\")+m.i;k.className=\"gs_md_ac_li\";k.setAttribute(\"data-q\",t);k.setAttribute(\"onclick\",\"\");if(m.wa)k.innerHTML=m.wa;else{g=Vb(d,m.i,m.g,m.H);if(!g[1]){for(g=0;m.g[g]==d[g];)++g;g=Vb(d.substr(0,g),m.i,m.g,m.H)}g[0]&&k.appendChild(sc(g[0]));k.appendChild(document.createTextNode(g[1]));g[2]&&k.appendChild(sc(g[2]));2==m.source&&(p(k,\"gs_md_ac_lh\"),g=document.createElement(\"span\"),g.className=\"gs_ico gs_ico_X gs_ico_Xt\",k.appendChild(g))}t==e&&p(k,\n",
       "\"gs_sel\");b.appendChild(k)}}c=c.length&&document.activeElement==a.a;c!=Yc(a)&&(c?Yc(a)||(a.C=a.K=!1,a.j.style.display=\"block\"):$c(a))})},Zc=function(a){return a.j.querySelector(\".gs_sel\")},dd=function(a,b){var c=a.a.getAttribute(\"data-oq\")||\"oq\",d=a.a.form,e=d.elements[c];e||(e=document.createElement(\"input\"),e.name=c,e.type=\"hidden\",d.appendChild(e));e.value=a.B;a.a.value=cd(b)},ed=function(a){R(\"gs-change\",a.a)};l=S.prototype;\n",
       "l.$a=function(){var a=this.a.value;this.B!=a&&(this.B=a,ad(this,a),fd(this.a,L(a).match(Xb)?\"rtl\":\"ltr\"))};\n",
       "l.ga=function(a){if(!this.K){var b=a.b,c=b.keyCode;b=Ra(b);var d;13!=c||b?27!=c||b?38!=c&&40!=c||b?(46==c&&!b||88==c&&(1==b||4==b))&&(d=Zc(this))&&u(d,\"gs_md_ac_lh\")&&(this.a.selectionStart||0)>=this.a.value.length&&(this.o.remove(cd(d)),ad(this,this.a.value=this.B),N(a),ed(this)):(Yc(this)?((d=Zc(this))&&r(d,\"gs_sel\"),(d=Tc(this.j,d||this.j,\".gs_md_ac_li\",38==c))?(p(d,\"gs_sel\"),this.a.value=cd(d)):this.a.value=this.B,ed(this)):bd(this),N(a)):Yc(this)&&(this.a.value=this.B,$c(this),N(a),ed(this)):\n",
       "((d=Zc(this))&&dd(this,d),$c(this),ed(this))}};l.ha=function(){var a=this;document.activeElement==this.a?bd(this):(clearTimeout(this.la),this.la=setTimeout(function(){a.la=void 0},500))};l.Za=function(){void 0!==this.la&&bd(this)};l.Na=function(){var a=this;setTimeout(function(){$c(a)},this.C?300:0)};l.Ma=function(a){this.C&&N(a)};l.Xa=function(){this.K=!0};l.Wa=function(){this.K=!1};var Xc=function(a){var b=a.a,c=za(b.form,function(d){return d!=b});c!=a.Y&&(a.Y=c,a.Z=\"\",a.qa=[])};l=S.prototype;\n",
       "l.Ra=function(a){this.C=!0;N(a)};l.Sa=function(){this.C=!0};l.ea=function(){this.C=!1};l.Oa=function(a){var b=a.currentTarget;if(u(a.target,\"gs_ico_X\"))this.o.remove(cd(b)),ad(this,this.a.value=this.B);else{dd(this,b);$c(this);this.a.blur();var c=this.a.form;setTimeout(function(){c.submit()},0)}ed(this)};l.Qa=function(a){a=a.currentTarget;if(!u(a,\"gs_sel\")){var b=Zc(this);b&&r(b,\"gs_sel\");p(a,\"gs_sel\")}};l.Pa=function(a){r(a.currentTarget,\"gs_sel\")};\n",
       "var gd=[new O(\".gs_in_acw\",{}),new O(\".gs_in_ac\",{input:S.prototype.$a,keydown:S.prototype.ga,mousedown:S.prototype.ha,focus:S.prototype.Za,blur:S.prototype.Na,beforedeactivate:S.prototype.Ma,compositionstart:S.prototype.Xa,compositionend:S.prototype.Wa}),new O(\".gs_md_ac\",{mousedown:S.prototype.Ra,touchstart:S.prototype.Sa,mouseup:S.prototype.ea,touchend:S.prototype.ea,touchcancel:S.prototype.ea}),new O(\".gs_md_ac_li\",{click:S.prototype.Oa,mouseover:S.prototype.Qa,mouseout:S.prototype.Pa})];\n",
       "function cd(a){return a.getAttribute(\"data-q\")||\"\"}function fd(a,b){a.getAttribute(\"dir\")!=b&&(a.setAttribute(\"dir\",b),a.parentNode.setAttribute(\"dir\",b),a.parentNode.querySelector(\".gs_md_ac\").setAttribute(\"dir\",b))}function hd(){for(var a=document.querySelectorAll(\".gs_in_ac\"),b=a.length,c=0;c<b;c++){var d=a[c],e=d.getAttribute(\"data-iq\")||\"\";d.value=e;fd(d,L(e).match(Xb)?\"rtl\":\"ltr\");R(\"gs-change\",d);e=d.getAttribute(\"data-oq\")||\"oq\";(e=d.form.elements[e])&&d.form.removeChild(e)}};function id(a){return!!u(a,\"gs_sel\")+2*!!u(a,\"gs_par\")}var jd=[\"false\",\"true\",\"mixed\"];var kd=function(a){var b=window,c=this;this.f=new A;this.Ba=0;this.sa=[b,a,function(){c.Ba++||Pa(d)},!1];var d=function(){c.Ba=0;c.f.notify()}};kd.prototype.addListener=function(a){this.f.A||B.apply(null,this.sa);this.f.add(a)};kd.prototype.removeListener=function(a){this.f.remove(a);this.f.A||D.apply(null,this.sa)};var ld=new kd(\"scroll\"),md=new kd(\"resize\");var od=new A;function qd(){var a=document.documentElement,b=pa();b={gs_el_ph:1==b,gs_el_ta:2==b,gs_el_sm:4!=b,gs_el_tc:qa||1==b};var c;for(c in b){var d=b[c];if(u(a,c)!=d){var e=!0;v(a,c,d)}}e&&od.notify()}v(document.documentElement,\"gs_el_ios\",na);qd();md.addListener(qd);B(window,[\"pageshow\",\"load\"],qd);function rd(a,b,c,d){function e(){var C=E&&u(h,\"gs_el_ph\");v(y,\"gs_vis\",!C);h.style.overflowY=He&&!C?\"scroll\":\"\"}function f(){var C=h.clientHeight,M=+q.getAttribute(\"data-h\");M||(t.style.maxHeight=\"none\",M=k.offsetHeight);M=Math.max((C-M)/2,10);C=Math.max(C-48-2*M,10);var nd=E&&u(h,\"gs_el_ph\");k.style.top=nd?\"auto\":M+\"px\";t.style.maxHeight=nd?\"none\":C+\"px\";sd(t)}b=void 0===b?\"\":b;c=void 0===c?\"\":c;d=void 0===d?\"\":d;var h=document.documentElement,g=x(\"gs_top\"),k=x(a),t=x(a+\"-bdy\"),m=x(k.getAttribute(\"data-cid\")||\n",
       "k.id+\"-bdy\")||k,y=x(k.getAttribute(\"data-shd\")||\"gs_md_s\"),q=td(k),E=!!q&&u(q,\"gs_md_wmw\"),G=window.pageYOffset,He=g.scrollHeight>h.clientHeight,Jb=!!H[a],Kb=Jb?\"\":T,pd=b&&\"#\"!=b[0]&&!d,Je=a==T&&b==ud&&c==U;pd?(Jb?v(m,\"gs_md_ldg\",!0):vd(k,m,'<div class=\"gs_md_prg\">'+x(\"gs_md_ldg\").innerHTML+\"</div>\"),R(\"gs-md-ldin\",m)):(d&&vd(k,m,d),R(\"gs-md-lded\",m));Kb&&(++wd,J(Kb),--wd);T=a;ud=b;U=c;xd=d;Je||wd||(yd+=1,(Kb?rb:lb)(zd(),Ad()));Jb||$a(k,function(){q&&p(q,\"gs_vis\");p(k,\"gs_vis\");v(k,\"gs_abt\",yb);Bd(a);\n",
       "od.add(e);e();q&&t&&(f(),md.addListener(f));p(g,\"gs_nscl\");g.style.top=-G+\"px\"},function(){od.remove(e);md.removeListener(f);q&&r(q,\"gs_vis\");r(k,\"gs_vis\");r(k,\"gs_abt\");r(y,\"gs_vis\");h.style.overflowY=\"\";r(g,\"gs_nscl\");g.style.top=\"auto\";dc(V);V=null;window.scrollTo(0,G);T=ud=U=xd=\"\";var C=yd;yd=0;wd||(0<C?window.history.go(-C):rb(zd(),Ad()))},Cd(k),Dd(k));pd&&(dc(V),V=null,V=cc(b,c,function(C,M){V=null;C=200==C;vd(k,m,C?M:Ed());C&&a==T&&b==ud&&c==U&&(xd=M,rb(zd(),Ad()));R(\"gs-md-lded\",m)}))}\n",
       "function td(a){a=a.parentNode;return u(a,\"gs_md_wnw\")?a:null}function Cd(a){return(a=a.getAttribute(\"data-ifc\"))?x(a):null}function Dd(a){return(a=a.getAttribute(\"data-cfc\"))?x(a):null}\n",
       "function vd(a,b,c){v(b,\"gs_md_ldg\",!1);for(var d=b.querySelectorAll(\"[data-duid]\"),e=d.length,f={},h=0;h<e;h++){for(var g=Lc(d[h]),k=Mc[g],t=k?k.length:0,m=0;m<t;m++){var y=k[m],q=Fa(y.constructor),E=f[q];E||(E=f[q]={});E[g]=!0;y&&\"function\"==typeof y.ua&&y.ua()}delete Mc[g]}for(var G in f){G=+G;d=f[G];h=(e=Nc[G])?e.length:0;for(k=g=0;k<h;k++)t=e[k],t in d||(e[g++]=t);g?e.length=g:delete Nc[G]}b.innerHTML=c;Bd(a.id);dc(V);V=null}\n",
       "function Bd(a){if(a=document.querySelector(\"#\"+a+\">.gs_md_bdy\"))a.scrollTop=a.scrollLeft=0,sd(a)}function sd(a){var b=a.style,c=\"padding\"+(ya(a)?\"Left\":\"Right\");b[c]=\"\";var d=a.offsetWidth-a.clientWidth;2<d&&(a=parseInt(window.getComputedStyle(a,null)[c],10)||0,b[c]=Math.max(a-d,0)+\"px\")}function Fd(){return x(\"gs_md_err\").innerHTML}function Ed(){return'<div class=\"gs_md_prg\"><div class=\"gs_alrt\">'+Fd()+\"</div></div>\"}function zd(){return{d:T||void 0,u:ud||void 0,p:U?\"1\":void 0}}\n",
       "function Ad(){return{n:yd,p:U,h:xd}}var V=null,T=\"\",ud=\"\",U=\"\",xd=\"\",yd=0,wd=0;xb.add(function(){var a=tb(),b=a.d||\"\",c=b?x(b):null;++wd;if(c){c=a.u||\"\";a=0<+a.p;var d=pb||kb(window.history.state)||{},e=+d.n||0,f=\"\"+(d.p||\"\");d=\"\"+(d.h||\"\");c.match(Ea)||(c=\"\");a!=!!f?rd(b,\"\",\"\",Ed()):b==T&&c==ud&&f==U&&d==xd||rd(b,c,f,d);yd=e}else T&&J(T);--wd});var Gd=function(a){n.call(this);this.S=a;this.ja=Object.create(null);this.R=null;a=a.querySelectorAll(\".gs_in_txtw>input[type=text]\");for(var b=a.length;b--;){var c=a[b],d=c.parentNode.querySelector(\".gs_in_txts\");c=c.name;d&&c&&(this.ja[c]=d.innerHTML)}};ja(Gd,n);Gd.prototype.ba=function(){dc(this.R);this.S=this.R=null;n.prototype.ba.call(this)};Gd.prototype.gb=function(a){var b=this;N(a);if((a=this.S)&&!this.R){var c=\"json=&\"+za(a);Hd(this,!0);this.R=cc(a.action,c,function(d,e){b.ia(d,e)})}};\n",
       "Gd.prototype.ia=function(a,b){this.R=null;Hd(this,!1);var c=this.S,d=c.getAttribute(\"data-alrt\");if(d=d?x(d):null)d.innerHTML=\"\";try{var e=200==a&&JSON.parse(b)}catch(t){}e&&\"object\"==typeof e||(e=Fd(),d?d.innerHTML=e:Lb(e),e={});if(a=e.L)Ba(\"\"+a);else{if(a=e.M)d?d.innerHTML=a:Lb(a);a=1E6;if(d&&d.innerHTML){var f=d;a=d.getBoundingClientRect().top}c=c.elements;e=e.E;\"object\"==typeof e||(e=Object.create(null));for(var h in this.ja){d=c[h];b=void 0;var g=\"\"+(e[h]||\"\"),k=d.parentNode.querySelector(\".gs_in_txts\");\n",
       "v(d.parentNode,\"gs_in_txte\",!!g);k&&(k.innerHTML=g||this.ja[h]||\"\");g&&(b=d.getBoundingClientRect().top)<a&&(f=d,a=b)}f&&f.scrollIntoView&&(0>a||a+20>window.innerHeight)&&f.scrollIntoView()}};var Hd=function(a,b){a=a.S;var c=a.getAttribute(\"data-bsel\");a=c?document.querySelectorAll(c):a.querySelectorAll(\"button\");for(c=a.length;c--;){var d=a[c];d.disabled=b;v(d,\"gs_bsp\",b)}};Q(Gd,[new O(\".gs_ajax_frm\",{submit:Gd.prototype.gb})]);var Id=[[1,0,1],[2,0,1]];P(\".gs_cb_gen\",\"click\",function(a){var b=a.currentTarget,c=id(b),d=2==+b.getAttribute(\"data-s\");c=Id[+d][c];d=!0;d=void 0===d?!1:d;v(b,\"gs_sel\",1==c);v(b,\"gs_par\",2==c);b.setAttribute(\"aria-checked\",jd[c]);d||b.setAttribute(\"data-s\",\"\"+c);R(\"gs-change\",b,a.b)});P(\".gs_cb_gen\",[\"keydown\",\"keyup\"],function(a){var b=a.currentTarget,c=a.b.keyCode;\"BUTTON\"!=b.tagName||13!=c&&32!=c||(N(a),\"keydown\"==a.type&&b.click())});P([\".gs_cb_gen\",\".gs_md_li\"],\"keydown\",function(a){var b=a.currentTarget,c=b.tagName,d=a.b.keyCode;\"BUTTON\"!=c&&(32==d||13==d&&\"A\"!=c)&&(N(a),b.click())});var Jd=[\"click\",\"contextmenu\",\"mouseup\"].concat(navigator.sendBeacon&&GSP.neverBounce?[]:[\"mousedown\",\"touchstart\"]),Kd=GSP.bouncePrefix||\"http://\"+window.location.host,Ld=\"\",Md=null;function Nd(){Md=null}function Od(a){navigator.sendBeacon?navigator.sendBeacon(a):Md&&a==Md.src||((Md=new Image).src=a,setTimeout(Nd,1E3))}\n",
       "function Pd(){var a=document.location.href,b=a.indexOf(\"?\")+1;a=b?a.substr(b):\"\";b=a.indexOf(\"#\");a=sb(b+1?a.substr(0,b):a).hl||\"\";a=\"/scholar_bfnav?url=\"+encodeURIComponent(document.location.href)+\"&hl=\"+encodeURIComponent(a)+\"&ei=\"+GSP.eventId;Od(a)}F(function(){Ld=Ib?\"&bn=1\":\"\";Ib&&Pd()});B(window,\"pageshow\",function(a){a.persisted&&(Ld=\"&bn=1\",Pd())});\n",
       "B(document,Jd,function(a){if(!(\"click\"==a.type&&a.button||\"mouseup\"==a.type&&1!=a.button)){var b,c;a:{for(a=a.target;a;){var d=a.nodeName;if(\"A\"==d)break a;if(\"SPAN\"==d||\"B\"==d||\"I\"==d||\"EM\"==d||\"IMG\"==d)a=a.parentNode;else break}a=null}if(a&&(b=a.getAttribute(\"href\"))&&(c=a.getAttribute(\"data-clk\"))){b=\"/scholar_url?url=\"+encodeURIComponent(b)+\"&\"+c+\"&ws=\"+window.innerWidth+\"x\"+window.innerHeight+\"&at=\";d=encodeURIComponent;var e=a.getAttribute(\"data-clk-atid\");e=e&&x(e);b=b+d(e&&e.innerText||\"\")+\n",
       "Ld;0<c.indexOf(\"scisig=\")?(a.setAttribute(\"href\",Kd+b),a.removeAttribute(\"data-clk\")):Od(b)}}},!1,!0);P(\".gs_fm_s\",\"click\",function(a){a=a.currentTarget.getAttribute(\"data-fm\")||\"\";(a=x(a))&&a.submit()});var W=function(a){this.I=z(a.querySelector(\".gs_md_d\"));this.aa=z(a.querySelector(\".gs_md_tb\"))};l=W.prototype;l.da=function(a){var b=x(this.I);return void 0!==a?Tc(b,b,\".gs_md_li\",a):null};l.open=function(a){a=this.da(a);if(u(x(this.aa),\"gs_sel\"))try{a&&a.focus()}catch(c){}else{var b=x(this.aa);Za(this.I,function(){p(b,\"gs_sel\")},function(){r(b,\"gs_sel\")},a,b)}};l.close=function(){J(this.I)};l.Ta=function(a){N(a);u(x(this.aa),\"gs_sel\")?this.close():this.open(\"keydown\"==a.b.type?!1:void 0)};\n",
       "l.va=function(a){var b=a.b.keyCode;if(38==b||40==b)N(a),this.open(38==b)};l.Ya=function(a){a.target.id==this.I&&this.va(a)};Q(W,[new O(\".gs_md_rmb\",{}),new O(\".gs_md_tb\",{\"gs-press\":W.prototype.Ta,keydown:W.prototype.va}),new O(\".gs_md_d\",{keydown:W.prototype.Ya})]);var X=function(a){W.call(this,a);this.ib=z(a.querySelector(\".gs_md_in\"));this.jb=z(a.querySelector(\".gs_md_tb .gs_lbl\"))};ja(X,W);X.prototype.da=function(){return x(this.I).querySelector(\".gs_md_li[aria-selected]\")};X.prototype.ab=function(a){Qd(this,a)};X.prototype.fa=function(a){var b=a.b.keyCode;13!=b&&32!=b||Qd(this,a)};\n",
       "var Qd=function(a,b){var c=b.currentTarget,d=x(a.ib),e=a.da();c!=e&&(d.value=c.getAttribute(\"data-v\"),x(a.jb).innerHTML=c.innerHTML,e&&Rd(e,!1),Rd(c,!0));N(b);a.close();R(\"gs-change\",d,b.b)},Rd=function(a,b){v(a,\"gs_sel\",b);b?a.setAttribute(\"aria-selected\",\"true\"):a.removeAttribute(\"aria-selected\")};Q(X,[new O(\".gs_md_ris\",{}),new O(\".gs_md_li\",{click:X.prototype.ab,keydown:X.prototype.fa})]);P(\"#gs_lp\",\"click\",function(a){N(a);rd(\"gs_lp_d\")});P(\"#gs_lp_cur\",\"click\",function(a){N(a);J(\"gs_lp_d\")});var Sd=function(a){this.Ea=z(a)};Sd.prototype.fa=function(a){var b=a.currentTarget,c=a.b.keyCode;if(38==c||40==c){var d=x(this.Ea);d=Tc(d,b,\".gs_md_li\",38==c)||Tc(d,d,\".gs_md_li\",38==c)}else if(37==c||39==c)a:{c=!!(37==c^ya(b.parentNode));d=b.parentNode;var e=d.children,f=e.length;if(d.id!=this.Ea){for(;e[--f]!=b;);d=Sc(d,c)||Rc(d.parentNode,c);e=d.children;if(f=Math.min(f+1,e.length))if(d=e[f-1],u(d,\"gs_md_li\")&&d.offsetLeft!=b.offsetLeft)break a}d=void 0}d&&(N(a),d.focus())};\n",
       "Q(Sd,[new O(\".gs_md_ulr\",{}),new O(\".gs_md_li\",{keydown:Sd.prototype.fa})]);P(\"#gs_hdr_mnu\",\"click\",function(a){N(a);rd(\"gs_hdr_drw\")});P(\"#gs_hdr_drw_mnu\",\"click\",function(a){N(a);J(\"gs_hdr_drw\")});P(\"#gs_hdr_act_i\",\"click\",function(a){N(a);1==pa()?Ba(document.querySelector(\"#gs_hdr_drw_bot>a\").href):Za(\"gs_hdr_act_d\")});P(\"#gs_hdr_drw\",\"keydown\",function(a){var b=a.b.keyCode;if(38==b||40==b){var c=a.currentTarget;if(b=Tc(c,c,\".gs_md_li\",38==b))N(a),b.focus()}});\n",
       "P(\"#gs_hdr_tsi\",[\"focus\",\"blur\"],function(a){function b(){var h=d.getBoundingClientRect().top-10;10<Math.abs(h)&&window.scrollBy(0,h);clearTimeout(e);c()}function c(){D(window,f,b)}var d=a.target;a=\"focus\"==a.type;v(x(\"gs_hdr\"),\"gs_hdr_ifc\",a);if(a&&qa&&!(749<window.innerHeight)){var e=setTimeout(c,1E3),f=[\"scroll\",\"resize\"];B(window,f,b)}});P(\"#gs_hdr_tsi\",[\"input\",\"gs-change\"],function(a){v(x(\"gs_hdr_frm\"),\"gs_hdr_tsc\",!!a.currentTarget.value)});\n",
       "P(\"#gs_hdr_tsc\",\"mousedown\",function(a){N(a);var b=x(\"gs_hdr_tsi\");b.value=\"\";b.focus();R(\"input\",b,a.b)});P(\"#gs_hdr_sre\",\"click\",function(a){N(a);var b=x(\"gs_hdr\");Za(\"gs_hdr_frm\",function(){r(b,\"gs_hdr_src\");p(b,\"gs_hdr_srx\")},function(){p(b,\"gs_hdr_src\");r(b,\"gs_hdr_srx\")},x(\"gs_hdr_tsi\"))});P(\".gs_md_x\",\"click\",function(a){(a=a.currentTarget.getAttribute(\"data-mdx\"))&&J(a)});var Td=function(){},Ud,Vd;l=Td.prototype;l.Va=function(a){a.b.button||(N(a),Wd(a))};l.ga=function(a){Xd(a)&&(N(a),Wd(a))};l.bb=function(a){Xd(a)&&N(a)};l.ha=function(a){if(!a.b.button){N(a);var b=a.b;b&&(Yd=b.clientX||0,Zd=b.clientY||0,B(document,$d,ae,!0),clearTimeout(Ud),Ud=setTimeout(be,2E3));Wd(a)}};l.hb=function(a){N(a);if(ce){var b=a.b;if(b=(b=b&&b.touches)&&1==b.length&&b[0])de=b.clientX,ee=b.clientY,B(document,fe,ge,!0),clearTimeout(Vd),Vd=setTimeout(he,2E3)}Wd(a)};\n",
       "var Xd=function(a){a=a.b.keyCode;return 32==a||13==a},Wd=function(a){R(\"gs-press\",a.currentTarget,a.b)},be=function(){D(document,$d,ae,!0);clearTimeout(Ud);Ud=void 0},ae=function(a){\"mousedown\"!=a.type&&10>Math.abs(a.clientX-Yd)&&10>Math.abs(a.clientY-Zd)?(Qa(a),\"click\"==a.type&&be()):be()},he=function(){D(document,fe,ge,!0);clearTimeout(Vd);Vd=void 0},ge=function(a){\"touchstart\"!=a.type&&10>Math.abs(a.clientX-de)&&10>Math.abs(a.clientY-ee)?(Qa(a),\"click\"==a.type&&he()):he()},Yd=0,Zd=0,$d=[\"mousedown\",\n",
       "\"mouseup\",\"click\"],ce=w(\"Android\")&&!w(\"Chrome\"),de=0,ee=0,fe=[\"touchstart\",\"mousedown\",\"mouseup\",\"click\"];Q(Td,[new O(\".gs_press\",{click:Td.prototype.Va,keydown:Td.prototype.ga,keyup:Td.prototype.bb,mousedown:Td.prototype.ha,touchstart:Td.prototype.hb})]);function ie(){var a=0>je.getBoundingClientRect().top;ke!=a&&(ke=a,v(le,\"gs_sth_vis\",a),a?me():(ne.style.left=\"\",ne.style.width=\"\",oe()))}function me(){if(ke){var a=je.getBoundingClientRect();ne.style.left=a.left+\"px\";ne.style.width=a.width+\"px\";oe()}}function oe(){R(\"gs-sth-change\",x(\"gs_sth\"))}var le,je,ne,ke=!1;F(function(){if(le=x(\"gs_sth\"))je=le.querySelector(\".gs_sth_g\"),ne=le.querySelector(\".gs_sth_b\"),ld.addListener(ie),md.addListener(me),ie()});function pe(){x(\"gs_asd_frm\").submit()};function qe(a){a&&a.querySelectorAll&&a.querySelectorAll(re).length&&Ba(se)}function te(){qe(document.body);ue=new MutationObserver(function(a){a=ba(a);for(var b=a.next();!b.done;b=a.next())qe(b.value.target)});ue.observe(document.body,{childList:!0,subtree:!0})}var ue,re=[Ha(\"R8D02D50AD3,7@C>.\"),Ha(\":7C2>6,4=2DDYlC6=:6G65.\"),Ha(\"2,52E2\\\\<@A6C?:@\\\\:5.\")].join(),se=Ha(\"^D49@=2C^<@A6C?:@]9E>=\");function ve(a,b,c){var d=(x(\"gs_citd\").getAttribute(\"data-u\")||\"\").replace(\"{id}\",a).replace(\"{p}\",\"\"+b);cc(d,\"\",function(e,f){H.gs_cit||(200==e?rd(\"gs_cit\",d,\"\",f):Lb(Fd()));c&&c()})}var we;function xe(){vc(\"#gsb_promo_x\",function(a){x(\"gsb_promo\").className=\"\";N(a);cc(a.target.href,\"\",function(){})});B(window,\"message\",function(a){var b=a.data,c;a.origin.match(/[.]google[.]com(:[0-9]+)?$/)&&b&&\"object\"==typeof b&&0<=(c=+b.gsbPromo)&&(x(\"gsb_promo\").className=c?\"gsb_not_installed\":\"gsb_installed\")});F(function(){var a=document.createElement(\"iframe\");a.id=\"gsb_promo_ping\";a.frameBorder=\"0\";a.scrolling=\"no\";a.tabIndex=-1;a.src=(window.location.host.indexOf(\"scholar.google.\")?\"\":\"//scholar.google.com\")+\n",
       "\"/scholar_gsb_promo_ping\";document.body.appendChild(a)})};function ye(a,b){if(!ze[a]){ze[a]=!0;Ae.notify({ca:a,T:b,error:void 0});var c=b?Be.replace(\"{id}\",Ce+\":\"+b):De.replace(\"{id}\",a);cc(c,\"\",function(d,e){delete ze[a];var f=b,h=\"\";if(200==d)try{var g=JSON.parse(e)}catch(k){}la(g)?g.L?Ba(\"\"+g.L):g.M?h=\"\"+g.M:Array.isArray(g.U)&&1==g.U.length&&la(g.U[0])?(d=(\"\"+(g.U[0].c||\"\")).split(\":\"),f=d[1]||\"\",e={},e[a+\",\"+d[0]]=f,Ee(e)):f&&!g.U?(f=\"\",d={},d[a+\",\"+Ce]=f,Ee(d)):h=Fd():h=Fd();Ae.notify({ca:a,T:f,error:h})})}}\n",
       "function Fe(a){return(a=gb(\"s\",void 0===a?!1:a))&&la(a)?a:{}}function Ee(a){var b=Date.now(),c=Fe(!0),d;for(d in c){var e=c[d];e instanceof Array&&2==e.length&&12E5>b-e[1]||delete c[d]}for(var f in a)c[f]=[a[f],b];fb(hb,eb,\"s\",c)}var ze={},Ae=new A,Ce,Be,De;function Y(a){var b=x(\"gs_res_glb\");return b?b.getAttribute(a)||\"\":\"\"};var Z=function(a){this.$=a;this.Ia=a.getAttribute(\"data-cid\")||\"\";this.Ja=Ge(a);this.pb=+(a.getAttribute(\"data-rp\")||0)||0};Z.prototype.cb=function(a){v(a.currentTarget.parentNode,\"gs_or_mvi\")};Z.prototype.Ua=function(a){var b=a.currentTarget;u(b,\"gs_or_ldg\")||(v(b,\"gs_or_ldg\",!0),ve(this.Ia,this.pb,function(){v(b,\"gs_or_ldg\",!1)}))};Z.prototype.La=function(a){var b=a.currentTarget,c=b.parentNode;Za(z(b),function(){r(b,\"gs_press\");p(c,\"gs_vis\");p(b,\"gs_anm\")},function(){p(b,\"gs_press\");r(c,\"gs_vis\")})};\n",
       "Z.prototype.fb=function(){var a=this.$.getAttribute(\"data-lid\")||\"\";ye(this.Ja,a)};var Ie=[new O(\".gs_or\",{}),new O(\".gs_or_ggsm\",{\"gs-press\":Z.prototype.La}),new O(\".gs_or_cit\",{click:Z.prototype.Ua}),new O(\".gs_or_sav\",{click:Z.prototype.fb}),new O(\".gs_or_mor\",{click:Z.prototype.cb})];function Ke(){for(var a=u(document.documentElement,\"gs_el_ph\"),b=document.querySelectorAll(\".gs_or_ggsm\"),c=b.length;c--;){var d=b[c];u(d,\"gs_vis\")&&J(z(d));v(d,\"gs_press\",a);r(d,\"gs_anm\")}}\n",
       "function Le(a){var b=document.querySelector('.gs_or[data-did=\"'+a.ca+'\"]');if(b){var c=b.querySelector(\".gs_or_sav\");if(c){var d=void 0===a.error;v(c,\"gs_or_ldg\",d);d?(Qb=0,Ob()):a.error?Lb(a.error):(b.setAttribute(\"data-lid\",a.T),(b=Y(\"data-lsm\"))&&a.T&&Me&&Lb(b))}}}function Ge(a){return a.getAttribute(\"data-did\")||\"\"}var Me=!1;var Ne=function(a){this.$=a};Ne.prototype.eb=function(){5>(+(this.$.getAttribute(\"data-rp\")||0)||0)?Oe({}):(Pe=Ge(this.$),Qe=Date.now())};function Re(){var a=document.location.href;return a.substr(0,a.indexOf(\"#\"))||a}function Se(){return document.querySelector(\".gs_r_rfr\")}function Te(a){var b=Se();return!!b&&Ge(b)==a&&!!b.querySelector(\".gs_rfr\")}function Oe(a){fb(hb,eb,\"rfr\",a)}function Ue(){var a=gb(\"rfr\");return a&&la(a)?a:null}\n",
       "function Ve(a,b,c){p(a,\"gs_r_rfr\");var d=document.createElement(\"div\");d.className=\"gs_rfr\";d.innerHTML=b;a.appendChild(d);We();if(c){b=\"@keyframes gs_r_vsld_anm{0%{transform:translate(0,-\"+d.offsetHeight+\"px);}100%{transform:translate(0,0);}}\";c=x(\"gs_r_vsld_style\");c||(c=document.createElement(wa.Fa),c.id=\"gs_r_vsld_style\",document.head.appendChild(c));c.textContent=b;for(b=a.nextElementSibling;b;)p(b,\"gs_r_vsld\"),b=b.nextElementSibling;(b=x(\"gs_res_ccl_bot\"))&&p(b,\"gs_r_vsld\");p(a,\"gs_anm\");Na(d,\n",
       "\"animationend\",Xe,500,Xe)}}function Xe(){var a=Se();a&&r(a,\"gs_anm\");a=document.querySelectorAll(\".gs_r_vsld\");for(var b=a.length,c=0;c<b;c++)r(a[c],\"gs_r_vsld\")}function Ye(){var a=Se();if(!a)return!1;r(a,\"gs_r_rfr\");var b=a.querySelector(\".gs_rfr\");if(!b)return!1;a.removeChild(b);return!0}function Ze(){var a=window.pageYOffset,b=Se();if(!b)return a;b=b.querySelector(\".gs_rfr\");if(!b)return a;b=b.getBoundingClientRect();0>b.top&&(a-=b.bottom-b.top);return a}\n",
       "function $e(a,b){var c=b.getBoundingClientRect();b=c.bottom;c=b-(b-c.top)/3;var d=1E4,e=-1E4,f=!1;a=a.getClientRects();for(var h=0;h<a.length;h++){var g=a[h];4<=b-g.top&&4<=g.bottom-c?(d=Math.min(d,g.left),e=Math.max(e,g.right)):g.top>=b&&(f=!0)}return 1E4==d?f?0:-1:f?e-d:-1}\n",
       "function We(){for(var a=document.querySelectorAll(\".gs_rfr_rt>a\"),b=0;b<a.length;b++){var c=a[b],d=c.parentNode,e=d.firstElementChild,f=e.style;c=c.querySelector(\"[dir]\")||c;f.display=\"none\";var h=$e(c,d);if(0<=h){var g=ya(d),k=ya(c);f.display=\"block\";e.setAttribute(\"dir\",k?\"rtl\":\"ltr\");h=$e(c,d);f.transform=\"translateX(\"+[-1,0,0,1][2*g+k]*(d.offsetWidth-e.offsetWidth-h)+\"px)\"}}}var af=[new O([\".gs_r\"],{}),new O([\".gs_rt\",\".gs_or_ggsm\"],{click:Ne.prototype.eb})],Pe,Qe;GSP.customAC&&(Q(S,gd),F(hd),B(window,\"pageshow\",function(){setTimeout(hd,0)}));window.MutationObserver&&F(te);P(\"#gs_asd_psb\",\"click\",pe);P(\"#gs_asd_frm\",\"keydown\",function(a){var b=a.target;\"INPUT\"==b.tagName&&\"text\"==b.type&&13==a.b.keyCode&&pe()});P(\".gs_citr\",\"focus\",function(a){var b=a.currentTarget;b!=we&&(we=b,N(a),setTimeout(function(){window.getSelection().selectAllChildren(b);b.focus()},0))});P(\".gs_cith\",\"click\",function(a){(a=a.currentTarget.parentNode.querySelector(\".gs_citr\"))&&a.focus()});\n",
       "Q(Z,Ie);F(function(){Ke();Ae.add(Le);for(var a={},b=document.querySelectorAll(\".gs_or[data-did]\"),c=b.length;c--;){var d=b[c],e=Ge(d);d=d.getAttribute(\"data-lid\")||\"\";a[e]=d}b=Y(\"data-lpu\");c=Y(\"data-sva\");e=Y(\"data-tra\");d=Y(\"data-lsl\");Ce=b;Be=e;De=c;try{var f=JSON.parse(void 0===d?\"\":d)}catch(g){}f&&la(f)&&!Ib||(f={});Ee(f);f=Fe();for(var h in a)b=a[h],c=f[h+\",\"+Ce],c instanceof Array&&(c=\"\"+c[0],b!=c&&(b=c,Ae.notify({ca:h,T:b,error:\"\"})));Me=!0});od.add(Ke);Ke();B(window,\"pagehide\",Ke);\n",
       "P(\"#gs_res_sb_yyc\",\"click\",function(){x(\"gs_res_sb_yyf\").style.display=\"block\";for(var a=document.querySelectorAll(\"#gs_res_sb_yyl>li\"),b=a.length;b--;)v(a[b],\"gs_bdy_sb_sel\",b==a.length-1)});P(\"#gs_scipsc\",\"gs-change\",function(a){var b=id(a.currentTarget),c=Aa(x(\"gs_hdr_frm\")),d=Aa(x(\"gs_asd_frm\"));c.value=d.value=b?\"1\":\"\";a=a.currentTarget.getAttribute(\"data-msg\")||\"\";x(\"gs_hdr_tsi\").placeholder=b?a:\"\"});vc(\"#gs_res_drw_adv\",function(){rd(\"gs_asd\")});\n",
       "F(function(){var a=Y(\"data-ttl\");a&&(document.title=a);a=new kc(\"q\");var b=Y(\"data-ahq\");b&&a.add(b);Y(\"data-gsb\")&&xe()});Q(Ne,af);B(window,\"pagehide\",function(){Xe();if(Pe&&!Te(Pe)){var a={d:Pe,u:Re(),t:Date.now()};5E3<=Date.now()-Qe&&(a={});var b=Ze();Ye()&&window.scrollTo(0,b);a.s=b;Oe(a)}});\n",
       "B(window,\"pageshow\",function(){var a=Ue(),b=Re();if(a&&a.u==b)if(864E5<=Date.now()-(+a.t||0))Oe({});else{b=\"\"+a.d;var c=Y(\"data-rfr\");if(c)if(Te(b))We();else{var d=Ye(),e=+a.s;e&&!d&&(w(\"Trident\")||w(\"Edge\"))&&Na(window,\"scroll\",function(){window.scrollTo(0,e)},20);a.s=0;Oe(a);var f=document.querySelector('.gs_or[data-did=\"'+b+'\"]');if(f)if(d=a.h)Ve(f,\"\"+d,!1);else{b=c.replace(\"{id}\",b);var h=cc(b,\"\",function(k,t){200==k&&t&&(Ve(f,t,!0),a.h=t,a.t=Date.now(),Oe(a));clearTimeout(g)}),g=setTimeout(function(){dc(h)},\n",
       "1E3)}}}});md.addListener(We);\n",
       "}({\"bouncePrefix\":\"https://scholar.google.com\",\"neverBounce\":!0,\"customAC\":2,\"eventId\":\"T8TRX6qcEILpmQH3_7nADQ\"});</script></head><body><div id=\"gs_top\" onclick=\"\"><style>#gs_md_s,.gs_md_wnw{z-index:1200;position:fixed;top:0;left:0;width:100%;height:100%;visibility:hidden;}#gs_md_s{background-color:#fff;opacity:.5;}.gs_el_ta #gs_md_s,.gs_el_ph #gs_md_s{background-color:#666;}.gs_md_wnw{transition:all 0s .218s;}#gs_md_s.gs_vis,.gs_md_wnw.gs_vis{visibility:visible;transition:all 0s;}.gs_md_wnw>.gs_md_d{position:relative;margin:0 auto;width:464px;box-shadow:2px 2px 8px rgba(0,0,0,.2);white-space:normal;}.gs_el_ta .gs_md_wnw>.gs_md_d,.gs_el_ph .gs_md_wnw>.gs_md_d{box-shadow:2px 2px 8px rgba(0,0,0,.65);}.gs_el_ph .gs_md_wnw>.gs_md_d{width:80%;max-width:440px;}.gs_el_ph .gs_md_wmw>.gs_md_d{width:100%;height:100%;max-width:none;border:none;box-shadow:none;transform:translate(0,100%);transform:translate(0,100vh);transition:transform .27s cubic-bezier(.4,0,.6,1),opacity 0s .27s,visibility 0s .27s,max-height 0s .27s;}.gs_el_ph .gs_md_wmw>.gs_md_d.gs_vis{transform:translate(0,0);transition:transform .3s cubic-bezier(0,0,.2,1);}.gs_md_wmw>.gs_md_d.gs_abt,.gs_el_ph .gs_md_wmw>.gs_md_d.gs_abt{transition:none;}.gs_md_hdr{display:flex;align-items:center;height:47px;border-bottom:1px solid #e0e0e0;border-bottom-color:rgba(0,0,0,.12);background-color:#f5f5f5;}.gs_md_hdr>a,.gs_md_hdr>a.gs_btn_lrge{flex:0 0 auto;width:41px;height:47px;}.gs_el_ph .gs_md_hdr>a{margin:0 2px 0 0;}.gs_el_ph a.gs_md_hdr_c{margin:0 0 0 2px;}.gs_md_hdr_b{margin:0 41px 0 16px;}.gs_el_ph .gs_md_hdr_b{margin:0 16px;}.gs_md_hdr_t:empty~.gs_md_hdr_b{margin-left:0;}.gs_md_hdr_b:empty{width:41px;margin:0;}.gs_el_ph .gs_md_hdr_b:empty{margin-right:2px;}.gs_md_hdr_b:empty:not(:last-child){display:none;}.gs_md_hdr_b>button{min-width:51px;height:33px;}.gs_md_hdr_t{flex:1 1 auto;font-size:18px;font-weight:normal;color:#666;overflow:hidden;text-overflow:ellipsis;white-space:nowrap;text-align:center;}.gs_md_bdy{overflow-y:auto;box-sizing:border-box;padding:24px 41px 0 41px;}.gs_md_bdy:after{display:block;content:\"\";clear:both;padding-bottom:24px;}.gs_el_ph .gs_md_bdy{padding:16px 16px 0 16px;}.gs_el_ph .gs_md_bdy:after{padding-bottom:16px;}.gs_el_ph .gs_md_wmw .gs_md_bdy{position:absolute;width:100%;top:48px;bottom:0;}.gs_md_lbl{display:block;font-size:16px;margin:0 0 16px 0;word-wrap:break-word;}.gs_md_btns{margin:24px 0 0 0;white-space:nowrap;}.gs_el_ph .gs_md_btns{margin:16px 0 0 0;}.gs_md_btns button{margin-right:16px;}.gs_md_btns button:last-child{margin-right:0;}.gs_md_prg{margin:24px 0;text-align:center;}.gs_md_prg .gs_alrt{padding:4px 16px;}.gs_md_ldg:before{content:\"\";position:absolute;top:0;left:0;bottom:0;right:0;background-color:#fff;opacity:.5;z-index:100;}</style><div id=\"gs_md_ldg\" style=\"display:none\">Loading...</div><div id=\"gs_md_err\" style=\"display:none\">The system can't perform the operation now. Try again later.</div><div id=\"gs_md_s\"></div><div class=\"gs_md_wnw gs_md_wmw\" data-h=\"0\"><div aria-labelledby=\"gs_cit-t\" class=\"gs_md_d gs_ttzi\" data-cid=\"gs_citd\" data-wfc=\"gs_cit-x\" id=\"gs_cit\" role=\"dialog\" tabindex=\"-1\"><div class=\"gs_md_hdr\"><a aria-label=\"Cancel\" class=\"gs_btnCLS gs_md_x gs_md_hdr_c gs_in_ib gs_btn_lrge\" data-mdx=\"gs_cit\" href=\"javascript:void(0)\" id=\"gs_cit-x\" role=\"button\"><span class=\"gs_ico\"></span><span class=\"gs_lbl\"></span></a><h2 class=\"gs_md_hdr_t\" id=\"gs_cit-t\">Cite</h2><div class=\"gs_md_hdr_b\"></div></div><div class=\"gs_md_bdy\" id=\"gs_cit-bdy\"><style>#gs_cit{width:520px;max-width:80%;}.gs_el_ph #gs_cit{width:100%;max-width:100%;}#gs_citt table{width:100%;margin-top:-8px;}#gs_citt td,#gs_citt th{vertical-align:top;padding:8px 0;}#gs_citt th{text-align:right;font-weight:normal;color:#777;padding-right:16px;white-space:nowrap;user-select:none;}#gs_citi{margin:16px 0 0 0;text-align:center;}.gs_el_ph #gs_citi{margin:16px 0 8px 0;}.gs_citi{margin-right:16px;white-space:nowrap;padding:7px 0 5px 0;}.gs_citi:first-child{margin-left:16px;}</style><div aria-live=\"assertive\" data-u=\"/scholar?q=info:{id}:scholar.google.com/&amp;output=cite&amp;scirp={p}&amp;hl=en\" id=\"gs_citd\"></div></div></div></div><div class=\"gs_md_wnw gs_md_wmw\" data-h=\"0\"><div aria-labelledby=\"gs_asd-t\" class=\"gs_md_d gs_ttzi\" data-ifc=\"gs_asd_q\" data-wfc=\"gs_asd-x\" id=\"gs_asd\" role=\"dialog\" tabindex=\"-1\"><div class=\"gs_md_hdr\"><a aria-label=\"Cancel\" class=\"gs_btnCLS gs_md_x gs_md_hdr_c gs_in_ib gs_btn_lrge\" data-mdx=\"gs_asd\" href=\"javascript:void(0)\" id=\"gs_asd-x\" role=\"button\"><span class=\"gs_ico\"></span><span class=\"gs_lbl\"></span></a><h2 class=\"gs_md_hdr_t\" id=\"gs_asd-t\">Advanced search</h2><div class=\"gs_md_hdr_b\"><button aria-label=\"Search\" class=\"gs_btnG gs_in_ib gs_btn_act gs_btn_half gs_btn_lsb\" id=\"gs_asd_psb\" type=\"button\"><span class=\"gs_wr\"><span class=\"gs_ico\"></span><span class=\"gs_lbl\"></span></span></button></div></div><div class=\"gs_md_bdy\" id=\"gs_asd-bdy\"><style>#gs_asd{width:80%;max-width:552px;}.gs_el_ph #gs_asd{width:100%;max-width:100%;}#gs_asd_frm{margin-top:-6px;}.gs_el_tc #gs_asd_frm{margin-top:-8px;}.gs_asd_tr{clear:both;}.gs_el_tc .gs_asd_tr{padding:8px 0;}.gs_el_tc .gs_asd_tr:first-child{padding-bottom:0;}.gs_asd_dt{float:left;width:190px;padding:6px 2px 2px;}.gs_el_tc .gs_asd_dt{float:none;width:auto;padding:0 0 4px 0;}.gs_asd_dd{margin-left:194px;padding:2px;}.gs_el_tc .gs_asd_dd{margin-left:0;padding:0;}.gs_asd_yri .gs_in_txt{width:48px;}.gs_el_ph #gs_asd input,.gs_el_ph #gs_asd label{-webkit-tap-highlight-color:rgba(0,0,0,0);}.gs_asd_occtr{padding:5px 0;}.gs_el_tc .gs_asd_occtr{padding:0;}</style><form action=\"/scholar\" class=\"gs_scl\" id=\"gs_asd_frm\"><div class=\"gs_asd_tr\"><div class=\"gs_asd_dt\" id=\"gs_asd_dt_t\"><b>Find articles</b></div></div><div class=\"gs_asd_tr\"><div class=\"gs_asd_dt\"><label for=\"gs_asd_q\">with <b>all</b> of the words</label></div><div class=\"gs_asd_dd\"><div class=\"gs_in_txtw gs_in_txtm gs_in_txtb\"><input autocapitalize=\"off\" class=\"gs_in_txt\" id=\"gs_asd_q\" name=\"as_q\" type=\"text\" value=\"site:pubmed.ncbi.nlm.nih.gov\"/></div></div></div><div class=\"gs_asd_tr\"><div class=\"gs_asd_dt\"><label for=\"gs_asd_epq\">with the <b>exact phrase</b></label></div><div class=\"gs_asd_dd\"><div class=\"gs_in_txtw gs_in_txtm gs_in_txtb\"><input autocapitalize=\"off\" class=\"gs_in_txt\" id=\"gs_asd_epq\" name=\"as_epq\" type=\"text\" value=\"\"/></div></div></div><div class=\"gs_asd_tr\"><div class=\"gs_asd_dt\"><label for=\"gs_asd_oq\">with <b>at least one</b> of the words</label></div><div class=\"gs_asd_dd\"><div class=\"gs_in_txtw gs_in_txtm gs_in_txtb\"><input autocapitalize=\"off\" class=\"gs_in_txt\" id=\"gs_asd_oq\" name=\"as_oq\" type=\"text\" value=\"psoriasis imiquimod imq induced psoriasis model psoriasis\"/></div></div></div><div class=\"gs_asd_tr\"><div class=\"gs_asd_dt\"><label for=\"gs_asd_eq\"><b>without</b> the words</label></div><div class=\"gs_asd_dd\"><div class=\"gs_in_txtw gs_in_txtm gs_in_txtb\"><input autocapitalize=\"off\" class=\"gs_in_txt\" id=\"gs_asd_eq\" name=\"as_eq\" type=\"text\" value=\"\"/></div></div></div><div class=\"gs_asd_tr\"><div class=\"gs_asd_dt\"><label for=\"gs_asd_occt\">where my words occur</label></div><div class=\"gs_asd_dd\"><div class=\"gs_asd_occtr\"><span class=\"gs_in_ra\" onclick=\"void(0)\"><input checked=\"\" id=\"gs_asd_occt_a\" name=\"as_occt\" type=\"radio\" value=\"any\"/><label for=\"gs_asd_occt_a\">anywhere in the article</label><span class=\"gs_chk\"></span><span class=\"gs_cbx\"></span></span></div><div class=\"gs_asd_occtr\"><span class=\"gs_in_ra\" onclick=\"void(0)\"><input id=\"gs_asd_occt_t\" name=\"as_occt\" type=\"radio\" value=\"title\"/><label for=\"gs_asd_occt_t\">in the title of the article</label><span class=\"gs_chk\"></span><span class=\"gs_cbx\"></span></span></div></div></div><div class=\"gs_asd_tr\"><div class=\"gs_asd_dt\"><label for=\"gs_asd_sau\">Return articles <b>authored</b> by</label></div><div class=\"gs_asd_dd\"><div class=\"gs_in_txtw gs_in_txtm gs_in_txtb\"><input autocapitalize=\"off\" class=\"gs_in_txt\" id=\"gs_asd_sau\" name=\"as_sauthors\" type=\"text\" value=\"\"/></div><div>e.g., <i>\"PJ Hayes\"</i> or <i>McCarthy</i></div></div></div><div class=\"gs_asd_tr\"><div class=\"gs_asd_dt\"><label for=\"gs_asd_pub\">Return articles <b>published</b> in</label></div><div class=\"gs_asd_dd\"><div class=\"gs_in_txtw gs_in_txtm gs_in_txtb\"><input autocapitalize=\"off\" class=\"gs_in_txt\" id=\"gs_asd_pub\" name=\"as_publication\" type=\"text\" value=\"\"/></div><div>e.g., <i>J Biol Chem</i> or <i>Nature</i></div></div></div><div class=\"gs_asd_tr\"><div class=\"gs_asd_dt\"><label for=\"gs_asd_ylo\">Return articles <b>dated</b> between</label></div><div class=\"gs_asd_dd\"><div class=\"gs_asd_yri\"><div class=\"gs_in_txtw gs_in_txtm\"><input autocapitalize=\"off\" class=\"gs_in_txt\" id=\"gs_asd_ylo\" maxlength=\"4\" name=\"as_ylo\" pattern=\"[0-9]*\" size=\"4\" type=\"text\" value=\"1977\"/></div> — <div class=\"gs_in_txtw gs_in_txtm\"><input autocapitalize=\"off\" class=\"gs_in_txt\" id=\"gs_asd_yhi\" maxlength=\"4\" name=\"as_yhi\" pattern=\"[0-9]*\" size=\"4\" type=\"text\" value=\"2019\"/></div></div><div>e.g., <i>1996</i></div></div></div><input name=\"hl\" type=\"hidden\" value=\"en\"/><input name=\"as_sdt\" type=\"hidden\" value=\"0,10\"/></form></div></div></div><!--[if lte IE 9]><div class=\"gs_alrt\" style=\"padding:16px\"><div>Sorry, some features may not work in this version of Internet Explorer.</div><div>Please use <a href=\"//www.google.com/chrome/\">Google Chrome</a> or <a href=\"//www.mozilla.com/firefox/\">Mozilla Firefox</a> for the best experience.</div></div><![endif]--><div id=\"gs_hdr_drs\"></div><div class=\"gs_md_ulr\" data-cfc=\"gs_hdr_mnu\" data-shd=\"gs_hdr_drs\" data-wfc=\"gs_hdr_drw_mnu\" id=\"gs_hdr_drw\" role=\"dialog\" tabindex=\"-1\"><div id=\"gs_hdr_drw_in\"><div id=\"gs_hdr_drw_top\"><a aria-controls=\"gs_hdr_drw\" aria-label=\"Options\" class=\"gs_btnMNT gs_in_ib gs_btn_lrge\" href=\"javascript:void(0)\" id=\"gs_hdr_drw_mnu\" role=\"button\"><span class=\"gs_ico\"></span><span class=\"gs_lbl\"></span></a><a aria-label=\"Homepage\" href=\"/schhp?hl=en&amp;as_sdt=0,10\" id=\"gs_hdr_drw_lgo\"></a></div><div><div class=\"gs_hdr_drw_sec\"><a class=\"gs_in_ib gs_md_li gs_md_lix gs_in_gray gs_sel\" href=\"/scholar?as_sdt=0,10&amp;q=site:pubmed.ncbi.nlm.nih.gov+psoriasis+OR+imiquimod+OR+imq+OR+induced+OR+psoriasis+OR+model+OR+psoriasis&amp;hl=en&amp;as_ylo=1977&amp;as_yhi=2019\" role=\"menuitem\"><span class=\"gs_ico\"></span><span class=\"gs_lbl\">Articles</span></a><a class=\"gs_in_ib gs_md_li gs_md_lix gs_in_gray\" href=\"/scholar?as_sdt=40006&amp;q=site:pubmed.ncbi.nlm.nih.gov+psoriasis+OR+imiquimod+OR+imq+OR+induced+OR+psoriasis+OR+model+OR+psoriasis&amp;hl=en&amp;as_ylo=1977&amp;as_yhi=2019\" role=\"menuitem\"><span class=\"gs_ico\"></span><span class=\"gs_lbl\">Case law</span></a><a class=\"gs_in_ib gs_md_li gs_md_lix gs_in_gray\" href=\"/citations?view_op=search_authors&amp;mauthors=site:pubmed.ncbi.nlm.nih.gov+psoriasis+OR+imiquimod+OR+imq+OR+induced+OR+psoriasis+OR+model+OR+psoriasis&amp;hl=en&amp;oi=drw\" role=\"menuitem\"><span class=\"gs_ico\"></span><span class=\"gs_lbl\">Profiles</span></a></div><div class=\"gs_hdr_drw_sec\"><a class=\"gs_btnPRO gs_in_ib gs_md_li gs_md_lix gs_in_gray\" href=\"/citations?hl=en\" role=\"menuitem\"><span class=\"gs_ico\"></span><span class=\"gs_lbl\">My profile</span></a><a class=\"gs_btnL gs_in_ib gs_md_li gs_md_lix gs_in_gray\" href=\"/scholar?scilib=1&amp;scioq=site:pubmed.ncbi.nlm.nih.gov+psoriasis+OR+imiquimod+OR+imq+OR+induced+OR+psoriasis+OR+model+OR+psoriasis&amp;hl=en&amp;as_sdt=0,10\" role=\"menuitem\"><span class=\"gs_ico\"></span><span class=\"gs_lbl\">My library</span></a><a class=\"gs_btnM gs_in_ib gs_md_li gs_md_lix gs_in_gray\" href=\"/scholar_alerts?view_op=list_alerts&amp;hl=en\" role=\"menuitem\"><span class=\"gs_ico\"></span><span class=\"gs_lbl\">Alerts</span></a><a class=\"gs_btnJ gs_in_ib gs_md_li gs_md_lix gs_in_gray\" href=\"/citations?view_op=top_venues&amp;hl=en\" role=\"menuitem\"><span class=\"gs_ico\"></span><span class=\"gs_lbl\">Metrics</span></a></div><div class=\"gs_hdr_drw_sec\"><a class=\"gs_btnADV gs_in_ib gs_md_li gs_md_lix gs_in_gray\" href=\"javascript:void(0)\" id=\"gs_res_drw_adv\" role=\"menuitem\"><span class=\"gs_ico\"></span><span class=\"gs_lbl\">Advanced search</span></a></div><div class=\"gs_hdr_drw_sec\"><a class=\"gs_btnP gs_in_ib gs_md_li gs_md_lix gs_in_gray\" href=\"/scholar_settings?q=site:pubmed.ncbi.nlm.nih.gov+psoriasis+OR+imiquimod+OR+imq+OR+induced+OR+psoriasis+OR+model+OR+psoriasis&amp;hl=en&amp;as_sdt=0,10&amp;as_ylo=1977&amp;as_yhi=2019\" role=\"menuitem\"><span class=\"gs_ico\"></span><span class=\"gs_lbl\">Settings</span></a></div></div><div class=\"gs_hdr_drw_sec\" id=\"gs_hdr_drw_bot\"><a class=\"gs_in_ib gs_md_li gs_md_lix gs_in_gray\" href=\"https://accounts.google.com/Login?hl=en&amp;continue=https://scholar.google.com/scholar%3Fq%3Dsite:pubmed.ncbi.nlm.nih.gov%2520psoriasis%2BOR%2Bimiquimod%2BOR%2Bimq%2BOR%2Binduced%2BOR%2Bpsoriasis%2BOR%2Bmodel%2BOR%2Bpsoriasis%26hl%3Den%26as_sdt%3D0,10%26as_ylo%3D1977%26as_yhi%3D2019\"><span class=\"gs_ico\"></span><span class=\"gs_lbl\">Sign in</span></a></div></div></div><div id=\"gs_hdr\" role=\"banner\"><a aria-controls=\"gs_hdr_drw\" class=\"gs_btnMNT gs_in_ib gs_btn_lrge\" href=\"javascript:void(0)\" id=\"gs_hdr_mnu\" role=\"button\"><span class=\"gs_ico\"></span><span class=\"gs_lbl\"></span></a><a aria-label=\"Homepage\" class=\"gs_hdr_dso\" href=\"/schhp?hl=en&amp;as_sdt=0,10\" id=\"gs_hdr_lgo\"></a><div id=\"gs_hdr_md\"><div id=\"gs_hdr_srch\"><form action=\"/scholar\" class=\"gs_hdr_tsc\" id=\"gs_hdr_frm\"><input name=\"hl\" type=\"hidden\" value=\"en\"/><input name=\"as_sdt\" type=\"hidden\" value=\"0,10\"/><input name=\"as_ylo\" type=\"hidden\" value=\"1977\"/><input name=\"as_yhi\" type=\"hidden\" value=\"2019\"/><div class=\"gs_in_txtw gs_in_txtb gs_in_acw\"><input aria-label=\"Search\" autocapitalize=\"off\" autocomplete=\"off\" class=\"gs_in_txt gs_in_ac\" data-iq=\"site:pubmed.ncbi.nlm.nih.gov psoriasis OR imiquimod OR imq OR induced OR psoriasis OR model OR psoriasis\" data-is=\".gs_qsuggest_regular li&gt;a\" dir=\"ltr\" id=\"gs_hdr_tsi\" maxlength=\"2048\" name=\"q\" size=\"50\" type=\"text\" value=\"site:pubmed.ncbi.nlm.nih.gov psoriasis OR imiquimod OR imq OR induced OR psoriasis OR model OR psoriasis\"/><div aria-hidden=\"true\" class=\"gs_md_ac\" dir=\"ltr\" id=\"gs_hdr_frm_ac\" onmouseout=\"gs_evt_dsp(event)\" onmouseover=\"gs_evt_dsp(event)\" ontouchstart=\"gs_evt_dsp(event)\"><div><div class=\"gs_md_acs\"></div><ul></ul></div></div></div><span id=\"gs_hdr_tsc\"><span class=\"gs_ico gs_ico_X\"></span></span><button aria-label=\"Search\" class=\"gs_btnG gs_in_ib gs_btn_act gs_btn_half gs_btn_lsb\" id=\"gs_hdr_tsb\" name=\"btnG\" type=\"submit\"><span class=\"gs_wr\"><span class=\"gs_ico\"></span><span class=\"gs_lbl\"></span></span></button></form></div></div><div id=\"gs_hdr_act\"><a href=\"https://accounts.google.com/Login?hl=en&amp;continue=https://scholar.google.com/scholar%3Fq%3Dsite:pubmed.ncbi.nlm.nih.gov%2520psoriasis%2BOR%2Bimiquimod%2BOR%2Bimq%2BOR%2Binduced%2BOR%2Bpsoriasis%2BOR%2Bmodel%2BOR%2Bpsoriasis%26hl%3Den%26as_sdt%3D0,10%26as_ylo%3D1977%26as_yhi%3D2019\" id=\"gs_hdr_act_s\">Sign in</a></div></div><style>#gs_alrt{position:fixed;bottom:48px;left:16px;max-width:384px;z-index:1250;display:flex;justify-content:space-between;align-items:center;font-size:13px;line-height:16px;color:#e2e2e2;background:#333;text-align:left;border-radius:3px;box-shadow:0 3px 5px -1px rgba(0,0,0,.2),0 6px 10px 0 rgba(0,0,0,.14),0 1px 18px 0 rgba(0,0,0,.12);visibility:hidden;transform-origin:center;transform:scale(0.8,0.8) translate(0,100%);}.gs_el_ph #gs_alrt{bottom:0;left:0;width:100%;max-width:none;border-radius:0;box-shadow:none;transform:scale(1,1) translate(0,100%);}#gs_alrt.gs_vis{visibility:visible;transform:scale(1,1) translate(0,0);}#gs_alrt.gs_anm{transition:transform .067s cubic-bezier(.4,0,1,1),visibility 0s .067s;}#gs_alrt.gs_vis.gs_anm{transition:transform .067s cubic-bezier(0,0,.2,1);}.gs_el_ph #gs_alrt.gs_anm{transition:transform .084s cubic-bezier(.4,0,1,1),visibility 0s .084s;}.gs_el_ph #gs_alrt.gs_vis.gs_anm{transition:transform .1s cubic-bezier(0,0,.2,1);}#gs_alrt_m{display:block;padding:16px;}#gs_alrt_l{display:block;padding:8px;margin:0 8px 0 -8px;border-radius:3px;color:#fcc934;text-transform:uppercase;text-decoration:none;}#gs_alrt_l:hover{background-color:rgba(255,255,255,.05)}#gs_alrt_l:active{background-color:rgba(255,255,255,.1)}#gs_alrt_l:empty{display:none}#gs_alrt_m a{padding:8px 0;color:#e2e2e2;text-decoration:underline;}#gs_alrt_m a:active{color:#f6aea9}</style><form action=\"\" id=\"gs_alrt\" method=\"post\"><span id=\"gs_alrt_m\"></span><span id=\"gs_alrt_h\"></span><a class=\"gs_fm_s\" data-fm=\"gs_alrt\" href=\"javascript:void(0)\" id=\"gs_alrt_l\"></a></form><div class=\"gs_ab_st\" id=\"gs_ab\"><div class=\"gs_btnGSL\" id=\"gs_ab_ico\"><span class=\"gs_ico\"></span></div><div id=\"gs_ab_ttl\"><div class=\"gs_ab_mdw\"><span class=\"gs_nph gs_nta\">Articles</span><div class=\"gs_oph gs_ota\">Scholar</div></div></div><div id=\"gs_ab_md\"><div class=\"gs_ab_mdw\">About 8,760 results (<b>0.06</b> sec)</div></div><div id=\"gs_ab_btns\"><a class=\"gs_btnPRO gs_in_ib gs_nph gs_nta\" href=\"/citations?hl=en\"><span class=\"gs_ico\"></span><span class=\"gs_lbl\">My profile</span></a><a class=\"gs_btnL gs_in_ib gs_nph gs_nta\" href=\"/scholar?scilib=1&amp;scioq=site:pubmed.ncbi.nlm.nih.gov+psoriasis+OR+imiquimod+OR+imq+OR+induced+OR+psoriasis+OR+model+OR+psoriasis&amp;hl=en&amp;as_sdt=0,10\"><span class=\"gs_ico\"></span><span class=\"gs_lbl\">My library</span></a><div class=\"gs_md_r gs_md_rmb gs_md_rmbl\" id=\"gs_res_ab_yy-r\"><button aria-controls=\"gs_res_ab_yy-d\" aria-haspopup=\"true\" class=\"gs_in_se gs_btn_mnu gs_btn_flat gs_btn_lrge gs_btn_half gs_btn_lsu gs_press gs_md_tb\" id=\"gs_res_ab_yy-b\" ontouchstart=\"gs_evt_dsp(event)\" type=\"button\"><span class=\"gs_wr\"><span class=\"gs_lbl\">Year</span><span class=\"gs_icm\"></span></span></button><div class=\"gs_md_d gs_md_ulr\" id=\"gs_res_ab_yy-d\" role=\"menu\" tabindex=\"-1\"><div class=\"gs_res_ab_dd_bdy\"><div class=\"gs_res_ab_dd_sec\"><a class=\"gs_md_li\" href=\"/scholar?q=site:pubmed.ncbi.nlm.nih.gov+psoriasis+OR+imiquimod+OR+imq+OR+induced+OR+psoriasis+OR+model+OR+psoriasis&amp;hl=en&amp;as_sdt=0,10\" role=\"menuitemradio\" tabindex=\"-1\">Any time</a><a class=\"gs_md_li\" href=\"/scholar?as_ylo=2020&amp;q=site:pubmed.ncbi.nlm.nih.gov+psoriasis+OR+imiquimod+OR+imq+OR+induced+OR+psoriasis+OR+model+OR+psoriasis&amp;hl=en&amp;as_sdt=0,10\" role=\"menuitemradio\" tabindex=\"-1\">Since 2020</a><a class=\"gs_md_li\" href=\"/scholar?as_ylo=2019&amp;q=site:pubmed.ncbi.nlm.nih.gov+psoriasis+OR+imiquimod+OR+imq+OR+induced+OR+psoriasis+OR+model+OR+psoriasis&amp;hl=en&amp;as_sdt=0,10\" role=\"menuitemradio\" tabindex=\"-1\">Since 2019</a><a class=\"gs_md_li\" href=\"/scholar?as_ylo=2016&amp;q=site:pubmed.ncbi.nlm.nih.gov+psoriasis+OR+imiquimod+OR+imq+OR+induced+OR+psoriasis+OR+model+OR+psoriasis&amp;hl=en&amp;as_sdt=0,10\" role=\"menuitemradio\" tabindex=\"-1\">Since 2016</a><a aria-checked=\"true\" class=\"gs_md_li gs_res_ab_sel\" href=\"/scholar?as_ylo=1977&amp;as_yhi=2019&amp;q=site:pubmed.ncbi.nlm.nih.gov+psoriasis+OR+imiquimod+OR+imq+OR+induced+OR+psoriasis+OR+model+OR+psoriasis&amp;hl=en&amp;as_sdt=0,10\" role=\"menuitemradio\" tabindex=\"-1\">1977 - 2019</a></div><div class=\"gs_res_ab_dd_sec\"><a aria-checked=\"true\" class=\"gs_md_li gs_res_ab_sel\" href=\"/scholar?hl=en&amp;as_sdt=0,10&amp;as_ylo=1977&amp;as_yhi=2019&amp;q=site:pubmed.ncbi.nlm.nih.gov+psoriasis+OR+imiquimod+OR+imq+OR+induced+OR+psoriasis+OR+model+OR+psoriasis\" role=\"menuitemradio\" tabindex=\"-1\">Sort by relevance</a><a class=\"gs_md_li\" href=\"/scholar?hl=en&amp;as_sdt=0,10&amp;q=site:pubmed.ncbi.nlm.nih.gov+psoriasis+OR+imiquimod+OR+imq+OR+induced+OR+psoriasis+OR+model+OR+psoriasis&amp;scisbd=1\" role=\"menuitemradio\" tabindex=\"-1\">Sort by date</a></div></div></div></div><div class=\"gs_md_r gs_md_rmb gs_md_rmbl\" id=\"gs_res_ab_ad-r\"><button aria-controls=\"gs_res_ab_ad-d\" aria-haspopup=\"true\" aria-label=\"More\" class=\"gs_btnFLT gs_in_ib gs_btn_flat gs_btn_lrge gs_btn_half gs_btn_lsu gs_press gs_md_tb\" id=\"gs_res_ab_ad-b\" ontouchstart=\"gs_evt_dsp(event)\" type=\"button\"><span class=\"gs_wr\"><span class=\"gs_ico\"></span><span class=\"gs_lbl\"></span></span></button><div class=\"gs_md_d gs_md_ulr\" id=\"gs_res_ab_ad-d\" role=\"menu\" tabindex=\"-1\"><div class=\"gs_res_ab_dd_bdy\"><div class=\"gs_res_ab_dd_sec\"><a aria-checked=\"true\" class=\"gs_cb_gen gs_in_cb gs_md_li gs_sel\" data-s=\"1\" href=\"/scholar?as_sdt=1,10&amp;q=site:pubmed.ncbi.nlm.nih.gov+psoriasis+OR+imiquimod+OR+imq+OR+induced+OR+psoriasis+OR+model+OR+psoriasis&amp;hl=en&amp;as_ylo=1977&amp;as_yhi=2019\" role=\"menuitemcheckbox\" tabindex=\"-1\"><span class=\"gs_lbl\">include patents</span><span class=\"gs_chk\"></span><span class=\"gs_cbx\"></span></a><a aria-checked=\"true\" class=\"gs_cb_gen gs_in_cb gs_md_li gs_sel\" data-s=\"1\" href=\"/scholar?as_vis=1&amp;q=site:pubmed.ncbi.nlm.nih.gov+psoriasis+OR+imiquimod+OR+imq+OR+induced+OR+psoriasis+OR+model+OR+psoriasis&amp;hl=en&amp;as_sdt=0,10&amp;as_ylo=1977&amp;as_yhi=2019\" role=\"menuitemcheckbox\" tabindex=\"-1\"><span class=\"gs_lbl\">include citations</span><span class=\"gs_chk\"></span><span class=\"gs_cbx\"></span></a></div></div></div></div></div></div><div id=\"gs_bdy\"><div id=\"gs_bdy_sb\" role=\"navigation\"><div id=\"gs_bdy_sb_in\"></div></div><div id=\"gs_bdy_ccl\" role=\"main\"><style>#gs_captcha_ccl{max-width:680px;margin:21px 0;}.gs_el_sm #gs_captcha_ccl{margin:13px 0;}#gs_captcha_ccl h1{font-size:16px;line-height:24px;font-weight:normal;padding:0 0 16px 0;}</style><div id=\"gs_captcha_ccl\"><script>function gs_captcha_cb(){grecaptcha.render(\"gs_captcha_c\",{\"sitekey\":\"6LfFDwUTAAAAAIyC8IeC3aGLqVpvrB6ZpkfmAibj\",\"callback\":function(){document.getElementById(\"gs_captcha_f\").submit()}});};</script><form id=\"gs_captcha_f\" method=\"get\"><h1>Please show you're not a robot</h1><div id=\"gs_captcha_c\"></div><script async=\"\" defer=\"\" src=\"//www.google.com/recaptcha/api.js?onload=gs_captcha_cb&amp;render=explicit&amp;hl=en\"></script><input name=\"q\" type=\"hidden\" value=\"site:pubmed.ncbi.nlm.nih.gov psoriasis OR imiquimod OR imq OR induced OR psoriasis OR model OR psoriasis\"/><input name=\"hl\" type=\"hidden\" value=\"en\"/><input name=\"as_sdt\" type=\"hidden\" value=\"0,10\"/><input name=\"as_ylo\" type=\"hidden\" value=\"1977\"/><input name=\"as_yhi\" type=\"hidden\" value=\"2019\"/></form><noscript><div class=\"gs_alrt\"><div>Sorry, we can't verify that you're not a robot when JavaScript is turned off.</div><div>Please <a href=\"//support.google.com/answer/23852?hl=en\">enable JavaScript</a> in your browser and reload this page.</div></div></noscript></div></div></div><div id=\"gs_ftr_sp\" role=\"presentation\"></div><div id=\"gs_ftr\" role=\"contentinfo\"><div id=\"gs_ftr_rt\"><a href=\"/intl/en/scholar/about.html\">Help</a><a href=\"//www.google.com/intl/en/policies/privacy/\">Privacy</a><a href=\"//www.google.com/intl/en/policies/terms/\">Terms</a></div></div></div></body></html>"
      ]
     },
     "execution_count": 36,
     "metadata": {},
     "output_type": "execute_result"
    }
   ],
   "source": [
    "soup"
   ]
  },
  {
   "cell_type": "code",
   "execution_count": null,
   "metadata": {},
   "outputs": [],
   "source": [
    "counts = int(soup.find('div', attrs={'id':'gs_ab_md'}).text.split()[1].replace(',', ''))"
   ]
  }
 ],
 "metadata": {
  "kernelspec": {
   "display_name": "py38",
   "language": "python",
   "name": "py38"
  },
  "language_info": {
   "codemirror_mode": {
    "name": "ipython",
    "version": 3
   },
   "file_extension": ".py",
   "mimetype": "text/x-python",
   "name": "python",
   "nbconvert_exporter": "python",
   "pygments_lexer": "ipython3",
   "version": "3.8.11"
  }
 },
 "nbformat": 4,
 "nbformat_minor": 4
}
