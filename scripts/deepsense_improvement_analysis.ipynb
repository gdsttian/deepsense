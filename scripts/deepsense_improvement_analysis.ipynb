{
 "cells": [
  {
   "cell_type": "markdown",
   "metadata": {},
   "source": [
    "# Analyzing DeepSense Improvement"
   ]
  },
  {
   "cell_type": "code",
   "execution_count": 1,
   "metadata": {},
   "outputs": [],
   "source": [
    "import json"
   ]
  },
  {
   "cell_type": "code",
   "execution_count": 2,
   "metadata": {},
   "outputs": [],
   "source": [
    "test_sentences_records = json.load(open('../test_sentences_records.json'))"
   ]
  },
  {
   "cell_type": "code",
   "execution_count": 8,
   "metadata": {},
   "outputs": [
    {
     "data": {
      "text/plain": [
       "'study investigated function ctgf psoriasis using established imiquimod imq induced psoriasis murine model samples psoriasis patients|29386832'"
      ]
     },
     "execution_count": 8,
     "metadata": {},
     "output_type": "execute_result"
    }
   ],
   "source": [
    "list(test_sentences_records.keys())[0]"
   ]
  },
  {
   "cell_type": "code",
   "execution_count": 6,
   "metadata": {},
   "outputs": [
    {
     "data": {
      "text/plain": [
       "['19380832']"
      ]
     },
     "execution_count": 6,
     "metadata": {},
     "output_type": "execute_result"
    }
   ],
   "source": [
    "test_sentences_records[list(test_sentences_records.keys())[0]]['citations']"
   ]
  },
  {
   "cell_type": "code",
   "execution_count": 10,
   "metadata": {},
   "outputs": [],
   "source": [
    "pred_path = \"test_rank20_complete_true_in_top10000\""
   ]
  },
  {
   "cell_type": "code",
   "execution_count": 14,
   "metadata": {},
   "outputs": [],
   "source": [
    "pred_results_sql = {}\n",
    "serank_top1, serank_top20, serank_top100 = 0, 0, 0\n",
    "rerank_top1, rerank_top20, rerank_top100 = 0, 0, 0\n",
    "better_rerank = 0\n",
    "for i in range(461, 561):\n",
    "    with open(f\"{pred_path}/DL_data_search_result_sentence_citation{i}.csv\") as ifile:\n",
    "        next(ifile)\n",
    "        for row in ifile:\n",
    "            row = row.strip().split(\"\\t\")\n",
    "            sentence = row[0]\n",
    "            citation = row[1]\n",
    "            serank = int(row[2])\n",
    "            rerank = int(row[3])\n",
    "            if sentence in test_sentences_records:\n",
    "                if citation in test_sentences_records[sentence]['citations']:\n",
    "                    pred_results_sql[sentence] = {citation: [serank, rerank]}\n",
    "                    if serank == 1: serank_top1 += 1\n",
    "                    if serank <= 20: serank_top20 += 1\n",
    "                    if serank <= 100: serank_top100 += 1\n",
    "\n",
    "                    if rerank == 1: rerank_top1 += 1\n",
    "                    if rerank <= 20: rerank_top20 += 1\n",
    "                    if rerank <= 100: rerank_top100 += 1\n",
    "\n",
    "                    if rerank < serank: better_rerank += 1"
   ]
  },
  {
   "cell_type": "code",
   "execution_count": 15,
   "metadata": {},
   "outputs": [
    {
     "name": "stdout",
     "output_type": "stream",
     "text": [
      "19003 49855 70127\n",
      "25014 67563 89369\n",
      "60145\n"
     ]
    }
   ],
   "source": [
    "print(serank_top1, serank_top20, serank_top100)\n",
    "print(rerank_top1, rerank_top20, rerank_top100)\n",
    "print(better_rerank)"
   ]
  },
  {
   "cell_type": "code",
   "execution_count": 16,
   "metadata": {},
   "outputs": [],
   "source": [
    "pred_path = \"test_sentences_pubmed_tfidf\""
   ]
  },
  {
   "cell_type": "code",
   "execution_count": 17,
   "metadata": {},
   "outputs": [],
   "source": [
    "pred_results_sql = {}\n",
    "serank_top1, serank_top20, serank_top100 = 0, 0, 0\n",
    "rerank_top1, rerank_top20, rerank_top100 = 0, 0, 0\n",
    "better_rerank = 0\n",
    "for i in range(461, 561):\n",
    "    with open(f\"{pred_path}/DL_data_search_result_sentence_citation{i}.csv\") as ifile:\n",
    "        next(ifile)\n",
    "        for row in ifile:\n",
    "            row = row.strip().split(\"\\t\")\n",
    "            sentence = row[0]\n",
    "            citation = row[1]\n",
    "            serank = int(row[2])\n",
    "            rerank = int(row[3])\n",
    "            if sentence in test_sentences_records:\n",
    "                if citation in test_sentences_records[sentence]['citations']:\n",
    "                    pred_results_sql[sentence] = {citation: [serank, rerank]}\n",
    "                    if serank == 1: serank_top1 += 1\n",
    "                    if serank <= 20: serank_top20 += 1\n",
    "                    if serank <= 100: serank_top100 += 1\n",
    "\n",
    "                    if rerank == 1: rerank_top1 += 1\n",
    "                    if rerank <= 20: rerank_top20 += 1\n",
    "                    if rerank <= 100: rerank_top100 += 1\n",
    "\n",
    "                    if rerank < serank: better_rerank += 1"
   ]
  },
  {
   "cell_type": "code",
   "execution_count": 18,
   "metadata": {},
   "outputs": [
    {
     "name": "stdout",
     "output_type": "stream",
     "text": [
      "9437 27689 41086\n",
      "17754 44377 56175\n",
      "41574\n"
     ]
    }
   ],
   "source": [
    "print(serank_top1, serank_top20, serank_top100)\n",
    "print(rerank_top1, rerank_top20, rerank_top100)\n",
    "print(better_rerank)"
   ]
  },
  {
   "cell_type": "code",
   "execution_count": 19,
   "metadata": {},
   "outputs": [],
   "source": [
    "pred_path = \"test_sentences_pubmed_bm\""
   ]
  },
  {
   "cell_type": "code",
   "execution_count": 22,
   "metadata": {},
   "outputs": [],
   "source": [
    "pred_results_sql = {}\n",
    "serank_top1, serank_top20, serank_top100 = 0, 0, 0\n",
    "rerank_top1, rerank_top20, rerank_top100 = 0, 0, 0\n",
    "better_rerank = 0\n",
    "sentences = set()\n",
    "m, n = 0, 0\n",
    "for i in range(461, 462):\n",
    "    with open(f\"{pred_path}/DL_data_search_result_sentence_citation{i}.csv\") as ifile:\n",
    "        next(ifile)\n",
    "        for row in ifile:\n",
    "            row = row.strip().split(\"\\t\")\n",
    "            sentence = row[0]\n",
    "            citation = row[1]\n",
    "            serank = int(row[2])\n",
    "            rerank = int(row[3])\n",
    "            if sentence in test_sentences_records:\n",
    "                if sentence not in sentences:\n",
    "                    sentences.add(sentence)\n",
    "                    n += 1\n",
    "                \n",
    "                if citation in test_sentences_records[sentence]['citations']:\n",
    "                    pred_results_sql[sentence] = {citation: [serank, rerank]}\n",
    "                    if serank == 1: serank_top1 += 1\n",
    "                    if serank <= 20: serank_top20 += 1\n",
    "                    if serank <= 100: serank_top100 += 1\n",
    "\n",
    "                    if rerank == 1: rerank_top1 += 1\n",
    "                    if rerank <= 20: rerank_top20 += 1\n",
    "                    if rerank <= 100: rerank_top100 += 1\n",
    "\n",
    "                    if rerank < serank: better_rerank += 1"
   ]
  },
  {
   "cell_type": "code",
   "execution_count": 21,
   "metadata": {},
   "outputs": [
    {
     "name": "stdout",
     "output_type": "stream",
     "text": [
      "7 23 72\n",
      "126 284 342\n",
      "339\n"
     ]
    }
   ],
   "source": [
    "print(serank_top1, serank_top20, serank_top100)\n",
    "print(rerank_top1, rerank_top20, rerank_top100)\n",
    "print(better_rerank)"
   ]
  },
  {
   "cell_type": "code",
   "execution_count": 23,
   "metadata": {},
   "outputs": [
    {
     "data": {
      "text/plain": [
       "372"
      ]
     },
     "execution_count": 23,
     "metadata": {},
     "output_type": "execute_result"
    }
   ],
   "source": [
    "n"
   ]
  },
  {
   "cell_type": "code",
   "execution_count": null,
   "metadata": {},
   "outputs": [],
   "source": []
  }
 ],
 "metadata": {
  "kernelspec": {
   "display_name": "deepse",
   "language": "python",
   "name": "deepse"
  },
  "language_info": {
   "codemirror_mode": {
    "name": "ipython",
    "version": 3
   },
   "file_extension": ".py",
   "mimetype": "text/x-python",
   "name": "python",
   "nbconvert_exporter": "python",
   "pygments_lexer": "ipython3",
   "version": "3.7.7"
  }
 },
 "nbformat": 4,
 "nbformat_minor": 4
}
